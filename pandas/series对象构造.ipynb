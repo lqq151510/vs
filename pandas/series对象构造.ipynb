{
 "cells": [
  {
   "cell_type": "code",
   "execution_count": 208,
   "id": "ff82c98f",
   "metadata": {},
   "outputs": [],
   "source": [
    "import pandas as pd"
   ]
  },
  {
   "cell_type": "code",
   "execution_count": 209,
   "id": "bc220f5a",
   "metadata": {},
   "outputs": [],
   "source": [
    "user_info={\n",
    "    'name':'aaa',\n",
    "    'age':20,\n",
    "    'address':'A'\n",
    "}#字典元素无序,不支持索引访问"
   ]
  },
  {
   "cell_type": "code",
   "execution_count": 210,
   "id": "2ad9e3ee",
   "metadata": {},
   "outputs": [
    {
     "data": {
      "text/plain": [
       "'aaa'"
      ]
     },
     "execution_count": 210,
     "metadata": {},
     "output_type": "execute_result"
    }
   ],
   "source": [
    "user_info['name']"
   ]
  },
  {
   "cell_type": "code",
   "execution_count": 211,
   "id": "662c6db1",
   "metadata": {},
   "outputs": [],
   "source": [
    "import numpy as np\n",
    "import pandas as pd"
   ]
  },
  {
   "cell_type": "code",
   "execution_count": 212,
   "id": "4f235686",
   "metadata": {},
   "outputs": [
    {
     "data": {
      "text/plain": [
       "array([6, 7, 6, 4, 4])"
      ]
     },
     "execution_count": 212,
     "metadata": {},
     "output_type": "execute_result"
    }
   ],
   "source": [
    "arr1=np.random.randint(0,10,size=5)\n",
    "arr1"
   ]
  },
  {
   "cell_type": "code",
   "execution_count": 213,
   "id": "6ea72373",
   "metadata": {},
   "outputs": [],
   "source": [
    "s1=pd.Series(data=arr1)"
   ]
  },
  {
   "cell_type": "code",
   "execution_count": 214,
   "id": "e8ccc1aa",
   "metadata": {},
   "outputs": [
    {
     "data": {
      "text/plain": [
       "0    6\n",
       "1    7\n",
       "2    6\n",
       "3    4\n",
       "4    4\n",
       "dtype: int64"
      ]
     },
     "execution_count": 214,
     "metadata": {},
     "output_type": "execute_result"
    }
   ],
   "source": [
    "s1"
   ]
  },
  {
   "cell_type": "code",
   "execution_count": 215,
   "id": "d30e0fad",
   "metadata": {},
   "outputs": [
    {
     "data": {
      "text/plain": [
       "A    6\n",
       "B    7\n",
       "C    6\n",
       "D    4\n",
       "E    4\n",
       "dtype: int64"
      ]
     },
     "execution_count": 215,
     "metadata": {},
     "output_type": "execute_result"
    }
   ],
   "source": [
    "s2=pd.Series(data=arr1,index=['A','B','C','D','E'])#index制定索引\n",
    "s2"
   ]
  },
  {
   "cell_type": "code",
   "execution_count": 216,
   "id": "1f713f6d",
   "metadata": {},
   "outputs": [
    {
     "data": {
      "text/plain": [
       "A    1\n",
       "B    2\n",
       "C    3\n",
       "D    4\n",
       "dtype: int64"
      ]
     },
     "execution_count": 216,
     "metadata": {},
     "output_type": "execute_result"
    }
   ],
   "source": [
    "l1=[1,2,3,4]\n",
    "s3=pd.Series(data=l1,index=list('ABCD'))\n",
    "s3"
   ]
  },
  {
   "cell_type": "code",
   "execution_count": 217,
   "id": "c4c9e5ed",
   "metadata": {},
   "outputs": [],
   "source": [
    "arr1[0]=100"
   ]
  },
  {
   "cell_type": "code",
   "execution_count": 218,
   "id": "fcc3fb65",
   "metadata": {},
   "outputs": [
    {
     "data": {
      "text/plain": [
       "0    100\n",
       "1      7\n",
       "2      6\n",
       "3      4\n",
       "4      4\n",
       "dtype: int64"
      ]
     },
     "execution_count": 218,
     "metadata": {},
     "output_type": "execute_result"
    }
   ],
   "source": [
    "s1"
   ]
  },
  {
   "cell_type": "code",
   "execution_count": 219,
   "id": "6609cd14",
   "metadata": {},
   "outputs": [],
   "source": [
    "l1[0]=100"
   ]
  },
  {
   "cell_type": "code",
   "execution_count": 220,
   "id": "13221867",
   "metadata": {},
   "outputs": [
    {
     "data": {
      "text/plain": [
       "[100, 2, 3, 4]"
      ]
     },
     "execution_count": 220,
     "metadata": {},
     "output_type": "execute_result"
    }
   ],
   "source": [
    "l1"
   ]
  },
  {
   "cell_type": "code",
   "execution_count": 221,
   "id": "58928ff1",
   "metadata": {},
   "outputs": [
    {
     "data": {
      "text/plain": [
       "A    100\n",
       "B      2\n",
       "C      3\n",
       "D      4\n",
       "dtype: int64"
      ]
     },
     "execution_count": 221,
     "metadata": {},
     "output_type": "execute_result"
    }
   ],
   "source": [
    "s3=pd.Series(data=l1,index=list('ABCD'))\n",
    "s3"
   ]
  },
  {
   "cell_type": "markdown",
   "id": "52658b07",
   "metadata": {},
   "source": [
    "`s3` 是一个由列表 `l1` 和索引 `['A', 'B', 'C', 'D']` 构造的 pandas Series 对象。它的索引为字母，数据为列表中的值。通过显示 `s3`，可以看到每个索引对应的值，类似于带标签的一维数组。"
   ]
  },
  {
   "cell_type": "code",
   "execution_count": 222,
   "id": "c91d73fe",
   "metadata": {},
   "outputs": [
    {
     "data": {
      "text/plain": [
       "{'name': 'aaa', 'age': 20, 'address': 'A'}"
      ]
     },
     "execution_count": 222,
     "metadata": {},
     "output_type": "execute_result"
    }
   ],
   "source": [
    "user_info"
   ]
  },
  {
   "cell_type": "code",
   "execution_count": null,
   "id": "4fadedf3",
   "metadata": {},
   "outputs": [
    {
     "data": {
      "text/plain": [
       "name       aaa\n",
       "age         20\n",
       "address      A\n",
       "dtype: object"
      ]
     },
     "execution_count": 223,
     "metadata": {},
     "output_type": "execute_result"
    }
   ],
   "source": [
    "pd.Series(data=user_info)#字典构造默认key为索引"
   ]
  },
  {
   "cell_type": "code",
   "execution_count": 224,
   "id": "b64cb39d",
   "metadata": {},
   "outputs": [
    {
     "data": {
      "text/plain": [
       "A    NaN\n",
       "B    NaN\n",
       "C    NaN\n",
       "dtype: object"
      ]
     },
     "execution_count": 224,
     "metadata": {},
     "output_type": "execute_result"
    }
   ],
   "source": [
    "pd.Series(data=user_info,index=['A','B','C'])#覆盖原字典"
   ]
  },
  {
   "cell_type": "code",
   "execution_count": 225,
   "id": "c52d1ea0",
   "metadata": {},
   "outputs": [
    {
     "data": {
      "text/plain": [
       "name       aaa\n",
       "address      A\n",
       "A          NaN\n",
       "dtype: object"
      ]
     },
     "execution_count": 225,
     "metadata": {},
     "output_type": "execute_result"
    }
   ],
   "source": [
    "pd.Series(data=user_info,index=['name','address','A'])"
   ]
  },
  {
   "cell_type": "code",
   "execution_count": 226,
   "id": "7f5e4147",
   "metadata": {},
   "outputs": [
    {
     "data": {
      "text/plain": [
       "['A', 'B', 'C', 'D', 'E']"
      ]
     },
     "execution_count": 226,
     "metadata": {},
     "output_type": "execute_result"
    }
   ],
   "source": [
    "index=list('ABCDE')\n",
    "index"
   ]
  },
  {
   "cell_type": "code",
   "execution_count": 227,
   "id": "3ff25244",
   "metadata": {},
   "outputs": [
    {
     "data": {
      "text/plain": [
       "A    6\n",
       "B    6\n",
       "C    6\n",
       "D    6\n",
       "E    6\n",
       "dtype: int64"
      ]
     },
     "execution_count": 227,
     "metadata": {},
     "output_type": "execute_result"
    }
   ],
   "source": [
    "data=[6,6,6,6,6]\n",
    "pd.Series(data=data,index=index)"
   ]
  }
 ],
 "metadata": {
  "kernelspec": {
   "display_name": ".venv",
   "language": "python",
   "name": "python3"
  },
  "language_info": {
   "codemirror_mode": {
    "name": "ipython",
    "version": 3
   },
   "file_extension": ".py",
   "mimetype": "text/x-python",
   "name": "python",
   "nbconvert_exporter": "python",
   "pygments_lexer": "ipython3",
   "version": "3.11.2"
  }
 },
 "nbformat": 4,
 "nbformat_minor": 5
}
