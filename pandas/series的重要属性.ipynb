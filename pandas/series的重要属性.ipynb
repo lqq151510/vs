{
 "cells": [
  {
   "cell_type": "code",
   "execution_count": 113,
   "id": "882da6f2",
   "metadata": {},
   "outputs": [],
   "source": [
    "import pandas as pd"
   ]
  },
  {
   "cell_type": "code",
   "execution_count": 114,
   "id": "71e23faf",
   "metadata": {},
   "outputs": [
    {
     "data": {
      "text/plain": [
       "1"
      ]
     },
     "execution_count": 114,
     "metadata": {},
     "output_type": "execute_result"
    }
   ],
   "source": [
    "s3=pd.Series(data=[1,2,3,4],index=list('ABCD'))\n",
    "s3.A"
   ]
  },
  {
   "cell_type": "code",
   "execution_count": 115,
   "id": "7c2a67c8",
   "metadata": {},
   "outputs": [
    {
     "data": {
      "text/plain": [
       "1"
      ]
     },
     "execution_count": 115,
     "metadata": {},
     "output_type": "execute_result"
    }
   ],
   "source": [
    "s3['A']"
   ]
  },
  {
   "cell_type": "code",
   "execution_count": 116,
   "id": "b2f179f7",
   "metadata": {},
   "outputs": [],
   "source": [
    "user_info={\n",
    "    'name':'aaa',\n",
    "    'age':20,\n",
    "    'address':'A'\n",
    "}"
   ]
  },
  {
   "cell_type": "code",
   "execution_count": 117,
   "id": "2ecb45a8",
   "metadata": {},
   "outputs": [],
   "source": [
    "s4=pd.Series(data=user_info)"
   ]
  },
  {
   "cell_type": "code",
   "execution_count": 118,
   "id": "88c15a9a",
   "metadata": {},
   "outputs": [
    {
     "data": {
      "text/plain": [
       "'aaa'"
      ]
     },
     "execution_count": 118,
     "metadata": {},
     "output_type": "execute_result"
    }
   ],
   "source": [
    "s4['name']"
   ]
  },
  {
   "cell_type": "code",
   "execution_count": 119,
   "id": "be7a472f",
   "metadata": {},
   "outputs": [
    {
     "name": "stdout",
     "output_type": "stream",
     "text": [
      "None\n"
     ]
    }
   ],
   "source": [
    "print(s4.name)"
   ]
  },
  {
   "cell_type": "code",
   "execution_count": 120,
   "id": "038fd938",
   "metadata": {},
   "outputs": [
    {
     "data": {
      "text/plain": [
       "A    1\n",
       "B    2\n",
       "C    3\n",
       "Name: liu, dtype: int64"
      ]
     },
     "execution_count": 120,
     "metadata": {},
     "output_type": "execute_result"
    }
   ],
   "source": [
    "pd.Series(data=[1,2,3],index=list('ABC'),name='liu')"
   ]
  },
  {
   "cell_type": "code",
   "execution_count": 121,
   "id": "d0f40d67",
   "metadata": {},
   "outputs": [
    {
     "data": {
      "text/html": [
       "<div>\n",
       "<style scoped>\n",
       "    .dataframe tbody tr th:only-of-type {\n",
       "        vertical-align: middle;\n",
       "    }\n",
       "\n",
       "    .dataframe tbody tr th {\n",
       "        vertical-align: top;\n",
       "    }\n",
       "\n",
       "    .dataframe thead th {\n",
       "        text-align: right;\n",
       "    }\n",
       "</style>\n",
       "<table border=\"1\" class=\"dataframe\">\n",
       "  <thead>\n",
       "    <tr style=\"text-align: right;\">\n",
       "      <th></th>\n",
       "      <th>liu</th>\n",
       "    </tr>\n",
       "  </thead>\n",
       "  <tbody>\n",
       "    <tr>\n",
       "      <th>A</th>\n",
       "      <td>1</td>\n",
       "    </tr>\n",
       "    <tr>\n",
       "      <th>B</th>\n",
       "      <td>2</td>\n",
       "    </tr>\n",
       "    <tr>\n",
       "      <th>C</th>\n",
       "      <td>3</td>\n",
       "    </tr>\n",
       "  </tbody>\n",
       "</table>\n",
       "</div>"
      ],
      "text/plain": [
       "   liu\n",
       "A    1\n",
       "B    2\n",
       "C    3"
      ]
     },
     "execution_count": 121,
     "metadata": {},
     "output_type": "execute_result"
    }
   ],
   "source": [
    "s=pd.DataFrame(pd.Series(data=[1,2,3],index=list('ABC'),name='liu'))\n",
    "s"
   ]
  },
  {
   "cell_type": "markdown",
   "id": "f2337e0a",
   "metadata": {},
   "source": [
    "### 代码解释\n",
    "这段代码首先创建了一个 pandas 的 `Series` 对象，数据为 `[1, 2, 3]`，索引为 `['A', 'B', 'C']`，并将其命名为 `'liu'`。\n",
    "然后将该 `Series` 转换为一个 pandas 的 `DataFrame` 对象。\n",
    "生成的 `DataFrame` 将包含一个名为 `'liu'` 的列，索引为 `['A', 'B', 'C']`，对应的值为 `[1, 2, 3]`。"
   ]
  },
  {
   "cell_type": "code",
   "execution_count": 122,
   "id": "a1205666",
   "metadata": {},
   "outputs": [
    {
     "data": {
      "text/plain": [
       "(3, 1)"
      ]
     },
     "execution_count": 122,
     "metadata": {},
     "output_type": "execute_result"
    }
   ],
   "source": [
    "s.shape"
   ]
  },
  {
   "cell_type": "code",
   "execution_count": 123,
   "id": "59bb4015",
   "metadata": {},
   "outputs": [
    {
     "data": {
      "text/plain": [
       "Index(['A', 'B', 'C'], dtype='object')"
      ]
     },
     "execution_count": 123,
     "metadata": {},
     "output_type": "execute_result"
    }
   ],
   "source": [
    "s.index#索引"
   ]
  },
  {
   "cell_type": "code",
   "execution_count": 124,
   "id": "1572a13b",
   "metadata": {},
   "outputs": [
    {
     "data": {
      "text/plain": [
       "array([[1],\n",
       "       [2],\n",
       "       [3]])"
      ]
     },
     "execution_count": 124,
     "metadata": {},
     "output_type": "execute_result"
    }
   ],
   "source": [
    "s.values#值"
   ]
  },
  {
   "cell_type": "code",
   "execution_count": null,
   "id": "12343f1b",
   "metadata": {},
   "outputs": [
    {
     "data": {
      "text/plain": [
       "3"
      ]
     },
     "execution_count": 125,
     "metadata": {},
     "output_type": "execute_result"
    }
   ],
   "source": [
    "s.size#元素个数"
   ]
  }
 ],
 "metadata": {
  "kernelspec": {
   "display_name": ".venv",
   "language": "python",
   "name": "python3"
  },
  "language_info": {
   "codemirror_mode": {
    "name": "ipython",
    "version": 3
   },
   "file_extension": ".py",
   "mimetype": "text/x-python",
   "name": "python",
   "nbconvert_exporter": "python",
   "pygments_lexer": "ipython3",
   "version": "3.11.2"
  }
 },
 "nbformat": 4,
 "nbformat_minor": 5
}
