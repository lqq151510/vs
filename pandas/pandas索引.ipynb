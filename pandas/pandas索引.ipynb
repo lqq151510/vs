{
 "cells": [
  {
   "cell_type": "code",
   "execution_count": 395,
   "id": "685e3722",
   "metadata": {},
   "outputs": [],
   "source": [
    "import numpy as np\n",
    "import pandas as pd"
   ]
  },
  {
   "cell_type": "code",
   "execution_count": 396,
   "id": "97a90223",
   "metadata": {},
   "outputs": [
    {
     "data": {
      "text/plain": [
       "RangeIndex(start=0, stop=5, step=1)"
      ]
     },
     "execution_count": 396,
     "metadata": {},
     "output_type": "execute_result"
    }
   ],
   "source": [
    "df=pd.DataFrame(data=np.random.randint(0,10,size=(5,3)))\n",
    "df.index"
   ]
  },
  {
   "cell_type": "code",
   "execution_count": 397,
   "id": "9e11f2aa",
   "metadata": {},
   "outputs": [],
   "source": [
    "df.index=list('abcde')"
   ]
  },
  {
   "cell_type": "code",
   "execution_count": 398,
   "id": "3cca8016",
   "metadata": {},
   "outputs": [
    {
     "data": {
      "text/html": [
       "<div>\n",
       "<style scoped>\n",
       "    .dataframe tbody tr th:only-of-type {\n",
       "        vertical-align: middle;\n",
       "    }\n",
       "\n",
       "    .dataframe tbody tr th {\n",
       "        vertical-align: top;\n",
       "    }\n",
       "\n",
       "    .dataframe thead th {\n",
       "        text-align: right;\n",
       "    }\n",
       "</style>\n",
       "<table border=\"1\" class=\"dataframe\">\n",
       "  <thead>\n",
       "    <tr style=\"text-align: right;\">\n",
       "      <th></th>\n",
       "      <th>0</th>\n",
       "      <th>1</th>\n",
       "      <th>2</th>\n",
       "    </tr>\n",
       "  </thead>\n",
       "  <tbody>\n",
       "    <tr>\n",
       "      <th>a</th>\n",
       "      <td>0</td>\n",
       "      <td>0</td>\n",
       "      <td>2</td>\n",
       "    </tr>\n",
       "    <tr>\n",
       "      <th>b</th>\n",
       "      <td>7</td>\n",
       "      <td>9</td>\n",
       "      <td>6</td>\n",
       "    </tr>\n",
       "    <tr>\n",
       "      <th>c</th>\n",
       "      <td>3</td>\n",
       "      <td>6</td>\n",
       "      <td>8</td>\n",
       "    </tr>\n",
       "    <tr>\n",
       "      <th>d</th>\n",
       "      <td>1</td>\n",
       "      <td>5</td>\n",
       "      <td>0</td>\n",
       "    </tr>\n",
       "    <tr>\n",
       "      <th>e</th>\n",
       "      <td>4</td>\n",
       "      <td>6</td>\n",
       "      <td>6</td>\n",
       "    </tr>\n",
       "  </tbody>\n",
       "</table>\n",
       "</div>"
      ],
      "text/plain": [
       "   0  1  2\n",
       "a  0  0  2\n",
       "b  7  9  6\n",
       "c  3  6  8\n",
       "d  1  5  0\n",
       "e  4  6  6"
      ]
     },
     "execution_count": 398,
     "metadata": {},
     "output_type": "execute_result"
    }
   ],
   "source": [
    "df"
   ]
  },
  {
   "cell_type": "code",
   "execution_count": 399,
   "id": "ec61e83b",
   "metadata": {},
   "outputs": [
    {
     "data": {
      "text/html": [
       "<div>\n",
       "<style scoped>\n",
       "    .dataframe tbody tr th:only-of-type {\n",
       "        vertical-align: middle;\n",
       "    }\n",
       "\n",
       "    .dataframe tbody tr th {\n",
       "        vertical-align: top;\n",
       "    }\n",
       "\n",
       "    .dataframe thead th {\n",
       "        text-align: right;\n",
       "    }\n",
       "</style>\n",
       "<table border=\"1\" class=\"dataframe\">\n",
       "  <thead>\n",
       "    <tr style=\"text-align: right;\">\n",
       "      <th></th>\n",
       "      <th>1</th>\n",
       "      <th>2</th>\n",
       "      <th>3</th>\n",
       "    </tr>\n",
       "  </thead>\n",
       "  <tbody>\n",
       "    <tr>\n",
       "      <th>a</th>\n",
       "      <td>0</td>\n",
       "      <td>0</td>\n",
       "      <td>2</td>\n",
       "    </tr>\n",
       "    <tr>\n",
       "      <th>b</th>\n",
       "      <td>7</td>\n",
       "      <td>9</td>\n",
       "      <td>6</td>\n",
       "    </tr>\n",
       "    <tr>\n",
       "      <th>c</th>\n",
       "      <td>3</td>\n",
       "      <td>6</td>\n",
       "      <td>8</td>\n",
       "    </tr>\n",
       "    <tr>\n",
       "      <th>d</th>\n",
       "      <td>1</td>\n",
       "      <td>5</td>\n",
       "      <td>0</td>\n",
       "    </tr>\n",
       "    <tr>\n",
       "      <th>e</th>\n",
       "      <td>4</td>\n",
       "      <td>6</td>\n",
       "      <td>6</td>\n",
       "    </tr>\n",
       "  </tbody>\n",
       "</table>\n",
       "</div>"
      ],
      "text/plain": [
       "   1  2  3\n",
       "a  0  0  2\n",
       "b  7  9  6\n",
       "c  3  6  8\n",
       "d  1  5  0\n",
       "e  4  6  6"
      ]
     },
     "execution_count": 399,
     "metadata": {},
     "output_type": "execute_result"
    }
   ],
   "source": [
    "df.columns=[1,2,3]\n",
    "df"
   ]
  },
  {
   "cell_type": "markdown",
   "id": "e66860d8",
   "metadata": {},
   "source": [
    "### 代码 `df.columns` 的解释\n",
    "\n",
    "1. `df.columns` 属性用于获取或设置 DataFrame 的列标签（列名）。\n",
    "2. 返回值是一个 `Index` 对象，包含所有列的标签。\n",
    "\n",
    "总结：这段代码返回 DataFrame `df` 的列名列表。"
   ]
  },
  {
   "cell_type": "code",
   "execution_count": 400,
   "id": "0f28531d",
   "metadata": {},
   "outputs": [
    {
     "data": {
      "text/plain": [
       "Index([1, 2, 3], dtype='int64')"
      ]
     },
     "execution_count": 400,
     "metadata": {},
     "output_type": "execute_result"
    }
   ],
   "source": [
    "pd.Index(data=[1,2,3])"
   ]
  },
  {
   "cell_type": "markdown",
   "id": "39e76b48",
   "metadata": {},
   "source": [
    "### 代码 `pd.Index(data=[1,2,3])` 的解释\n",
    "\n",
    "1. `pd.Index` 是 pandas 中的一个类，用于创建索引对象。\n",
    "2. 参数 `data=[1,2,3]` 表示索引的值为 `[1, 2, 3]`。\n",
    "3. 返回值是一个 `Index` 对象，可以用作 DataFrame 或 Series 的行索引或列索引。\n",
    "\n",
    "总结：这段代码创建了一个包含 `[1, 2, 3]` 的 pandas 索引对象。"
   ]
  },
  {
   "cell_type": "code",
   "execution_count": 401,
   "id": "129467c3",
   "metadata": {},
   "outputs": [
    {
     "data": {
      "text/plain": [
       "RangeIndex(start=0, stop=10, step=1, name='index')"
      ]
     },
     "execution_count": 401,
     "metadata": {},
     "output_type": "execute_result"
    }
   ],
   "source": [
    "pd.RangeIndex(start=0,stop=10,step=1,name='index')"
   ]
  },
  {
   "cell_type": "markdown",
   "id": "c7cc0b3b",
   "metadata": {},
   "source": [
    "### 代码 `pd.RangeIndex(start=0,stop=10,step=1)` 的解释\n",
    "\n",
    "1. `pd.RangeIndex` 是 pandas 中的一种特殊索引类型，用于表示范围索引。\n",
    "2. 参数 `start=0` 表示索引的起始值为 `0`。\n",
    "3. 参数 `stop=10` 表示索引的结束值为 `10`（不包含 `10`）。\n",
    "4. 参数 `step=1` 表示索引的步长为 `1`。\n",
    "\n",
    "总结：这段代码创建了一个从 `0` 到 `9`（步长为 `1`）的 pandas 范围索引对象。"
   ]
  },
  {
   "cell_type": "code",
   "execution_count": 402,
   "id": "448ed282",
   "metadata": {},
   "outputs": [
    {
     "data": {
      "text/plain": [
       "array([0, 1, 2, 3, 4, 5, 6, 7, 8, 9])"
      ]
     },
     "execution_count": 402,
     "metadata": {},
     "output_type": "execute_result"
    }
   ],
   "source": [
    "np.arange(0,10,step=1)"
   ]
  },
  {
   "cell_type": "code",
   "execution_count": 403,
   "id": "0273ba3a",
   "metadata": {},
   "outputs": [
    {
     "data": {
      "text/html": [
       "<div>\n",
       "<style scoped>\n",
       "    .dataframe tbody tr th:only-of-type {\n",
       "        vertical-align: middle;\n",
       "    }\n",
       "\n",
       "    .dataframe tbody tr th {\n",
       "        vertical-align: top;\n",
       "    }\n",
       "\n",
       "    .dataframe thead th {\n",
       "        text-align: right;\n",
       "    }\n",
       "</style>\n",
       "<table border=\"1\" class=\"dataframe\">\n",
       "  <thead>\n",
       "    <tr style=\"text-align: right;\">\n",
       "      <th></th>\n",
       "      <th>1</th>\n",
       "      <th>2</th>\n",
       "      <th>3</th>\n",
       "    </tr>\n",
       "    <tr>\n",
       "      <th>index</th>\n",
       "      <th></th>\n",
       "      <th></th>\n",
       "      <th></th>\n",
       "    </tr>\n",
       "  </thead>\n",
       "  <tbody>\n",
       "    <tr>\n",
       "      <th>0</th>\n",
       "      <td>0</td>\n",
       "      <td>0</td>\n",
       "      <td>2</td>\n",
       "    </tr>\n",
       "    <tr>\n",
       "      <th>1</th>\n",
       "      <td>7</td>\n",
       "      <td>9</td>\n",
       "      <td>6</td>\n",
       "    </tr>\n",
       "    <tr>\n",
       "      <th>2</th>\n",
       "      <td>3</td>\n",
       "      <td>6</td>\n",
       "      <td>8</td>\n",
       "    </tr>\n",
       "    <tr>\n",
       "      <th>3</th>\n",
       "      <td>1</td>\n",
       "      <td>5</td>\n",
       "      <td>0</td>\n",
       "    </tr>\n",
       "    <tr>\n",
       "      <th>4</th>\n",
       "      <td>4</td>\n",
       "      <td>6</td>\n",
       "      <td>6</td>\n",
       "    </tr>\n",
       "  </tbody>\n",
       "</table>\n",
       "</div>"
      ],
      "text/plain": [
       "       1  2  3\n",
       "index         \n",
       "0      0  0  2\n",
       "1      7  9  6\n",
       "2      3  6  8\n",
       "3      1  5  0\n",
       "4      4  6  6"
      ]
     },
     "execution_count": 403,
     "metadata": {},
     "output_type": "execute_result"
    }
   ],
   "source": [
    "df.index = pd.RangeIndex(start=0, stop=len(df), step=1, name='index')\n",
    "df"
   ]
  },
  {
   "cell_type": "code",
   "execution_count": 404,
   "id": "b0c77667",
   "metadata": {},
   "outputs": [],
   "source": [
    "level1=['第一期','第二期']\n",
    "level2=['A','B','C']\n",
    "columns=pd.MultiIndex.from_product([level1,level2],names=['期数','产品'])\n",
    "index=pd.Index(data=['lucy','tom','alex'],name='销售员')\n",
    "data=np.random.randint(0,100,size=(3,6))\n",
    "df=pd.DataFrame(data=data,index=index,columns=columns)"
   ]
  },
  {
   "cell_type": "code",
   "execution_count": 405,
   "id": "07f93e2b",
   "metadata": {},
   "outputs": [
    {
     "data": {
      "text/html": [
       "<div>\n",
       "<style scoped>\n",
       "    .dataframe tbody tr th:only-of-type {\n",
       "        vertical-align: middle;\n",
       "    }\n",
       "\n",
       "    .dataframe tbody tr th {\n",
       "        vertical-align: top;\n",
       "    }\n",
       "\n",
       "    .dataframe thead tr th {\n",
       "        text-align: left;\n",
       "    }\n",
       "\n",
       "    .dataframe thead tr:last-of-type th {\n",
       "        text-align: right;\n",
       "    }\n",
       "</style>\n",
       "<table border=\"1\" class=\"dataframe\">\n",
       "  <thead>\n",
       "    <tr>\n",
       "      <th>期数</th>\n",
       "      <th colspan=\"3\" halign=\"left\">第一期</th>\n",
       "      <th colspan=\"3\" halign=\"left\">第二期</th>\n",
       "    </tr>\n",
       "    <tr>\n",
       "      <th>产品</th>\n",
       "      <th>A</th>\n",
       "      <th>B</th>\n",
       "      <th>C</th>\n",
       "      <th>A</th>\n",
       "      <th>B</th>\n",
       "      <th>C</th>\n",
       "    </tr>\n",
       "    <tr>\n",
       "      <th>销售员</th>\n",
       "      <th></th>\n",
       "      <th></th>\n",
       "      <th></th>\n",
       "      <th></th>\n",
       "      <th></th>\n",
       "      <th></th>\n",
       "    </tr>\n",
       "  </thead>\n",
       "  <tbody>\n",
       "    <tr>\n",
       "      <th>lucy</th>\n",
       "      <td>96</td>\n",
       "      <td>97</td>\n",
       "      <td>99</td>\n",
       "      <td>77</td>\n",
       "      <td>20</td>\n",
       "      <td>87</td>\n",
       "    </tr>\n",
       "    <tr>\n",
       "      <th>tom</th>\n",
       "      <td>98</td>\n",
       "      <td>17</td>\n",
       "      <td>91</td>\n",
       "      <td>88</td>\n",
       "      <td>47</td>\n",
       "      <td>38</td>\n",
       "    </tr>\n",
       "    <tr>\n",
       "      <th>alex</th>\n",
       "      <td>1</td>\n",
       "      <td>15</td>\n",
       "      <td>17</td>\n",
       "      <td>99</td>\n",
       "      <td>64</td>\n",
       "      <td>22</td>\n",
       "    </tr>\n",
       "  </tbody>\n",
       "</table>\n",
       "</div>"
      ],
      "text/plain": [
       "期数   第一期         第二期        \n",
       "产品     A   B   C   A   B   C\n",
       "销售员                         \n",
       "lucy  96  97  99  77  20  87\n",
       "tom   98  17  91  88  47  38\n",
       "alex   1  15  17  99  64  22"
      ]
     },
     "execution_count": 405,
     "metadata": {},
     "output_type": "execute_result"
    }
   ],
   "source": [
    "df"
   ]
  },
  {
   "cell_type": "markdown",
   "id": "e8a6468c",
   "metadata": {},
   "source": [
    "### 代码 `pd.MultiIndex.from_product([level1,level2])` 的解释\n",
    "\n",
    "1. `pd.MultiIndex.from_product` 方法用于创建一个多级索引（MultiIndex）。\n",
    "2. 参数 `[level1, level2]` 表示两个级别的索引：\n",
    "   - `level1=['第一期','第二期']` 是第一级索引。\n",
    "   - `level2=['A','B','C']` 是第二级索引。\n",
    "3. 该方法会生成两个级别的笛卡尔积，形成所有可能的组合。\n",
    "\n",
    "总结：这段代码创建了一个多级索引，其中第一级为 `'第一期'` 和 `'第二期'`，第二级为 `'A'`、`'B'` 和 `'C'`，总共包含 6 个组合。"
   ]
  },
  {
   "cell_type": "markdown",
   "id": "778ac631",
   "metadata": {},
   "source": [
    "### 代码块的解释\n",
    "\n",
    "1. 定义两个列表：\n",
    "   - `level1=['第一期','第二期']` 表示第一级索引的值。\n",
    "   - `level2=['A','B','C']` 表示第二级索引的值。\n",
    "\n",
    "2. 使用 `pd.MultiIndex.from_product` 方法创建一个多级列索引：\n",
    "   - 参数 `[level1, level2]` 生成两个级别的笛卡尔积。\n",
    "   - 参数 `names=['期数','产品']` 为两个级别的索引命名。\n",
    "\n",
    "3. 使用 `pd.Index` 创建行索引：\n",
    "   - 参数 `data=['lucy','tom','alex']` 指定行索引的值。\n",
    "   - 参数 `name='销售员'` 为行索引命名。\n",
    "\n",
    "4. 使用 `np.random.randint` 生成一个 3 行 6 列的随机整数数组作为数据。\n",
    "\n",
    "5. 使用 `pd.DataFrame` 创建一个 DataFrame：\n",
    "   - 参数 `data=data` 指定数据。\n",
    "   - 参数 `index=index` 指定行索引。\n",
    "   - 参数 `columns=columns` 指定多级列索引。\n",
    "\n",
    "总结：这段代码创建了一个具有多级列索引和命名行索引的 DataFrame，其中列索引表示期数和产品，行索引表示销售员，数据为随机生成的整数。"
   ]
  },
  {
   "cell_type": "code",
   "execution_count": 406,
   "id": "b323424b",
   "metadata": {},
   "outputs": [
    {
     "data": {
      "text/html": [
       "<div>\n",
       "<style scoped>\n",
       "    .dataframe tbody tr th:only-of-type {\n",
       "        vertical-align: middle;\n",
       "    }\n",
       "\n",
       "    .dataframe tbody tr th {\n",
       "        vertical-align: top;\n",
       "    }\n",
       "\n",
       "    .dataframe thead th {\n",
       "        text-align: right;\n",
       "    }\n",
       "</style>\n",
       "<table border=\"1\" class=\"dataframe\">\n",
       "  <thead>\n",
       "    <tr style=\"text-align: right;\">\n",
       "      <th></th>\n",
       "      <th>产品名称</th>\n",
       "      <th>A</th>\n",
       "      <th>B</th>\n",
       "      <th>C</th>\n",
       "    </tr>\n",
       "  </thead>\n",
       "  <tbody>\n",
       "    <tr>\n",
       "      <th rowspan=\"3\" valign=\"top\">第一期</th>\n",
       "      <th>lucy</th>\n",
       "      <td>11</td>\n",
       "      <td>89</td>\n",
       "      <td>93</td>\n",
       "    </tr>\n",
       "    <tr>\n",
       "      <th>tom</th>\n",
       "      <td>30</td>\n",
       "      <td>61</td>\n",
       "      <td>35</td>\n",
       "    </tr>\n",
       "    <tr>\n",
       "      <th>alex</th>\n",
       "      <td>93</td>\n",
       "      <td>77</td>\n",
       "      <td>71</td>\n",
       "    </tr>\n",
       "    <tr>\n",
       "      <th rowspan=\"3\" valign=\"top\">第二期</th>\n",
       "      <th>lucy</th>\n",
       "      <td>74</td>\n",
       "      <td>32</td>\n",
       "      <td>0</td>\n",
       "    </tr>\n",
       "    <tr>\n",
       "      <th>tom</th>\n",
       "      <td>0</td>\n",
       "      <td>90</td>\n",
       "      <td>9</td>\n",
       "    </tr>\n",
       "    <tr>\n",
       "      <th>alex</th>\n",
       "      <td>71</td>\n",
       "      <td>11</td>\n",
       "      <td>44</td>\n",
       "    </tr>\n",
       "  </tbody>\n",
       "</table>\n",
       "</div>"
      ],
      "text/plain": [
       "产品名称       A   B   C\n",
       "第一期 lucy  11  89  93\n",
       "    tom   30  61  35\n",
       "    alex  93  77  71\n",
       "第二期 lucy  74  32   0\n",
       "    tom    0  90   9\n",
       "    alex  71  11  44"
      ]
     },
     "execution_count": 406,
     "metadata": {},
     "output_type": "execute_result"
    }
   ],
   "source": [
    "index=pd.MultiIndex.from_product([['第一期','第二期'],['lucy','tom','alex']])\n",
    "columns=pd.Index(data=['A','B','C'],name='产品名称')\n",
    "data=np.random.randint(0,100,size=(6,3))\n",
    "df=pd.DataFrame(data=data,index=index,columns=columns)\n",
    "df"
   ]
  },
  {
   "cell_type": "markdown",
   "id": "3ffb8dda",
   "metadata": {},
   "source": [
    "### 代码块的解释\n",
    "\n",
    "1. 使用 `pd.MultiIndex.from_tuples` 方法创建一个多级列索引：\n",
    "   - 参数 `tuples` 是一个包含元组的列表，每个元组表示多级索引的一个组合。\n",
    "   - 例如，`('第一期', 'lucy')` 表示第一级索引为 `'第一期'`，第二级索引为 `'lucy'`。\n",
    "\n",
    "2. 定义行索引：`index=list('ABC')`，表示行索引为 `'A'`、`'B'` 和 `'C'`。\n",
    "\n",
    "3. 使用 `np.random.randint` 生成一个 3 行 6 列的随机整数数组作为数据。\n",
    "\n",
    "4. 使用 `pd.DataFrame` 创建一个 DataFrame：\n",
    "   - 参数 `data=data` 指定数据。\n",
    "   - 参数 `index=index` 指定行索引。\n",
    "   - 参数 `columns=tuples` 指定多级列索引。\n",
    "\n",
    "总结：这段代码创建了一个具有多级列索引的 DataFrame，其中列索引表示期数和人员，行索引为 `'A'`、`'B'` 和 `'C'`，数据为随机生成的整数。"
   ]
  },
  {
   "cell_type": "code",
   "execution_count": 407,
   "id": "2f3ee900",
   "metadata": {},
   "outputs": [
    {
     "data": {
      "text/html": [
       "<div>\n",
       "<style scoped>\n",
       "    .dataframe tbody tr th:only-of-type {\n",
       "        vertical-align: middle;\n",
       "    }\n",
       "\n",
       "    .dataframe tbody tr th {\n",
       "        vertical-align: top;\n",
       "    }\n",
       "\n",
       "    .dataframe thead tr th {\n",
       "        text-align: left;\n",
       "    }\n",
       "</style>\n",
       "<table border=\"1\" class=\"dataframe\">\n",
       "  <thead>\n",
       "    <tr>\n",
       "      <th></th>\n",
       "      <th colspan=\"3\" halign=\"left\">第一期</th>\n",
       "      <th colspan=\"3\" halign=\"left\">第二期</th>\n",
       "    </tr>\n",
       "    <tr>\n",
       "      <th></th>\n",
       "      <th>lucy</th>\n",
       "      <th>tom</th>\n",
       "      <th>alex</th>\n",
       "      <th>lucy</th>\n",
       "      <th>tom</th>\n",
       "      <th>alex</th>\n",
       "    </tr>\n",
       "  </thead>\n",
       "  <tbody>\n",
       "    <tr>\n",
       "      <th>A</th>\n",
       "      <td>2</td>\n",
       "      <td>1</td>\n",
       "      <td>19</td>\n",
       "      <td>40</td>\n",
       "      <td>7</td>\n",
       "      <td>27</td>\n",
       "    </tr>\n",
       "    <tr>\n",
       "      <th>B</th>\n",
       "      <td>50</td>\n",
       "      <td>80</td>\n",
       "      <td>48</td>\n",
       "      <td>83</td>\n",
       "      <td>3</td>\n",
       "      <td>0</td>\n",
       "    </tr>\n",
       "    <tr>\n",
       "      <th>C</th>\n",
       "      <td>54</td>\n",
       "      <td>40</td>\n",
       "      <td>52</td>\n",
       "      <td>69</td>\n",
       "      <td>16</td>\n",
       "      <td>99</td>\n",
       "    </tr>\n",
       "  </tbody>\n",
       "</table>\n",
       "</div>"
      ],
      "text/plain": [
       "   第一期           第二期         \n",
       "  lucy tom alex lucy tom alex\n",
       "A    2   1   19   40   7   27\n",
       "B   50  80   48   83   3    0\n",
       "C   54  40   52   69  16   99"
      ]
     },
     "execution_count": 407,
     "metadata": {},
     "output_type": "execute_result"
    }
   ],
   "source": [
    "tuples=pd.MultiIndex.from_tuples([('第一期','lucy'),\n",
    "                                  ('第一期','tom'),\n",
    "                                  ('第一期','alex'),\n",
    "                                  ('第二期','lucy'),\n",
    "                                  ('第二期','tom'),\n",
    "                                  ('第二期','alex'),])\n",
    "index=list('ABC')\n",
    "data=np.random.randint(0,100,size=(3,6))\n",
    "pd.DataFrame(data=data,index=index,columns=tuples)"
   ]
  },
  {
   "cell_type": "markdown",
   "id": "a6fec2f2",
   "metadata": {},
   "source": [
    "### 代码块的解释\n",
    "\n",
    "1. 使用 `pd.MultiIndex.from_tuples` 方法创建一个多级列索引：\n",
    "   - 参数 `tuples` 是一个包含元组的列表，每个元组表示多级索引的一个组合。\n",
    "   - 例如，`('第一期', 'lucy')` 表示第一级索引为 `'第一期'`，第二级索引为 `'lucy'`。\n",
    "\n",
    "2. 定义行索引：`index=list('ABC')`，表示行索引为 `'A'`、`'B'` 和 `'C'`。\n",
    "\n",
    "3. 使用 `np.random.randint` 生成一个 3 行 6 列的随机整数数组作为数据。\n",
    "\n",
    "4. 使用 `pd.DataFrame` 创建一个 DataFrame：\n",
    "   - 参数 `data=data` 指定数据。\n",
    "   - 参数 `index=index` 指定行索引。\n",
    "   - 参数 `columns=tuples` 指定多级列索引。\n",
    "\n",
    "总结：这段代码创建了一个具有多级列索引的 DataFrame，其中列索引表示期数和人员，行索引为 `'A'`、`'B'` 和 `'C'`，数据为随机生成的整数。"
   ]
  },
  {
   "cell_type": "markdown",
   "id": "c1ad208b",
   "metadata": {},
   "source": [
    "创建1个dataframe,表示出lucy,tom,jack,期中期末各科成绩"
   ]
  },
  {
   "cell_type": "code",
   "execution_count": 408,
   "id": "0586ab64",
   "metadata": {},
   "outputs": [],
   "source": [
    "data1=np.random.randint(0,100,size=(3,3))\n",
    "data2=np.random.randint(0,100,size=(3,3))\n",
    "index=pd.Index(data=['lucy','tom','jack'],name='姓名')\n",
    "columns=pd.Index(data=['python','java','c'],name='学科')\n",
    "score1=pd.DataFrame(data=data1,index=index,columns=columns)\n",
    "score2=pd.DataFrame(data=data2,index=index,columns=columns)\n"
   ]
  },
  {
   "cell_type": "code",
   "execution_count": 409,
   "id": "995b0dcc",
   "metadata": {},
   "outputs": [
    {
     "data": {
      "text/html": [
       "<div>\n",
       "<style scoped>\n",
       "    .dataframe tbody tr th:only-of-type {\n",
       "        vertical-align: middle;\n",
       "    }\n",
       "\n",
       "    .dataframe tbody tr th {\n",
       "        vertical-align: top;\n",
       "    }\n",
       "\n",
       "    .dataframe thead th {\n",
       "        text-align: right;\n",
       "    }\n",
       "</style>\n",
       "<table border=\"1\" class=\"dataframe\">\n",
       "  <thead>\n",
       "    <tr style=\"text-align: right;\">\n",
       "      <th>学科</th>\n",
       "      <th>python</th>\n",
       "      <th>java</th>\n",
       "      <th>c</th>\n",
       "    </tr>\n",
       "    <tr>\n",
       "      <th>姓名</th>\n",
       "      <th></th>\n",
       "      <th></th>\n",
       "      <th></th>\n",
       "    </tr>\n",
       "  </thead>\n",
       "  <tbody>\n",
       "    <tr>\n",
       "      <th>lucy</th>\n",
       "      <td>68</td>\n",
       "      <td>8</td>\n",
       "      <td>47</td>\n",
       "    </tr>\n",
       "    <tr>\n",
       "      <th>tom</th>\n",
       "      <td>49</td>\n",
       "      <td>59</td>\n",
       "      <td>86</td>\n",
       "    </tr>\n",
       "    <tr>\n",
       "      <th>jack</th>\n",
       "      <td>68</td>\n",
       "      <td>62</td>\n",
       "      <td>59</td>\n",
       "    </tr>\n",
       "  </tbody>\n",
       "</table>\n",
       "</div>"
      ],
      "text/plain": [
       "学科    python  java   c\n",
       "姓名                    \n",
       "lucy      68     8  47\n",
       "tom       49    59  86\n",
       "jack      68    62  59"
      ]
     },
     "metadata": {},
     "output_type": "display_data"
    },
    {
     "data": {
      "text/html": [
       "<div>\n",
       "<style scoped>\n",
       "    .dataframe tbody tr th:only-of-type {\n",
       "        vertical-align: middle;\n",
       "    }\n",
       "\n",
       "    .dataframe tbody tr th {\n",
       "        vertical-align: top;\n",
       "    }\n",
       "\n",
       "    .dataframe thead th {\n",
       "        text-align: right;\n",
       "    }\n",
       "</style>\n",
       "<table border=\"1\" class=\"dataframe\">\n",
       "  <thead>\n",
       "    <tr style=\"text-align: right;\">\n",
       "      <th>学科</th>\n",
       "      <th>python</th>\n",
       "      <th>java</th>\n",
       "      <th>c</th>\n",
       "    </tr>\n",
       "    <tr>\n",
       "      <th>姓名</th>\n",
       "      <th></th>\n",
       "      <th></th>\n",
       "      <th></th>\n",
       "    </tr>\n",
       "  </thead>\n",
       "  <tbody>\n",
       "    <tr>\n",
       "      <th>lucy</th>\n",
       "      <td>62</td>\n",
       "      <td>15</td>\n",
       "      <td>13</td>\n",
       "    </tr>\n",
       "    <tr>\n",
       "      <th>tom</th>\n",
       "      <td>48</td>\n",
       "      <td>88</td>\n",
       "      <td>24</td>\n",
       "    </tr>\n",
       "    <tr>\n",
       "      <th>jack</th>\n",
       "      <td>73</td>\n",
       "      <td>19</td>\n",
       "      <td>24</td>\n",
       "    </tr>\n",
       "  </tbody>\n",
       "</table>\n",
       "</div>"
      ],
      "text/plain": [
       "学科    python  java   c\n",
       "姓名                    \n",
       "lucy      62    15  13\n",
       "tom       48    88  24\n",
       "jack      73    19  24"
      ]
     },
     "metadata": {},
     "output_type": "display_data"
    }
   ],
   "source": [
    "display(score1,score2)"
   ]
  },
  {
   "cell_type": "markdown",
   "id": "cce61ea0",
   "metadata": {},
   "source": [
    "获取上学期lucy成绩的最高分是哪门学科"
   ]
  },
  {
   "cell_type": "code",
   "execution_count": 410,
   "id": "f7659a34",
   "metadata": {},
   "outputs": [
    {
     "data": {
      "text/plain": [
       "68"
      ]
     },
     "execution_count": 410,
     "metadata": {},
     "output_type": "execute_result"
    }
   ],
   "source": [
    "score1.loc['lucy'].max()"
   ]
  },
  {
   "cell_type": "code",
   "execution_count": 411,
   "id": "df3d2745",
   "metadata": {},
   "outputs": [
    {
     "data": {
      "text/plain": [
       "学科\n",
       "python     True\n",
       "java      False\n",
       "c         False\n",
       "Name: lucy, dtype: bool"
      ]
     },
     "execution_count": 411,
     "metadata": {},
     "output_type": "execute_result"
    }
   ],
   "source": [
    "score1.loc['lucy']==score1.loc['lucy'].max()"
   ]
  },
  {
   "cell_type": "code",
   "execution_count": 412,
   "id": "d5b85f11",
   "metadata": {},
   "outputs": [
    {
     "data": {
      "text/plain": [
       "学科\n",
       "python    68\n",
       "Name: lucy, dtype: int64"
      ]
     },
     "execution_count": 412,
     "metadata": {},
     "output_type": "execute_result"
    }
   ],
   "source": [
    "score1.loc['lucy',score1.loc['lucy']==score1.loc['lucy'].max()]"
   ]
  },
  {
   "cell_type": "code",
   "execution_count": 413,
   "id": "c5775ce6",
   "metadata": {},
   "outputs": [
    {
     "data": {
      "text/plain": [
       "'python'"
      ]
     },
     "execution_count": 413,
     "metadata": {},
     "output_type": "execute_result"
    }
   ],
   "source": [
    "score1.loc['lucy',score1.loc['lucy']==score1.loc['lucy'].max()].index[0]"
   ]
  },
  {
   "cell_type": "markdown",
   "id": "cfc6ec2d",
   "metadata": {},
   "source": [
    "### 代码 `score1.loc['lucy',score1.loc['lucy']==score1.loc['lucy'].max()]` 的解释\n",
    "\n",
    "1. `score1.loc['lucy']` 提取 DataFrame `score1` 中索引为 `'lucy'` 的行数据。\n",
    "2. `score1.loc['lucy'].max()` 计算 `'lucy'` 这一行数据的最大值。\n",
    "3. `score1.loc['lucy']==score1.loc['lucy'].max()` 返回一个布尔 Series，标记 `'lucy'` 行中哪些列的值等于最大值。\n",
    "4. `score1.loc['lucy', ...]` 使用布尔索引提取 `'lucy'` 行中值等于最大值的列及其对应的值。\n",
    "\n",
    "总结：这段代码用于获取 `score1` 中 `'lucy'` 行的最大值及其对应的列名和值。"
   ]
  },
  {
   "cell_type": "code",
   "execution_count": 414,
   "id": "d3c94286",
   "metadata": {},
   "outputs": [
    {
     "data": {
      "text/html": [
       "<div>\n",
       "<style scoped>\n",
       "    .dataframe tbody tr th:only-of-type {\n",
       "        vertical-align: middle;\n",
       "    }\n",
       "\n",
       "    .dataframe tbody tr th {\n",
       "        vertical-align: top;\n",
       "    }\n",
       "\n",
       "    .dataframe thead th {\n",
       "        text-align: right;\n",
       "    }\n",
       "</style>\n",
       "<table border=\"1\" class=\"dataframe\">\n",
       "  <thead>\n",
       "    <tr style=\"text-align: right;\">\n",
       "      <th>学科</th>\n",
       "      <th>python</th>\n",
       "      <th>java</th>\n",
       "      <th>c</th>\n",
       "    </tr>\n",
       "    <tr>\n",
       "      <th>姓名</th>\n",
       "      <th></th>\n",
       "      <th></th>\n",
       "      <th></th>\n",
       "    </tr>\n",
       "  </thead>\n",
       "  <tbody>\n",
       "    <tr>\n",
       "      <th>lucy</th>\n",
       "      <td>68</td>\n",
       "      <td>8</td>\n",
       "      <td>47</td>\n",
       "    </tr>\n",
       "    <tr>\n",
       "      <th>jack</th>\n",
       "      <td>68</td>\n",
       "      <td>62</td>\n",
       "      <td>59</td>\n",
       "    </tr>\n",
       "  </tbody>\n",
       "</table>\n",
       "</div>"
      ],
      "text/plain": [
       "学科    python  java   c\n",
       "姓名                    \n",
       "lucy      68     8  47\n",
       "jack      68    62  59"
      ]
     },
     "execution_count": 414,
     "metadata": {},
     "output_type": "execute_result"
    }
   ],
   "source": [
    "score1.query('python>60')"
   ]
  },
  {
   "cell_type": "code",
   "execution_count": 415,
   "id": "f7a571ea",
   "metadata": {},
   "outputs": [
    {
     "data": {
      "text/html": [
       "<div>\n",
       "<style scoped>\n",
       "    .dataframe tbody tr th:only-of-type {\n",
       "        vertical-align: middle;\n",
       "    }\n",
       "\n",
       "    .dataframe tbody tr th {\n",
       "        vertical-align: top;\n",
       "    }\n",
       "\n",
       "    .dataframe thead th {\n",
       "        text-align: right;\n",
       "    }\n",
       "</style>\n",
       "<table border=\"1\" class=\"dataframe\">\n",
       "  <thead>\n",
       "    <tr style=\"text-align: right;\">\n",
       "      <th>学科</th>\n",
       "      <th>python</th>\n",
       "      <th>java</th>\n",
       "      <th>c</th>\n",
       "    </tr>\n",
       "    <tr>\n",
       "      <th>姓名</th>\n",
       "      <th></th>\n",
       "      <th></th>\n",
       "      <th></th>\n",
       "    </tr>\n",
       "  </thead>\n",
       "  <tbody>\n",
       "  </tbody>\n",
       "</table>\n",
       "</div>"
      ],
      "text/plain": [
       "Empty DataFrame\n",
       "Columns: [python, java, c]\n",
       "Index: []"
      ]
     },
     "execution_count": 415,
     "metadata": {},
     "output_type": "execute_result"
    }
   ],
   "source": [
    "score1.query('姓名 == \"lucy\" and python == 58')"
   ]
  },
  {
   "cell_type": "markdown",
   "id": "5d8eaa48",
   "metadata": {},
   "source": [
    "同时获取上学期和下学期tom成绩，计算tom的各科学科平均成绩"
   ]
  },
  {
   "cell_type": "code",
   "execution_count": 416,
   "id": "b04247c0",
   "metadata": {},
   "outputs": [
    {
     "data": {
      "text/html": [
       "<div>\n",
       "<style scoped>\n",
       "    .dataframe tbody tr th:only-of-type {\n",
       "        vertical-align: middle;\n",
       "    }\n",
       "\n",
       "    .dataframe tbody tr th {\n",
       "        vertical-align: top;\n",
       "    }\n",
       "\n",
       "    .dataframe thead tr th {\n",
       "        text-align: left;\n",
       "    }\n",
       "</style>\n",
       "<table border=\"1\" class=\"dataframe\">\n",
       "  <thead>\n",
       "    <tr>\n",
       "      <th></th>\n",
       "      <th colspan=\"3\" halign=\"left\">上学期</th>\n",
       "      <th colspan=\"3\" halign=\"left\">下学期</th>\n",
       "    </tr>\n",
       "    <tr>\n",
       "      <th></th>\n",
       "      <th>java</th>\n",
       "      <th>python</th>\n",
       "      <th>c</th>\n",
       "      <th>java</th>\n",
       "      <th>python</th>\n",
       "      <th>c</th>\n",
       "    </tr>\n",
       "  </thead>\n",
       "  <tbody>\n",
       "    <tr>\n",
       "      <th>lucy</th>\n",
       "      <td>49</td>\n",
       "      <td>54</td>\n",
       "      <td>22</td>\n",
       "      <td>70</td>\n",
       "      <td>30</td>\n",
       "      <td>95</td>\n",
       "    </tr>\n",
       "    <tr>\n",
       "      <th>tom</th>\n",
       "      <td>27</td>\n",
       "      <td>46</td>\n",
       "      <td>38</td>\n",
       "      <td>85</td>\n",
       "      <td>65</td>\n",
       "      <td>20</td>\n",
       "    </tr>\n",
       "    <tr>\n",
       "      <th>jack</th>\n",
       "      <td>73</td>\n",
       "      <td>45</td>\n",
       "      <td>68</td>\n",
       "      <td>21</td>\n",
       "      <td>29</td>\n",
       "      <td>81</td>\n",
       "    </tr>\n",
       "  </tbody>\n",
       "</table>\n",
       "</div>"
      ],
      "text/plain": [
       "      上学期             下学期           \n",
       "     java python   c java python   c\n",
       "lucy   49     54  22   70     30  95\n",
       "tom    27     46  38   85     65  20\n",
       "jack   73     45  68   21     29  81"
      ]
     },
     "execution_count": 416,
     "metadata": {},
     "output_type": "execute_result"
    }
   ],
   "source": [
    "columns=pd.MultiIndex.from_product([['上学期','下学期'],['java','python','c']])\n",
    "index=['lucy','tom','jack']\n",
    "data=np.random.randint(0,100,size=(3,6))\n",
    "score=pd.DataFrame(data=data,index=index,columns=columns)\n",
    "score"
   ]
  },
  {
   "cell_type": "code",
   "execution_count": 417,
   "id": "c6f72693",
   "metadata": {},
   "outputs": [
    {
     "data": {
      "text/plain": [
       "上学期  java      27\n",
       "     python    46\n",
       "     c         38\n",
       "下学期  java      85\n",
       "     python    65\n",
       "     c         20\n",
       "Name: tom, dtype: int64"
      ]
     },
     "execution_count": 417,
     "metadata": {},
     "output_type": "execute_result"
    }
   ],
   "source": [
    "score.loc['tom']"
   ]
  },
  {
   "cell_type": "code",
   "execution_count": 418,
   "id": "407a1012",
   "metadata": {},
   "outputs": [
    {
     "data": {
      "text/plain": [
       "c         29.0\n",
       "java      56.0\n",
       "python    55.5\n",
       "dtype: float64"
      ]
     },
     "execution_count": 418,
     "metadata": {},
     "output_type": "execute_result"
    }
   ],
   "source": [
    "tom_score=score.loc['tom']\n",
    "tom_score.unstack().mean()"
   ]
  },
  {
   "cell_type": "code",
   "execution_count": 419,
   "id": "36c3b486",
   "metadata": {},
   "outputs": [
    {
     "data": {
      "text/html": [
       "<div>\n",
       "<style scoped>\n",
       "    .dataframe tbody tr th:only-of-type {\n",
       "        vertical-align: middle;\n",
       "    }\n",
       "\n",
       "    .dataframe tbody tr th {\n",
       "        vertical-align: top;\n",
       "    }\n",
       "\n",
       "    .dataframe thead th {\n",
       "        text-align: right;\n",
       "    }\n",
       "</style>\n",
       "<table border=\"1\" class=\"dataframe\">\n",
       "  <thead>\n",
       "    <tr style=\"text-align: right;\">\n",
       "      <th></th>\n",
       "      <th>c</th>\n",
       "      <th>java</th>\n",
       "      <th>python</th>\n",
       "    </tr>\n",
       "  </thead>\n",
       "  <tbody>\n",
       "    <tr>\n",
       "      <th>上学期</th>\n",
       "      <td>38</td>\n",
       "      <td>27</td>\n",
       "      <td>46</td>\n",
       "    </tr>\n",
       "    <tr>\n",
       "      <th>下学期</th>\n",
       "      <td>20</td>\n",
       "      <td>85</td>\n",
       "      <td>65</td>\n",
       "    </tr>\n",
       "  </tbody>\n",
       "</table>\n",
       "</div>"
      ],
      "text/plain": [
       "      c  java  python\n",
       "上学期  38    27      46\n",
       "下学期  20    85      65"
      ]
     },
     "execution_count": 419,
     "metadata": {},
     "output_type": "execute_result"
    }
   ],
   "source": [
    "tom_score.unstack()"
   ]
  },
  {
   "cell_type": "markdown",
   "id": "ecc3bf6b",
   "metadata": {},
   "source": [
    "### 代码 `tom_score=score.loc['tom']; tom_score.unstack().mean()` 的解释\n",
    "\n",
    "1. `score.loc['tom']` 提取 DataFrame `score` 中索引为 `'tom'` 的行数据，返回一个 Series 对象。\n",
    "   - 该 Series 的索引是一个 MultiIndex，表示学期和学科的组合。\n",
    "\n",
    "2. `tom_score.unstack()` 这是一个将多层索引的Series或DataFrame转换为“宽格式”的方法。它会将最内层的行索引转换为列索引。\n",
    "\n",
    "3. `tom_score.unstack().mean()` 计算 DataFrame 中每列（即每个学科）的平均值。\n",
    "   - 返回一个 Series，其中索引为学科，值为对应学科的平均成绩。\n",
    "\n",
    "总结：这段代码提取 `score` 中 `'tom'` 的所有成绩，按学期和学科重新组织，并计算 `'tom'` 在每个学科上的平均成绩。"
   ]
  },
  {
   "cell_type": "markdown",
   "id": "85da62eb",
   "metadata": {},
   "source": [
    "获取上学期jack的python成绩,并给他加20分"
   ]
  },
  {
   "cell_type": "code",
   "execution_count": 420,
   "id": "7567df1a",
   "metadata": {},
   "outputs": [
    {
     "data": {
      "text/html": [
       "<div>\n",
       "<style scoped>\n",
       "    .dataframe tbody tr th:only-of-type {\n",
       "        vertical-align: middle;\n",
       "    }\n",
       "\n",
       "    .dataframe tbody tr th {\n",
       "        vertical-align: top;\n",
       "    }\n",
       "\n",
       "    .dataframe thead tr th {\n",
       "        text-align: left;\n",
       "    }\n",
       "</style>\n",
       "<table border=\"1\" class=\"dataframe\">\n",
       "  <thead>\n",
       "    <tr>\n",
       "      <th></th>\n",
       "      <th colspan=\"3\" halign=\"left\">上学期</th>\n",
       "      <th colspan=\"3\" halign=\"left\">下学期</th>\n",
       "    </tr>\n",
       "    <tr>\n",
       "      <th></th>\n",
       "      <th>java</th>\n",
       "      <th>python</th>\n",
       "      <th>c</th>\n",
       "      <th>java</th>\n",
       "      <th>python</th>\n",
       "      <th>c</th>\n",
       "    </tr>\n",
       "  </thead>\n",
       "  <tbody>\n",
       "    <tr>\n",
       "      <th>lucy</th>\n",
       "      <td>49</td>\n",
       "      <td>54</td>\n",
       "      <td>22</td>\n",
       "      <td>70</td>\n",
       "      <td>30</td>\n",
       "      <td>95</td>\n",
       "    </tr>\n",
       "    <tr>\n",
       "      <th>tom</th>\n",
       "      <td>27</td>\n",
       "      <td>46</td>\n",
       "      <td>38</td>\n",
       "      <td>85</td>\n",
       "      <td>65</td>\n",
       "      <td>20</td>\n",
       "    </tr>\n",
       "    <tr>\n",
       "      <th>jack</th>\n",
       "      <td>73</td>\n",
       "      <td>65</td>\n",
       "      <td>68</td>\n",
       "      <td>21</td>\n",
       "      <td>29</td>\n",
       "      <td>81</td>\n",
       "    </tr>\n",
       "  </tbody>\n",
       "</table>\n",
       "</div>"
      ],
      "text/plain": [
       "      上学期             下学期           \n",
       "     java python   c java python   c\n",
       "lucy   49     54  22   70     30  95\n",
       "tom    27     46  38   85     65  20\n",
       "jack   73     65  68   21     29  81"
      ]
     },
     "execution_count": 420,
     "metadata": {},
     "output_type": "execute_result"
    }
   ],
   "source": [
    "score.loc['jack',('上学期','python')]+=20\n",
    "score"
   ]
  },
  {
   "cell_type": "code",
   "execution_count": 421,
   "id": "ebb9bf28",
   "metadata": {},
   "outputs": [
    {
     "name": "stderr",
     "output_type": "stream",
     "text": [
      "/tmp/ipykernel_754/294322378.py:1: FutureWarning: The previous implementation of stack is deprecated and will be removed in a future version of pandas. See the What's New notes for pandas 2.1.0 for details. Specify future_stack=True to adopt the new implementation and silence this warning.\n",
      "  score.stack(level=-2).unstack(level=-2).stack(level=-1)\n",
      "/tmp/ipykernel_754/294322378.py:1: FutureWarning: The previous implementation of stack is deprecated and will be removed in a future version of pandas. See the What's New notes for pandas 2.1.0 for details. Specify future_stack=True to adopt the new implementation and silence this warning.\n",
      "  score.stack(level=-2).unstack(level=-2).stack(level=-1)\n"
     ]
    },
    {
     "data": {
      "text/html": [
       "<div>\n",
       "<style scoped>\n",
       "    .dataframe tbody tr th:only-of-type {\n",
       "        vertical-align: middle;\n",
       "    }\n",
       "\n",
       "    .dataframe tbody tr th {\n",
       "        vertical-align: top;\n",
       "    }\n",
       "\n",
       "    .dataframe thead th {\n",
       "        text-align: right;\n",
       "    }\n",
       "</style>\n",
       "<table border=\"1\" class=\"dataframe\">\n",
       "  <thead>\n",
       "    <tr style=\"text-align: right;\">\n",
       "      <th></th>\n",
       "      <th></th>\n",
       "      <th>java</th>\n",
       "      <th>python</th>\n",
       "      <th>c</th>\n",
       "    </tr>\n",
       "  </thead>\n",
       "  <tbody>\n",
       "    <tr>\n",
       "      <th rowspan=\"3\" valign=\"top\">上学期</th>\n",
       "      <th>jack</th>\n",
       "      <td>73</td>\n",
       "      <td>65</td>\n",
       "      <td>68</td>\n",
       "    </tr>\n",
       "    <tr>\n",
       "      <th>lucy</th>\n",
       "      <td>49</td>\n",
       "      <td>54</td>\n",
       "      <td>22</td>\n",
       "    </tr>\n",
       "    <tr>\n",
       "      <th>tom</th>\n",
       "      <td>27</td>\n",
       "      <td>46</td>\n",
       "      <td>38</td>\n",
       "    </tr>\n",
       "    <tr>\n",
       "      <th rowspan=\"3\" valign=\"top\">下学期</th>\n",
       "      <th>jack</th>\n",
       "      <td>21</td>\n",
       "      <td>29</td>\n",
       "      <td>81</td>\n",
       "    </tr>\n",
       "    <tr>\n",
       "      <th>lucy</th>\n",
       "      <td>70</td>\n",
       "      <td>30</td>\n",
       "      <td>95</td>\n",
       "    </tr>\n",
       "    <tr>\n",
       "      <th>tom</th>\n",
       "      <td>85</td>\n",
       "      <td>65</td>\n",
       "      <td>20</td>\n",
       "    </tr>\n",
       "  </tbody>\n",
       "</table>\n",
       "</div>"
      ],
      "text/plain": [
       "          java  python   c\n",
       "上学期 jack    73      65  68\n",
       "    lucy    49      54  22\n",
       "    tom     27      46  38\n",
       "下学期 jack    21      29  81\n",
       "    lucy    70      30  95\n",
       "    tom     85      65  20"
      ]
     },
     "execution_count": 421,
     "metadata": {},
     "output_type": "execute_result"
    }
   ],
   "source": [
    "score.stack(level=-2).unstack(level=-2).stack(level=-1)"
   ]
  },
  {
   "cell_type": "markdown",
   "id": "7a93296c",
   "metadata": {},
   "source": [
    "### 代码 `score.stack(level=-2).unstack(level=-2).stack(level=-1)` 的解释\n",
    "\n",
    "1. `score.stack(level=-2)` 将 DataFrame 的列索引中倒数第二个级别（即学期）转为行索引，\n",
    "   - 结果是一个新的 DataFrame，其中行索引包含原来的行索引和学期，列索引仅剩下学科。\n",
    "\n",
    "2. `.unstack(level=-2)` 将刚刚转为行索引的学期重新转回列索引，\n",
    "   - 恢复到原始的列索引结构。\n",
    "\n",
    "3. `.stack(level=-1)` 将列索引中最后一个级别（即学科）转为行索引，\n",
    "   - 结果是一个新的 DataFrame，其中行索引包含原来的行索引、学期和学科，列索引为空。\n",
    "\n",
    "总结：这段代码通过多次 `stack` 和 `unstack` 操作，重新排列了 DataFrame 的索引和列，最终将学期和学科都转为行索引。"
   ]
  }
 ],
 "metadata": {
  "kernelspec": {
   "display_name": ".venv",
   "language": "python",
   "name": "python3"
  },
  "language_info": {
   "codemirror_mode": {
    "name": "ipython",
    "version": 3
   },
   "file_extension": ".py",
   "mimetype": "text/x-python",
   "name": "python",
   "nbconvert_exporter": "python",
   "pygments_lexer": "ipython3",
   "version": "3.11.2"
  }
 },
 "nbformat": 4,
 "nbformat_minor": 5
}
