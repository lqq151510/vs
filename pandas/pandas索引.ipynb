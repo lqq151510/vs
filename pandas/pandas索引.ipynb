{
 "cells": [
  {
   "cell_type": "code",
   "execution_count": 38,
   "id": "685e3722",
   "metadata": {},
   "outputs": [],
   "source": [
    "import numpy as np\n",
    "import pandas as pd"
   ]
  },
  {
   "cell_type": "code",
   "execution_count": 39,
   "id": "97a90223",
   "metadata": {},
   "outputs": [
    {
     "data": {
      "text/plain": [
       "RangeIndex(start=0, stop=5, step=1)"
      ]
     },
     "execution_count": 39,
     "metadata": {},
     "output_type": "execute_result"
    }
   ],
   "source": [
    "df=pd.DataFrame(data=np.random.randint(0,10,size=(5,3)))\n",
    "df.index"
   ]
  },
  {
   "cell_type": "code",
   "execution_count": 40,
   "id": "9e11f2aa",
   "metadata": {},
   "outputs": [],
   "source": [
    "df.index=list('abcde')"
   ]
  },
  {
   "cell_type": "code",
   "execution_count": 41,
   "id": "3cca8016",
   "metadata": {},
   "outputs": [
    {
     "data": {
      "text/html": [
       "<div>\n",
       "<style scoped>\n",
       "    .dataframe tbody tr th:only-of-type {\n",
       "        vertical-align: middle;\n",
       "    }\n",
       "\n",
       "    .dataframe tbody tr th {\n",
       "        vertical-align: top;\n",
       "    }\n",
       "\n",
       "    .dataframe thead th {\n",
       "        text-align: right;\n",
       "    }\n",
       "</style>\n",
       "<table border=\"1\" class=\"dataframe\">\n",
       "  <thead>\n",
       "    <tr style=\"text-align: right;\">\n",
       "      <th></th>\n",
       "      <th>0</th>\n",
       "      <th>1</th>\n",
       "      <th>2</th>\n",
       "    </tr>\n",
       "  </thead>\n",
       "  <tbody>\n",
       "    <tr>\n",
       "      <th>a</th>\n",
       "      <td>2</td>\n",
       "      <td>6</td>\n",
       "      <td>4</td>\n",
       "    </tr>\n",
       "    <tr>\n",
       "      <th>b</th>\n",
       "      <td>8</td>\n",
       "      <td>1</td>\n",
       "      <td>2</td>\n",
       "    </tr>\n",
       "    <tr>\n",
       "      <th>c</th>\n",
       "      <td>3</td>\n",
       "      <td>6</td>\n",
       "      <td>4</td>\n",
       "    </tr>\n",
       "    <tr>\n",
       "      <th>d</th>\n",
       "      <td>1</td>\n",
       "      <td>7</td>\n",
       "      <td>0</td>\n",
       "    </tr>\n",
       "    <tr>\n",
       "      <th>e</th>\n",
       "      <td>7</td>\n",
       "      <td>2</td>\n",
       "      <td>0</td>\n",
       "    </tr>\n",
       "  </tbody>\n",
       "</table>\n",
       "</div>"
      ],
      "text/plain": [
       "   0  1  2\n",
       "a  2  6  4\n",
       "b  8  1  2\n",
       "c  3  6  4\n",
       "d  1  7  0\n",
       "e  7  2  0"
      ]
     },
     "execution_count": 41,
     "metadata": {},
     "output_type": "execute_result"
    }
   ],
   "source": [
    "df"
   ]
  },
  {
   "cell_type": "code",
   "execution_count": 42,
   "id": "ec61e83b",
   "metadata": {},
   "outputs": [
    {
     "data": {
      "text/html": [
       "<div>\n",
       "<style scoped>\n",
       "    .dataframe tbody tr th:only-of-type {\n",
       "        vertical-align: middle;\n",
       "    }\n",
       "\n",
       "    .dataframe tbody tr th {\n",
       "        vertical-align: top;\n",
       "    }\n",
       "\n",
       "    .dataframe thead th {\n",
       "        text-align: right;\n",
       "    }\n",
       "</style>\n",
       "<table border=\"1\" class=\"dataframe\">\n",
       "  <thead>\n",
       "    <tr style=\"text-align: right;\">\n",
       "      <th></th>\n",
       "      <th>1</th>\n",
       "      <th>2</th>\n",
       "      <th>3</th>\n",
       "    </tr>\n",
       "  </thead>\n",
       "  <tbody>\n",
       "    <tr>\n",
       "      <th>a</th>\n",
       "      <td>2</td>\n",
       "      <td>6</td>\n",
       "      <td>4</td>\n",
       "    </tr>\n",
       "    <tr>\n",
       "      <th>b</th>\n",
       "      <td>8</td>\n",
       "      <td>1</td>\n",
       "      <td>2</td>\n",
       "    </tr>\n",
       "    <tr>\n",
       "      <th>c</th>\n",
       "      <td>3</td>\n",
       "      <td>6</td>\n",
       "      <td>4</td>\n",
       "    </tr>\n",
       "    <tr>\n",
       "      <th>d</th>\n",
       "      <td>1</td>\n",
       "      <td>7</td>\n",
       "      <td>0</td>\n",
       "    </tr>\n",
       "    <tr>\n",
       "      <th>e</th>\n",
       "      <td>7</td>\n",
       "      <td>2</td>\n",
       "      <td>0</td>\n",
       "    </tr>\n",
       "  </tbody>\n",
       "</table>\n",
       "</div>"
      ],
      "text/plain": [
       "   1  2  3\n",
       "a  2  6  4\n",
       "b  8  1  2\n",
       "c  3  6  4\n",
       "d  1  7  0\n",
       "e  7  2  0"
      ]
     },
     "execution_count": 42,
     "metadata": {},
     "output_type": "execute_result"
    }
   ],
   "source": [
    "df.columns=[1,2,3]\n",
    "df"
   ]
  },
  {
   "cell_type": "markdown",
   "id": "e66860d8",
   "metadata": {},
   "source": [
    "### 代码 `df.columns` 的解释\n",
    "\n",
    "1. `df.columns` 属性用于获取或设置 DataFrame 的列标签（列名）。\n",
    "2. 返回值是一个 `Index` 对象，包含所有列的标签。\n",
    "\n",
    "总结：这段代码返回 DataFrame `df` 的列名列表。"
   ]
  },
  {
   "cell_type": "code",
   "execution_count": 43,
   "id": "0f28531d",
   "metadata": {},
   "outputs": [
    {
     "data": {
      "text/plain": [
       "Index([1, 2, 3], dtype='int64')"
      ]
     },
     "execution_count": 43,
     "metadata": {},
     "output_type": "execute_result"
    }
   ],
   "source": [
    "pd.Index(data=[1,2,3])"
   ]
  },
  {
   "cell_type": "markdown",
   "id": "39e76b48",
   "metadata": {},
   "source": [
    "### 代码 `pd.Index(data=[1,2,3])` 的解释\n",
    "\n",
    "1. `pd.Index` 是 pandas 中的一个类，用于创建索引对象。\n",
    "2. 参数 `data=[1,2,3]` 表示索引的值为 `[1, 2, 3]`。\n",
    "3. 返回值是一个 `Index` 对象，可以用作 DataFrame 或 Series 的行索引或列索引。\n",
    "\n",
    "总结：这段代码创建了一个包含 `[1, 2, 3]` 的 pandas 索引对象。"
   ]
  },
  {
   "cell_type": "code",
   "execution_count": 44,
   "id": "129467c3",
   "metadata": {},
   "outputs": [
    {
     "data": {
      "text/plain": [
       "RangeIndex(start=0, stop=10, step=1, name='index')"
      ]
     },
     "execution_count": 44,
     "metadata": {},
     "output_type": "execute_result"
    }
   ],
   "source": [
    "pd.RangeIndex(start=0,stop=10,step=1,name='index')"
   ]
  },
  {
   "cell_type": "markdown",
   "id": "c7cc0b3b",
   "metadata": {},
   "source": [
    "### 代码 `pd.RangeIndex(start=0,stop=10,step=1)` 的解释\n",
    "\n",
    "1. `pd.RangeIndex` 是 pandas 中的一种特殊索引类型，用于表示范围索引。\n",
    "2. 参数 `start=0` 表示索引的起始值为 `0`。\n",
    "3. 参数 `stop=10` 表示索引的结束值为 `10`（不包含 `10`）。\n",
    "4. 参数 `step=1` 表示索引的步长为 `1`。\n",
    "\n",
    "总结：这段代码创建了一个从 `0` 到 `9`（步长为 `1`）的 pandas 范围索引对象。"
   ]
  },
  {
   "cell_type": "code",
   "execution_count": 45,
   "id": "448ed282",
   "metadata": {},
   "outputs": [
    {
     "data": {
      "text/plain": [
       "array([0, 1, 2, 3, 4, 5, 6, 7, 8, 9])"
      ]
     },
     "execution_count": 45,
     "metadata": {},
     "output_type": "execute_result"
    }
   ],
   "source": [
    "np.arange(0,10,step=1)"
   ]
  },
  {
   "cell_type": "code",
   "execution_count": 46,
   "id": "0273ba3a",
   "metadata": {},
   "outputs": [
    {
     "data": {
      "text/html": [
       "<div>\n",
       "<style scoped>\n",
       "    .dataframe tbody tr th:only-of-type {\n",
       "        vertical-align: middle;\n",
       "    }\n",
       "\n",
       "    .dataframe tbody tr th {\n",
       "        vertical-align: top;\n",
       "    }\n",
       "\n",
       "    .dataframe thead th {\n",
       "        text-align: right;\n",
       "    }\n",
       "</style>\n",
       "<table border=\"1\" class=\"dataframe\">\n",
       "  <thead>\n",
       "    <tr style=\"text-align: right;\">\n",
       "      <th></th>\n",
       "      <th>1</th>\n",
       "      <th>2</th>\n",
       "      <th>3</th>\n",
       "    </tr>\n",
       "    <tr>\n",
       "      <th>index</th>\n",
       "      <th></th>\n",
       "      <th></th>\n",
       "      <th></th>\n",
       "    </tr>\n",
       "  </thead>\n",
       "  <tbody>\n",
       "    <tr>\n",
       "      <th>0</th>\n",
       "      <td>2</td>\n",
       "      <td>6</td>\n",
       "      <td>4</td>\n",
       "    </tr>\n",
       "    <tr>\n",
       "      <th>1</th>\n",
       "      <td>8</td>\n",
       "      <td>1</td>\n",
       "      <td>2</td>\n",
       "    </tr>\n",
       "    <tr>\n",
       "      <th>2</th>\n",
       "      <td>3</td>\n",
       "      <td>6</td>\n",
       "      <td>4</td>\n",
       "    </tr>\n",
       "    <tr>\n",
       "      <th>3</th>\n",
       "      <td>1</td>\n",
       "      <td>7</td>\n",
       "      <td>0</td>\n",
       "    </tr>\n",
       "    <tr>\n",
       "      <th>4</th>\n",
       "      <td>7</td>\n",
       "      <td>2</td>\n",
       "      <td>0</td>\n",
       "    </tr>\n",
       "  </tbody>\n",
       "</table>\n",
       "</div>"
      ],
      "text/plain": [
       "       1  2  3\n",
       "index         \n",
       "0      2  6  4\n",
       "1      8  1  2\n",
       "2      3  6  4\n",
       "3      1  7  0\n",
       "4      7  2  0"
      ]
     },
     "execution_count": 46,
     "metadata": {},
     "output_type": "execute_result"
    }
   ],
   "source": [
    "df.index = pd.RangeIndex(start=0, stop=len(df), step=1, name='index')\n",
    "df"
   ]
  },
  {
   "cell_type": "code",
   "execution_count": 47,
   "id": "b0c77667",
   "metadata": {},
   "outputs": [],
   "source": [
    "level1=['第一期','第二期']\n",
    "level2=['A','B','C']\n",
    "columns=pd.MultiIndex.from_product([level1,level2],names=['期数','产品'])\n",
    "index=pd.Index(data=['lucy','tom','alex'],name='销售员')\n",
    "data=np.random.randint(0,100,size=(3,6))\n",
    "df=pd.DataFrame(data=data,index=index,columns=columns)"
   ]
  },
  {
   "cell_type": "code",
   "execution_count": 48,
   "id": "07f93e2b",
   "metadata": {},
   "outputs": [
    {
     "data": {
      "text/html": [
       "<div>\n",
       "<style scoped>\n",
       "    .dataframe tbody tr th:only-of-type {\n",
       "        vertical-align: middle;\n",
       "    }\n",
       "\n",
       "    .dataframe tbody tr th {\n",
       "        vertical-align: top;\n",
       "    }\n",
       "\n",
       "    .dataframe thead tr th {\n",
       "        text-align: left;\n",
       "    }\n",
       "\n",
       "    .dataframe thead tr:last-of-type th {\n",
       "        text-align: right;\n",
       "    }\n",
       "</style>\n",
       "<table border=\"1\" class=\"dataframe\">\n",
       "  <thead>\n",
       "    <tr>\n",
       "      <th>期数</th>\n",
       "      <th colspan=\"3\" halign=\"left\">第一期</th>\n",
       "      <th colspan=\"3\" halign=\"left\">第二期</th>\n",
       "    </tr>\n",
       "    <tr>\n",
       "      <th>产品</th>\n",
       "      <th>A</th>\n",
       "      <th>B</th>\n",
       "      <th>C</th>\n",
       "      <th>A</th>\n",
       "      <th>B</th>\n",
       "      <th>C</th>\n",
       "    </tr>\n",
       "    <tr>\n",
       "      <th>销售员</th>\n",
       "      <th></th>\n",
       "      <th></th>\n",
       "      <th></th>\n",
       "      <th></th>\n",
       "      <th></th>\n",
       "      <th></th>\n",
       "    </tr>\n",
       "  </thead>\n",
       "  <tbody>\n",
       "    <tr>\n",
       "      <th>lucy</th>\n",
       "      <td>50</td>\n",
       "      <td>58</td>\n",
       "      <td>1</td>\n",
       "      <td>20</td>\n",
       "      <td>15</td>\n",
       "      <td>90</td>\n",
       "    </tr>\n",
       "    <tr>\n",
       "      <th>tom</th>\n",
       "      <td>64</td>\n",
       "      <td>24</td>\n",
       "      <td>49</td>\n",
       "      <td>24</td>\n",
       "      <td>93</td>\n",
       "      <td>44</td>\n",
       "    </tr>\n",
       "    <tr>\n",
       "      <th>alex</th>\n",
       "      <td>92</td>\n",
       "      <td>44</td>\n",
       "      <td>20</td>\n",
       "      <td>58</td>\n",
       "      <td>17</td>\n",
       "      <td>18</td>\n",
       "    </tr>\n",
       "  </tbody>\n",
       "</table>\n",
       "</div>"
      ],
      "text/plain": [
       "期数   第一期         第二期        \n",
       "产品     A   B   C   A   B   C\n",
       "销售员                         \n",
       "lucy  50  58   1  20  15  90\n",
       "tom   64  24  49  24  93  44\n",
       "alex  92  44  20  58  17  18"
      ]
     },
     "execution_count": 48,
     "metadata": {},
     "output_type": "execute_result"
    }
   ],
   "source": [
    "df"
   ]
  },
  {
   "cell_type": "markdown",
   "id": "e8a6468c",
   "metadata": {},
   "source": [
    "### 代码 `pd.MultiIndex.from_product([level1,level2])` 的解释\n",
    "\n",
    "1. `pd.MultiIndex.from_product` 方法用于创建一个多级索引（MultiIndex）。\n",
    "2. 参数 `[level1, level2]` 表示两个级别的索引：\n",
    "   - `level1=['第一期','第二期']` 是第一级索引。\n",
    "   - `level2=['A','B','C']` 是第二级索引。\n",
    "3. 该方法会生成两个级别的笛卡尔积，形成所有可能的组合。\n",
    "\n",
    "总结：这段代码创建了一个多级索引，其中第一级为 `'第一期'` 和 `'第二期'`，第二级为 `'A'`、`'B'` 和 `'C'`，总共包含 6 个组合。"
   ]
  },
  {
   "cell_type": "markdown",
   "id": "778ac631",
   "metadata": {},
   "source": [
    "### 代码块的解释\n",
    "\n",
    "1. 定义两个列表：\n",
    "   - `level1=['第一期','第二期']` 表示第一级索引的值。\n",
    "   - `level2=['A','B','C']` 表示第二级索引的值。\n",
    "\n",
    "2. 使用 `pd.MultiIndex.from_product` 方法创建一个多级列索引：\n",
    "   - 参数 `[level1, level2]` 生成两个级别的笛卡尔积。\n",
    "   - 参数 `names=['期数','产品']` 为两个级别的索引命名。\n",
    "\n",
    "3. 使用 `pd.Index` 创建行索引：\n",
    "   - 参数 `data=['lucy','tom','alex']` 指定行索引的值。\n",
    "   - 参数 `name='销售员'` 为行索引命名。\n",
    "\n",
    "4. 使用 `np.random.randint` 生成一个 3 行 6 列的随机整数数组作为数据。\n",
    "\n",
    "5. 使用 `pd.DataFrame` 创建一个 DataFrame：\n",
    "   - 参数 `data=data` 指定数据。\n",
    "   - 参数 `index=index` 指定行索引。\n",
    "   - 参数 `columns=columns` 指定多级列索引。\n",
    "\n",
    "总结：这段代码创建了一个具有多级列索引和命名行索引的 DataFrame，其中列索引表示期数和产品，行索引表示销售员，数据为随机生成的整数。"
   ]
  },
  {
   "cell_type": "code",
   "execution_count": 49,
   "id": "b323424b",
   "metadata": {},
   "outputs": [
    {
     "data": {
      "text/html": [
       "<div>\n",
       "<style scoped>\n",
       "    .dataframe tbody tr th:only-of-type {\n",
       "        vertical-align: middle;\n",
       "    }\n",
       "\n",
       "    .dataframe tbody tr th {\n",
       "        vertical-align: top;\n",
       "    }\n",
       "\n",
       "    .dataframe thead th {\n",
       "        text-align: right;\n",
       "    }\n",
       "</style>\n",
       "<table border=\"1\" class=\"dataframe\">\n",
       "  <thead>\n",
       "    <tr style=\"text-align: right;\">\n",
       "      <th></th>\n",
       "      <th>产品名称</th>\n",
       "      <th>A</th>\n",
       "      <th>B</th>\n",
       "      <th>C</th>\n",
       "    </tr>\n",
       "  </thead>\n",
       "  <tbody>\n",
       "    <tr>\n",
       "      <th rowspan=\"3\" valign=\"top\">第一期</th>\n",
       "      <th>lucy</th>\n",
       "      <td>70</td>\n",
       "      <td>54</td>\n",
       "      <td>29</td>\n",
       "    </tr>\n",
       "    <tr>\n",
       "      <th>tom</th>\n",
       "      <td>59</td>\n",
       "      <td>37</td>\n",
       "      <td>81</td>\n",
       "    </tr>\n",
       "    <tr>\n",
       "      <th>alex</th>\n",
       "      <td>73</td>\n",
       "      <td>88</td>\n",
       "      <td>90</td>\n",
       "    </tr>\n",
       "    <tr>\n",
       "      <th rowspan=\"3\" valign=\"top\">第二期</th>\n",
       "      <th>lucy</th>\n",
       "      <td>0</td>\n",
       "      <td>6</td>\n",
       "      <td>53</td>\n",
       "    </tr>\n",
       "    <tr>\n",
       "      <th>tom</th>\n",
       "      <td>95</td>\n",
       "      <td>58</td>\n",
       "      <td>78</td>\n",
       "    </tr>\n",
       "    <tr>\n",
       "      <th>alex</th>\n",
       "      <td>83</td>\n",
       "      <td>27</td>\n",
       "      <td>51</td>\n",
       "    </tr>\n",
       "  </tbody>\n",
       "</table>\n",
       "</div>"
      ],
      "text/plain": [
       "产品名称       A   B   C\n",
       "第一期 lucy  70  54  29\n",
       "    tom   59  37  81\n",
       "    alex  73  88  90\n",
       "第二期 lucy   0   6  53\n",
       "    tom   95  58  78\n",
       "    alex  83  27  51"
      ]
     },
     "execution_count": 49,
     "metadata": {},
     "output_type": "execute_result"
    }
   ],
   "source": [
    "index=pd.MultiIndex.from_product([['第一期','第二期'],['lucy','tom','alex']])\n",
    "columns=pd.Index(data=['A','B','C'],name='产品名称')\n",
    "data=np.random.randint(0,100,size=(6,3))\n",
    "df=pd.DataFrame(data=data,index=index,columns=columns)\n",
    "df"
   ]
  },
  {
   "cell_type": "markdown",
   "id": "3ffb8dda",
   "metadata": {},
   "source": [
    "### 代码块的解释\n",
    "\n",
    "1. 使用 `pd.MultiIndex.from_tuples` 方法创建一个多级列索引：\n",
    "   - 参数 `tuples` 是一个包含元组的列表，每个元组表示多级索引的一个组合。\n",
    "   - 例如，`('第一期', 'lucy')` 表示第一级索引为 `'第一期'`，第二级索引为 `'lucy'`。\n",
    "\n",
    "2. 定义行索引：`index=list('ABC')`，表示行索引为 `'A'`、`'B'` 和 `'C'`。\n",
    "\n",
    "3. 使用 `np.random.randint` 生成一个 3 行 6 列的随机整数数组作为数据。\n",
    "\n",
    "4. 使用 `pd.DataFrame` 创建一个 DataFrame：\n",
    "   - 参数 `data=data` 指定数据。\n",
    "   - 参数 `index=index` 指定行索引。\n",
    "   - 参数 `columns=tuples` 指定多级列索引。\n",
    "\n",
    "总结：这段代码创建了一个具有多级列索引的 DataFrame，其中列索引表示期数和人员，行索引为 `'A'`、`'B'` 和 `'C'`，数据为随机生成的整数。"
   ]
  },
  {
   "cell_type": "code",
   "execution_count": 50,
   "id": "2f3ee900",
   "metadata": {},
   "outputs": [
    {
     "data": {
      "text/html": [
       "<div>\n",
       "<style scoped>\n",
       "    .dataframe tbody tr th:only-of-type {\n",
       "        vertical-align: middle;\n",
       "    }\n",
       "\n",
       "    .dataframe tbody tr th {\n",
       "        vertical-align: top;\n",
       "    }\n",
       "\n",
       "    .dataframe thead tr th {\n",
       "        text-align: left;\n",
       "    }\n",
       "</style>\n",
       "<table border=\"1\" class=\"dataframe\">\n",
       "  <thead>\n",
       "    <tr>\n",
       "      <th></th>\n",
       "      <th colspan=\"3\" halign=\"left\">第一期</th>\n",
       "      <th colspan=\"3\" halign=\"left\">第二期</th>\n",
       "    </tr>\n",
       "    <tr>\n",
       "      <th></th>\n",
       "      <th>lucy</th>\n",
       "      <th>tom</th>\n",
       "      <th>alex</th>\n",
       "      <th>lucy</th>\n",
       "      <th>tom</th>\n",
       "      <th>alex</th>\n",
       "    </tr>\n",
       "  </thead>\n",
       "  <tbody>\n",
       "    <tr>\n",
       "      <th>A</th>\n",
       "      <td>64</td>\n",
       "      <td>10</td>\n",
       "      <td>96</td>\n",
       "      <td>86</td>\n",
       "      <td>84</td>\n",
       "      <td>50</td>\n",
       "    </tr>\n",
       "    <tr>\n",
       "      <th>B</th>\n",
       "      <td>82</td>\n",
       "      <td>54</td>\n",
       "      <td>96</td>\n",
       "      <td>33</td>\n",
       "      <td>75</td>\n",
       "      <td>56</td>\n",
       "    </tr>\n",
       "    <tr>\n",
       "      <th>C</th>\n",
       "      <td>65</td>\n",
       "      <td>75</td>\n",
       "      <td>49</td>\n",
       "      <td>21</td>\n",
       "      <td>79</td>\n",
       "      <td>18</td>\n",
       "    </tr>\n",
       "  </tbody>\n",
       "</table>\n",
       "</div>"
      ],
      "text/plain": [
       "   第一期           第二期         \n",
       "  lucy tom alex lucy tom alex\n",
       "A   64  10   96   86  84   50\n",
       "B   82  54   96   33  75   56\n",
       "C   65  75   49   21  79   18"
      ]
     },
     "execution_count": 50,
     "metadata": {},
     "output_type": "execute_result"
    }
   ],
   "source": [
    "tuples=pd.MultiIndex.from_tuples([('第一期','lucy'),\n",
    "                                  ('第一期','tom'),\n",
    "                                  ('第一期','alex'),\n",
    "                                  ('第二期','lucy'),\n",
    "                                  ('第二期','tom'),\n",
    "                                  ('第二期','alex'),])\n",
    "index=list('ABC')\n",
    "data=np.random.randint(0,100,size=(3,6))\n",
    "pd.DataFrame(data=data,index=index,columns=tuples)"
   ]
  }
 ],
 "metadata": {
  "kernelspec": {
   "display_name": ".venv",
   "language": "python",
   "name": "python3"
  },
  "language_info": {
   "codemirror_mode": {
    "name": "ipython",
    "version": 3
   },
   "file_extension": ".py",
   "mimetype": "text/x-python",
   "name": "python",
   "nbconvert_exporter": "python",
   "pygments_lexer": "ipython3",
   "version": "3.11.2"
  }
 },
 "nbformat": 4,
 "nbformat_minor": 5
}
