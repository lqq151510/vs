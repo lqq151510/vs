{
 "cells": [
  {
   "cell_type": "code",
   "execution_count": 410,
   "id": "9008b20b",
   "metadata": {},
   "outputs": [],
   "source": [
    "import numpy as np\n",
    "import pandas as pd"
   ]
  },
  {
   "cell_type": "code",
   "execution_count": 411,
   "id": "b569817e",
   "metadata": {},
   "outputs": [
    {
     "data": {
      "text/html": [
       "<div>\n",
       "<style scoped>\n",
       "    .dataframe tbody tr th:only-of-type {\n",
       "        vertical-align: middle;\n",
       "    }\n",
       "\n",
       "    .dataframe tbody tr th {\n",
       "        vertical-align: top;\n",
       "    }\n",
       "\n",
       "    .dataframe thead th {\n",
       "        text-align: right;\n",
       "    }\n",
       "</style>\n",
       "<table border=\"1\" class=\"dataframe\">\n",
       "  <thead>\n",
       "    <tr style=\"text-align: right;\">\n",
       "      <th></th>\n",
       "      <th>A</th>\n",
       "      <th>B</th>\n",
       "      <th>C</th>\n",
       "      <th>D</th>\n",
       "    </tr>\n",
       "  </thead>\n",
       "  <tbody>\n",
       "    <tr>\n",
       "      <th>0</th>\n",
       "      <td>12</td>\n",
       "      <td>26</td>\n",
       "      <td>72</td>\n",
       "      <td>37</td>\n",
       "    </tr>\n",
       "    <tr>\n",
       "      <th>1</th>\n",
       "      <td>1</td>\n",
       "      <td>97</td>\n",
       "      <td>91</td>\n",
       "      <td>20</td>\n",
       "    </tr>\n",
       "    <tr>\n",
       "      <th>2</th>\n",
       "      <td>32</td>\n",
       "      <td>95</td>\n",
       "      <td>9</td>\n",
       "      <td>65</td>\n",
       "    </tr>\n",
       "    <tr>\n",
       "      <th>3</th>\n",
       "      <td>15</td>\n",
       "      <td>26</td>\n",
       "      <td>96</td>\n",
       "      <td>17</td>\n",
       "    </tr>\n",
       "    <tr>\n",
       "      <th>4</th>\n",
       "      <td>98</td>\n",
       "      <td>46</td>\n",
       "      <td>58</td>\n",
       "      <td>20</td>\n",
       "    </tr>\n",
       "  </tbody>\n",
       "</table>\n",
       "</div>"
      ],
      "text/plain": [
       "    A   B   C   D\n",
       "0  12  26  72  37\n",
       "1   1  97  91  20\n",
       "2  32  95   9  65\n",
       "3  15  26  96  17\n",
       "4  98  46  58  20"
      ]
     },
     "execution_count": 411,
     "metadata": {},
     "output_type": "execute_result"
    }
   ],
   "source": [
    "df=pd.DataFrame(data=np.random.randint(0,100,size=(5,4)),columns=list('ABCD'))\n",
    "df"
   ]
  },
  {
   "cell_type": "code",
   "execution_count": 412,
   "id": "9449171a",
   "metadata": {},
   "outputs": [],
   "source": [
    "condition=df>60"
   ]
  },
  {
   "cell_type": "code",
   "execution_count": 413,
   "id": "3623202d",
   "metadata": {},
   "outputs": [],
   "source": [
    "condition=df['A']>60"
   ]
  },
  {
   "cell_type": "code",
   "execution_count": 414,
   "id": "19ae72d6",
   "metadata": {},
   "outputs": [
    {
     "data": {
      "text/html": [
       "<div>\n",
       "<style scoped>\n",
       "    .dataframe tbody tr th:only-of-type {\n",
       "        vertical-align: middle;\n",
       "    }\n",
       "\n",
       "    .dataframe tbody tr th {\n",
       "        vertical-align: top;\n",
       "    }\n",
       "\n",
       "    .dataframe thead th {\n",
       "        text-align: right;\n",
       "    }\n",
       "</style>\n",
       "<table border=\"1\" class=\"dataframe\">\n",
       "  <thead>\n",
       "    <tr style=\"text-align: right;\">\n",
       "      <th></th>\n",
       "      <th>A</th>\n",
       "      <th>B</th>\n",
       "      <th>C</th>\n",
       "      <th>D</th>\n",
       "    </tr>\n",
       "  </thead>\n",
       "  <tbody>\n",
       "    <tr>\n",
       "      <th>0</th>\n",
       "      <td>不及格</td>\n",
       "      <td>不及格</td>\n",
       "      <td>72</td>\n",
       "      <td>不及格</td>\n",
       "    </tr>\n",
       "    <tr>\n",
       "      <th>1</th>\n",
       "      <td>不及格</td>\n",
       "      <td>97</td>\n",
       "      <td>91</td>\n",
       "      <td>不及格</td>\n",
       "    </tr>\n",
       "    <tr>\n",
       "      <th>2</th>\n",
       "      <td>不及格</td>\n",
       "      <td>95</td>\n",
       "      <td>不及格</td>\n",
       "      <td>65</td>\n",
       "    </tr>\n",
       "    <tr>\n",
       "      <th>3</th>\n",
       "      <td>不及格</td>\n",
       "      <td>不及格</td>\n",
       "      <td>96</td>\n",
       "      <td>不及格</td>\n",
       "    </tr>\n",
       "    <tr>\n",
       "      <th>4</th>\n",
       "      <td>98</td>\n",
       "      <td>不及格</td>\n",
       "      <td>不及格</td>\n",
       "      <td>不及格</td>\n",
       "    </tr>\n",
       "  </tbody>\n",
       "</table>\n",
       "</div>"
      ],
      "text/plain": [
       "     A    B    C    D\n",
       "0  不及格  不及格   72  不及格\n",
       "1  不及格   97   91  不及格\n",
       "2  不及格   95  不及格   65\n",
       "3  不及格  不及格   96  不及格\n",
       "4   98  不及格  不及格  不及格"
      ]
     },
     "execution_count": 414,
     "metadata": {},
     "output_type": "execute_result"
    }
   ],
   "source": [
    "df.where(cond=df>60,other='不及格')"
   ]
  },
  {
   "cell_type": "markdown",
   "id": "faee130a",
   "metadata": {},
   "source": [
    "### 代码 `df.where(cond=df>60,other='不及格')` 的解释\n",
    "\n",
    "1. `df.where` 方法用于根据条件筛选数据。\n",
    "2. 参数 `cond=df>60` 表示筛选条件：保留 `df` 中大于 60 的值。\n",
    "3. 参数 `other='不及格'` 表示如果条件不满足，则将对应的值替换为 `'不及格'`。\n",
    "\n",
    "总结：这段代码将 `df` 中大于 60 的值保留，小于或等于 60 的值替换为 `'不及格'`。"
   ]
  },
  {
   "cell_type": "code",
   "execution_count": 415,
   "id": "7bb0cf9e",
   "metadata": {},
   "outputs": [
    {
     "data": {
      "text/plain": [
       "0    False\n",
       "1    False\n",
       "2    False\n",
       "3    False\n",
       "4     True\n",
       "Name: A, dtype: bool"
      ]
     },
     "execution_count": 415,
     "metadata": {},
     "output_type": "execute_result"
    }
   ],
   "source": [
    "df['A']>60"
   ]
  },
  {
   "cell_type": "markdown",
   "id": "b70d0d2a",
   "metadata": {},
   "source": [
    "满足条件保留"
   ]
  },
  {
   "cell_type": "code",
   "execution_count": 416,
   "id": "bd497825",
   "metadata": {},
   "outputs": [
    {
     "data": {
      "text/html": [
       "<div>\n",
       "<style scoped>\n",
       "    .dataframe tbody tr th:only-of-type {\n",
       "        vertical-align: middle;\n",
       "    }\n",
       "\n",
       "    .dataframe tbody tr th {\n",
       "        vertical-align: top;\n",
       "    }\n",
       "\n",
       "    .dataframe thead th {\n",
       "        text-align: right;\n",
       "    }\n",
       "</style>\n",
       "<table border=\"1\" class=\"dataframe\">\n",
       "  <thead>\n",
       "    <tr style=\"text-align: right;\">\n",
       "      <th></th>\n",
       "      <th>A</th>\n",
       "      <th>B</th>\n",
       "      <th>C</th>\n",
       "      <th>D</th>\n",
       "    </tr>\n",
       "  </thead>\n",
       "  <tbody>\n",
       "    <tr>\n",
       "      <th>0</th>\n",
       "      <td>不及格</td>\n",
       "      <td>不及格</td>\n",
       "      <td>不及格</td>\n",
       "      <td>不及格</td>\n",
       "    </tr>\n",
       "    <tr>\n",
       "      <th>1</th>\n",
       "      <td>不及格</td>\n",
       "      <td>不及格</td>\n",
       "      <td>不及格</td>\n",
       "      <td>不及格</td>\n",
       "    </tr>\n",
       "    <tr>\n",
       "      <th>2</th>\n",
       "      <td>不及格</td>\n",
       "      <td>不及格</td>\n",
       "      <td>不及格</td>\n",
       "      <td>不及格</td>\n",
       "    </tr>\n",
       "    <tr>\n",
       "      <th>3</th>\n",
       "      <td>不及格</td>\n",
       "      <td>不及格</td>\n",
       "      <td>不及格</td>\n",
       "      <td>不及格</td>\n",
       "    </tr>\n",
       "    <tr>\n",
       "      <th>4</th>\n",
       "      <td>98</td>\n",
       "      <td>46</td>\n",
       "      <td>58</td>\n",
       "      <td>20</td>\n",
       "    </tr>\n",
       "  </tbody>\n",
       "</table>\n",
       "</div>"
      ],
      "text/plain": [
       "     A    B    C    D\n",
       "0  不及格  不及格  不及格  不及格\n",
       "1  不及格  不及格  不及格  不及格\n",
       "2  不及格  不及格  不及格  不及格\n",
       "3  不及格  不及格  不及格  不及格\n",
       "4   98   46   58   20"
      ]
     },
     "execution_count": 416,
     "metadata": {},
     "output_type": "execute_result"
    }
   ],
   "source": [
    "df.where(df['A']>60,other='不及格')"
   ]
  },
  {
   "cell_type": "code",
   "execution_count": 417,
   "id": "1eb2f5c9",
   "metadata": {},
   "outputs": [
    {
     "data": {
      "text/html": [
       "<div>\n",
       "<style scoped>\n",
       "    .dataframe tbody tr th:only-of-type {\n",
       "        vertical-align: middle;\n",
       "    }\n",
       "\n",
       "    .dataframe tbody tr th {\n",
       "        vertical-align: top;\n",
       "    }\n",
       "\n",
       "    .dataframe thead th {\n",
       "        text-align: right;\n",
       "    }\n",
       "</style>\n",
       "<table border=\"1\" class=\"dataframe\">\n",
       "  <thead>\n",
       "    <tr style=\"text-align: right;\">\n",
       "      <th></th>\n",
       "      <th>A</th>\n",
       "      <th>B</th>\n",
       "      <th>C</th>\n",
       "      <th>D</th>\n",
       "    </tr>\n",
       "  </thead>\n",
       "  <tbody>\n",
       "    <tr>\n",
       "      <th>0</th>\n",
       "      <td>100</td>\n",
       "      <td>200</td>\n",
       "      <td>72.0</td>\n",
       "      <td>NaN</td>\n",
       "    </tr>\n",
       "    <tr>\n",
       "      <th>1</th>\n",
       "      <td>100</td>\n",
       "      <td>97</td>\n",
       "      <td>91.0</td>\n",
       "      <td>NaN</td>\n",
       "    </tr>\n",
       "    <tr>\n",
       "      <th>2</th>\n",
       "      <td>100</td>\n",
       "      <td>95</td>\n",
       "      <td>NaN</td>\n",
       "      <td>65.0</td>\n",
       "    </tr>\n",
       "    <tr>\n",
       "      <th>3</th>\n",
       "      <td>100</td>\n",
       "      <td>200</td>\n",
       "      <td>96.0</td>\n",
       "      <td>NaN</td>\n",
       "    </tr>\n",
       "    <tr>\n",
       "      <th>4</th>\n",
       "      <td>98</td>\n",
       "      <td>200</td>\n",
       "      <td>NaN</td>\n",
       "      <td>NaN</td>\n",
       "    </tr>\n",
       "  </tbody>\n",
       "</table>\n",
       "</div>"
      ],
      "text/plain": [
       "     A    B     C     D\n",
       "0  100  200  72.0   NaN\n",
       "1  100   97  91.0   NaN\n",
       "2  100   95   NaN  65.0\n",
       "3  100  200  96.0   NaN\n",
       "4   98  200   NaN   NaN"
      ]
     },
     "execution_count": 417,
     "metadata": {},
     "output_type": "execute_result"
    }
   ],
   "source": [
    "df.where(cond=df>60,other=pd.Series(data=[100,200],index=['A','B']),axis=1)"
   ]
  },
  {
   "cell_type": "markdown",
   "id": "038199ad",
   "metadata": {},
   "source": [
    "### 代码 `df.where(cond=df>60,other=pd.Series(data=[100,200],index=['A','B']),axis=1)` 的解释\n",
    "\n",
    "1. `df.where` 方法用于根据条件筛选数据。\n",
    "2. 参数 `cond=df>60` 表示筛选条件：保留 `df` 中大于 60 的值。\n",
    "3. 参数 `other=pd.Series(data=[100,200],index=['A','B'])` 表示如果条件不满足，将替换为指定的值：\n",
    "   - 列 `'A'` 替换为 `100`。\n",
    "   - 列 `'B'` 替换为 `200`。\n",
    "4. 参数 `axis=1` 表示按列进行操作。\n",
    "\n",
    "总结：这段代码将 `df` 中大于 60 的值保留，而对于不满足条件的值，按列替换为指定的值（列 `'A'` 替换为 `100`，列 `'B'` 替换为 `200`）。"
   ]
  },
  {
   "cell_type": "markdown",
   "id": "72bcce42",
   "metadata": {},
   "source": [
    "不满足条件保留"
   ]
  },
  {
   "cell_type": "code",
   "execution_count": 418,
   "id": "2222e6f7",
   "metadata": {},
   "outputs": [
    {
     "data": {
      "text/html": [
       "<div>\n",
       "<style scoped>\n",
       "    .dataframe tbody tr th:only-of-type {\n",
       "        vertical-align: middle;\n",
       "    }\n",
       "\n",
       "    .dataframe tbody tr th {\n",
       "        vertical-align: top;\n",
       "    }\n",
       "\n",
       "    .dataframe thead th {\n",
       "        text-align: right;\n",
       "    }\n",
       "</style>\n",
       "<table border=\"1\" class=\"dataframe\">\n",
       "  <thead>\n",
       "    <tr style=\"text-align: right;\">\n",
       "      <th></th>\n",
       "      <th>A</th>\n",
       "      <th>B</th>\n",
       "      <th>C</th>\n",
       "      <th>D</th>\n",
       "    </tr>\n",
       "  </thead>\n",
       "  <tbody>\n",
       "    <tr>\n",
       "      <th>0</th>\n",
       "      <td>12</td>\n",
       "      <td>26</td>\n",
       "      <td>及格</td>\n",
       "      <td>37</td>\n",
       "    </tr>\n",
       "    <tr>\n",
       "      <th>1</th>\n",
       "      <td>1</td>\n",
       "      <td>及格</td>\n",
       "      <td>及格</td>\n",
       "      <td>20</td>\n",
       "    </tr>\n",
       "    <tr>\n",
       "      <th>2</th>\n",
       "      <td>32</td>\n",
       "      <td>及格</td>\n",
       "      <td>9</td>\n",
       "      <td>及格</td>\n",
       "    </tr>\n",
       "    <tr>\n",
       "      <th>3</th>\n",
       "      <td>15</td>\n",
       "      <td>26</td>\n",
       "      <td>及格</td>\n",
       "      <td>17</td>\n",
       "    </tr>\n",
       "    <tr>\n",
       "      <th>4</th>\n",
       "      <td>及格</td>\n",
       "      <td>46</td>\n",
       "      <td>58</td>\n",
       "      <td>20</td>\n",
       "    </tr>\n",
       "  </tbody>\n",
       "</table>\n",
       "</div>"
      ],
      "text/plain": [
       "    A   B   C   D\n",
       "0  12  26  及格  37\n",
       "1   1  及格  及格  20\n",
       "2  32  及格   9  及格\n",
       "3  15  26  及格  17\n",
       "4  及格  46  58  20"
      ]
     },
     "execution_count": 418,
     "metadata": {},
     "output_type": "execute_result"
    }
   ],
   "source": [
    "df.mask(df>60,other='及格')"
   ]
  },
  {
   "cell_type": "code",
   "execution_count": 419,
   "id": "46c0b0a7",
   "metadata": {},
   "outputs": [
    {
     "data": {
      "text/html": [
       "<div>\n",
       "<style scoped>\n",
       "    .dataframe tbody tr th:only-of-type {\n",
       "        vertical-align: middle;\n",
       "    }\n",
       "\n",
       "    .dataframe tbody tr th {\n",
       "        vertical-align: top;\n",
       "    }\n",
       "\n",
       "    .dataframe thead th {\n",
       "        text-align: right;\n",
       "    }\n",
       "</style>\n",
       "<table border=\"1\" class=\"dataframe\">\n",
       "  <thead>\n",
       "    <tr style=\"text-align: right;\">\n",
       "      <th></th>\n",
       "      <th>A</th>\n",
       "      <th>B</th>\n",
       "      <th>C</th>\n",
       "      <th>D</th>\n",
       "    </tr>\n",
       "  </thead>\n",
       "  <tbody>\n",
       "    <tr>\n",
       "      <th>0</th>\n",
       "      <td>12</td>\n",
       "      <td>26</td>\n",
       "      <td>NaN</td>\n",
       "      <td>37.0</td>\n",
       "    </tr>\n",
       "    <tr>\n",
       "      <th>1</th>\n",
       "      <td>1</td>\n",
       "      <td>200</td>\n",
       "      <td>NaN</td>\n",
       "      <td>20.0</td>\n",
       "    </tr>\n",
       "    <tr>\n",
       "      <th>2</th>\n",
       "      <td>32</td>\n",
       "      <td>200</td>\n",
       "      <td>9.0</td>\n",
       "      <td>NaN</td>\n",
       "    </tr>\n",
       "    <tr>\n",
       "      <th>3</th>\n",
       "      <td>15</td>\n",
       "      <td>26</td>\n",
       "      <td>NaN</td>\n",
       "      <td>17.0</td>\n",
       "    </tr>\n",
       "    <tr>\n",
       "      <th>4</th>\n",
       "      <td>100</td>\n",
       "      <td>46</td>\n",
       "      <td>58.0</td>\n",
       "      <td>20.0</td>\n",
       "    </tr>\n",
       "  </tbody>\n",
       "</table>\n",
       "</div>"
      ],
      "text/plain": [
       "     A    B     C     D\n",
       "0   12   26   NaN  37.0\n",
       "1    1  200   NaN  20.0\n",
       "2   32  200   9.0   NaN\n",
       "3   15   26   NaN  17.0\n",
       "4  100   46  58.0  20.0"
      ]
     },
     "execution_count": 419,
     "metadata": {},
     "output_type": "execute_result"
    }
   ],
   "source": [
    "df.mask(df>60,other=pd.Series(data=[100,200],index=['A','B']),axis=1)"
   ]
  },
  {
   "cell_type": "code",
   "execution_count": 420,
   "id": "52931795",
   "metadata": {},
   "outputs": [
    {
     "data": {
      "text/html": [
       "<div>\n",
       "<style scoped>\n",
       "    .dataframe tbody tr th:only-of-type {\n",
       "        vertical-align: middle;\n",
       "    }\n",
       "\n",
       "    .dataframe tbody tr th {\n",
       "        vertical-align: top;\n",
       "    }\n",
       "\n",
       "    .dataframe thead th {\n",
       "        text-align: right;\n",
       "    }\n",
       "</style>\n",
       "<table border=\"1\" class=\"dataframe\">\n",
       "  <thead>\n",
       "    <tr style=\"text-align: right;\">\n",
       "      <th></th>\n",
       "      <th>A</th>\n",
       "      <th>B</th>\n",
       "      <th>C</th>\n",
       "      <th>D</th>\n",
       "    </tr>\n",
       "  </thead>\n",
       "  <tbody>\n",
       "  </tbody>\n",
       "</table>\n",
       "</div>"
      ],
      "text/plain": [
       "Empty DataFrame\n",
       "Columns: [A, B, C, D]\n",
       "Index: []"
      ]
     },
     "execution_count": 420,
     "metadata": {},
     "output_type": "execute_result"
    }
   ],
   "source": [
    "df.query('A > 60 and B >60')"
   ]
  },
  {
   "cell_type": "markdown",
   "id": "6819909b",
   "metadata": {},
   "source": [
    "### 代码 `df.query('A > 60 and B >60')` 的解释\n",
    "\n",
    "1. `df.query` 方法用于根据表达式筛选 DataFrame 中的行。\n",
    "2. 表达式 `'A > 60 and B >60'` 表示筛选条件：\n",
    "   - 列 `'A'` 的值大于 60。\n",
    "   - 列 `'B'` 的值大于 60。\n",
    "   - 两个条件同时满足（逻辑与）。\n",
    "\n",
    "总结：这段代码筛选出 `df` 中列 `'A'` 和列 `'B'` 的值均大于 60 的行。"
   ]
  },
  {
   "cell_type": "code",
   "execution_count": 421,
   "id": "86486b46",
   "metadata": {},
   "outputs": [
    {
     "data": {
      "text/html": [
       "<div>\n",
       "<style scoped>\n",
       "    .dataframe tbody tr th:only-of-type {\n",
       "        vertical-align: middle;\n",
       "    }\n",
       "\n",
       "    .dataframe tbody tr th {\n",
       "        vertical-align: top;\n",
       "    }\n",
       "\n",
       "    .dataframe thead th {\n",
       "        text-align: right;\n",
       "    }\n",
       "</style>\n",
       "<table border=\"1\" class=\"dataframe\">\n",
       "  <thead>\n",
       "    <tr style=\"text-align: right;\">\n",
       "      <th></th>\n",
       "      <th>AA</th>\n",
       "      <th>BB</th>\n",
       "      <th>CB</th>\n",
       "      <th>DB</th>\n",
       "    </tr>\n",
       "  </thead>\n",
       "  <tbody>\n",
       "    <tr>\n",
       "      <th>0</th>\n",
       "      <td>12</td>\n",
       "      <td>26</td>\n",
       "      <td>72</td>\n",
       "      <td>37</td>\n",
       "    </tr>\n",
       "    <tr>\n",
       "      <th>1</th>\n",
       "      <td>1</td>\n",
       "      <td>97</td>\n",
       "      <td>91</td>\n",
       "      <td>20</td>\n",
       "    </tr>\n",
       "    <tr>\n",
       "      <th>2</th>\n",
       "      <td>32</td>\n",
       "      <td>95</td>\n",
       "      <td>9</td>\n",
       "      <td>65</td>\n",
       "    </tr>\n",
       "    <tr>\n",
       "      <th>3</th>\n",
       "      <td>15</td>\n",
       "      <td>26</td>\n",
       "      <td>96</td>\n",
       "      <td>17</td>\n",
       "    </tr>\n",
       "    <tr>\n",
       "      <th>4</th>\n",
       "      <td>98</td>\n",
       "      <td>46</td>\n",
       "      <td>58</td>\n",
       "      <td>20</td>\n",
       "    </tr>\n",
       "  </tbody>\n",
       "</table>\n",
       "</div>"
      ],
      "text/plain": [
       "   AA  BB  CB  DB\n",
       "0  12  26  72  37\n",
       "1   1  97  91  20\n",
       "2  32  95   9  65\n",
       "3  15  26  96  17\n",
       "4  98  46  58  20"
      ]
     },
     "execution_count": 421,
     "metadata": {},
     "output_type": "execute_result"
    }
   ],
   "source": [
    "df.columns=['AA','BB','CB','DB']\n",
    "df"
   ]
  },
  {
   "cell_type": "code",
   "execution_count": 422,
   "id": "00e3db07",
   "metadata": {},
   "outputs": [
    {
     "data": {
      "text/html": [
       "<div>\n",
       "<style scoped>\n",
       "    .dataframe tbody tr th:only-of-type {\n",
       "        vertical-align: middle;\n",
       "    }\n",
       "\n",
       "    .dataframe tbody tr th {\n",
       "        vertical-align: top;\n",
       "    }\n",
       "\n",
       "    .dataframe thead th {\n",
       "        text-align: right;\n",
       "    }\n",
       "</style>\n",
       "<table border=\"1\" class=\"dataframe\">\n",
       "  <thead>\n",
       "    <tr style=\"text-align: right;\">\n",
       "      <th></th>\n",
       "      <th>AA</th>\n",
       "      <th>BB</th>\n",
       "      <th>CB</th>\n",
       "      <th>DB</th>\n",
       "    </tr>\n",
       "  </thead>\n",
       "  <tbody>\n",
       "    <tr>\n",
       "      <th>0</th>\n",
       "      <td>12</td>\n",
       "      <td>26</td>\n",
       "      <td>72</td>\n",
       "      <td>37</td>\n",
       "    </tr>\n",
       "    <tr>\n",
       "      <th>1</th>\n",
       "      <td>1</td>\n",
       "      <td>97</td>\n",
       "      <td>91</td>\n",
       "      <td>20</td>\n",
       "    </tr>\n",
       "  </tbody>\n",
       "</table>\n",
       "</div>"
      ],
      "text/plain": [
       "   AA  BB  CB  DB\n",
       "0  12  26  72  37\n",
       "1   1  97  91  20"
      ]
     },
     "execution_count": 422,
     "metadata": {},
     "output_type": "execute_result"
    }
   ],
   "source": [
    "df.filter(items=[0,1],axis=0)"
   ]
  },
  {
   "cell_type": "markdown",
   "id": "091ef199",
   "metadata": {},
   "source": [
    "### 代码 `df.filter(items=[0,1],axis=0)` 的解释\n",
    "\n",
    "1. `df.filter` 方法用于根据指定的条件筛选 DataFrame 的行或列。\n",
    "2. 参数 `items=[0,1]` 表示要筛选的索引值，这里是行索引 `0` 和 `1`。\n",
    "3. 参数 `axis=0` 表示按行进行筛选。\n",
    "\n",
    "总结：这段代码筛选出 `df` 中行索引为 `0` 和 `1` 的行。"
   ]
  },
  {
   "cell_type": "code",
   "execution_count": 423,
   "id": "41a9d90b",
   "metadata": {},
   "outputs": [
    {
     "data": {
      "text/html": [
       "<div>\n",
       "<style scoped>\n",
       "    .dataframe tbody tr th:only-of-type {\n",
       "        vertical-align: middle;\n",
       "    }\n",
       "\n",
       "    .dataframe tbody tr th {\n",
       "        vertical-align: top;\n",
       "    }\n",
       "\n",
       "    .dataframe thead th {\n",
       "        text-align: right;\n",
       "    }\n",
       "</style>\n",
       "<table border=\"1\" class=\"dataframe\">\n",
       "  <thead>\n",
       "    <tr style=\"text-align: right;\">\n",
       "      <th></th>\n",
       "      <th>BB</th>\n",
       "      <th>CB</th>\n",
       "      <th>DB</th>\n",
       "    </tr>\n",
       "  </thead>\n",
       "  <tbody>\n",
       "    <tr>\n",
       "      <th>0</th>\n",
       "      <td>26</td>\n",
       "      <td>72</td>\n",
       "      <td>37</td>\n",
       "    </tr>\n",
       "    <tr>\n",
       "      <th>1</th>\n",
       "      <td>97</td>\n",
       "      <td>91</td>\n",
       "      <td>20</td>\n",
       "    </tr>\n",
       "    <tr>\n",
       "      <th>2</th>\n",
       "      <td>95</td>\n",
       "      <td>9</td>\n",
       "      <td>65</td>\n",
       "    </tr>\n",
       "    <tr>\n",
       "      <th>3</th>\n",
       "      <td>26</td>\n",
       "      <td>96</td>\n",
       "      <td>17</td>\n",
       "    </tr>\n",
       "    <tr>\n",
       "      <th>4</th>\n",
       "      <td>46</td>\n",
       "      <td>58</td>\n",
       "      <td>20</td>\n",
       "    </tr>\n",
       "  </tbody>\n",
       "</table>\n",
       "</div>"
      ],
      "text/plain": [
       "   BB  CB  DB\n",
       "0  26  72  37\n",
       "1  97  91  20\n",
       "2  95   9  65\n",
       "3  26  96  17\n",
       "4  46  58  20"
      ]
     },
     "execution_count": 423,
     "metadata": {},
     "output_type": "execute_result"
    }
   ],
   "source": [
    "df.filter(regex='B',axis=1)"
   ]
  },
  {
   "cell_type": "markdown",
   "id": "fa2242b2",
   "metadata": {},
   "source": [
    "### 代码 `df.filter(regex='B',axis=1)` 的解释\n",
    "\n",
    "1. `df.filter` 方法用于根据指定条件筛选 DataFrame 的行或列。\n",
    "2. 参数 `regex='B'` 表示使用正则表达式匹配列名中包含 `'B'` 的列。\n",
    "3. 参数 `axis=1` 表示按列进行筛选。\n",
    "\n",
    "总结：这段代码筛选出 `df` 中列名包含 `'B'` 的所有列。"
   ]
  },
  {
   "cell_type": "code",
   "execution_count": 424,
   "id": "f70989b3",
   "metadata": {},
   "outputs": [],
   "source": [
    "arr1=df.values"
   ]
  },
  {
   "cell_type": "code",
   "execution_count": 425,
   "id": "24f8d29e",
   "metadata": {},
   "outputs": [
    {
     "data": {
      "text/plain": [
       "933"
      ]
     },
     "execution_count": 425,
     "metadata": {},
     "output_type": "execute_result"
    }
   ],
   "source": [
    "arr1.sum()"
   ]
  },
  {
   "cell_type": "code",
   "execution_count": 426,
   "id": "50c46464",
   "metadata": {},
   "outputs": [
    {
     "data": {
      "text/plain": [
       "array([31.6, 58. , 65.2, 31.8])"
      ]
     },
     "execution_count": 426,
     "metadata": {},
     "output_type": "execute_result"
    }
   ],
   "source": [
    "arr1.mean(axis=0)"
   ]
  },
  {
   "cell_type": "markdown",
   "id": "b92d8a1b",
   "metadata": {},
   "source": [
    "### 代码 `arr1.mean()` 的解释\n",
    "\n",
    "1. `arr1` 是一个 NumPy 数组，存储了 DataFrame 的所有值。\n",
    "2. `mean()` 方法用于计算数组中所有元素的平均值。\n",
    "\n",
    "总结：这段代码计算并返回 `arr1` 数组中所有元素的平均值。"
   ]
  },
  {
   "cell_type": "code",
   "execution_count": 427,
   "id": "a7bbb137",
   "metadata": {},
   "outputs": [
    {
     "data": {
      "text/plain": [
       "array([[12., 26., 72., 37.],\n",
       "       [ 1., 97., 91., 20.],\n",
       "       [32., 95.,  9., 65.],\n",
       "       [15., 26., 96., 17.],\n",
       "       [98., 46., 58., 20.]], dtype=float32)"
      ]
     },
     "execution_count": 427,
     "metadata": {},
     "output_type": "execute_result"
    }
   ],
   "source": [
    "arr1.astype(np.float32)"
   ]
  },
  {
   "cell_type": "code",
   "execution_count": 428,
   "id": "fcc94922",
   "metadata": {},
   "outputs": [],
   "source": [
    "arr1 = arr1.astype(np.float64)  # Convert arr1 to a float array\n",
    "arr1[1, 1] = np.nan"
   ]
  },
  {
   "cell_type": "code",
   "execution_count": 429,
   "id": "38067719",
   "metadata": {},
   "outputs": [
    {
     "data": {
      "text/plain": [
       "array([[12., 26., 72., 37.],\n",
       "       [ 1., nan, 91., 20.],\n",
       "       [32., 95.,  9., 65.],\n",
       "       [15., 26., 96., 17.],\n",
       "       [98., 46., 58., 20.]])"
      ]
     },
     "execution_count": 429,
     "metadata": {},
     "output_type": "execute_result"
    }
   ],
   "source": [
    "arr1"
   ]
  },
  {
   "cell_type": "code",
   "execution_count": 430,
   "id": "24077465",
   "metadata": {},
   "outputs": [
    {
     "data": {
      "text/plain": [
       "nan"
      ]
     },
     "execution_count": 430,
     "metadata": {},
     "output_type": "execute_result"
    }
   ],
   "source": [
    "arr1.sum()"
   ]
  },
  {
   "cell_type": "code",
   "execution_count": 431,
   "id": "1ff73164",
   "metadata": {},
   "outputs": [
    {
     "data": {
      "text/plain": [
       "836.0"
      ]
     },
     "execution_count": 431,
     "metadata": {},
     "output_type": "execute_result"
    }
   ],
   "source": [
    "np.nansum(arr1)"
   ]
  },
  {
   "cell_type": "code",
   "execution_count": 432,
   "id": "d4f15904",
   "metadata": {},
   "outputs": [],
   "source": [
    "import numpy as np  # Ensure numpy is imported\n",
    "\n",
    "df.loc[1, 'BB'] = np.nan"
   ]
  },
  {
   "cell_type": "markdown",
   "id": "b98e1985",
   "metadata": {},
   "source": [
    "### 代码 `df.loc[1, 'BB'] = np.nan` 的解释\n",
    "\n",
    "1. `df.loc[1, 'BB']` 使用 `.loc` 方法定位 DataFrame 中第 1 行（索引为 `1`）和列 `'BB'` 的单元格。\n",
    "2. `np.nan` 是 NumPy 中表示缺失值（NaN）的常量。\n",
    "3. 这段代码将第 1 行列 `'BB'` 的值设置为缺失值（NaN）。\n",
    "\n",
    "总结：这段代码在 DataFrame 中引入了一个缺失值，用于表示数据的空缺或不可用。"
   ]
  },
  {
   "cell_type": "code",
   "execution_count": null,
   "id": "0d911ff9",
   "metadata": {},
   "outputs": [],
   "source": []
  }
 ],
 "metadata": {
  "kernelspec": {
   "display_name": ".venv",
   "language": "python",
   "name": "python3"
  },
  "language_info": {
   "codemirror_mode": {
    "name": "ipython",
    "version": 3
   },
   "file_extension": ".py",
   "mimetype": "text/x-python",
   "name": "python",
   "nbconvert_exporter": "python",
   "pygments_lexer": "ipython3",
   "version": "3.11.2"
  }
 },
 "nbformat": 4,
 "nbformat_minor": 5
}
