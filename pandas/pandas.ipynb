{
 "cells": [
  {
   "cell_type": "code",
   "execution_count": 67,
   "id": "30fc1cc5",
   "metadata": {},
   "outputs": [],
   "source": [
    "import pandas as pd\n",
    "import numpy as np"
   ]
  },
  {
   "cell_type": "markdown",
   "id": "4da2647c",
   "metadata": {},
   "source": [
    "Series"
   ]
  },
  {
   "cell_type": "code",
   "execution_count": 68,
   "id": "31febf5b",
   "metadata": {},
   "outputs": [],
   "source": [
    "#pd.Series(data=None,index=None,dtype=None)\n",
    "#data数据\n",
    "#index索引\n",
    "#dtype数据类型"
   ]
  },
  {
   "cell_type": "code",
   "execution_count": 69,
   "id": "01eb245c",
   "metadata": {},
   "outputs": [
    {
     "data": {
      "text/plain": [
       "0    0\n",
       "1    1\n",
       "2    2\n",
       "3    3\n",
       "4    4\n",
       "5    5\n",
       "6    6\n",
       "7    7\n",
       "8    8\n",
       "dtype: int64"
      ]
     },
     "execution_count": 69,
     "metadata": {},
     "output_type": "execute_result"
    }
   ],
   "source": [
    "pd.Series(np.arange(9))"
   ]
  },
  {
   "cell_type": "code",
   "execution_count": 70,
   "id": "99f8e62a",
   "metadata": {},
   "outputs": [
    {
     "data": {
      "text/plain": [
       "a    1\n",
       "b    2\n",
       "c    3\n",
       "d    4\n",
       "e    5\n",
       "dtype: int64"
      ]
     },
     "execution_count": 70,
     "metadata": {},
     "output_type": "execute_result"
    }
   ],
   "source": [
    "pd.Series(data=[1,2,3,4,5],index=['a','b','c','d','e'])"
   ]
  },
  {
   "cell_type": "code",
   "execution_count": 71,
   "id": "2d099d9a",
   "metadata": {},
   "outputs": [
    {
     "data": {
      "text/plain": [
       "red      10\n",
       "green    20\n",
       "biue     30\n",
       "dtype: int64"
      ]
     },
     "execution_count": 71,
     "metadata": {},
     "output_type": "execute_result"
    }
   ],
   "source": [
    "color_a=pd.Series({'red':10,'green':20,'biue':30})\n",
    "color_a"
   ]
  },
  {
   "cell_type": "markdown",
   "id": "55c2a51e",
   "metadata": {},
   "source": [
    "Series属性"
   ]
  },
  {
   "cell_type": "code",
   "execution_count": 72,
   "id": "4d1b86f4",
   "metadata": {},
   "outputs": [
    {
     "data": {
      "text/plain": [
       "Index(['red', 'green', 'biue'], dtype='object')"
      ]
     },
     "execution_count": 72,
     "metadata": {},
     "output_type": "execute_result"
    }
   ],
   "source": [
    "color_a.index"
   ]
  },
  {
   "cell_type": "code",
   "execution_count": 73,
   "id": "729adff2",
   "metadata": {},
   "outputs": [
    {
     "data": {
      "text/plain": [
       "array([10, 20, 30])"
      ]
     },
     "execution_count": 73,
     "metadata": {},
     "output_type": "execute_result"
    }
   ],
   "source": [
    "color_a.values"
   ]
  },
  {
   "cell_type": "code",
   "execution_count": 74,
   "id": "7b9038e5",
   "metadata": {},
   "outputs": [
    {
     "name": "stderr",
     "output_type": "stream",
     "text": [
      "/tmp/ipykernel_1834/3888620981.py:1: FutureWarning: Series.__getitem__ treating keys as positions is deprecated. In a future version, integer keys will always be treated as labels (consistent with DataFrame behavior). To access a value by position, use `ser.iloc[pos]`\n",
      "  color_a[1]\n"
     ]
    },
    {
     "data": {
      "text/plain": [
       "20"
      ]
     },
     "execution_count": 74,
     "metadata": {},
     "output_type": "execute_result"
    }
   ],
   "source": [
    "color_a[1]"
   ]
  },
  {
   "cell_type": "markdown",
   "id": "7b5197e8",
   "metadata": {},
   "source": [
    "DataFrame"
   ]
  },
  {
   "cell_type": "code",
   "execution_count": 75,
   "id": "e572f138",
   "metadata": {},
   "outputs": [
    {
     "data": {
      "text/html": [
       "<div>\n",
       "<style scoped>\n",
       "    .dataframe tbody tr th:only-of-type {\n",
       "        vertical-align: middle;\n",
       "    }\n",
       "\n",
       "    .dataframe tbody tr th {\n",
       "        vertical-align: top;\n",
       "    }\n",
       "\n",
       "    .dataframe thead th {\n",
       "        text-align: right;\n",
       "    }\n",
       "</style>\n",
       "<table border=\"1\" class=\"dataframe\">\n",
       "  <thead>\n",
       "    <tr style=\"text-align: right;\">\n",
       "      <th></th>\n",
       "    </tr>\n",
       "  </thead>\n",
       "  <tbody>\n",
       "  </tbody>\n",
       "</table>\n",
       "</div>"
      ],
      "text/plain": [
       "Empty DataFrame\n",
       "Columns: []\n",
       "Index: []"
      ]
     },
     "execution_count": 75,
     "metadata": {},
     "output_type": "execute_result"
    }
   ],
   "source": [
    "pd.DataFrame(data=None,index=None,columns=None)\n",
    "#index行索引\n",
    "#columns列索引"
   ]
  },
  {
   "cell_type": "code",
   "execution_count": 76,
   "id": "90edc85b",
   "metadata": {},
   "outputs": [
    {
     "data": {
      "text/plain": [
       "array([[94, 86, 68, 53, 71],\n",
       "       [72, 70, 88, 91, 55],\n",
       "       [93, 92, 60, 96, 50],\n",
       "       [98, 76, 98, 65, 48],\n",
       "       [47, 99, 52, 74, 54],\n",
       "       [98, 71, 50, 82, 63],\n",
       "       [85, 94, 82, 44, 99],\n",
       "       [72, 45, 81, 75, 49],\n",
       "       [41, 47, 65, 43, 52],\n",
       "       [81, 50, 76, 88, 61]])"
      ]
     },
     "execution_count": 76,
     "metadata": {},
     "output_type": "execute_result"
    }
   ],
   "source": [
    "score=np.random.randint(40,100,(10,5))\n",
    "score"
   ]
  },
  {
   "cell_type": "code",
   "execution_count": 77,
   "id": "3ebd6bb2",
   "metadata": {},
   "outputs": [
    {
     "data": {
      "text/html": [
       "<div>\n",
       "<style scoped>\n",
       "    .dataframe tbody tr th:only-of-type {\n",
       "        vertical-align: middle;\n",
       "    }\n",
       "\n",
       "    .dataframe tbody tr th {\n",
       "        vertical-align: top;\n",
       "    }\n",
       "\n",
       "    .dataframe thead th {\n",
       "        text-align: right;\n",
       "    }\n",
       "</style>\n",
       "<table border=\"1\" class=\"dataframe\">\n",
       "  <thead>\n",
       "    <tr style=\"text-align: right;\">\n",
       "      <th></th>\n",
       "      <th>0</th>\n",
       "      <th>1</th>\n",
       "      <th>2</th>\n",
       "      <th>3</th>\n",
       "      <th>4</th>\n",
       "    </tr>\n",
       "  </thead>\n",
       "  <tbody>\n",
       "    <tr>\n",
       "      <th>0</th>\n",
       "      <td>94</td>\n",
       "      <td>86</td>\n",
       "      <td>68</td>\n",
       "      <td>53</td>\n",
       "      <td>71</td>\n",
       "    </tr>\n",
       "    <tr>\n",
       "      <th>1</th>\n",
       "      <td>72</td>\n",
       "      <td>70</td>\n",
       "      <td>88</td>\n",
       "      <td>91</td>\n",
       "      <td>55</td>\n",
       "    </tr>\n",
       "    <tr>\n",
       "      <th>2</th>\n",
       "      <td>93</td>\n",
       "      <td>92</td>\n",
       "      <td>60</td>\n",
       "      <td>96</td>\n",
       "      <td>50</td>\n",
       "    </tr>\n",
       "    <tr>\n",
       "      <th>3</th>\n",
       "      <td>98</td>\n",
       "      <td>76</td>\n",
       "      <td>98</td>\n",
       "      <td>65</td>\n",
       "      <td>48</td>\n",
       "    </tr>\n",
       "    <tr>\n",
       "      <th>4</th>\n",
       "      <td>47</td>\n",
       "      <td>99</td>\n",
       "      <td>52</td>\n",
       "      <td>74</td>\n",
       "      <td>54</td>\n",
       "    </tr>\n",
       "    <tr>\n",
       "      <th>5</th>\n",
       "      <td>98</td>\n",
       "      <td>71</td>\n",
       "      <td>50</td>\n",
       "      <td>82</td>\n",
       "      <td>63</td>\n",
       "    </tr>\n",
       "    <tr>\n",
       "      <th>6</th>\n",
       "      <td>85</td>\n",
       "      <td>94</td>\n",
       "      <td>82</td>\n",
       "      <td>44</td>\n",
       "      <td>99</td>\n",
       "    </tr>\n",
       "    <tr>\n",
       "      <th>7</th>\n",
       "      <td>72</td>\n",
       "      <td>45</td>\n",
       "      <td>81</td>\n",
       "      <td>75</td>\n",
       "      <td>49</td>\n",
       "    </tr>\n",
       "    <tr>\n",
       "      <th>8</th>\n",
       "      <td>41</td>\n",
       "      <td>47</td>\n",
       "      <td>65</td>\n",
       "      <td>43</td>\n",
       "      <td>52</td>\n",
       "    </tr>\n",
       "    <tr>\n",
       "      <th>9</th>\n",
       "      <td>81</td>\n",
       "      <td>50</td>\n",
       "      <td>76</td>\n",
       "      <td>88</td>\n",
       "      <td>61</td>\n",
       "    </tr>\n",
       "  </tbody>\n",
       "</table>\n",
       "</div>"
      ],
      "text/plain": [
       "    0   1   2   3   4\n",
       "0  94  86  68  53  71\n",
       "1  72  70  88  91  55\n",
       "2  93  92  60  96  50\n",
       "3  98  76  98  65  48\n",
       "4  47  99  52  74  54\n",
       "5  98  71  50  82  63\n",
       "6  85  94  82  44  99\n",
       "7  72  45  81  75  49\n",
       "8  41  47  65  43  52\n",
       "9  81  50  76  88  61"
      ]
     },
     "execution_count": 77,
     "metadata": {},
     "output_type": "execute_result"
    }
   ],
   "source": [
    "score_df=pd.DataFrame(score)\n",
    "score_df"
   ]
  },
  {
   "cell_type": "code",
   "execution_count": 78,
   "id": "684b0d2a",
   "metadata": {},
   "outputs": [
    {
     "data": {
      "text/plain": [
       "(10, 5)"
      ]
     },
     "execution_count": 78,
     "metadata": {},
     "output_type": "execute_result"
    }
   ],
   "source": [
    "score_df.shape"
   ]
  },
  {
   "cell_type": "code",
   "execution_count": 79,
   "id": "4dbd4c11",
   "metadata": {},
   "outputs": [
    {
     "data": {
      "text/html": [
       "<div>\n",
       "<style scoped>\n",
       "    .dataframe tbody tr th:only-of-type {\n",
       "        vertical-align: middle;\n",
       "    }\n",
       "\n",
       "    .dataframe tbody tr th {\n",
       "        vertical-align: top;\n",
       "    }\n",
       "\n",
       "    .dataframe thead th {\n",
       "        text-align: right;\n",
       "    }\n",
       "</style>\n",
       "<table border=\"1\" class=\"dataframe\">\n",
       "  <thead>\n",
       "    <tr style=\"text-align: right;\">\n",
       "      <th></th>\n",
       "      <th>语文</th>\n",
       "      <th>数学</th>\n",
       "      <th>英语</th>\n",
       "      <th>政治</th>\n",
       "      <th>体育</th>\n",
       "    </tr>\n",
       "  </thead>\n",
       "  <tbody>\n",
       "    <tr>\n",
       "      <th>同学0</th>\n",
       "      <td>94</td>\n",
       "      <td>86</td>\n",
       "      <td>68</td>\n",
       "      <td>53</td>\n",
       "      <td>71</td>\n",
       "    </tr>\n",
       "    <tr>\n",
       "      <th>同学1</th>\n",
       "      <td>72</td>\n",
       "      <td>70</td>\n",
       "      <td>88</td>\n",
       "      <td>91</td>\n",
       "      <td>55</td>\n",
       "    </tr>\n",
       "    <tr>\n",
       "      <th>同学2</th>\n",
       "      <td>93</td>\n",
       "      <td>92</td>\n",
       "      <td>60</td>\n",
       "      <td>96</td>\n",
       "      <td>50</td>\n",
       "    </tr>\n",
       "    <tr>\n",
       "      <th>同学3</th>\n",
       "      <td>98</td>\n",
       "      <td>76</td>\n",
       "      <td>98</td>\n",
       "      <td>65</td>\n",
       "      <td>48</td>\n",
       "    </tr>\n",
       "    <tr>\n",
       "      <th>同学4</th>\n",
       "      <td>47</td>\n",
       "      <td>99</td>\n",
       "      <td>52</td>\n",
       "      <td>74</td>\n",
       "      <td>54</td>\n",
       "    </tr>\n",
       "    <tr>\n",
       "      <th>同学5</th>\n",
       "      <td>98</td>\n",
       "      <td>71</td>\n",
       "      <td>50</td>\n",
       "      <td>82</td>\n",
       "      <td>63</td>\n",
       "    </tr>\n",
       "    <tr>\n",
       "      <th>同学6</th>\n",
       "      <td>85</td>\n",
       "      <td>94</td>\n",
       "      <td>82</td>\n",
       "      <td>44</td>\n",
       "      <td>99</td>\n",
       "    </tr>\n",
       "    <tr>\n",
       "      <th>同学7</th>\n",
       "      <td>72</td>\n",
       "      <td>45</td>\n",
       "      <td>81</td>\n",
       "      <td>75</td>\n",
       "      <td>49</td>\n",
       "    </tr>\n",
       "    <tr>\n",
       "      <th>同学8</th>\n",
       "      <td>41</td>\n",
       "      <td>47</td>\n",
       "      <td>65</td>\n",
       "      <td>43</td>\n",
       "      <td>52</td>\n",
       "    </tr>\n",
       "    <tr>\n",
       "      <th>同学9</th>\n",
       "      <td>81</td>\n",
       "      <td>50</td>\n",
       "      <td>76</td>\n",
       "      <td>88</td>\n",
       "      <td>61</td>\n",
       "    </tr>\n",
       "  </tbody>\n",
       "</table>\n",
       "</div>"
      ],
      "text/plain": [
       "     语文  数学  英语  政治  体育\n",
       "同学0  94  86  68  53  71\n",
       "同学1  72  70  88  91  55\n",
       "同学2  93  92  60  96  50\n",
       "同学3  98  76  98  65  48\n",
       "同学4  47  99  52  74  54\n",
       "同学5  98  71  50  82  63\n",
       "同学6  85  94  82  44  99\n",
       "同学7  72  45  81  75  49\n",
       "同学8  41  47  65  43  52\n",
       "同学9  81  50  76  88  61"
      ]
     },
     "execution_count": 79,
     "metadata": {},
     "output_type": "execute_result"
    }
   ],
   "source": [
    "subject=['语文','数学','英语','政治','体育']\n",
    "stu=['同学'+str(i)for i in range(score_df.shape[0])]\n",
    "data=pd.DataFrame(score,columns=subject,index=stu)\n",
    "data"
   ]
  },
  {
   "cell_type": "markdown",
   "id": "f60ff914",
   "metadata": {},
   "source": [
    "`stu=['同学'+str(i)for i in range(score_df.shape[0])]` 创建了一个包含学生名称的列表。\n",
    "列表中的每个元素是字符串 `'同学'` 加上从 0 到 `score_df.shape[0]-1` 的索引值。\n",
    "例如，如果 `score_df` 有 10 行，则生成的列表为 `['同学0', '同学1', ..., '同学9']`。\n",
    "这通常用于为数据框的行创建自定义索引。"
   ]
  },
  {
   "cell_type": "markdown",
   "id": "34d6bd5b",
   "metadata": {},
   "source": [
    "`str(i)` 将整数 `i` 转换为字符串形式。\n",
    "例如，如果 `i` 的值为 `5`，则 `str(i)` 的结果为 `'5'`。\n",
    "这种转换通常用于将数字与字符串拼接或格式化输出。"
   ]
  },
  {
   "cell_type": "markdown",
   "id": "29b0f886",
   "metadata": {},
   "source": [
    "属性"
   ]
  },
  {
   "cell_type": "code",
   "execution_count": 80,
   "id": "b689e972",
   "metadata": {},
   "outputs": [
    {
     "data": {
      "text/plain": [
       "(10, 5)"
      ]
     },
     "execution_count": 80,
     "metadata": {},
     "output_type": "execute_result"
    }
   ],
   "source": [
    "data.shape"
   ]
  },
  {
   "cell_type": "code",
   "execution_count": 81,
   "id": "4acc231f",
   "metadata": {},
   "outputs": [
    {
     "data": {
      "text/plain": [
       "Index(['同学0', '同学1', '同学2', '同学3', '同学4', '同学5', '同学6', '同学7', '同学8', '同学9'], dtype='object')"
      ]
     },
     "execution_count": 81,
     "metadata": {},
     "output_type": "execute_result"
    }
   ],
   "source": [
    "data.index"
   ]
  },
  {
   "cell_type": "code",
   "execution_count": 82,
   "id": "af8d3faf",
   "metadata": {},
   "outputs": [
    {
     "data": {
      "text/plain": [
       "Index(['语文', '数学', '英语', '政治', '体育'], dtype='object')"
      ]
     },
     "execution_count": 82,
     "metadata": {},
     "output_type": "execute_result"
    }
   ],
   "source": [
    "data.columns"
   ]
  },
  {
   "cell_type": "code",
   "execution_count": 83,
   "id": "d15b26fa",
   "metadata": {},
   "outputs": [
    {
     "data": {
      "text/plain": [
       "array([[94, 86, 68, 53, 71],\n",
       "       [72, 70, 88, 91, 55],\n",
       "       [93, 92, 60, 96, 50],\n",
       "       [98, 76, 98, 65, 48],\n",
       "       [47, 99, 52, 74, 54],\n",
       "       [98, 71, 50, 82, 63],\n",
       "       [85, 94, 82, 44, 99],\n",
       "       [72, 45, 81, 75, 49],\n",
       "       [41, 47, 65, 43, 52],\n",
       "       [81, 50, 76, 88, 61]])"
      ]
     },
     "execution_count": 83,
     "metadata": {},
     "output_type": "execute_result"
    }
   ],
   "source": [
    "data.values"
   ]
  },
  {
   "cell_type": "code",
   "execution_count": 84,
   "id": "88b4c68c",
   "metadata": {},
   "outputs": [
    {
     "data": {
      "text/html": [
       "<div>\n",
       "<style scoped>\n",
       "    .dataframe tbody tr th:only-of-type {\n",
       "        vertical-align: middle;\n",
       "    }\n",
       "\n",
       "    .dataframe tbody tr th {\n",
       "        vertical-align: top;\n",
       "    }\n",
       "\n",
       "    .dataframe thead th {\n",
       "        text-align: right;\n",
       "    }\n",
       "</style>\n",
       "<table border=\"1\" class=\"dataframe\">\n",
       "  <thead>\n",
       "    <tr style=\"text-align: right;\">\n",
       "      <th></th>\n",
       "      <th>同学0</th>\n",
       "      <th>同学1</th>\n",
       "      <th>同学2</th>\n",
       "      <th>同学3</th>\n",
       "      <th>同学4</th>\n",
       "      <th>同学5</th>\n",
       "      <th>同学6</th>\n",
       "      <th>同学7</th>\n",
       "      <th>同学8</th>\n",
       "      <th>同学9</th>\n",
       "    </tr>\n",
       "  </thead>\n",
       "  <tbody>\n",
       "    <tr>\n",
       "      <th>语文</th>\n",
       "      <td>94</td>\n",
       "      <td>72</td>\n",
       "      <td>93</td>\n",
       "      <td>98</td>\n",
       "      <td>47</td>\n",
       "      <td>98</td>\n",
       "      <td>85</td>\n",
       "      <td>72</td>\n",
       "      <td>41</td>\n",
       "      <td>81</td>\n",
       "    </tr>\n",
       "    <tr>\n",
       "      <th>数学</th>\n",
       "      <td>86</td>\n",
       "      <td>70</td>\n",
       "      <td>92</td>\n",
       "      <td>76</td>\n",
       "      <td>99</td>\n",
       "      <td>71</td>\n",
       "      <td>94</td>\n",
       "      <td>45</td>\n",
       "      <td>47</td>\n",
       "      <td>50</td>\n",
       "    </tr>\n",
       "    <tr>\n",
       "      <th>英语</th>\n",
       "      <td>68</td>\n",
       "      <td>88</td>\n",
       "      <td>60</td>\n",
       "      <td>98</td>\n",
       "      <td>52</td>\n",
       "      <td>50</td>\n",
       "      <td>82</td>\n",
       "      <td>81</td>\n",
       "      <td>65</td>\n",
       "      <td>76</td>\n",
       "    </tr>\n",
       "    <tr>\n",
       "      <th>政治</th>\n",
       "      <td>53</td>\n",
       "      <td>91</td>\n",
       "      <td>96</td>\n",
       "      <td>65</td>\n",
       "      <td>74</td>\n",
       "      <td>82</td>\n",
       "      <td>44</td>\n",
       "      <td>75</td>\n",
       "      <td>43</td>\n",
       "      <td>88</td>\n",
       "    </tr>\n",
       "    <tr>\n",
       "      <th>体育</th>\n",
       "      <td>71</td>\n",
       "      <td>55</td>\n",
       "      <td>50</td>\n",
       "      <td>48</td>\n",
       "      <td>54</td>\n",
       "      <td>63</td>\n",
       "      <td>99</td>\n",
       "      <td>49</td>\n",
       "      <td>52</td>\n",
       "      <td>61</td>\n",
       "    </tr>\n",
       "  </tbody>\n",
       "</table>\n",
       "</div>"
      ],
      "text/plain": [
       "    同学0  同学1  同学2  同学3  同学4  同学5  同学6  同学7  同学8  同学9\n",
       "语文   94   72   93   98   47   98   85   72   41   81\n",
       "数学   86   70   92   76   99   71   94   45   47   50\n",
       "英语   68   88   60   98   52   50   82   81   65   76\n",
       "政治   53   91   96   65   74   82   44   75   43   88\n",
       "体育   71   55   50   48   54   63   99   49   52   61"
      ]
     },
     "execution_count": 84,
     "metadata": {},
     "output_type": "execute_result"
    }
   ],
   "source": [
    "data.T"
   ]
  },
  {
   "cell_type": "code",
   "execution_count": 85,
   "id": "547d69e9",
   "metadata": {},
   "outputs": [
    {
     "data": {
      "text/html": [
       "<div>\n",
       "<style scoped>\n",
       "    .dataframe tbody tr th:only-of-type {\n",
       "        vertical-align: middle;\n",
       "    }\n",
       "\n",
       "    .dataframe tbody tr th {\n",
       "        vertical-align: top;\n",
       "    }\n",
       "\n",
       "    .dataframe thead th {\n",
       "        text-align: right;\n",
       "    }\n",
       "</style>\n",
       "<table border=\"1\" class=\"dataframe\">\n",
       "  <thead>\n",
       "    <tr style=\"text-align: right;\">\n",
       "      <th></th>\n",
       "      <th>语文</th>\n",
       "      <th>数学</th>\n",
       "      <th>英语</th>\n",
       "      <th>政治</th>\n",
       "      <th>体育</th>\n",
       "    </tr>\n",
       "  </thead>\n",
       "  <tbody>\n",
       "    <tr>\n",
       "      <th>同学0</th>\n",
       "      <td>94</td>\n",
       "      <td>86</td>\n",
       "      <td>68</td>\n",
       "      <td>53</td>\n",
       "      <td>71</td>\n",
       "    </tr>\n",
       "    <tr>\n",
       "      <th>同学1</th>\n",
       "      <td>72</td>\n",
       "      <td>70</td>\n",
       "      <td>88</td>\n",
       "      <td>91</td>\n",
       "      <td>55</td>\n",
       "    </tr>\n",
       "    <tr>\n",
       "      <th>同学2</th>\n",
       "      <td>93</td>\n",
       "      <td>92</td>\n",
       "      <td>60</td>\n",
       "      <td>96</td>\n",
       "      <td>50</td>\n",
       "    </tr>\n",
       "    <tr>\n",
       "      <th>同学3</th>\n",
       "      <td>98</td>\n",
       "      <td>76</td>\n",
       "      <td>98</td>\n",
       "      <td>65</td>\n",
       "      <td>48</td>\n",
       "    </tr>\n",
       "    <tr>\n",
       "      <th>同学4</th>\n",
       "      <td>47</td>\n",
       "      <td>99</td>\n",
       "      <td>52</td>\n",
       "      <td>74</td>\n",
       "      <td>54</td>\n",
       "    </tr>\n",
       "  </tbody>\n",
       "</table>\n",
       "</div>"
      ],
      "text/plain": [
       "     语文  数学  英语  政治  体育\n",
       "同学0  94  86  68  53  71\n",
       "同学1  72  70  88  91  55\n",
       "同学2  93  92  60  96  50\n",
       "同学3  98  76  98  65  48\n",
       "同学4  47  99  52  74  54"
      ]
     },
     "execution_count": 85,
     "metadata": {},
     "output_type": "execute_result"
    }
   ],
   "source": [
    "data.head(5)#前5行"
   ]
  },
  {
   "cell_type": "code",
   "execution_count": 86,
   "id": "bab9f270",
   "metadata": {},
   "outputs": [
    {
     "data": {
      "text/html": [
       "<div>\n",
       "<style scoped>\n",
       "    .dataframe tbody tr th:only-of-type {\n",
       "        vertical-align: middle;\n",
       "    }\n",
       "\n",
       "    .dataframe tbody tr th {\n",
       "        vertical-align: top;\n",
       "    }\n",
       "\n",
       "    .dataframe thead th {\n",
       "        text-align: right;\n",
       "    }\n",
       "</style>\n",
       "<table border=\"1\" class=\"dataframe\">\n",
       "  <thead>\n",
       "    <tr style=\"text-align: right;\">\n",
       "      <th></th>\n",
       "      <th>语文</th>\n",
       "      <th>数学</th>\n",
       "      <th>英语</th>\n",
       "      <th>政治</th>\n",
       "      <th>体育</th>\n",
       "    </tr>\n",
       "  </thead>\n",
       "  <tbody>\n",
       "    <tr>\n",
       "      <th>同学5</th>\n",
       "      <td>98</td>\n",
       "      <td>71</td>\n",
       "      <td>50</td>\n",
       "      <td>82</td>\n",
       "      <td>63</td>\n",
       "    </tr>\n",
       "    <tr>\n",
       "      <th>同学6</th>\n",
       "      <td>85</td>\n",
       "      <td>94</td>\n",
       "      <td>82</td>\n",
       "      <td>44</td>\n",
       "      <td>99</td>\n",
       "    </tr>\n",
       "    <tr>\n",
       "      <th>同学7</th>\n",
       "      <td>72</td>\n",
       "      <td>45</td>\n",
       "      <td>81</td>\n",
       "      <td>75</td>\n",
       "      <td>49</td>\n",
       "    </tr>\n",
       "    <tr>\n",
       "      <th>同学8</th>\n",
       "      <td>41</td>\n",
       "      <td>47</td>\n",
       "      <td>65</td>\n",
       "      <td>43</td>\n",
       "      <td>52</td>\n",
       "    </tr>\n",
       "    <tr>\n",
       "      <th>同学9</th>\n",
       "      <td>81</td>\n",
       "      <td>50</td>\n",
       "      <td>76</td>\n",
       "      <td>88</td>\n",
       "      <td>61</td>\n",
       "    </tr>\n",
       "  </tbody>\n",
       "</table>\n",
       "</div>"
      ],
      "text/plain": [
       "     语文  数学  英语  政治  体育\n",
       "同学5  98  71  50  82  63\n",
       "同学6  85  94  82  44  99\n",
       "同学7  72  45  81  75  49\n",
       "同学8  41  47  65  43  52\n",
       "同学9  81  50  76  88  61"
      ]
     },
     "execution_count": 86,
     "metadata": {},
     "output_type": "execute_result"
    }
   ],
   "source": [
    "data.tail(5)#后5行"
   ]
  },
  {
   "cell_type": "code",
   "execution_count": null,
   "id": "c8a9dab5",
   "metadata": {},
   "outputs": [],
   "source": []
  },
  {
   "cell_type": "markdown",
   "id": "7bdfecc3",
   "metadata": {},
   "source": [
    "修改索引值"
   ]
  },
  {
   "cell_type": "code",
   "execution_count": 87,
   "id": "4a7dc445",
   "metadata": {},
   "outputs": [],
   "source": [
    "stu=['学生'+str(i)for i in range(score_df.shape[0])]\n",
    "data.index=stu"
   ]
  },
  {
   "cell_type": "code",
   "execution_count": 88,
   "id": "9ea99ccd",
   "metadata": {},
   "outputs": [
    {
     "data": {
      "text/html": [
       "<div>\n",
       "<style scoped>\n",
       "    .dataframe tbody tr th:only-of-type {\n",
       "        vertical-align: middle;\n",
       "    }\n",
       "\n",
       "    .dataframe tbody tr th {\n",
       "        vertical-align: top;\n",
       "    }\n",
       "\n",
       "    .dataframe thead th {\n",
       "        text-align: right;\n",
       "    }\n",
       "</style>\n",
       "<table border=\"1\" class=\"dataframe\">\n",
       "  <thead>\n",
       "    <tr style=\"text-align: right;\">\n",
       "      <th></th>\n",
       "      <th>语文</th>\n",
       "      <th>数学</th>\n",
       "      <th>英语</th>\n",
       "      <th>政治</th>\n",
       "      <th>体育</th>\n",
       "    </tr>\n",
       "  </thead>\n",
       "  <tbody>\n",
       "    <tr>\n",
       "      <th>学生0</th>\n",
       "      <td>94</td>\n",
       "      <td>86</td>\n",
       "      <td>68</td>\n",
       "      <td>53</td>\n",
       "      <td>71</td>\n",
       "    </tr>\n",
       "    <tr>\n",
       "      <th>学生1</th>\n",
       "      <td>72</td>\n",
       "      <td>70</td>\n",
       "      <td>88</td>\n",
       "      <td>91</td>\n",
       "      <td>55</td>\n",
       "    </tr>\n",
       "    <tr>\n",
       "      <th>学生2</th>\n",
       "      <td>93</td>\n",
       "      <td>92</td>\n",
       "      <td>60</td>\n",
       "      <td>96</td>\n",
       "      <td>50</td>\n",
       "    </tr>\n",
       "    <tr>\n",
       "      <th>学生3</th>\n",
       "      <td>98</td>\n",
       "      <td>76</td>\n",
       "      <td>98</td>\n",
       "      <td>65</td>\n",
       "      <td>48</td>\n",
       "    </tr>\n",
       "    <tr>\n",
       "      <th>学生4</th>\n",
       "      <td>47</td>\n",
       "      <td>99</td>\n",
       "      <td>52</td>\n",
       "      <td>74</td>\n",
       "      <td>54</td>\n",
       "    </tr>\n",
       "    <tr>\n",
       "      <th>学生5</th>\n",
       "      <td>98</td>\n",
       "      <td>71</td>\n",
       "      <td>50</td>\n",
       "      <td>82</td>\n",
       "      <td>63</td>\n",
       "    </tr>\n",
       "    <tr>\n",
       "      <th>学生6</th>\n",
       "      <td>85</td>\n",
       "      <td>94</td>\n",
       "      <td>82</td>\n",
       "      <td>44</td>\n",
       "      <td>99</td>\n",
       "    </tr>\n",
       "    <tr>\n",
       "      <th>学生7</th>\n",
       "      <td>72</td>\n",
       "      <td>45</td>\n",
       "      <td>81</td>\n",
       "      <td>75</td>\n",
       "      <td>49</td>\n",
       "    </tr>\n",
       "    <tr>\n",
       "      <th>学生8</th>\n",
       "      <td>41</td>\n",
       "      <td>47</td>\n",
       "      <td>65</td>\n",
       "      <td>43</td>\n",
       "      <td>52</td>\n",
       "    </tr>\n",
       "    <tr>\n",
       "      <th>学生9</th>\n",
       "      <td>81</td>\n",
       "      <td>50</td>\n",
       "      <td>76</td>\n",
       "      <td>88</td>\n",
       "      <td>61</td>\n",
       "    </tr>\n",
       "  </tbody>\n",
       "</table>\n",
       "</div>"
      ],
      "text/plain": [
       "     语文  数学  英语  政治  体育\n",
       "学生0  94  86  68  53  71\n",
       "学生1  72  70  88  91  55\n",
       "学生2  93  92  60  96  50\n",
       "学生3  98  76  98  65  48\n",
       "学生4  47  99  52  74  54\n",
       "学生5  98  71  50  82  63\n",
       "学生6  85  94  82  44  99\n",
       "学生7  72  45  81  75  49\n",
       "学生8  41  47  65  43  52\n",
       "学生9  81  50  76  88  61"
      ]
     },
     "execution_count": 88,
     "metadata": {},
     "output_type": "execute_result"
    }
   ],
   "source": [
    "data"
   ]
  },
  {
   "cell_type": "markdown",
   "id": "a893c716",
   "metadata": {},
   "source": [
    "重设索引"
   ]
  },
  {
   "cell_type": "markdown",
   "id": "2b86a01a",
   "metadata": {},
   "source": [
    "reset_index(drop=False)\n"
   ]
  },
  {
   "cell_type": "markdown",
   "id": "4b1a937b",
   "metadata": {},
   "source": [
    "设置新的下标索引，drop:默认为False,不删除原索引，True，删除原索引"
   ]
  },
  {
   "cell_type": "code",
   "execution_count": 89,
   "id": "7b7f00d5",
   "metadata": {},
   "outputs": [
    {
     "data": {
      "text/html": [
       "<div>\n",
       "<style scoped>\n",
       "    .dataframe tbody tr th:only-of-type {\n",
       "        vertical-align: middle;\n",
       "    }\n",
       "\n",
       "    .dataframe tbody tr th {\n",
       "        vertical-align: top;\n",
       "    }\n",
       "\n",
       "    .dataframe thead th {\n",
       "        text-align: right;\n",
       "    }\n",
       "</style>\n",
       "<table border=\"1\" class=\"dataframe\">\n",
       "  <thead>\n",
       "    <tr style=\"text-align: right;\">\n",
       "      <th></th>\n",
       "      <th>index</th>\n",
       "      <th>语文</th>\n",
       "      <th>数学</th>\n",
       "      <th>英语</th>\n",
       "      <th>政治</th>\n",
       "      <th>体育</th>\n",
       "    </tr>\n",
       "  </thead>\n",
       "  <tbody>\n",
       "    <tr>\n",
       "      <th>0</th>\n",
       "      <td>学生0</td>\n",
       "      <td>94</td>\n",
       "      <td>86</td>\n",
       "      <td>68</td>\n",
       "      <td>53</td>\n",
       "      <td>71</td>\n",
       "    </tr>\n",
       "    <tr>\n",
       "      <th>1</th>\n",
       "      <td>学生1</td>\n",
       "      <td>72</td>\n",
       "      <td>70</td>\n",
       "      <td>88</td>\n",
       "      <td>91</td>\n",
       "      <td>55</td>\n",
       "    </tr>\n",
       "    <tr>\n",
       "      <th>2</th>\n",
       "      <td>学生2</td>\n",
       "      <td>93</td>\n",
       "      <td>92</td>\n",
       "      <td>60</td>\n",
       "      <td>96</td>\n",
       "      <td>50</td>\n",
       "    </tr>\n",
       "    <tr>\n",
       "      <th>3</th>\n",
       "      <td>学生3</td>\n",
       "      <td>98</td>\n",
       "      <td>76</td>\n",
       "      <td>98</td>\n",
       "      <td>65</td>\n",
       "      <td>48</td>\n",
       "    </tr>\n",
       "    <tr>\n",
       "      <th>4</th>\n",
       "      <td>学生4</td>\n",
       "      <td>47</td>\n",
       "      <td>99</td>\n",
       "      <td>52</td>\n",
       "      <td>74</td>\n",
       "      <td>54</td>\n",
       "    </tr>\n",
       "    <tr>\n",
       "      <th>5</th>\n",
       "      <td>学生5</td>\n",
       "      <td>98</td>\n",
       "      <td>71</td>\n",
       "      <td>50</td>\n",
       "      <td>82</td>\n",
       "      <td>63</td>\n",
       "    </tr>\n",
       "    <tr>\n",
       "      <th>6</th>\n",
       "      <td>学生6</td>\n",
       "      <td>85</td>\n",
       "      <td>94</td>\n",
       "      <td>82</td>\n",
       "      <td>44</td>\n",
       "      <td>99</td>\n",
       "    </tr>\n",
       "    <tr>\n",
       "      <th>7</th>\n",
       "      <td>学生7</td>\n",
       "      <td>72</td>\n",
       "      <td>45</td>\n",
       "      <td>81</td>\n",
       "      <td>75</td>\n",
       "      <td>49</td>\n",
       "    </tr>\n",
       "    <tr>\n",
       "      <th>8</th>\n",
       "      <td>学生8</td>\n",
       "      <td>41</td>\n",
       "      <td>47</td>\n",
       "      <td>65</td>\n",
       "      <td>43</td>\n",
       "      <td>52</td>\n",
       "    </tr>\n",
       "    <tr>\n",
       "      <th>9</th>\n",
       "      <td>学生9</td>\n",
       "      <td>81</td>\n",
       "      <td>50</td>\n",
       "      <td>76</td>\n",
       "      <td>88</td>\n",
       "      <td>61</td>\n",
       "    </tr>\n",
       "  </tbody>\n",
       "</table>\n",
       "</div>"
      ],
      "text/plain": [
       "  index  语文  数学  英语  政治  体育\n",
       "0   学生0  94  86  68  53  71\n",
       "1   学生1  72  70  88  91  55\n",
       "2   学生2  93  92  60  96  50\n",
       "3   学生3  98  76  98  65  48\n",
       "4   学生4  47  99  52  74  54\n",
       "5   学生5  98  71  50  82  63\n",
       "6   学生6  85  94  82  44  99\n",
       "7   学生7  72  45  81  75  49\n",
       "8   学生8  41  47  65  43  52\n",
       "9   学生9  81  50  76  88  61"
      ]
     },
     "execution_count": 89,
     "metadata": {},
     "output_type": "execute_result"
    }
   ],
   "source": [
    "data.reset_index(drop=False)"
   ]
  },
  {
   "cell_type": "code",
   "execution_count": 90,
   "id": "0e1a3a41",
   "metadata": {},
   "outputs": [
    {
     "data": {
      "text/html": [
       "<div>\n",
       "<style scoped>\n",
       "    .dataframe tbody tr th:only-of-type {\n",
       "        vertical-align: middle;\n",
       "    }\n",
       "\n",
       "    .dataframe tbody tr th {\n",
       "        vertical-align: top;\n",
       "    }\n",
       "\n",
       "    .dataframe thead th {\n",
       "        text-align: right;\n",
       "    }\n",
       "</style>\n",
       "<table border=\"1\" class=\"dataframe\">\n",
       "  <thead>\n",
       "    <tr style=\"text-align: right;\">\n",
       "      <th></th>\n",
       "      <th>语文</th>\n",
       "      <th>数学</th>\n",
       "      <th>英语</th>\n",
       "      <th>政治</th>\n",
       "      <th>体育</th>\n",
       "    </tr>\n",
       "  </thead>\n",
       "  <tbody>\n",
       "    <tr>\n",
       "      <th>0</th>\n",
       "      <td>94</td>\n",
       "      <td>86</td>\n",
       "      <td>68</td>\n",
       "      <td>53</td>\n",
       "      <td>71</td>\n",
       "    </tr>\n",
       "    <tr>\n",
       "      <th>1</th>\n",
       "      <td>72</td>\n",
       "      <td>70</td>\n",
       "      <td>88</td>\n",
       "      <td>91</td>\n",
       "      <td>55</td>\n",
       "    </tr>\n",
       "    <tr>\n",
       "      <th>2</th>\n",
       "      <td>93</td>\n",
       "      <td>92</td>\n",
       "      <td>60</td>\n",
       "      <td>96</td>\n",
       "      <td>50</td>\n",
       "    </tr>\n",
       "    <tr>\n",
       "      <th>3</th>\n",
       "      <td>98</td>\n",
       "      <td>76</td>\n",
       "      <td>98</td>\n",
       "      <td>65</td>\n",
       "      <td>48</td>\n",
       "    </tr>\n",
       "    <tr>\n",
       "      <th>4</th>\n",
       "      <td>47</td>\n",
       "      <td>99</td>\n",
       "      <td>52</td>\n",
       "      <td>74</td>\n",
       "      <td>54</td>\n",
       "    </tr>\n",
       "    <tr>\n",
       "      <th>5</th>\n",
       "      <td>98</td>\n",
       "      <td>71</td>\n",
       "      <td>50</td>\n",
       "      <td>82</td>\n",
       "      <td>63</td>\n",
       "    </tr>\n",
       "    <tr>\n",
       "      <th>6</th>\n",
       "      <td>85</td>\n",
       "      <td>94</td>\n",
       "      <td>82</td>\n",
       "      <td>44</td>\n",
       "      <td>99</td>\n",
       "    </tr>\n",
       "    <tr>\n",
       "      <th>7</th>\n",
       "      <td>72</td>\n",
       "      <td>45</td>\n",
       "      <td>81</td>\n",
       "      <td>75</td>\n",
       "      <td>49</td>\n",
       "    </tr>\n",
       "    <tr>\n",
       "      <th>8</th>\n",
       "      <td>41</td>\n",
       "      <td>47</td>\n",
       "      <td>65</td>\n",
       "      <td>43</td>\n",
       "      <td>52</td>\n",
       "    </tr>\n",
       "    <tr>\n",
       "      <th>9</th>\n",
       "      <td>81</td>\n",
       "      <td>50</td>\n",
       "      <td>76</td>\n",
       "      <td>88</td>\n",
       "      <td>61</td>\n",
       "    </tr>\n",
       "  </tbody>\n",
       "</table>\n",
       "</div>"
      ],
      "text/plain": [
       "   语文  数学  英语  政治  体育\n",
       "0  94  86  68  53  71\n",
       "1  72  70  88  91  55\n",
       "2  93  92  60  96  50\n",
       "3  98  76  98  65  48\n",
       "4  47  99  52  74  54\n",
       "5  98  71  50  82  63\n",
       "6  85  94  82  44  99\n",
       "7  72  45  81  75  49\n",
       "8  41  47  65  43  52\n",
       "9  81  50  76  88  61"
      ]
     },
     "execution_count": 90,
     "metadata": {},
     "output_type": "execute_result"
    }
   ],
   "source": [
    "data.reset_index(drop=True)"
   ]
  },
  {
   "cell_type": "markdown",
   "id": "56143980",
   "metadata": {},
   "source": [
    "以某列值设置新索引"
   ]
  },
  {
   "cell_type": "markdown",
   "id": "f73d090f",
   "metadata": {},
   "source": [
    "set_index(keys,drop=True)"
   ]
  },
  {
   "cell_type": "markdown",
   "id": "55cb2929",
   "metadata": {},
   "source": [
    "keys:列索引名或列索引名称的列表\n",
    "drop:默认为False,不删除原索引，True，删除原索引"
   ]
  },
  {
   "cell_type": "code",
   "execution_count": 91,
   "id": "85e9f6ed",
   "metadata": {},
   "outputs": [],
   "source": [
    "df=pd.DataFrame({'month':[1,4,7,9],\n",
    "                 'year':[2013,2014,2015,2016],\n",
    "                 'sale':[55,33,234,56]})"
   ]
  },
  {
   "cell_type": "code",
   "execution_count": 92,
   "id": "14f6ead3",
   "metadata": {},
   "outputs": [
    {
     "data": {
      "text/html": [
       "<div>\n",
       "<style scoped>\n",
       "    .dataframe tbody tr th:only-of-type {\n",
       "        vertical-align: middle;\n",
       "    }\n",
       "\n",
       "    .dataframe tbody tr th {\n",
       "        vertical-align: top;\n",
       "    }\n",
       "\n",
       "    .dataframe thead th {\n",
       "        text-align: right;\n",
       "    }\n",
       "</style>\n",
       "<table border=\"1\" class=\"dataframe\">\n",
       "  <thead>\n",
       "    <tr style=\"text-align: right;\">\n",
       "      <th></th>\n",
       "      <th>month</th>\n",
       "      <th>year</th>\n",
       "      <th>sale</th>\n",
       "    </tr>\n",
       "  </thead>\n",
       "  <tbody>\n",
       "    <tr>\n",
       "      <th>0</th>\n",
       "      <td>1</td>\n",
       "      <td>2013</td>\n",
       "      <td>55</td>\n",
       "    </tr>\n",
       "    <tr>\n",
       "      <th>1</th>\n",
       "      <td>4</td>\n",
       "      <td>2014</td>\n",
       "      <td>33</td>\n",
       "    </tr>\n",
       "    <tr>\n",
       "      <th>2</th>\n",
       "      <td>7</td>\n",
       "      <td>2015</td>\n",
       "      <td>234</td>\n",
       "    </tr>\n",
       "    <tr>\n",
       "      <th>3</th>\n",
       "      <td>9</td>\n",
       "      <td>2016</td>\n",
       "      <td>56</td>\n",
       "    </tr>\n",
       "  </tbody>\n",
       "</table>\n",
       "</div>"
      ],
      "text/plain": [
       "   month  year  sale\n",
       "0      1  2013    55\n",
       "1      4  2014    33\n",
       "2      7  2015   234\n",
       "3      9  2016    56"
      ]
     },
     "execution_count": 92,
     "metadata": {},
     "output_type": "execute_result"
    }
   ],
   "source": [
    "df"
   ]
  },
  {
   "cell_type": "code",
   "execution_count": 93,
   "id": "23526bc7",
   "metadata": {},
   "outputs": [
    {
     "data": {
      "text/html": [
       "<div>\n",
       "<style scoped>\n",
       "    .dataframe tbody tr th:only-of-type {\n",
       "        vertical-align: middle;\n",
       "    }\n",
       "\n",
       "    .dataframe tbody tr th {\n",
       "        vertical-align: top;\n",
       "    }\n",
       "\n",
       "    .dataframe thead th {\n",
       "        text-align: right;\n",
       "    }\n",
       "</style>\n",
       "<table border=\"1\" class=\"dataframe\">\n",
       "  <thead>\n",
       "    <tr style=\"text-align: right;\">\n",
       "      <th></th>\n",
       "      <th>year</th>\n",
       "      <th>sale</th>\n",
       "    </tr>\n",
       "    <tr>\n",
       "      <th>month</th>\n",
       "      <th></th>\n",
       "      <th></th>\n",
       "    </tr>\n",
       "  </thead>\n",
       "  <tbody>\n",
       "    <tr>\n",
       "      <th>1</th>\n",
       "      <td>2013</td>\n",
       "      <td>55</td>\n",
       "    </tr>\n",
       "    <tr>\n",
       "      <th>4</th>\n",
       "      <td>2014</td>\n",
       "      <td>33</td>\n",
       "    </tr>\n",
       "    <tr>\n",
       "      <th>7</th>\n",
       "      <td>2015</td>\n",
       "      <td>234</td>\n",
       "    </tr>\n",
       "    <tr>\n",
       "      <th>9</th>\n",
       "      <td>2016</td>\n",
       "      <td>56</td>\n",
       "    </tr>\n",
       "  </tbody>\n",
       "</table>\n",
       "</div>"
      ],
      "text/plain": [
       "       year  sale\n",
       "month            \n",
       "1      2013    55\n",
       "4      2014    33\n",
       "7      2015   234\n",
       "9      2016    56"
      ]
     },
     "execution_count": 93,
     "metadata": {},
     "output_type": "execute_result"
    }
   ],
   "source": [
    "df.set_index('month')"
   ]
  },
  {
   "cell_type": "code",
   "execution_count": 94,
   "id": "40c43407",
   "metadata": {},
   "outputs": [
    {
     "data": {
      "text/html": [
       "<div>\n",
       "<style scoped>\n",
       "    .dataframe tbody tr th:only-of-type {\n",
       "        vertical-align: middle;\n",
       "    }\n",
       "\n",
       "    .dataframe tbody tr th {\n",
       "        vertical-align: top;\n",
       "    }\n",
       "\n",
       "    .dataframe thead th {\n",
       "        text-align: right;\n",
       "    }\n",
       "</style>\n",
       "<table border=\"1\" class=\"dataframe\">\n",
       "  <thead>\n",
       "    <tr style=\"text-align: right;\">\n",
       "      <th></th>\n",
       "      <th></th>\n",
       "      <th>sale</th>\n",
       "    </tr>\n",
       "    <tr>\n",
       "      <th>month</th>\n",
       "      <th>year</th>\n",
       "      <th></th>\n",
       "    </tr>\n",
       "  </thead>\n",
       "  <tbody>\n",
       "    <tr>\n",
       "      <th>1</th>\n",
       "      <th>2013</th>\n",
       "      <td>55</td>\n",
       "    </tr>\n",
       "    <tr>\n",
       "      <th>4</th>\n",
       "      <th>2014</th>\n",
       "      <td>33</td>\n",
       "    </tr>\n",
       "    <tr>\n",
       "      <th>7</th>\n",
       "      <th>2015</th>\n",
       "      <td>234</td>\n",
       "    </tr>\n",
       "    <tr>\n",
       "      <th>9</th>\n",
       "      <th>2016</th>\n",
       "      <td>56</td>\n",
       "    </tr>\n",
       "  </tbody>\n",
       "</table>\n",
       "</div>"
      ],
      "text/plain": [
       "            sale\n",
       "month year      \n",
       "1     2013    55\n",
       "4     2014    33\n",
       "7     2015   234\n",
       "9     2016    56"
      ]
     },
     "execution_count": 94,
     "metadata": {},
     "output_type": "execute_result"
    }
   ],
   "source": [
    "df=df.set_index(['month','year'])\n",
    "df\n",
    "\n"
   ]
  },
  {
   "cell_type": "markdown",
   "id": "3fbc8920",
   "metadata": {},
   "source": [
    "multiindex"
   ]
  },
  {
   "cell_type": "code",
   "execution_count": 95,
   "id": "3b3dc60f",
   "metadata": {},
   "outputs": [
    {
     "data": {
      "text/plain": [
       "MultiIndex([(1, 2013),\n",
       "            (4, 2014),\n",
       "            (7, 2015),\n",
       "            (9, 2016)],\n",
       "           names=['month', 'year'])"
      ]
     },
     "execution_count": 95,
     "metadata": {},
     "output_type": "execute_result"
    }
   ],
   "source": [
    "df.index"
   ]
  },
  {
   "cell_type": "markdown",
   "id": "06902c97",
   "metadata": {},
   "source": [
    "`df.index.names` 返回当前 DataFrame 索引的名称列表。\n",
    "如果 DataFrame 使用了 MultiIndex（多级索引），则会返回每一级索引的名称。\n",
    "例如，对于一个具有两级索引的 DataFrame，`df.index.names` 可能返回 `['level_1', 'level_2']`。\n",
    "这在需要查看或修改索引名称时非常有用。"
   ]
  },
  {
   "cell_type": "code",
   "execution_count": 96,
   "id": "ec167d7c",
   "metadata": {},
   "outputs": [
    {
     "data": {
      "text/plain": [
       "FrozenList(['month', 'year'])"
      ]
     },
     "execution_count": 96,
     "metadata": {},
     "output_type": "execute_result"
    }
   ],
   "source": [
    "df.index.names"
   ]
  },
  {
   "cell_type": "code",
   "execution_count": 97,
   "id": "936be66c",
   "metadata": {},
   "outputs": [
    {
     "data": {
      "text/plain": [
       "FrozenList([[1, 4, 7, 9], [2013, 2014, 2015, 2016]])"
      ]
     },
     "execution_count": 97,
     "metadata": {},
     "output_type": "execute_result"
    }
   ],
   "source": [
    "df.index.levels"
   ]
  },
  {
   "cell_type": "code",
   "execution_count": 98,
   "id": "5f774236",
   "metadata": {},
   "outputs": [
    {
     "data": {
      "text/plain": [
       "MultiIndex([(1,  'red'),\n",
       "            (1, 'blue'),\n",
       "            (2,  'red'),\n",
       "            (2, 'blue')],\n",
       "           names=['number', 'color'])"
      ]
     },
     "execution_count": 98,
     "metadata": {},
     "output_type": "execute_result"
    }
   ],
   "source": [
    "arrays=[[1,1,2,2],['red','blue','red','blue']]\n",
    "pd.MultiIndex.from_arrays(arrays,names=('number','color'))"
   ]
  },
  {
   "cell_type": "markdown",
   "id": "122226df",
   "metadata": {},
   "source": [
    "索引"
   ]
  },
  {
   "cell_type": "markdown",
   "id": "9fcbdf61",
   "metadata": {},
   "source": [
    "drop删除列"
   ]
  },
  {
   "cell_type": "code",
   "execution_count": 99,
   "id": "88c8e50a",
   "metadata": {},
   "outputs": [
    {
     "data": {
      "text/html": [
       "<div>\n",
       "<style scoped>\n",
       "    .dataframe tbody tr th:only-of-type {\n",
       "        vertical-align: middle;\n",
       "    }\n",
       "\n",
       "    .dataframe tbody tr th {\n",
       "        vertical-align: top;\n",
       "    }\n",
       "\n",
       "    .dataframe thead th {\n",
       "        text-align: right;\n",
       "    }\n",
       "</style>\n",
       "<table border=\"1\" class=\"dataframe\">\n",
       "  <thead>\n",
       "    <tr style=\"text-align: right;\">\n",
       "      <th></th>\n",
       "      <th></th>\n",
       "    </tr>\n",
       "    <tr>\n",
       "      <th>month</th>\n",
       "      <th>year</th>\n",
       "    </tr>\n",
       "  </thead>\n",
       "  <tbody>\n",
       "    <tr>\n",
       "      <th>1</th>\n",
       "      <th>2013</th>\n",
       "    </tr>\n",
       "    <tr>\n",
       "      <th>4</th>\n",
       "      <th>2014</th>\n",
       "    </tr>\n",
       "    <tr>\n",
       "      <th>7</th>\n",
       "      <th>2015</th>\n",
       "    </tr>\n",
       "    <tr>\n",
       "      <th>9</th>\n",
       "      <th>2016</th>\n",
       "    </tr>\n",
       "  </tbody>\n",
       "</table>\n",
       "</div>"
      ],
      "text/plain": [
       "Empty DataFrame\n",
       "Columns: []\n",
       "Index: [(1, 2013), (4, 2014), (7, 2015), (9, 2016)]"
      ]
     },
     "execution_count": 99,
     "metadata": {},
     "output_type": "execute_result"
    }
   ],
   "source": [
    "df=df.drop(['sale'],axis=1)\n",
    "df"
   ]
  },
  {
   "cell_type": "markdown",
   "id": "67df5540",
   "metadata": {},
   "source": [
    "`df=df.drop(['sale'],axis=1)` 删除了 DataFrame 中名为 `'sale'` 的列。\n",
    "参数 `axis=1` 指定操作的是列，而不是行。\n",
    "此操作返回一个新的 DataFrame，并不会修改原始 DataFrame，除非使用 `inplace=True` 参数。"
   ]
  },
  {
   "cell_type": "markdown",
   "id": "5b5c162a",
   "metadata": {},
   "source": [
    "直接索引（先列后行）"
   ]
  },
  {
   "cell_type": "code",
   "execution_count": 100,
   "id": "f7918367",
   "metadata": {},
   "outputs": [
    {
     "data": {
      "text/plain": [
       "71"
      ]
     },
     "execution_count": 100,
     "metadata": {},
     "output_type": "execute_result"
    }
   ],
   "source": [
    "data['体育']['学生0']"
   ]
  },
  {
   "cell_type": "markdown",
   "id": "bacfb74e",
   "metadata": {},
   "source": [
    "loc和iloc"
   ]
  },
  {
   "cell_type": "code",
   "execution_count": 101,
   "id": "71d21b4b",
   "metadata": {},
   "outputs": [
    {
     "data": {
      "text/html": [
       "<div>\n",
       "<style scoped>\n",
       "    .dataframe tbody tr th:only-of-type {\n",
       "        vertical-align: middle;\n",
       "    }\n",
       "\n",
       "    .dataframe tbody tr th {\n",
       "        vertical-align: top;\n",
       "    }\n",
       "\n",
       "    .dataframe thead th {\n",
       "        text-align: right;\n",
       "    }\n",
       "</style>\n",
       "<table border=\"1\" class=\"dataframe\">\n",
       "  <thead>\n",
       "    <tr style=\"text-align: right;\">\n",
       "      <th></th>\n",
       "      <th>语文</th>\n",
       "      <th>数学</th>\n",
       "      <th>英语</th>\n",
       "      <th>政治</th>\n",
       "      <th>体育</th>\n",
       "    </tr>\n",
       "  </thead>\n",
       "  <tbody>\n",
       "    <tr>\n",
       "      <th>学生0</th>\n",
       "      <td>94</td>\n",
       "      <td>86</td>\n",
       "      <td>68</td>\n",
       "      <td>53</td>\n",
       "      <td>71</td>\n",
       "    </tr>\n",
       "    <tr>\n",
       "      <th>学生1</th>\n",
       "      <td>72</td>\n",
       "      <td>70</td>\n",
       "      <td>88</td>\n",
       "      <td>91</td>\n",
       "      <td>55</td>\n",
       "    </tr>\n",
       "    <tr>\n",
       "      <th>学生2</th>\n",
       "      <td>93</td>\n",
       "      <td>92</td>\n",
       "      <td>60</td>\n",
       "      <td>96</td>\n",
       "      <td>50</td>\n",
       "    </tr>\n",
       "    <tr>\n",
       "      <th>学生3</th>\n",
       "      <td>98</td>\n",
       "      <td>76</td>\n",
       "      <td>98</td>\n",
       "      <td>65</td>\n",
       "      <td>48</td>\n",
       "    </tr>\n",
       "    <tr>\n",
       "      <th>学生4</th>\n",
       "      <td>47</td>\n",
       "      <td>99</td>\n",
       "      <td>52</td>\n",
       "      <td>74</td>\n",
       "      <td>54</td>\n",
       "    </tr>\n",
       "    <tr>\n",
       "      <th>学生5</th>\n",
       "      <td>98</td>\n",
       "      <td>71</td>\n",
       "      <td>50</td>\n",
       "      <td>82</td>\n",
       "      <td>63</td>\n",
       "    </tr>\n",
       "    <tr>\n",
       "      <th>学生6</th>\n",
       "      <td>85</td>\n",
       "      <td>94</td>\n",
       "      <td>82</td>\n",
       "      <td>44</td>\n",
       "      <td>99</td>\n",
       "    </tr>\n",
       "    <tr>\n",
       "      <th>学生7</th>\n",
       "      <td>72</td>\n",
       "      <td>45</td>\n",
       "      <td>81</td>\n",
       "      <td>75</td>\n",
       "      <td>49</td>\n",
       "    </tr>\n",
       "    <tr>\n",
       "      <th>学生8</th>\n",
       "      <td>41</td>\n",
       "      <td>47</td>\n",
       "      <td>65</td>\n",
       "      <td>43</td>\n",
       "      <td>52</td>\n",
       "    </tr>\n",
       "    <tr>\n",
       "      <th>学生9</th>\n",
       "      <td>81</td>\n",
       "      <td>50</td>\n",
       "      <td>76</td>\n",
       "      <td>88</td>\n",
       "      <td>61</td>\n",
       "    </tr>\n",
       "  </tbody>\n",
       "</table>\n",
       "</div>"
      ],
      "text/plain": [
       "     语文  数学  英语  政治  体育\n",
       "学生0  94  86  68  53  71\n",
       "学生1  72  70  88  91  55\n",
       "学生2  93  92  60  96  50\n",
       "学生3  98  76  98  65  48\n",
       "学生4  47  99  52  74  54\n",
       "学生5  98  71  50  82  63\n",
       "学生6  85  94  82  44  99\n",
       "学生7  72  45  81  75  49\n",
       "学生8  41  47  65  43  52\n",
       "学生9  81  50  76  88  61"
      ]
     },
     "execution_count": 101,
     "metadata": {},
     "output_type": "execute_result"
    }
   ],
   "source": [
    "data"
   ]
  },
  {
   "cell_type": "code",
   "execution_count": 102,
   "id": "abe5700b",
   "metadata": {},
   "outputs": [
    {
     "data": {
      "text/html": [
       "<div>\n",
       "<style scoped>\n",
       "    .dataframe tbody tr th:only-of-type {\n",
       "        vertical-align: middle;\n",
       "    }\n",
       "\n",
       "    .dataframe tbody tr th {\n",
       "        vertical-align: top;\n",
       "    }\n",
       "\n",
       "    .dataframe thead th {\n",
       "        text-align: right;\n",
       "    }\n",
       "</style>\n",
       "<table border=\"1\" class=\"dataframe\">\n",
       "  <thead>\n",
       "    <tr style=\"text-align: right;\">\n",
       "      <th></th>\n",
       "      <th>语文</th>\n",
       "      <th>数学</th>\n",
       "    </tr>\n",
       "  </thead>\n",
       "  <tbody>\n",
       "    <tr>\n",
       "      <th>学生0</th>\n",
       "      <td>94</td>\n",
       "      <td>86</td>\n",
       "    </tr>\n",
       "    <tr>\n",
       "      <th>学生1</th>\n",
       "      <td>72</td>\n",
       "      <td>70</td>\n",
       "    </tr>\n",
       "    <tr>\n",
       "      <th>学生2</th>\n",
       "      <td>93</td>\n",
       "      <td>92</td>\n",
       "    </tr>\n",
       "    <tr>\n",
       "      <th>学生3</th>\n",
       "      <td>98</td>\n",
       "      <td>76</td>\n",
       "    </tr>\n",
       "    <tr>\n",
       "      <th>学生4</th>\n",
       "      <td>47</td>\n",
       "      <td>99</td>\n",
       "    </tr>\n",
       "    <tr>\n",
       "      <th>学生5</th>\n",
       "      <td>98</td>\n",
       "      <td>71</td>\n",
       "    </tr>\n",
       "    <tr>\n",
       "      <th>学生6</th>\n",
       "      <td>85</td>\n",
       "      <td>94</td>\n",
       "    </tr>\n",
       "    <tr>\n",
       "      <th>学生7</th>\n",
       "      <td>72</td>\n",
       "      <td>45</td>\n",
       "    </tr>\n",
       "    <tr>\n",
       "      <th>学生8</th>\n",
       "      <td>41</td>\n",
       "      <td>47</td>\n",
       "    </tr>\n",
       "    <tr>\n",
       "      <th>学生9</th>\n",
       "      <td>81</td>\n",
       "      <td>50</td>\n",
       "    </tr>\n",
       "  </tbody>\n",
       "</table>\n",
       "</div>"
      ],
      "text/plain": [
       "     语文  数学\n",
       "学生0  94  86\n",
       "学生1  72  70\n",
       "学生2  93  92\n",
       "学生3  98  76\n",
       "学生4  47  99\n",
       "学生5  98  71\n",
       "学生6  85  94\n",
       "学生7  72  45\n",
       "学生8  41  47\n",
       "学生9  81  50"
      ]
     },
     "execution_count": 102,
     "metadata": {},
     "output_type": "execute_result"
    }
   ],
   "source": [
    "data.loc[:,'语文':'数学']#只能通过行列索引名字"
   ]
  },
  {
   "cell_type": "code",
   "execution_count": 103,
   "id": "dc4c84da",
   "metadata": {},
   "outputs": [
    {
     "data": {
      "text/html": [
       "<div>\n",
       "<style scoped>\n",
       "    .dataframe tbody tr th:only-of-type {\n",
       "        vertical-align: middle;\n",
       "    }\n",
       "\n",
       "    .dataframe tbody tr th {\n",
       "        vertical-align: top;\n",
       "    }\n",
       "\n",
       "    .dataframe thead th {\n",
       "        text-align: right;\n",
       "    }\n",
       "</style>\n",
       "<table border=\"1\" class=\"dataframe\">\n",
       "  <thead>\n",
       "    <tr style=\"text-align: right;\">\n",
       "      <th></th>\n",
       "      <th>语文</th>\n",
       "      <th>数学</th>\n",
       "      <th>英语</th>\n",
       "      <th>政治</th>\n",
       "      <th>体育</th>\n",
       "    </tr>\n",
       "  </thead>\n",
       "  <tbody>\n",
       "    <tr>\n",
       "      <th>学生0</th>\n",
       "      <td>94</td>\n",
       "      <td>86</td>\n",
       "      <td>68</td>\n",
       "      <td>53</td>\n",
       "      <td>71</td>\n",
       "    </tr>\n",
       "    <tr>\n",
       "      <th>学生1</th>\n",
       "      <td>72</td>\n",
       "      <td>70</td>\n",
       "      <td>88</td>\n",
       "      <td>91</td>\n",
       "      <td>55</td>\n",
       "    </tr>\n",
       "    <tr>\n",
       "      <th>学生2</th>\n",
       "      <td>93</td>\n",
       "      <td>92</td>\n",
       "      <td>60</td>\n",
       "      <td>96</td>\n",
       "      <td>50</td>\n",
       "    </tr>\n",
       "  </tbody>\n",
       "</table>\n",
       "</div>"
      ],
      "text/plain": [
       "     语文  数学  英语  政治  体育\n",
       "学生0  94  86  68  53  71\n",
       "学生1  72  70  88  91  55\n",
       "学生2  93  92  60  96  50"
      ]
     },
     "execution_count": 103,
     "metadata": {},
     "output_type": "execute_result"
    }
   ],
   "source": [
    "data.iloc[:3,:5]#通过索引下标"
   ]
  },
  {
   "cell_type": "markdown",
   "id": "d028056c",
   "metadata": {},
   "source": [
    "ix"
   ]
  },
  {
   "cell_type": "code",
   "execution_count": 104,
   "id": "f1e24b75",
   "metadata": {},
   "outputs": [
    {
     "data": {
      "text/html": [
       "<div>\n",
       "<style scoped>\n",
       "    .dataframe tbody tr th:only-of-type {\n",
       "        vertical-align: middle;\n",
       "    }\n",
       "\n",
       "    .dataframe tbody tr th {\n",
       "        vertical-align: top;\n",
       "    }\n",
       "\n",
       "    .dataframe thead th {\n",
       "        text-align: right;\n",
       "    }\n",
       "</style>\n",
       "<table border=\"1\" class=\"dataframe\">\n",
       "  <thead>\n",
       "    <tr style=\"text-align: right;\">\n",
       "      <th></th>\n",
       "      <th>语文</th>\n",
       "      <th>体育</th>\n",
       "    </tr>\n",
       "  </thead>\n",
       "  <tbody>\n",
       "    <tr>\n",
       "      <th>学生0</th>\n",
       "      <td>94</td>\n",
       "      <td>71</td>\n",
       "    </tr>\n",
       "    <tr>\n",
       "      <th>学生1</th>\n",
       "      <td>72</td>\n",
       "      <td>55</td>\n",
       "    </tr>\n",
       "    <tr>\n",
       "      <th>学生2</th>\n",
       "      <td>93</td>\n",
       "      <td>50</td>\n",
       "    </tr>\n",
       "    <tr>\n",
       "      <th>学生3</th>\n",
       "      <td>98</td>\n",
       "      <td>48</td>\n",
       "    </tr>\n",
       "  </tbody>\n",
       "</table>\n",
       "</div>"
      ],
      "text/plain": [
       "     语文  体育\n",
       "学生0  94  71\n",
       "学生1  72  55\n",
       "学生2  93  50\n",
       "学生3  98  48"
      ]
     },
     "execution_count": 104,
     "metadata": {},
     "output_type": "execute_result"
    }
   ],
   "source": [
    "data.loc[data.index[0:4],['语文','体育']]"
   ]
  },
  {
   "cell_type": "code",
   "execution_count": 105,
   "id": "918934c3",
   "metadata": {},
   "outputs": [
    {
     "data": {
      "text/html": [
       "<div>\n",
       "<style scoped>\n",
       "    .dataframe tbody tr th:only-of-type {\n",
       "        vertical-align: middle;\n",
       "    }\n",
       "\n",
       "    .dataframe tbody tr th {\n",
       "        vertical-align: top;\n",
       "    }\n",
       "\n",
       "    .dataframe thead th {\n",
       "        text-align: right;\n",
       "    }\n",
       "</style>\n",
       "<table border=\"1\" class=\"dataframe\">\n",
       "  <thead>\n",
       "    <tr style=\"text-align: right;\">\n",
       "      <th></th>\n",
       "      <th>语文</th>\n",
       "      <th>体育</th>\n",
       "    </tr>\n",
       "  </thead>\n",
       "  <tbody>\n",
       "    <tr>\n",
       "      <th>学生0</th>\n",
       "      <td>94</td>\n",
       "      <td>71</td>\n",
       "    </tr>\n",
       "    <tr>\n",
       "      <th>学生1</th>\n",
       "      <td>72</td>\n",
       "      <td>55</td>\n",
       "    </tr>\n",
       "    <tr>\n",
       "      <th>学生2</th>\n",
       "      <td>93</td>\n",
       "      <td>50</td>\n",
       "    </tr>\n",
       "    <tr>\n",
       "      <th>学生3</th>\n",
       "      <td>98</td>\n",
       "      <td>48</td>\n",
       "    </tr>\n",
       "  </tbody>\n",
       "</table>\n",
       "</div>"
      ],
      "text/plain": [
       "     语文  体育\n",
       "学生0  94  71\n",
       "学生1  72  55\n",
       "学生2  93  50\n",
       "学生3  98  48"
      ]
     },
     "execution_count": 105,
     "metadata": {},
     "output_type": "execute_result"
    }
   ],
   "source": [
    "data.iloc[0:4,data.columns.get_indexer(['语文','体育'])]"
   ]
  },
  {
   "cell_type": "markdown",
   "id": "76164007",
   "metadata": {},
   "source": [
    "赋值"
   ]
  },
  {
   "cell_type": "code",
   "execution_count": 106,
   "id": "79d20e1e",
   "metadata": {},
   "outputs": [],
   "source": [
    "data['语文']=1"
   ]
  },
  {
   "cell_type": "markdown",
   "id": "e76dd0f0",
   "metadata": {},
   "source": [
    "排序"
   ]
  },
  {
   "cell_type": "markdown",
   "id": "fc6d906a",
   "metadata": {},
   "source": [
    "sort_values"
   ]
  },
  {
   "cell_type": "code",
   "execution_count": 107,
   "id": "1055befc",
   "metadata": {},
   "outputs": [
    {
     "data": {
      "text/html": [
       "<div>\n",
       "<style scoped>\n",
       "    .dataframe tbody tr th:only-of-type {\n",
       "        vertical-align: middle;\n",
       "    }\n",
       "\n",
       "    .dataframe tbody tr th {\n",
       "        vertical-align: top;\n",
       "    }\n",
       "\n",
       "    .dataframe thead th {\n",
       "        text-align: right;\n",
       "    }\n",
       "</style>\n",
       "<table border=\"1\" class=\"dataframe\">\n",
       "  <thead>\n",
       "    <tr style=\"text-align: right;\">\n",
       "      <th></th>\n",
       "      <th>语文</th>\n",
       "      <th>数学</th>\n",
       "      <th>英语</th>\n",
       "      <th>政治</th>\n",
       "      <th>体育</th>\n",
       "    </tr>\n",
       "  </thead>\n",
       "  <tbody>\n",
       "    <tr>\n",
       "      <th>学生6</th>\n",
       "      <td>1</td>\n",
       "      <td>94</td>\n",
       "      <td>82</td>\n",
       "      <td>44</td>\n",
       "      <td>99</td>\n",
       "    </tr>\n",
       "    <tr>\n",
       "      <th>学生0</th>\n",
       "      <td>1</td>\n",
       "      <td>86</td>\n",
       "      <td>68</td>\n",
       "      <td>53</td>\n",
       "      <td>71</td>\n",
       "    </tr>\n",
       "    <tr>\n",
       "      <th>学生5</th>\n",
       "      <td>1</td>\n",
       "      <td>71</td>\n",
       "      <td>50</td>\n",
       "      <td>82</td>\n",
       "      <td>63</td>\n",
       "    </tr>\n",
       "    <tr>\n",
       "      <th>学生9</th>\n",
       "      <td>1</td>\n",
       "      <td>50</td>\n",
       "      <td>76</td>\n",
       "      <td>88</td>\n",
       "      <td>61</td>\n",
       "    </tr>\n",
       "    <tr>\n",
       "      <th>学生1</th>\n",
       "      <td>1</td>\n",
       "      <td>70</td>\n",
       "      <td>88</td>\n",
       "      <td>91</td>\n",
       "      <td>55</td>\n",
       "    </tr>\n",
       "    <tr>\n",
       "      <th>学生4</th>\n",
       "      <td>1</td>\n",
       "      <td>99</td>\n",
       "      <td>52</td>\n",
       "      <td>74</td>\n",
       "      <td>54</td>\n",
       "    </tr>\n",
       "    <tr>\n",
       "      <th>学生8</th>\n",
       "      <td>1</td>\n",
       "      <td>47</td>\n",
       "      <td>65</td>\n",
       "      <td>43</td>\n",
       "      <td>52</td>\n",
       "    </tr>\n",
       "    <tr>\n",
       "      <th>学生2</th>\n",
       "      <td>1</td>\n",
       "      <td>92</td>\n",
       "      <td>60</td>\n",
       "      <td>96</td>\n",
       "      <td>50</td>\n",
       "    </tr>\n",
       "    <tr>\n",
       "      <th>学生7</th>\n",
       "      <td>1</td>\n",
       "      <td>45</td>\n",
       "      <td>81</td>\n",
       "      <td>75</td>\n",
       "      <td>49</td>\n",
       "    </tr>\n",
       "    <tr>\n",
       "      <th>学生3</th>\n",
       "      <td>1</td>\n",
       "      <td>76</td>\n",
       "      <td>98</td>\n",
       "      <td>65</td>\n",
       "      <td>48</td>\n",
       "    </tr>\n",
       "  </tbody>\n",
       "</table>\n",
       "</div>"
      ],
      "text/plain": [
       "     语文  数学  英语  政治  体育\n",
       "学生6   1  94  82  44  99\n",
       "学生0   1  86  68  53  71\n",
       "学生5   1  71  50  82  63\n",
       "学生9   1  50  76  88  61\n",
       "学生1   1  70  88  91  55\n",
       "学生4   1  99  52  74  54\n",
       "学生8   1  47  65  43  52\n",
       "学生2   1  92  60  96  50\n",
       "学生7   1  45  81  75  49\n",
       "学生3   1  76  98  65  48"
      ]
     },
     "execution_count": 107,
     "metadata": {},
     "output_type": "execute_result"
    }
   ],
   "source": [
    "data.sort_values(by='体育',ascending=False)"
   ]
  },
  {
   "cell_type": "code",
   "execution_count": 108,
   "id": "0310dfbb",
   "metadata": {},
   "outputs": [
    {
     "data": {
      "text/html": [
       "<div>\n",
       "<style scoped>\n",
       "    .dataframe tbody tr th:only-of-type {\n",
       "        vertical-align: middle;\n",
       "    }\n",
       "\n",
       "    .dataframe tbody tr th {\n",
       "        vertical-align: top;\n",
       "    }\n",
       "\n",
       "    .dataframe thead th {\n",
       "        text-align: right;\n",
       "    }\n",
       "</style>\n",
       "<table border=\"1\" class=\"dataframe\">\n",
       "  <thead>\n",
       "    <tr style=\"text-align: right;\">\n",
       "      <th></th>\n",
       "      <th>语文</th>\n",
       "      <th>数学</th>\n",
       "      <th>英语</th>\n",
       "      <th>政治</th>\n",
       "      <th>体育</th>\n",
       "    </tr>\n",
       "  </thead>\n",
       "  <tbody>\n",
       "    <tr>\n",
       "      <th>学生3</th>\n",
       "      <td>1</td>\n",
       "      <td>76</td>\n",
       "      <td>98</td>\n",
       "      <td>65</td>\n",
       "      <td>48</td>\n",
       "    </tr>\n",
       "    <tr>\n",
       "      <th>学生7</th>\n",
       "      <td>1</td>\n",
       "      <td>45</td>\n",
       "      <td>81</td>\n",
       "      <td>75</td>\n",
       "      <td>49</td>\n",
       "    </tr>\n",
       "    <tr>\n",
       "      <th>学生2</th>\n",
       "      <td>1</td>\n",
       "      <td>92</td>\n",
       "      <td>60</td>\n",
       "      <td>96</td>\n",
       "      <td>50</td>\n",
       "    </tr>\n",
       "    <tr>\n",
       "      <th>学生8</th>\n",
       "      <td>1</td>\n",
       "      <td>47</td>\n",
       "      <td>65</td>\n",
       "      <td>43</td>\n",
       "      <td>52</td>\n",
       "    </tr>\n",
       "    <tr>\n",
       "      <th>学生4</th>\n",
       "      <td>1</td>\n",
       "      <td>99</td>\n",
       "      <td>52</td>\n",
       "      <td>74</td>\n",
       "      <td>54</td>\n",
       "    </tr>\n",
       "    <tr>\n",
       "      <th>学生1</th>\n",
       "      <td>1</td>\n",
       "      <td>70</td>\n",
       "      <td>88</td>\n",
       "      <td>91</td>\n",
       "      <td>55</td>\n",
       "    </tr>\n",
       "    <tr>\n",
       "      <th>学生9</th>\n",
       "      <td>1</td>\n",
       "      <td>50</td>\n",
       "      <td>76</td>\n",
       "      <td>88</td>\n",
       "      <td>61</td>\n",
       "    </tr>\n",
       "    <tr>\n",
       "      <th>学生5</th>\n",
       "      <td>1</td>\n",
       "      <td>71</td>\n",
       "      <td>50</td>\n",
       "      <td>82</td>\n",
       "      <td>63</td>\n",
       "    </tr>\n",
       "    <tr>\n",
       "      <th>学生0</th>\n",
       "      <td>1</td>\n",
       "      <td>86</td>\n",
       "      <td>68</td>\n",
       "      <td>53</td>\n",
       "      <td>71</td>\n",
       "    </tr>\n",
       "    <tr>\n",
       "      <th>学生6</th>\n",
       "      <td>1</td>\n",
       "      <td>94</td>\n",
       "      <td>82</td>\n",
       "      <td>44</td>\n",
       "      <td>99</td>\n",
       "    </tr>\n",
       "  </tbody>\n",
       "</table>\n",
       "</div>"
      ],
      "text/plain": [
       "     语文  数学  英语  政治  体育\n",
       "学生3   1  76  98  65  48\n",
       "学生7   1  45  81  75  49\n",
       "学生2   1  92  60  96  50\n",
       "学生8   1  47  65  43  52\n",
       "学生4   1  99  52  74  54\n",
       "学生1   1  70  88  91  55\n",
       "学生9   1  50  76  88  61\n",
       "学生5   1  71  50  82  63\n",
       "学生0   1  86  68  53  71\n",
       "学生6   1  94  82  44  99"
      ]
     },
     "execution_count": 108,
     "metadata": {},
     "output_type": "execute_result"
    }
   ],
   "source": [
    "data.sort_values(by=['体育','数学'])"
   ]
  },
  {
   "cell_type": "markdown",
   "id": "d75e49ab",
   "metadata": {},
   "source": [
    "sort_index索引排序"
   ]
  },
  {
   "cell_type": "code",
   "execution_count": 109,
   "id": "0b28b244",
   "metadata": {},
   "outputs": [
    {
     "data": {
      "text/html": [
       "<div>\n",
       "<style scoped>\n",
       "    .dataframe tbody tr th:only-of-type {\n",
       "        vertical-align: middle;\n",
       "    }\n",
       "\n",
       "    .dataframe tbody tr th {\n",
       "        vertical-align: top;\n",
       "    }\n",
       "\n",
       "    .dataframe thead th {\n",
       "        text-align: right;\n",
       "    }\n",
       "</style>\n",
       "<table border=\"1\" class=\"dataframe\">\n",
       "  <thead>\n",
       "    <tr style=\"text-align: right;\">\n",
       "      <th></th>\n",
       "      <th>语文</th>\n",
       "      <th>数学</th>\n",
       "      <th>英语</th>\n",
       "      <th>政治</th>\n",
       "      <th>体育</th>\n",
       "    </tr>\n",
       "  </thead>\n",
       "  <tbody>\n",
       "    <tr>\n",
       "      <th>学生0</th>\n",
       "      <td>1</td>\n",
       "      <td>86</td>\n",
       "      <td>68</td>\n",
       "      <td>53</td>\n",
       "      <td>71</td>\n",
       "    </tr>\n",
       "    <tr>\n",
       "      <th>学生1</th>\n",
       "      <td>1</td>\n",
       "      <td>70</td>\n",
       "      <td>88</td>\n",
       "      <td>91</td>\n",
       "      <td>55</td>\n",
       "    </tr>\n",
       "    <tr>\n",
       "      <th>学生2</th>\n",
       "      <td>1</td>\n",
       "      <td>92</td>\n",
       "      <td>60</td>\n",
       "      <td>96</td>\n",
       "      <td>50</td>\n",
       "    </tr>\n",
       "    <tr>\n",
       "      <th>学生3</th>\n",
       "      <td>1</td>\n",
       "      <td>76</td>\n",
       "      <td>98</td>\n",
       "      <td>65</td>\n",
       "      <td>48</td>\n",
       "    </tr>\n",
       "    <tr>\n",
       "      <th>学生4</th>\n",
       "      <td>1</td>\n",
       "      <td>99</td>\n",
       "      <td>52</td>\n",
       "      <td>74</td>\n",
       "      <td>54</td>\n",
       "    </tr>\n",
       "    <tr>\n",
       "      <th>学生5</th>\n",
       "      <td>1</td>\n",
       "      <td>71</td>\n",
       "      <td>50</td>\n",
       "      <td>82</td>\n",
       "      <td>63</td>\n",
       "    </tr>\n",
       "    <tr>\n",
       "      <th>学生6</th>\n",
       "      <td>1</td>\n",
       "      <td>94</td>\n",
       "      <td>82</td>\n",
       "      <td>44</td>\n",
       "      <td>99</td>\n",
       "    </tr>\n",
       "    <tr>\n",
       "      <th>学生7</th>\n",
       "      <td>1</td>\n",
       "      <td>45</td>\n",
       "      <td>81</td>\n",
       "      <td>75</td>\n",
       "      <td>49</td>\n",
       "    </tr>\n",
       "    <tr>\n",
       "      <th>学生8</th>\n",
       "      <td>1</td>\n",
       "      <td>47</td>\n",
       "      <td>65</td>\n",
       "      <td>43</td>\n",
       "      <td>52</td>\n",
       "    </tr>\n",
       "    <tr>\n",
       "      <th>学生9</th>\n",
       "      <td>1</td>\n",
       "      <td>50</td>\n",
       "      <td>76</td>\n",
       "      <td>88</td>\n",
       "      <td>61</td>\n",
       "    </tr>\n",
       "  </tbody>\n",
       "</table>\n",
       "</div>"
      ],
      "text/plain": [
       "     语文  数学  英语  政治  体育\n",
       "学生0   1  86  68  53  71\n",
       "学生1   1  70  88  91  55\n",
       "学生2   1  92  60  96  50\n",
       "学生3   1  76  98  65  48\n",
       "学生4   1  99  52  74  54\n",
       "学生5   1  71  50  82  63\n",
       "学生6   1  94  82  44  99\n",
       "学生7   1  45  81  75  49\n",
       "学生8   1  47  65  43  52\n",
       "学生9   1  50  76  88  61"
      ]
     },
     "execution_count": 109,
     "metadata": {},
     "output_type": "execute_result"
    }
   ],
   "source": [
    "data.sort_index()"
   ]
  },
  {
   "cell_type": "markdown",
   "id": "a7f29206",
   "metadata": {},
   "source": [
    "Seroes排序"
   ]
  },
  {
   "cell_type": "code",
   "execution_count": 110,
   "id": "16735f5b",
   "metadata": {},
   "outputs": [
    {
     "data": {
      "text/plain": [
       "学生6    99\n",
       "学生0    71\n",
       "学生5    63\n",
       "学生9    61\n",
       "学生1    55\n",
       "学生4    54\n",
       "学生8    52\n",
       "学生2    50\n",
       "学生7    49\n",
       "学生3    48\n",
       "Name: 体育, dtype: int64"
      ]
     },
     "execution_count": 110,
     "metadata": {},
     "output_type": "execute_result"
    }
   ],
   "source": [
    "data['体育'].sort_values(ascending=False)"
   ]
  },
  {
   "cell_type": "code",
   "execution_count": 111,
   "id": "19feb38f",
   "metadata": {},
   "outputs": [
    {
     "data": {
      "text/html": [
       "<div>\n",
       "<style scoped>\n",
       "    .dataframe tbody tr th:only-of-type {\n",
       "        vertical-align: middle;\n",
       "    }\n",
       "\n",
       "    .dataframe tbody tr th {\n",
       "        vertical-align: top;\n",
       "    }\n",
       "\n",
       "    .dataframe thead th {\n",
       "        text-align: right;\n",
       "    }\n",
       "</style>\n",
       "<table border=\"1\" class=\"dataframe\">\n",
       "  <thead>\n",
       "    <tr style=\"text-align: right;\">\n",
       "      <th></th>\n",
       "      <th>语文</th>\n",
       "      <th>数学</th>\n",
       "      <th>英语</th>\n",
       "      <th>政治</th>\n",
       "      <th>体育</th>\n",
       "    </tr>\n",
       "  </thead>\n",
       "  <tbody>\n",
       "    <tr>\n",
       "      <th>学生0</th>\n",
       "      <td>1</td>\n",
       "      <td>86</td>\n",
       "      <td>68</td>\n",
       "      <td>53</td>\n",
       "      <td>71</td>\n",
       "    </tr>\n",
       "    <tr>\n",
       "      <th>学生1</th>\n",
       "      <td>1</td>\n",
       "      <td>70</td>\n",
       "      <td>88</td>\n",
       "      <td>91</td>\n",
       "      <td>55</td>\n",
       "    </tr>\n",
       "    <tr>\n",
       "      <th>学生2</th>\n",
       "      <td>1</td>\n",
       "      <td>92</td>\n",
       "      <td>60</td>\n",
       "      <td>96</td>\n",
       "      <td>50</td>\n",
       "    </tr>\n",
       "    <tr>\n",
       "      <th>学生3</th>\n",
       "      <td>1</td>\n",
       "      <td>76</td>\n",
       "      <td>98</td>\n",
       "      <td>65</td>\n",
       "      <td>48</td>\n",
       "    </tr>\n",
       "    <tr>\n",
       "      <th>学生4</th>\n",
       "      <td>1</td>\n",
       "      <td>99</td>\n",
       "      <td>52</td>\n",
       "      <td>74</td>\n",
       "      <td>54</td>\n",
       "    </tr>\n",
       "    <tr>\n",
       "      <th>学生5</th>\n",
       "      <td>1</td>\n",
       "      <td>71</td>\n",
       "      <td>50</td>\n",
       "      <td>82</td>\n",
       "      <td>63</td>\n",
       "    </tr>\n",
       "    <tr>\n",
       "      <th>学生6</th>\n",
       "      <td>1</td>\n",
       "      <td>94</td>\n",
       "      <td>82</td>\n",
       "      <td>44</td>\n",
       "      <td>99</td>\n",
       "    </tr>\n",
       "    <tr>\n",
       "      <th>学生7</th>\n",
       "      <td>1</td>\n",
       "      <td>45</td>\n",
       "      <td>81</td>\n",
       "      <td>75</td>\n",
       "      <td>49</td>\n",
       "    </tr>\n",
       "    <tr>\n",
       "      <th>学生8</th>\n",
       "      <td>1</td>\n",
       "      <td>47</td>\n",
       "      <td>65</td>\n",
       "      <td>43</td>\n",
       "      <td>52</td>\n",
       "    </tr>\n",
       "    <tr>\n",
       "      <th>学生9</th>\n",
       "      <td>1</td>\n",
       "      <td>50</td>\n",
       "      <td>76</td>\n",
       "      <td>88</td>\n",
       "      <td>61</td>\n",
       "    </tr>\n",
       "  </tbody>\n",
       "</table>\n",
       "</div>"
      ],
      "text/plain": [
       "     语文  数学  英语  政治  体育\n",
       "学生0   1  86  68  53  71\n",
       "学生1   1  70  88  91  55\n",
       "学生2   1  92  60  96  50\n",
       "学生3   1  76  98  65  48\n",
       "学生4   1  99  52  74  54\n",
       "学生5   1  71  50  82  63\n",
       "学生6   1  94  82  44  99\n",
       "学生7   1  45  81  75  49\n",
       "学生8   1  47  65  43  52\n",
       "学生9   1  50  76  88  61"
      ]
     },
     "execution_count": 111,
     "metadata": {},
     "output_type": "execute_result"
    }
   ],
   "source": [
    "data.sort_index()"
   ]
  },
  {
   "cell_type": "markdown",
   "id": "9d45ad19",
   "metadata": {},
   "source": [
    "算数运算"
   ]
  },
  {
   "cell_type": "code",
   "execution_count": 112,
   "id": "8bdcbaf7",
   "metadata": {},
   "outputs": [
    {
     "data": {
      "text/plain": [
       "学生0     72\n",
       "学生1     56\n",
       "学生2     51\n",
       "学生3     49\n",
       "学生4     55\n",
       "学生5     64\n",
       "学生6    100\n",
       "学生7     50\n",
       "学生8     53\n",
       "学生9     62\n",
       "Name: 体育, dtype: int64"
      ]
     },
     "execution_count": 112,
     "metadata": {},
     "output_type": "execute_result"
    }
   ],
   "source": [
    "data['体育'].add(1)"
   ]
  },
  {
   "cell_type": "markdown",
   "id": "70c650c5",
   "metadata": {},
   "source": [
    "逻辑运算"
   ]
  },
  {
   "cell_type": "code",
   "execution_count": 113,
   "id": "613f9c46",
   "metadata": {},
   "outputs": [
    {
     "data": {
      "text/plain": [
       "学生0     True\n",
       "学生1    False\n",
       "学生2    False\n",
       "学生3    False\n",
       "学生4    False\n",
       "学生5     True\n",
       "学生6     True\n",
       "学生7    False\n",
       "学生8    False\n",
       "学生9     True\n",
       "Name: 体育, dtype: bool"
      ]
     },
     "execution_count": 113,
     "metadata": {},
     "output_type": "execute_result"
    }
   ],
   "source": [
    "data['体育']>60"
   ]
  },
  {
   "cell_type": "code",
   "execution_count": 114,
   "id": "bebb247a",
   "metadata": {},
   "outputs": [
    {
     "data": {
      "text/html": [
       "<div>\n",
       "<style scoped>\n",
       "    .dataframe tbody tr th:only-of-type {\n",
       "        vertical-align: middle;\n",
       "    }\n",
       "\n",
       "    .dataframe tbody tr th {\n",
       "        vertical-align: top;\n",
       "    }\n",
       "\n",
       "    .dataframe thead th {\n",
       "        text-align: right;\n",
       "    }\n",
       "</style>\n",
       "<table border=\"1\" class=\"dataframe\">\n",
       "  <thead>\n",
       "    <tr style=\"text-align: right;\">\n",
       "      <th></th>\n",
       "      <th>语文</th>\n",
       "      <th>数学</th>\n",
       "      <th>英语</th>\n",
       "      <th>政治</th>\n",
       "      <th>体育</th>\n",
       "    </tr>\n",
       "  </thead>\n",
       "  <tbody>\n",
       "    <tr>\n",
       "      <th>学生0</th>\n",
       "      <td>1</td>\n",
       "      <td>86</td>\n",
       "      <td>68</td>\n",
       "      <td>53</td>\n",
       "      <td>71</td>\n",
       "    </tr>\n",
       "    <tr>\n",
       "      <th>学生5</th>\n",
       "      <td>1</td>\n",
       "      <td>71</td>\n",
       "      <td>50</td>\n",
       "      <td>82</td>\n",
       "      <td>63</td>\n",
       "    </tr>\n",
       "    <tr>\n",
       "      <th>学生6</th>\n",
       "      <td>1</td>\n",
       "      <td>94</td>\n",
       "      <td>82</td>\n",
       "      <td>44</td>\n",
       "      <td>99</td>\n",
       "    </tr>\n",
       "  </tbody>\n",
       "</table>\n",
       "</div>"
      ],
      "text/plain": [
       "     语文  数学  英语  政治  体育\n",
       "学生0   1  86  68  53  71\n",
       "学生5   1  71  50  82  63\n",
       "学生6   1  94  82  44  99"
      ]
     },
     "execution_count": 114,
     "metadata": {},
     "output_type": "execute_result"
    }
   ],
   "source": [
    "data[(data['体育']>60)&(data['数学']>60)]"
   ]
  },
  {
   "cell_type": "markdown",
   "id": "d151f4e6",
   "metadata": {},
   "source": [
    "统计函数"
   ]
  },
  {
   "cell_type": "code",
   "execution_count": 115,
   "id": "288e30cd",
   "metadata": {},
   "outputs": [
    {
     "data": {
      "text/html": [
       "<div>\n",
       "<style scoped>\n",
       "    .dataframe tbody tr th:only-of-type {\n",
       "        vertical-align: middle;\n",
       "    }\n",
       "\n",
       "    .dataframe tbody tr th {\n",
       "        vertical-align: top;\n",
       "    }\n",
       "\n",
       "    .dataframe thead th {\n",
       "        text-align: right;\n",
       "    }\n",
       "</style>\n",
       "<table border=\"1\" class=\"dataframe\">\n",
       "  <thead>\n",
       "    <tr style=\"text-align: right;\">\n",
       "      <th></th>\n",
       "      <th>语文</th>\n",
       "      <th>数学</th>\n",
       "      <th>英语</th>\n",
       "      <th>政治</th>\n",
       "      <th>体育</th>\n",
       "    </tr>\n",
       "  </thead>\n",
       "  <tbody>\n",
       "    <tr>\n",
       "      <th>count</th>\n",
       "      <td>10.0</td>\n",
       "      <td>10.000000</td>\n",
       "      <td>10.000000</td>\n",
       "      <td>10.000000</td>\n",
       "      <td>10.000000</td>\n",
       "    </tr>\n",
       "    <tr>\n",
       "      <th>mean</th>\n",
       "      <td>1.0</td>\n",
       "      <td>73.000000</td>\n",
       "      <td>72.000000</td>\n",
       "      <td>71.100000</td>\n",
       "      <td>60.200000</td>\n",
       "    </tr>\n",
       "    <tr>\n",
       "      <th>std</th>\n",
       "      <td>0.0</td>\n",
       "      <td>20.160467</td>\n",
       "      <td>15.712698</td>\n",
       "      <td>19.243758</td>\n",
       "      <td>15.425808</td>\n",
       "    </tr>\n",
       "    <tr>\n",
       "      <th>min</th>\n",
       "      <td>1.0</td>\n",
       "      <td>45.000000</td>\n",
       "      <td>50.000000</td>\n",
       "      <td>43.000000</td>\n",
       "      <td>48.000000</td>\n",
       "    </tr>\n",
       "    <tr>\n",
       "      <th>25%</th>\n",
       "      <td>1.0</td>\n",
       "      <td>55.000000</td>\n",
       "      <td>61.250000</td>\n",
       "      <td>56.000000</td>\n",
       "      <td>50.500000</td>\n",
       "    </tr>\n",
       "    <tr>\n",
       "      <th>50%</th>\n",
       "      <td>1.0</td>\n",
       "      <td>73.500000</td>\n",
       "      <td>72.000000</td>\n",
       "      <td>74.500000</td>\n",
       "      <td>54.500000</td>\n",
       "    </tr>\n",
       "    <tr>\n",
       "      <th>75%</th>\n",
       "      <td>1.0</td>\n",
       "      <td>90.500000</td>\n",
       "      <td>81.750000</td>\n",
       "      <td>86.500000</td>\n",
       "      <td>62.500000</td>\n",
       "    </tr>\n",
       "    <tr>\n",
       "      <th>max</th>\n",
       "      <td>1.0</td>\n",
       "      <td>99.000000</td>\n",
       "      <td>98.000000</td>\n",
       "      <td>96.000000</td>\n",
       "      <td>99.000000</td>\n",
       "    </tr>\n",
       "  </tbody>\n",
       "</table>\n",
       "</div>"
      ],
      "text/plain": [
       "         语文         数学         英语         政治         体育\n",
       "count  10.0  10.000000  10.000000  10.000000  10.000000\n",
       "mean    1.0  73.000000  72.000000  71.100000  60.200000\n",
       "std     0.0  20.160467  15.712698  19.243758  15.425808\n",
       "min     1.0  45.000000  50.000000  43.000000  48.000000\n",
       "25%     1.0  55.000000  61.250000  56.000000  50.500000\n",
       "50%     1.0  73.500000  72.000000  74.500000  54.500000\n",
       "75%     1.0  90.500000  81.750000  86.500000  62.500000\n",
       "max     1.0  99.000000  98.000000  96.000000  99.000000"
      ]
     },
     "execution_count": 115,
     "metadata": {},
     "output_type": "execute_result"
    }
   ],
   "source": [
    "data.describe()#数量，平均值，标准差，最小值，25%百分位数，50%百分位数，75%百分位数，最大值"
   ]
  },
  {
   "cell_type": "markdown",
   "id": "7a7bdf53",
   "metadata": {},
   "source": [
    "mode众数"
   ]
  },
  {
   "cell_type": "markdown",
   "id": "25ae2277",
   "metadata": {},
   "source": [
    "abs绝对值"
   ]
  },
  {
   "cell_type": "markdown",
   "id": "5e6f9bde",
   "metadata": {},
   "source": [
    "idxmin最小值索引"
   ]
  },
  {
   "cell_type": "code",
   "execution_count": 116,
   "id": "2e55374c",
   "metadata": {},
   "outputs": [
    {
     "data": {
      "text/plain": [
       "语文    学生0\n",
       "数学    学生7\n",
       "英语    学生5\n",
       "政治    学生8\n",
       "体育    学生3\n",
       "dtype: object"
      ]
     },
     "execution_count": 116,
     "metadata": {},
     "output_type": "execute_result"
    }
   ],
   "source": [
    "data.idxmin()"
   ]
  },
  {
   "cell_type": "markdown",
   "id": "054bb4db",
   "metadata": {},
   "source": [
    "idxmax最大值索引"
   ]
  },
  {
   "cell_type": "code",
   "execution_count": 117,
   "id": "2d0939ef",
   "metadata": {},
   "outputs": [
    {
     "data": {
      "text/plain": [
       "语文    学生0\n",
       "数学    学生4\n",
       "英语    学生3\n",
       "政治    学生2\n",
       "体育    学生6\n",
       "dtype: object"
      ]
     },
     "execution_count": 117,
     "metadata": {},
     "output_type": "execute_result"
    }
   ],
   "source": [
    "data.idxmax()"
   ]
  },
  {
   "cell_type": "markdown",
   "id": "56a1fb8c",
   "metadata": {},
   "source": [
    "统计时默认按列"
   ]
  },
  {
   "cell_type": "markdown",
   "id": "7f53bd6f",
   "metadata": {},
   "source": [
    "medain中位数"
   ]
  },
  {
   "cell_type": "code",
   "execution_count": 118,
   "id": "eaabe76c",
   "metadata": {},
   "outputs": [
    {
     "data": {
      "text/plain": [
       "d1    2.5\n",
       "d2    3.5\n",
       "dtype: float64"
      ]
     },
     "execution_count": 118,
     "metadata": {},
     "output_type": "execute_result"
    }
   ],
   "source": [
    "df=pd.DataFrame({'d1':[1,3,5,2],\n",
    "                 'd2':[2,3,4,5]})\n",
    "df.median()"
   ]
  },
  {
   "cell_type": "markdown",
   "id": "76efe4de",
   "metadata": {},
   "source": [
    "累计统计函数"
   ]
  },
  {
   "cell_type": "markdown",
   "id": "30448865",
   "metadata": {},
   "source": [
    "cumsum累加和"
   ]
  },
  {
   "cell_type": "markdown",
   "id": "147b8e52",
   "metadata": {},
   "source": [
    "cummax最大值"
   ]
  },
  {
   "cell_type": "markdown",
   "id": "54b6a902",
   "metadata": {},
   "source": [
    "cummin最小值"
   ]
  },
  {
   "cell_type": "markdown",
   "id": "95686b6b",
   "metadata": {},
   "source": [
    "cumprod乘积"
   ]
  },
  {
   "cell_type": "code",
   "execution_count": 119,
   "id": "34606a11",
   "metadata": {},
   "outputs": [],
   "source": [
    "data=data.sort_index()"
   ]
  },
  {
   "cell_type": "code",
   "execution_count": 120,
   "id": "1cb2a610",
   "metadata": {},
   "outputs": [
    {
     "data": {
      "text/plain": [
       "<Axes: >"
      ]
     },
     "execution_count": 120,
     "metadata": {},
     "output_type": "execute_result"
    },
    {
     "name": "stderr",
     "output_type": "stream",
     "text": [
      "/home/liuyongze/vs/.venv/lib/python3.11/site-packages/IPython/core/events.py:82: UserWarning: Glyph 23398 (\\N{CJK UNIFIED IDEOGRAPH-5B66}) missing from font(s) DejaVu Sans.\n",
      "  func(*args, **kwargs)\n",
      "/home/liuyongze/vs/.venv/lib/python3.11/site-packages/IPython/core/events.py:82: UserWarning: Glyph 29983 (\\N{CJK UNIFIED IDEOGRAPH-751F}) missing from font(s) DejaVu Sans.\n",
      "  func(*args, **kwargs)\n",
      "/home/liuyongze/vs/.venv/lib/python3.11/site-packages/IPython/core/pylabtools.py:170: UserWarning: Glyph 23398 (\\N{CJK UNIFIED IDEOGRAPH-5B66}) missing from font(s) DejaVu Sans.\n",
      "  fig.canvas.print_figure(bytes_io, **kw)\n",
      "/home/liuyongze/vs/.venv/lib/python3.11/site-packages/IPython/core/pylabtools.py:170: UserWarning: Glyph 29983 (\\N{CJK UNIFIED IDEOGRAPH-751F}) missing from font(s) DejaVu Sans.\n",
      "  fig.canvas.print_figure(bytes_io, **kw)\n"
     ]
    },
    {
     "data": {
      "image/png": "[encoded data removed]",
      "text/plain": [
       "<Figure size 640x480 with 1 Axes>"
      ]
     },
     "metadata": {},
     "output_type": "display_data"
    }
   ],
   "source": [
    "s=data['数学']\n",
    "s.cumsum()\n",
    "import matplotlib as plt\n",
    "s.cumsum().plot()\n"
   ]
  },
  {
   "cell_type": "markdown",
   "id": "667d5028",
   "metadata": {},
   "source": [
    "自定义运算"
   ]
  },
  {
   "cell_type": "markdown",
   "id": "be727f05",
   "metadata": {},
   "source": [
    "apply(func,axis=0)func自定义函数，axis=0默认为列"
   ]
  },
  {
   "cell_type": "code",
   "execution_count": 121,
   "id": "cb49d6cd",
   "metadata": {},
   "outputs": [
    {
     "data": {
      "text/plain": [
       "体育    51\n",
       "数学    54\n",
       "dtype: int64"
      ]
     },
     "execution_count": 121,
     "metadata": {},
     "output_type": "execute_result"
    }
   ],
   "source": [
    "data[['体育','数学']].apply(lambda x:x.max()-x.min(),axis=0)"
   ]
  },
  {
   "cell_type": "markdown",
   "id": "380b1e1e",
   "metadata": {},
   "source": [
    "### 代码解释\n",
    "\n",
    "以下代码对 `data` 数据框的两列（`体育` 和 `数学`）应用了一个自定义函数，计算每列的最大值与最小值之差：\n",
    "\n",
    "```python\n",
    "data[['体育','数学']].apply(lambda x: x.max() - x.min(), axis=0)\n",
    "```\n",
    "\n",
    "- `data[['体育','数学']]`：选取数据框中的两列 `体育` 和 `数学`。\n",
    "- `.apply(lambda x: x.max() - x.min(), axis=0)`：对每列（`axis=0` 表示按列操作）应用匿名函数 `lambda x: x.max() - x.min()`。\n",
    "  - `x.max()`：计算列的最大值。\n",
    "  - `x.min()`：计算列的最小值。\n",
    "- 返回结果是一个包含两列最大值与最小值差值的 `Series` 对象。"
   ]
  },
  {
   "cell_type": "markdown",
   "id": "b760a6a1",
   "metadata": {},
   "source": [
    "缺失值处理"
   ]
  },
  {
   "cell_type": "code",
   "execution_count": 122,
   "id": "c3423eb7",
   "metadata": {},
   "outputs": [
    {
     "data": {
      "text/html": [
       "<div>\n",
       "<style scoped>\n",
       "    .dataframe tbody tr th:only-of-type {\n",
       "        vertical-align: middle;\n",
       "    }\n",
       "\n",
       "    .dataframe tbody tr th {\n",
       "        vertical-align: top;\n",
       "    }\n",
       "\n",
       "    .dataframe thead th {\n",
       "        text-align: right;\n",
       "    }\n",
       "</style>\n",
       "<table border=\"1\" class=\"dataframe\">\n",
       "  <thead>\n",
       "    <tr style=\"text-align: right;\">\n",
       "      <th></th>\n",
       "      <th>语文</th>\n",
       "      <th>数学</th>\n",
       "      <th>英语</th>\n",
       "      <th>政治</th>\n",
       "      <th>体育</th>\n",
       "    </tr>\n",
       "  </thead>\n",
       "  <tbody>\n",
       "    <tr>\n",
       "      <th>学生0</th>\n",
       "      <td>1</td>\n",
       "      <td>86</td>\n",
       "      <td>68</td>\n",
       "      <td>53</td>\n",
       "      <td>71</td>\n",
       "    </tr>\n",
       "    <tr>\n",
       "      <th>学生1</th>\n",
       "      <td>1</td>\n",
       "      <td>70</td>\n",
       "      <td>88</td>\n",
       "      <td>91</td>\n",
       "      <td>55</td>\n",
       "    </tr>\n",
       "    <tr>\n",
       "      <th>学生2</th>\n",
       "      <td>1</td>\n",
       "      <td>92</td>\n",
       "      <td>60</td>\n",
       "      <td>96</td>\n",
       "      <td>50</td>\n",
       "    </tr>\n",
       "    <tr>\n",
       "      <th>学生3</th>\n",
       "      <td>1</td>\n",
       "      <td>76</td>\n",
       "      <td>98</td>\n",
       "      <td>65</td>\n",
       "      <td>48</td>\n",
       "    </tr>\n",
       "    <tr>\n",
       "      <th>学生4</th>\n",
       "      <td>1</td>\n",
       "      <td>99</td>\n",
       "      <td>52</td>\n",
       "      <td>74</td>\n",
       "      <td>54</td>\n",
       "    </tr>\n",
       "    <tr>\n",
       "      <th>学生5</th>\n",
       "      <td>1</td>\n",
       "      <td>71</td>\n",
       "      <td>50</td>\n",
       "      <td>82</td>\n",
       "      <td>63</td>\n",
       "    </tr>\n",
       "    <tr>\n",
       "      <th>学生6</th>\n",
       "      <td>1</td>\n",
       "      <td>94</td>\n",
       "      <td>82</td>\n",
       "      <td>44</td>\n",
       "      <td>99</td>\n",
       "    </tr>\n",
       "    <tr>\n",
       "      <th>学生7</th>\n",
       "      <td>1</td>\n",
       "      <td>45</td>\n",
       "      <td>81</td>\n",
       "      <td>75</td>\n",
       "      <td>49</td>\n",
       "    </tr>\n",
       "    <tr>\n",
       "      <th>学生8</th>\n",
       "      <td>1</td>\n",
       "      <td>47</td>\n",
       "      <td>65</td>\n",
       "      <td>43</td>\n",
       "      <td>52</td>\n",
       "    </tr>\n",
       "    <tr>\n",
       "      <th>学生9</th>\n",
       "      <td>1</td>\n",
       "      <td>50</td>\n",
       "      <td>76</td>\n",
       "      <td>88</td>\n",
       "      <td>61</td>\n",
       "    </tr>\n",
       "  </tbody>\n",
       "</table>\n",
       "</div>"
      ],
      "text/plain": [
       "     语文  数学  英语  政治  体育\n",
       "学生0   1  86  68  53  71\n",
       "学生1   1  70  88  91  55\n",
       "学生2   1  92  60  96  50\n",
       "学生3   1  76  98  65  48\n",
       "学生4   1  99  52  74  54\n",
       "学生5   1  71  50  82  63\n",
       "学生6   1  94  82  44  99\n",
       "学生7   1  45  81  75  49\n",
       "学生8   1  47  65  43  52\n",
       "学生9   1  50  76  88  61"
      ]
     },
     "execution_count": 122,
     "metadata": {},
     "output_type": "execute_result"
    }
   ],
   "source": [
    "data"
   ]
  },
  {
   "cell_type": "code",
   "execution_count": 123,
   "id": "56eae850",
   "metadata": {},
   "outputs": [
    {
     "data": {
      "text/html": [
       "<div>\n",
       "<style scoped>\n",
       "    .dataframe tbody tr th:only-of-type {\n",
       "        vertical-align: middle;\n",
       "    }\n",
       "\n",
       "    .dataframe tbody tr th {\n",
       "        vertical-align: top;\n",
       "    }\n",
       "\n",
       "    .dataframe thead th {\n",
       "        text-align: right;\n",
       "    }\n",
       "</style>\n",
       "<table border=\"1\" class=\"dataframe\">\n",
       "  <thead>\n",
       "    <tr style=\"text-align: right;\">\n",
       "      <th></th>\n",
       "      <th>语文</th>\n",
       "      <th>数学</th>\n",
       "      <th>英语</th>\n",
       "      <th>政治</th>\n",
       "      <th>体育</th>\n",
       "    </tr>\n",
       "  </thead>\n",
       "  <tbody>\n",
       "    <tr>\n",
       "      <th>学生0</th>\n",
       "      <td>False</td>\n",
       "      <td>False</td>\n",
       "      <td>False</td>\n",
       "      <td>False</td>\n",
       "      <td>False</td>\n",
       "    </tr>\n",
       "    <tr>\n",
       "      <th>学生1</th>\n",
       "      <td>False</td>\n",
       "      <td>False</td>\n",
       "      <td>False</td>\n",
       "      <td>False</td>\n",
       "      <td>False</td>\n",
       "    </tr>\n",
       "    <tr>\n",
       "      <th>学生2</th>\n",
       "      <td>False</td>\n",
       "      <td>False</td>\n",
       "      <td>False</td>\n",
       "      <td>False</td>\n",
       "      <td>False</td>\n",
       "    </tr>\n",
       "    <tr>\n",
       "      <th>学生3</th>\n",
       "      <td>False</td>\n",
       "      <td>False</td>\n",
       "      <td>False</td>\n",
       "      <td>False</td>\n",
       "      <td>False</td>\n",
       "    </tr>\n",
       "    <tr>\n",
       "      <th>学生4</th>\n",
       "      <td>False</td>\n",
       "      <td>False</td>\n",
       "      <td>False</td>\n",
       "      <td>False</td>\n",
       "      <td>False</td>\n",
       "    </tr>\n",
       "    <tr>\n",
       "      <th>学生5</th>\n",
       "      <td>False</td>\n",
       "      <td>False</td>\n",
       "      <td>False</td>\n",
       "      <td>False</td>\n",
       "      <td>False</td>\n",
       "    </tr>\n",
       "    <tr>\n",
       "      <th>学生6</th>\n",
       "      <td>False</td>\n",
       "      <td>False</td>\n",
       "      <td>False</td>\n",
       "      <td>False</td>\n",
       "      <td>False</td>\n",
       "    </tr>\n",
       "    <tr>\n",
       "      <th>学生7</th>\n",
       "      <td>False</td>\n",
       "      <td>False</td>\n",
       "      <td>False</td>\n",
       "      <td>False</td>\n",
       "      <td>False</td>\n",
       "    </tr>\n",
       "    <tr>\n",
       "      <th>学生8</th>\n",
       "      <td>False</td>\n",
       "      <td>False</td>\n",
       "      <td>False</td>\n",
       "      <td>False</td>\n",
       "      <td>False</td>\n",
       "    </tr>\n",
       "    <tr>\n",
       "      <th>学生9</th>\n",
       "      <td>False</td>\n",
       "      <td>False</td>\n",
       "      <td>False</td>\n",
       "      <td>False</td>\n",
       "      <td>False</td>\n",
       "    </tr>\n",
       "  </tbody>\n",
       "</table>\n",
       "</div>"
      ],
      "text/plain": [
       "        语文     数学     英语     政治     体育\n",
       "学生0  False  False  False  False  False\n",
       "学生1  False  False  False  False  False\n",
       "学生2  False  False  False  False  False\n",
       "学生3  False  False  False  False  False\n",
       "学生4  False  False  False  False  False\n",
       "学生5  False  False  False  False  False\n",
       "学生6  False  False  False  False  False\n",
       "学生7  False  False  False  False  False\n",
       "学生8  False  False  False  False  False\n",
       "学生9  False  False  False  False  False"
      ]
     },
     "execution_count": 123,
     "metadata": {},
     "output_type": "execute_result"
    }
   ],
   "source": [
    "pd.isnull(data)"
   ]
  },
  {
   "cell_type": "code",
   "execution_count": 124,
   "id": "f9da0c02",
   "metadata": {},
   "outputs": [
    {
     "data": {
      "text/html": [
       "<div>\n",
       "<style scoped>\n",
       "    .dataframe tbody tr th:only-of-type {\n",
       "        vertical-align: middle;\n",
       "    }\n",
       "\n",
       "    .dataframe tbody tr th {\n",
       "        vertical-align: top;\n",
       "    }\n",
       "\n",
       "    .dataframe thead th {\n",
       "        text-align: right;\n",
       "    }\n",
       "</style>\n",
       "<table border=\"1\" class=\"dataframe\">\n",
       "  <thead>\n",
       "    <tr style=\"text-align: right;\">\n",
       "      <th></th>\n",
       "      <th>语文</th>\n",
       "      <th>数学</th>\n",
       "      <th>英语</th>\n",
       "      <th>政治</th>\n",
       "      <th>体育</th>\n",
       "    </tr>\n",
       "  </thead>\n",
       "  <tbody>\n",
       "    <tr>\n",
       "      <th>学生0</th>\n",
       "      <td>True</td>\n",
       "      <td>True</td>\n",
       "      <td>True</td>\n",
       "      <td>True</td>\n",
       "      <td>True</td>\n",
       "    </tr>\n",
       "    <tr>\n",
       "      <th>学生1</th>\n",
       "      <td>True</td>\n",
       "      <td>True</td>\n",
       "      <td>True</td>\n",
       "      <td>True</td>\n",
       "      <td>True</td>\n",
       "    </tr>\n",
       "    <tr>\n",
       "      <th>学生2</th>\n",
       "      <td>True</td>\n",
       "      <td>True</td>\n",
       "      <td>True</td>\n",
       "      <td>True</td>\n",
       "      <td>True</td>\n",
       "    </tr>\n",
       "    <tr>\n",
       "      <th>学生3</th>\n",
       "      <td>True</td>\n",
       "      <td>True</td>\n",
       "      <td>True</td>\n",
       "      <td>True</td>\n",
       "      <td>True</td>\n",
       "    </tr>\n",
       "    <tr>\n",
       "      <th>学生4</th>\n",
       "      <td>True</td>\n",
       "      <td>True</td>\n",
       "      <td>True</td>\n",
       "      <td>True</td>\n",
       "      <td>True</td>\n",
       "    </tr>\n",
       "    <tr>\n",
       "      <th>学生5</th>\n",
       "      <td>True</td>\n",
       "      <td>True</td>\n",
       "      <td>True</td>\n",
       "      <td>True</td>\n",
       "      <td>True</td>\n",
       "    </tr>\n",
       "    <tr>\n",
       "      <th>学生6</th>\n",
       "      <td>True</td>\n",
       "      <td>True</td>\n",
       "      <td>True</td>\n",
       "      <td>True</td>\n",
       "      <td>True</td>\n",
       "    </tr>\n",
       "    <tr>\n",
       "      <th>学生7</th>\n",
       "      <td>True</td>\n",
       "      <td>True</td>\n",
       "      <td>True</td>\n",
       "      <td>True</td>\n",
       "      <td>True</td>\n",
       "    </tr>\n",
       "    <tr>\n",
       "      <th>学生8</th>\n",
       "      <td>True</td>\n",
       "      <td>True</td>\n",
       "      <td>True</td>\n",
       "      <td>True</td>\n",
       "      <td>True</td>\n",
       "    </tr>\n",
       "    <tr>\n",
       "      <th>学生9</th>\n",
       "      <td>True</td>\n",
       "      <td>True</td>\n",
       "      <td>True</td>\n",
       "      <td>True</td>\n",
       "      <td>True</td>\n",
       "    </tr>\n",
       "  </tbody>\n",
       "</table>\n",
       "</div>"
      ],
      "text/plain": [
       "       语文    数学    英语    政治    体育\n",
       "学生0  True  True  True  True  True\n",
       "学生1  True  True  True  True  True\n",
       "学生2  True  True  True  True  True\n",
       "学生3  True  True  True  True  True\n",
       "学生4  True  True  True  True  True\n",
       "学生5  True  True  True  True  True\n",
       "学生6  True  True  True  True  True\n",
       "学生7  True  True  True  True  True\n",
       "学生8  True  True  True  True  True\n",
       "学生9  True  True  True  True  True"
      ]
     },
     "execution_count": 124,
     "metadata": {},
     "output_type": "execute_result"
    }
   ],
   "source": [
    "pd.notnull(data)"
   ]
  },
  {
   "cell_type": "markdown",
   "id": "85f144c8",
   "metadata": {},
   "source": [
    "删除缺失值"
   ]
  },
  {
   "cell_type": "code",
   "execution_count": 125,
   "id": "e9815098",
   "metadata": {},
   "outputs": [
    {
     "data": {
      "text/html": [
       "<div>\n",
       "<style scoped>\n",
       "    .dataframe tbody tr th:only-of-type {\n",
       "        vertical-align: middle;\n",
       "    }\n",
       "\n",
       "    .dataframe tbody tr th {\n",
       "        vertical-align: top;\n",
       "    }\n",
       "\n",
       "    .dataframe thead th {\n",
       "        text-align: right;\n",
       "    }\n",
       "</style>\n",
       "<table border=\"1\" class=\"dataframe\">\n",
       "  <thead>\n",
       "    <tr style=\"text-align: right;\">\n",
       "      <th></th>\n",
       "      <th>语文</th>\n",
       "      <th>数学</th>\n",
       "      <th>英语</th>\n",
       "      <th>政治</th>\n",
       "      <th>体育</th>\n",
       "    </tr>\n",
       "  </thead>\n",
       "  <tbody>\n",
       "    <tr>\n",
       "      <th>学生0</th>\n",
       "      <td>1</td>\n",
       "      <td>86</td>\n",
       "      <td>68</td>\n",
       "      <td>53</td>\n",
       "      <td>71</td>\n",
       "    </tr>\n",
       "    <tr>\n",
       "      <th>学生1</th>\n",
       "      <td>1</td>\n",
       "      <td>70</td>\n",
       "      <td>88</td>\n",
       "      <td>91</td>\n",
       "      <td>55</td>\n",
       "    </tr>\n",
       "    <tr>\n",
       "      <th>学生2</th>\n",
       "      <td>1</td>\n",
       "      <td>92</td>\n",
       "      <td>60</td>\n",
       "      <td>96</td>\n",
       "      <td>50</td>\n",
       "    </tr>\n",
       "    <tr>\n",
       "      <th>学生3</th>\n",
       "      <td>1</td>\n",
       "      <td>76</td>\n",
       "      <td>98</td>\n",
       "      <td>65</td>\n",
       "      <td>48</td>\n",
       "    </tr>\n",
       "    <tr>\n",
       "      <th>学生4</th>\n",
       "      <td>1</td>\n",
       "      <td>99</td>\n",
       "      <td>52</td>\n",
       "      <td>74</td>\n",
       "      <td>54</td>\n",
       "    </tr>\n",
       "    <tr>\n",
       "      <th>学生5</th>\n",
       "      <td>1</td>\n",
       "      <td>71</td>\n",
       "      <td>50</td>\n",
       "      <td>82</td>\n",
       "      <td>63</td>\n",
       "    </tr>\n",
       "    <tr>\n",
       "      <th>学生6</th>\n",
       "      <td>1</td>\n",
       "      <td>94</td>\n",
       "      <td>82</td>\n",
       "      <td>44</td>\n",
       "      <td>99</td>\n",
       "    </tr>\n",
       "    <tr>\n",
       "      <th>学生7</th>\n",
       "      <td>1</td>\n",
       "      <td>45</td>\n",
       "      <td>81</td>\n",
       "      <td>75</td>\n",
       "      <td>49</td>\n",
       "    </tr>\n",
       "    <tr>\n",
       "      <th>学生8</th>\n",
       "      <td>1</td>\n",
       "      <td>47</td>\n",
       "      <td>65</td>\n",
       "      <td>43</td>\n",
       "      <td>52</td>\n",
       "    </tr>\n",
       "    <tr>\n",
       "      <th>学生9</th>\n",
       "      <td>1</td>\n",
       "      <td>50</td>\n",
       "      <td>76</td>\n",
       "      <td>88</td>\n",
       "      <td>61</td>\n",
       "    </tr>\n",
       "  </tbody>\n",
       "</table>\n",
       "</div>"
      ],
      "text/plain": [
       "     语文  数学  英语  政治  体育\n",
       "学生0   1  86  68  53  71\n",
       "学生1   1  70  88  91  55\n",
       "学生2   1  92  60  96  50\n",
       "学生3   1  76  98  65  48\n",
       "学生4   1  99  52  74  54\n",
       "学生5   1  71  50  82  63\n",
       "学生6   1  94  82  44  99\n",
       "学生7   1  45  81  75  49\n",
       "学生8   1  47  65  43  52\n",
       "学生9   1  50  76  88  61"
      ]
     },
     "execution_count": 125,
     "metadata": {},
     "output_type": "execute_result"
    }
   ],
   "source": [
    "data.dropna()#不修改原数据"
   ]
  },
  {
   "cell_type": "code",
   "execution_count": 126,
   "id": "51e8925c",
   "metadata": {},
   "outputs": [],
   "source": [
    "l=data.dropna() #新变量名"
   ]
  },
  {
   "cell_type": "markdown",
   "id": "9b1cf99d",
   "metadata": {},
   "source": [
    "填充缺失值"
   ]
  },
  {
   "cell_type": "code",
   "execution_count": 127,
   "id": "091225c5",
   "metadata": {},
   "outputs": [
    {
     "data": {
      "text/html": [
       "<div>\n",
       "<style scoped>\n",
       "    .dataframe tbody tr th:only-of-type {\n",
       "        vertical-align: middle;\n",
       "    }\n",
       "\n",
       "    .dataframe tbody tr th {\n",
       "        vertical-align: top;\n",
       "    }\n",
       "\n",
       "    .dataframe thead th {\n",
       "        text-align: right;\n",
       "    }\n",
       "</style>\n",
       "<table border=\"1\" class=\"dataframe\">\n",
       "  <thead>\n",
       "    <tr style=\"text-align: right;\">\n",
       "      <th></th>\n",
       "      <th>语文</th>\n",
       "      <th>数学</th>\n",
       "      <th>英语</th>\n",
       "      <th>政治</th>\n",
       "      <th>体育</th>\n",
       "    </tr>\n",
       "  </thead>\n",
       "  <tbody>\n",
       "    <tr>\n",
       "      <th>学生0</th>\n",
       "      <td>1</td>\n",
       "      <td>86</td>\n",
       "      <td>68</td>\n",
       "      <td>53</td>\n",
       "      <td>71</td>\n",
       "    </tr>\n",
       "    <tr>\n",
       "      <th>学生1</th>\n",
       "      <td>1</td>\n",
       "      <td>70</td>\n",
       "      <td>88</td>\n",
       "      <td>91</td>\n",
       "      <td>55</td>\n",
       "    </tr>\n",
       "    <tr>\n",
       "      <th>学生2</th>\n",
       "      <td>1</td>\n",
       "      <td>92</td>\n",
       "      <td>60</td>\n",
       "      <td>96</td>\n",
       "      <td>50</td>\n",
       "    </tr>\n",
       "    <tr>\n",
       "      <th>学生3</th>\n",
       "      <td>1</td>\n",
       "      <td>76</td>\n",
       "      <td>98</td>\n",
       "      <td>65</td>\n",
       "      <td>48</td>\n",
       "    </tr>\n",
       "    <tr>\n",
       "      <th>学生4</th>\n",
       "      <td>1</td>\n",
       "      <td>99</td>\n",
       "      <td>52</td>\n",
       "      <td>74</td>\n",
       "      <td>54</td>\n",
       "    </tr>\n",
       "    <tr>\n",
       "      <th>学生5</th>\n",
       "      <td>1</td>\n",
       "      <td>71</td>\n",
       "      <td>50</td>\n",
       "      <td>82</td>\n",
       "      <td>63</td>\n",
       "    </tr>\n",
       "    <tr>\n",
       "      <th>学生6</th>\n",
       "      <td>1</td>\n",
       "      <td>94</td>\n",
       "      <td>82</td>\n",
       "      <td>44</td>\n",
       "      <td>99</td>\n",
       "    </tr>\n",
       "    <tr>\n",
       "      <th>学生7</th>\n",
       "      <td>1</td>\n",
       "      <td>45</td>\n",
       "      <td>81</td>\n",
       "      <td>75</td>\n",
       "      <td>49</td>\n",
       "    </tr>\n",
       "    <tr>\n",
       "      <th>学生8</th>\n",
       "      <td>1</td>\n",
       "      <td>47</td>\n",
       "      <td>65</td>\n",
       "      <td>43</td>\n",
       "      <td>52</td>\n",
       "    </tr>\n",
       "    <tr>\n",
       "      <th>学生9</th>\n",
       "      <td>1</td>\n",
       "      <td>50</td>\n",
       "      <td>76</td>\n",
       "      <td>88</td>\n",
       "      <td>61</td>\n",
       "    </tr>\n",
       "  </tbody>\n",
       "</table>\n",
       "</div>"
      ],
      "text/plain": [
       "     语文  数学  英语  政治  体育\n",
       "学生0   1  86  68  53  71\n",
       "学生1   1  70  88  91  55\n",
       "学生2   1  92  60  96  50\n",
       "学生3   1  76  98  65  48\n",
       "学生4   1  99  52  74  54\n",
       "学生5   1  71  50  82  63\n",
       "学生6   1  94  82  44  99\n",
       "学生7   1  45  81  75  49\n",
       "学生8   1  47  65  43  52\n",
       "学生9   1  50  76  88  61"
      ]
     },
     "execution_count": 127,
     "metadata": {},
     "output_type": "execute_result"
    }
   ],
   "source": [
    "# 使用指定值填充缺失值\n",
    "data.fillna(0)"
   ]
  },
  {
   "cell_type": "code",
   "execution_count": 128,
   "id": "0b8096dd",
   "metadata": {},
   "outputs": [
    {
     "data": {
      "text/html": [
       "<div>\n",
       "<style scoped>\n",
       "    .dataframe tbody tr th:only-of-type {\n",
       "        vertical-align: middle;\n",
       "    }\n",
       "\n",
       "    .dataframe tbody tr th {\n",
       "        vertical-align: top;\n",
       "    }\n",
       "\n",
       "    .dataframe thead th {\n",
       "        text-align: right;\n",
       "    }\n",
       "</style>\n",
       "<table border=\"1\" class=\"dataframe\">\n",
       "  <thead>\n",
       "    <tr style=\"text-align: right;\">\n",
       "      <th></th>\n",
       "      <th>语文</th>\n",
       "      <th>数学</th>\n",
       "      <th>英语</th>\n",
       "      <th>政治</th>\n",
       "      <th>体育</th>\n",
       "    </tr>\n",
       "  </thead>\n",
       "  <tbody>\n",
       "    <tr>\n",
       "      <th>学生0</th>\n",
       "      <td>1</td>\n",
       "      <td>86</td>\n",
       "      <td>68</td>\n",
       "      <td>53</td>\n",
       "      <td>71</td>\n",
       "    </tr>\n",
       "    <tr>\n",
       "      <th>学生1</th>\n",
       "      <td>1</td>\n",
       "      <td>70</td>\n",
       "      <td>88</td>\n",
       "      <td>91</td>\n",
       "      <td>55</td>\n",
       "    </tr>\n",
       "    <tr>\n",
       "      <th>学生2</th>\n",
       "      <td>1</td>\n",
       "      <td>92</td>\n",
       "      <td>60</td>\n",
       "      <td>96</td>\n",
       "      <td>50</td>\n",
       "    </tr>\n",
       "    <tr>\n",
       "      <th>学生3</th>\n",
       "      <td>1</td>\n",
       "      <td>76</td>\n",
       "      <td>98</td>\n",
       "      <td>65</td>\n",
       "      <td>48</td>\n",
       "    </tr>\n",
       "    <tr>\n",
       "      <th>学生4</th>\n",
       "      <td>1</td>\n",
       "      <td>99</td>\n",
       "      <td>52</td>\n",
       "      <td>74</td>\n",
       "      <td>54</td>\n",
       "    </tr>\n",
       "    <tr>\n",
       "      <th>学生5</th>\n",
       "      <td>1</td>\n",
       "      <td>71</td>\n",
       "      <td>50</td>\n",
       "      <td>82</td>\n",
       "      <td>63</td>\n",
       "    </tr>\n",
       "    <tr>\n",
       "      <th>学生6</th>\n",
       "      <td>1</td>\n",
       "      <td>94</td>\n",
       "      <td>82</td>\n",
       "      <td>44</td>\n",
       "      <td>99</td>\n",
       "    </tr>\n",
       "    <tr>\n",
       "      <th>学生7</th>\n",
       "      <td>1</td>\n",
       "      <td>45</td>\n",
       "      <td>81</td>\n",
       "      <td>75</td>\n",
       "      <td>49</td>\n",
       "    </tr>\n",
       "    <tr>\n",
       "      <th>学生8</th>\n",
       "      <td>1</td>\n",
       "      <td>47</td>\n",
       "      <td>65</td>\n",
       "      <td>43</td>\n",
       "      <td>52</td>\n",
       "    </tr>\n",
       "    <tr>\n",
       "      <th>学生9</th>\n",
       "      <td>1</td>\n",
       "      <td>50</td>\n",
       "      <td>76</td>\n",
       "      <td>88</td>\n",
       "      <td>61</td>\n",
       "    </tr>\n",
       "  </tbody>\n",
       "</table>\n",
       "</div>"
      ],
      "text/plain": [
       "     语文  数学  英语  政治  体育\n",
       "学生0   1  86  68  53  71\n",
       "学生1   1  70  88  91  55\n",
       "学生2   1  92  60  96  50\n",
       "学生3   1  76  98  65  48\n",
       "学生4   1  99  52  74  54\n",
       "学生5   1  71  50  82  63\n",
       "学生6   1  94  82  44  99\n",
       "学生7   1  45  81  75  49\n",
       "学生8   1  47  65  43  52\n",
       "学生9   1  50  76  88  61"
      ]
     },
     "execution_count": 128,
     "metadata": {},
     "output_type": "execute_result"
    }
   ],
   "source": [
    "# 使用列的均值填充缺失值\n",
    "data.fillna(data.mean())"
   ]
  },
  {
   "cell_type": "markdown",
   "id": "fb1b4c42",
   "metadata": {},
   "source": [
    "数据离散化"
   ]
  },
  {
   "cell_type": "markdown",
   "id": "95e4ea4b",
   "metadata": {},
   "source": [
    "pd.qcut(data.q)对数据分组"
   ]
  },
  {
   "cell_type": "markdown",
   "id": "f2402968",
   "metadata": {},
   "source": [
    "series.value_counts()统计分组次数,计算分到每个组数据个数"
   ]
  },
  {
   "cell_type": "markdown",
   "id": "d926250f",
   "metadata": {},
   "source": [
    "pd.cut(data,bin)自定义分组bin分组区间"
   ]
  },
  {
   "cell_type": "markdown",
   "id": "6f2387d3",
   "metadata": {},
   "source": [
    "one-hot编码"
   ]
  },
  {
   "cell_type": "markdown",
   "id": "655ab0f5",
   "metadata": {},
   "source": [
    "pandas.get_dummies(data,prefix=None)\n",
    "prefix分组名字"
   ]
  },
  {
   "cell_type": "markdown",
   "id": "4000b76b",
   "metadata": {},
   "source": [
    "合并"
   ]
  },
  {
   "cell_type": "markdown",
   "id": "582faf37",
   "metadata": {},
   "source": [
    "pd.concat([data1,data2]，axis=1)"
   ]
  },
  {
   "cell_type": "markdown",
   "id": "499c54b5",
   "metadata": {},
   "source": [
    "pd.merge(left,right,how='inner',on=None)#on:指定共同键how:怎样连接"
   ]
  },
  {
   "cell_type": "markdown",
   "id": "cb94a322",
   "metadata": {},
   "source": [
    "left左连接"
   ]
  },
  {
   "cell_type": "markdown",
   "id": "92d01c3a",
   "metadata": {},
   "source": [
    "right右连接"
   ]
  },
  {
   "cell_type": "markdown",
   "id": "ab08b02a",
   "metadata": {},
   "source": [
    "inner内连接"
   ]
  },
  {
   "cell_type": "markdown",
   "id": "3492e228",
   "metadata": {},
   "source": [
    "outer外连接"
   ]
  },
  {
   "cell_type": "markdown",
   "id": "5ad58a34",
   "metadata": {},
   "source": [
    "交叉表"
   ]
  },
  {
   "cell_type": "markdown",
   "id": "41c0885e",
   "metadata": {},
   "source": [
    "pd.crosstab(value1,value2)"
   ]
  },
  {
   "cell_type": "markdown",
   "id": "b2c614f1",
   "metadata": {},
   "source": [
    "透视表"
   ]
  },
  {
   "cell_type": "markdown",
   "id": "4365da9a",
   "metadata": {},
   "source": [
    "data.pivot_table()"
   ]
  },
  {
   "cell_type": "markdown",
   "id": "0feba5bb",
   "metadata": {},
   "source": [
    "DataFrame.pivot_table([],index=[])"
   ]
  },
  {
   "cell_type": "markdown",
   "id": "d3f629bd",
   "metadata": {},
   "source": [
    "分组和聚合"
   ]
  },
  {
   "cell_type": "markdown",
   "id": "be79dc03",
   "metadata": {},
   "source": [
    "DataFrame.groupby(key,as_index=False)"
   ]
  },
  {
   "cell_type": "code",
   "execution_count": 129,
   "id": "c72658b7",
   "metadata": {},
   "outputs": [
    {
     "data": {
      "text/html": [
       "<div>\n",
       "<style scoped>\n",
       "    .dataframe tbody tr th:only-of-type {\n",
       "        vertical-align: middle;\n",
       "    }\n",
       "\n",
       "    .dataframe tbody tr th {\n",
       "        vertical-align: top;\n",
       "    }\n",
       "\n",
       "    .dataframe thead th {\n",
       "        text-align: right;\n",
       "    }\n",
       "</style>\n",
       "<table border=\"1\" class=\"dataframe\">\n",
       "  <thead>\n",
       "    <tr style=\"text-align: right;\">\n",
       "      <th></th>\n",
       "      <th>color</th>\n",
       "      <th>object</th>\n",
       "      <th>price1</th>\n",
       "      <th>price2</th>\n",
       "    </tr>\n",
       "  </thead>\n",
       "  <tbody>\n",
       "    <tr>\n",
       "      <th>0</th>\n",
       "      <td>w</td>\n",
       "      <td>pen</td>\n",
       "      <td>5.56</td>\n",
       "      <td>4.75</td>\n",
       "    </tr>\n",
       "    <tr>\n",
       "      <th>1</th>\n",
       "      <td>r</td>\n",
       "      <td>pencil</td>\n",
       "      <td>4.20</td>\n",
       "      <td>4.12</td>\n",
       "    </tr>\n",
       "    <tr>\n",
       "      <th>2</th>\n",
       "      <td>g</td>\n",
       "      <td>pen</td>\n",
       "      <td>1.30</td>\n",
       "      <td>1.60</td>\n",
       "    </tr>\n",
       "    <tr>\n",
       "      <th>3</th>\n",
       "      <td>r</td>\n",
       "      <td>ashtray</td>\n",
       "      <td>0.56</td>\n",
       "      <td>0.75</td>\n",
       "    </tr>\n",
       "    <tr>\n",
       "      <th>4</th>\n",
       "      <td>g</td>\n",
       "      <td>pen</td>\n",
       "      <td>2.75</td>\n",
       "      <td>3.15</td>\n",
       "    </tr>\n",
       "  </tbody>\n",
       "</table>\n",
       "</div>"
      ],
      "text/plain": [
       "  color   object  price1  price2\n",
       "0     w      pen    5.56    4.75\n",
       "1     r   pencil    4.20    4.12\n",
       "2     g      pen    1.30    1.60\n",
       "3     r  ashtray    0.56    0.75\n",
       "4     g      pen    2.75    3.15"
      ]
     },
     "execution_count": 129,
     "metadata": {},
     "output_type": "execute_result"
    }
   ],
   "source": [
    "col=pd.DataFrame({'color':['w','r','g','r','g'],\n",
    "                  'object':['pen','pencil','pen','ashtray','pen'],\n",
    "                  'price1':[5.56,4.20,1.30,0.56,2.75],\n",
    "                  'price2':[4.75,4.12,1.60,0.75,3.15]})\n",
    "col"
   ]
  },
  {
   "cell_type": "code",
   "execution_count": 130,
   "id": "6b0a35c8",
   "metadata": {},
   "outputs": [
    {
     "data": {
      "text/html": [
       "<div>\n",
       "<style scoped>\n",
       "    .dataframe tbody tr th:only-of-type {\n",
       "        vertical-align: middle;\n",
       "    }\n",
       "\n",
       "    .dataframe tbody tr th {\n",
       "        vertical-align: top;\n",
       "    }\n",
       "\n",
       "    .dataframe thead th {\n",
       "        text-align: right;\n",
       "    }\n",
       "</style>\n",
       "<table border=\"1\" class=\"dataframe\">\n",
       "  <thead>\n",
       "    <tr style=\"text-align: right;\">\n",
       "      <th></th>\n",
       "      <th>color</th>\n",
       "      <th>price1</th>\n",
       "    </tr>\n",
       "  </thead>\n",
       "  <tbody>\n",
       "    <tr>\n",
       "      <th>0</th>\n",
       "      <td>g</td>\n",
       "      <td>2.025</td>\n",
       "    </tr>\n",
       "    <tr>\n",
       "      <th>1</th>\n",
       "      <td>r</td>\n",
       "      <td>2.380</td>\n",
       "    </tr>\n",
       "    <tr>\n",
       "      <th>2</th>\n",
       "      <td>w</td>\n",
       "      <td>5.560</td>\n",
       "    </tr>\n",
       "  </tbody>\n",
       "</table>\n",
       "</div>"
      ],
      "text/plain": [
       "  color  price1\n",
       "0     g   2.025\n",
       "1     r   2.380\n",
       "2     w   5.560"
      ]
     },
     "execution_count": 130,
     "metadata": {},
     "output_type": "execute_result"
    }
   ],
   "source": [
    "col.groupby(['color'],as_index=False)['price1'].mean()"
   ]
  },
  {
   "cell_type": "code",
   "execution_count": null,
   "id": "cc841867",
   "metadata": {},
   "outputs": [
    {
     "data": {
      "text/plain": [
       "Timestamp('2023-01-01 00:00:00')"
      ]
     },
     "execution_count": 131,
     "metadata": {},
     "output_type": "execute_result"
    }
   ],
   "source": [
    "pd.to_datetime('2023-01-01')"
   ]
  },
  {
   "cell_type": "code",
   "execution_count": 132,
   "id": "85af9ae5",
   "metadata": {},
   "outputs": [
    {
     "data": {
      "text/plain": [
       "DatetimeIndex(['2023-01-01', '2023-02-01'], dtype='datetime64[ns]', freq=None)"
      ]
     },
     "execution_count": 132,
     "metadata": {},
     "output_type": "execute_result"
    }
   ],
   "source": [
    "pd.to_datetime(['2023-01-01', '2023-02-01'])"
   ]
  },
  {
   "cell_type": "code",
   "execution_count": 133,
   "id": "d6897949",
   "metadata": {},
   "outputs": [
    {
     "data": {
      "text/plain": [
       "Timestamp('2023-01-01 00:00:00')"
      ]
     },
     "execution_count": 133,
     "metadata": {},
     "output_type": "execute_result"
    }
   ],
   "source": [
    "pd.to_datetime('01-01-2023', format='%d-%m-%Y')"
   ]
  },
  {
   "cell_type": "markdown",
   "id": "c3f50116",
   "metadata": {},
   "source": [
    "### 代码解释\n",
    "\n",
    "`pd.to_datetime` 是 Pandas 提供的一个函数，用于将数据转换为日期时间格式。\n",
    "\n",
    "#### 常见参数：\n",
    "- `arg`：需要转换为日期时间格式的数据，可以是字符串、列表、数组或 DataFrame 的列。\n",
    "- `format`：指定日期时间的格式，例如 `'%Y-%m-%d'` 表示年-月-日。\n",
    "- `errors`：指定错误处理方式，`'raise'`（默认）抛出错误，`'coerce'` 将无法解析的值设置为 `NaT`，`'ignore'` 保留原始值。\n",
    "- `utc`：是否将时间转换为 UTC 时间，默认为 `False`。\n",
    "\n",
    "#### 示例：\n",
    "```python\n",
    "pd.to_datetime('2023-01-01')\n",
    "pd.to_datetime(['2023-01-01', '2023-02-01'])\n",
    "pd.to_datetime('01-01-2023', format='%d-%m-%Y')\n",
    "```\n",
    "\n",
    "该函数广泛用于时间序列数据的处理和分析。"
   ]
  }
 ],
 "metadata": {
  "kernelspec": {
   "display_name": ".venv",
   "language": "python",
   "name": "python3"
  },
  "language_info": {
   "codemirror_mode": {
    "name": "ipython",
    "version": 3
   },
   "file_extension": ".py",
   "mimetype": "text/x-python",
   "name": "python",
   "nbconvert_exporter": "python",
   "pygments_lexer": "ipython3",
   "version": "3.11.2"
  }
 },
 "nbformat": 4,
 "nbformat_minor": 5
}
