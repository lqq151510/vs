{
 "cells": [
  {
   "cell_type": "code",
   "execution_count": 1041,
   "id": "30fc1cc5",
   "metadata": {},
   "outputs": [],
   "source": [
    "import pandas as pd\n",
    "import numpy as np"
   ]
  },
  {
   "cell_type": "markdown",
   "id": "4da2647c",
   "metadata": {},
   "source": [
    "Series"
   ]
  },
  {
   "cell_type": "code",
   "execution_count": 1042,
   "id": "31febf5b",
   "metadata": {},
   "outputs": [],
   "source": [
    "#pd.Series(data=None,index=None,dtype=None)\n",
    "#data数据\n",
    "#index索引\n",
    "#dtype数据类型"
   ]
  },
  {
   "cell_type": "code",
   "execution_count": 1043,
   "id": "01eb245c",
   "metadata": {},
   "outputs": [
    {
     "data": {
      "text/plain": [
       "0    0\n",
       "1    1\n",
       "2    2\n",
       "3    3\n",
       "4    4\n",
       "5    5\n",
       "6    6\n",
       "7    7\n",
       "8    8\n",
       "dtype: int64"
      ]
     },
     "execution_count": 1043,
     "metadata": {},
     "output_type": "execute_result"
    }
   ],
   "source": [
    "pd.Series(np.arange(9))"
   ]
  },
  {
   "cell_type": "code",
   "execution_count": 1044,
   "id": "99f8e62a",
   "metadata": {},
   "outputs": [
    {
     "data": {
      "text/plain": [
       "a    1\n",
       "b    2\n",
       "c    3\n",
       "d    4\n",
       "e    5\n",
       "dtype: int64"
      ]
     },
     "execution_count": 1044,
     "metadata": {},
     "output_type": "execute_result"
    }
   ],
   "source": [
    "pd.Series(data=[1,2,3,4,5],index=['a','b','c','d','e'])"
   ]
  },
  {
   "cell_type": "code",
   "execution_count": 1045,
   "id": "2d099d9a",
   "metadata": {},
   "outputs": [
    {
     "data": {
      "text/plain": [
       "red      10\n",
       "green    20\n",
       "biue     30\n",
       "dtype: int64"
      ]
     },
     "execution_count": 1045,
     "metadata": {},
     "output_type": "execute_result"
    }
   ],
   "source": [
    "color_a=pd.Series({'red':10,'green':20,'biue':30})\n",
    "color_a"
   ]
  },
  {
   "cell_type": "markdown",
   "id": "55c2a51e",
   "metadata": {},
   "source": [
    "Series属性"
   ]
  },
  {
   "cell_type": "code",
   "execution_count": 1046,
   "id": "4d1b86f4",
   "metadata": {},
   "outputs": [
    {
     "data": {
      "text/plain": [
       "Index(['red', 'green', 'biue'], dtype='object')"
      ]
     },
     "execution_count": 1046,
     "metadata": {},
     "output_type": "execute_result"
    }
   ],
   "source": [
    "color_a.index"
   ]
  },
  {
   "cell_type": "code",
   "execution_count": 1047,
   "id": "729adff2",
   "metadata": {},
   "outputs": [
    {
     "data": {
      "text/plain": [
       "array([10, 20, 30])"
      ]
     },
     "execution_count": 1047,
     "metadata": {},
     "output_type": "execute_result"
    }
   ],
   "source": [
    "color_a.values"
   ]
  },
  {
   "cell_type": "code",
   "execution_count": 1048,
   "id": "7b9038e5",
   "metadata": {},
   "outputs": [
    {
     "name": "stderr",
     "output_type": "stream",
     "text": [
      "/tmp/ipykernel_773/3888620981.py:1: FutureWarning: Series.__getitem__ treating keys as positions is deprecated. In a future version, integer keys will always be treated as labels (consistent with DataFrame behavior). To access a value by position, use `ser.iloc[pos]`\n",
      "  color_a[1]\n"
     ]
    },
    {
     "data": {
      "text/plain": [
       "20"
      ]
     },
     "execution_count": 1048,
     "metadata": {},
     "output_type": "execute_result"
    }
   ],
   "source": [
    "color_a[1]"
   ]
  },
  {
   "cell_type": "markdown",
   "id": "7b5197e8",
   "metadata": {},
   "source": [
    "DataFrame"
   ]
  },
  {
   "cell_type": "code",
   "execution_count": 1049,
   "id": "e572f138",
   "metadata": {},
   "outputs": [
    {
     "data": {
      "text/html": [
       "<div>\n",
       "<style scoped>\n",
       "    .dataframe tbody tr th:only-of-type {\n",
       "        vertical-align: middle;\n",
       "    }\n",
       "\n",
       "    .dataframe tbody tr th {\n",
       "        vertical-align: top;\n",
       "    }\n",
       "\n",
       "    .dataframe thead th {\n",
       "        text-align: right;\n",
       "    }\n",
       "</style>\n",
       "<table border=\"1\" class=\"dataframe\">\n",
       "  <thead>\n",
       "    <tr style=\"text-align: right;\">\n",
       "      <th></th>\n",
       "    </tr>\n",
       "  </thead>\n",
       "  <tbody>\n",
       "  </tbody>\n",
       "</table>\n",
       "</div>"
      ],
      "text/plain": [
       "Empty DataFrame\n",
       "Columns: []\n",
       "Index: []"
      ]
     },
     "execution_count": 1049,
     "metadata": {},
     "output_type": "execute_result"
    }
   ],
   "source": [
    "pd.DataFrame(data=None,index=None,columns=None)\n",
    "#index行索引\n",
    "#columns列索引"
   ]
  },
  {
   "cell_type": "code",
   "execution_count": 1050,
   "id": "90edc85b",
   "metadata": {},
   "outputs": [
    {
     "data": {
      "text/plain": [
       "array([[44, 55, 74, 44, 64],\n",
       "       [80, 57, 83, 41, 76],\n",
       "       [79, 90, 91, 65, 83],\n",
       "       [67, 88, 70, 56, 71],\n",
       "       [66, 41, 43, 75, 85],\n",
       "       [72, 88, 84, 51, 68],\n",
       "       [78, 53, 50, 87, 58],\n",
       "       [69, 84, 65, 61, 97],\n",
       "       [95, 92, 95, 90, 79],\n",
       "       [68, 92, 60, 62, 48]])"
      ]
     },
     "execution_count": 1050,
     "metadata": {},
     "output_type": "execute_result"
    }
   ],
   "source": [
    "score=np.random.randint(40,100,(10,5))\n",
    "score"
   ]
  },
  {
   "cell_type": "code",
   "execution_count": 1051,
   "id": "3ebd6bb2",
   "metadata": {},
   "outputs": [
    {
     "data": {
      "text/html": [
       "<div>\n",
       "<style scoped>\n",
       "    .dataframe tbody tr th:only-of-type {\n",
       "        vertical-align: middle;\n",
       "    }\n",
       "\n",
       "    .dataframe tbody tr th {\n",
       "        vertical-align: top;\n",
       "    }\n",
       "\n",
       "    .dataframe thead th {\n",
       "        text-align: right;\n",
       "    }\n",
       "</style>\n",
       "<table border=\"1\" class=\"dataframe\">\n",
       "  <thead>\n",
       "    <tr style=\"text-align: right;\">\n",
       "      <th></th>\n",
       "      <th>0</th>\n",
       "      <th>1</th>\n",
       "      <th>2</th>\n",
       "      <th>3</th>\n",
       "      <th>4</th>\n",
       "    </tr>\n",
       "  </thead>\n",
       "  <tbody>\n",
       "    <tr>\n",
       "      <th>0</th>\n",
       "      <td>44</td>\n",
       "      <td>55</td>\n",
       "      <td>74</td>\n",
       "      <td>44</td>\n",
       "      <td>64</td>\n",
       "    </tr>\n",
       "    <tr>\n",
       "      <th>1</th>\n",
       "      <td>80</td>\n",
       "      <td>57</td>\n",
       "      <td>83</td>\n",
       "      <td>41</td>\n",
       "      <td>76</td>\n",
       "    </tr>\n",
       "    <tr>\n",
       "      <th>2</th>\n",
       "      <td>79</td>\n",
       "      <td>90</td>\n",
       "      <td>91</td>\n",
       "      <td>65</td>\n",
       "      <td>83</td>\n",
       "    </tr>\n",
       "    <tr>\n",
       "      <th>3</th>\n",
       "      <td>67</td>\n",
       "      <td>88</td>\n",
       "      <td>70</td>\n",
       "      <td>56</td>\n",
       "      <td>71</td>\n",
       "    </tr>\n",
       "    <tr>\n",
       "      <th>4</th>\n",
       "      <td>66</td>\n",
       "      <td>41</td>\n",
       "      <td>43</td>\n",
       "      <td>75</td>\n",
       "      <td>85</td>\n",
       "    </tr>\n",
       "    <tr>\n",
       "      <th>5</th>\n",
       "      <td>72</td>\n",
       "      <td>88</td>\n",
       "      <td>84</td>\n",
       "      <td>51</td>\n",
       "      <td>68</td>\n",
       "    </tr>\n",
       "    <tr>\n",
       "      <th>6</th>\n",
       "      <td>78</td>\n",
       "      <td>53</td>\n",
       "      <td>50</td>\n",
       "      <td>87</td>\n",
       "      <td>58</td>\n",
       "    </tr>\n",
       "    <tr>\n",
       "      <th>7</th>\n",
       "      <td>69</td>\n",
       "      <td>84</td>\n",
       "      <td>65</td>\n",
       "      <td>61</td>\n",
       "      <td>97</td>\n",
       "    </tr>\n",
       "    <tr>\n",
       "      <th>8</th>\n",
       "      <td>95</td>\n",
       "      <td>92</td>\n",
       "      <td>95</td>\n",
       "      <td>90</td>\n",
       "      <td>79</td>\n",
       "    </tr>\n",
       "    <tr>\n",
       "      <th>9</th>\n",
       "      <td>68</td>\n",
       "      <td>92</td>\n",
       "      <td>60</td>\n",
       "      <td>62</td>\n",
       "      <td>48</td>\n",
       "    </tr>\n",
       "  </tbody>\n",
       "</table>\n",
       "</div>"
      ],
      "text/plain": [
       "    0   1   2   3   4\n",
       "0  44  55  74  44  64\n",
       "1  80  57  83  41  76\n",
       "2  79  90  91  65  83\n",
       "3  67  88  70  56  71\n",
       "4  66  41  43  75  85\n",
       "5  72  88  84  51  68\n",
       "6  78  53  50  87  58\n",
       "7  69  84  65  61  97\n",
       "8  95  92  95  90  79\n",
       "9  68  92  60  62  48"
      ]
     },
     "execution_count": 1051,
     "metadata": {},
     "output_type": "execute_result"
    }
   ],
   "source": [
    "score_df=pd.DataFrame(score)\n",
    "score_df"
   ]
  },
  {
   "cell_type": "code",
   "execution_count": 1052,
   "id": "684b0d2a",
   "metadata": {},
   "outputs": [
    {
     "data": {
      "text/plain": [
       "(10, 5)"
      ]
     },
     "execution_count": 1052,
     "metadata": {},
     "output_type": "execute_result"
    }
   ],
   "source": [
    "score_df.shape"
   ]
  },
  {
   "cell_type": "code",
   "execution_count": 1053,
   "id": "4dbd4c11",
   "metadata": {},
   "outputs": [
    {
     "data": {
      "text/html": [
       "<div>\n",
       "<style scoped>\n",
       "    .dataframe tbody tr th:only-of-type {\n",
       "        vertical-align: middle;\n",
       "    }\n",
       "\n",
       "    .dataframe tbody tr th {\n",
       "        vertical-align: top;\n",
       "    }\n",
       "\n",
       "    .dataframe thead th {\n",
       "        text-align: right;\n",
       "    }\n",
       "</style>\n",
       "<table border=\"1\" class=\"dataframe\">\n",
       "  <thead>\n",
       "    <tr style=\"text-align: right;\">\n",
       "      <th></th>\n",
       "      <th>语文</th>\n",
       "      <th>数学</th>\n",
       "      <th>英语</th>\n",
       "      <th>政治</th>\n",
       "      <th>体育</th>\n",
       "    </tr>\n",
       "  </thead>\n",
       "  <tbody>\n",
       "    <tr>\n",
       "      <th>同学0</th>\n",
       "      <td>44</td>\n",
       "      <td>55</td>\n",
       "      <td>74</td>\n",
       "      <td>44</td>\n",
       "      <td>64</td>\n",
       "    </tr>\n",
       "    <tr>\n",
       "      <th>同学1</th>\n",
       "      <td>80</td>\n",
       "      <td>57</td>\n",
       "      <td>83</td>\n",
       "      <td>41</td>\n",
       "      <td>76</td>\n",
       "    </tr>\n",
       "    <tr>\n",
       "      <th>同学2</th>\n",
       "      <td>79</td>\n",
       "      <td>90</td>\n",
       "      <td>91</td>\n",
       "      <td>65</td>\n",
       "      <td>83</td>\n",
       "    </tr>\n",
       "    <tr>\n",
       "      <th>同学3</th>\n",
       "      <td>67</td>\n",
       "      <td>88</td>\n",
       "      <td>70</td>\n",
       "      <td>56</td>\n",
       "      <td>71</td>\n",
       "    </tr>\n",
       "    <tr>\n",
       "      <th>同学4</th>\n",
       "      <td>66</td>\n",
       "      <td>41</td>\n",
       "      <td>43</td>\n",
       "      <td>75</td>\n",
       "      <td>85</td>\n",
       "    </tr>\n",
       "    <tr>\n",
       "      <th>同学5</th>\n",
       "      <td>72</td>\n",
       "      <td>88</td>\n",
       "      <td>84</td>\n",
       "      <td>51</td>\n",
       "      <td>68</td>\n",
       "    </tr>\n",
       "    <tr>\n",
       "      <th>同学6</th>\n",
       "      <td>78</td>\n",
       "      <td>53</td>\n",
       "      <td>50</td>\n",
       "      <td>87</td>\n",
       "      <td>58</td>\n",
       "    </tr>\n",
       "    <tr>\n",
       "      <th>同学7</th>\n",
       "      <td>69</td>\n",
       "      <td>84</td>\n",
       "      <td>65</td>\n",
       "      <td>61</td>\n",
       "      <td>97</td>\n",
       "    </tr>\n",
       "    <tr>\n",
       "      <th>同学8</th>\n",
       "      <td>95</td>\n",
       "      <td>92</td>\n",
       "      <td>95</td>\n",
       "      <td>90</td>\n",
       "      <td>79</td>\n",
       "    </tr>\n",
       "    <tr>\n",
       "      <th>同学9</th>\n",
       "      <td>68</td>\n",
       "      <td>92</td>\n",
       "      <td>60</td>\n",
       "      <td>62</td>\n",
       "      <td>48</td>\n",
       "    </tr>\n",
       "  </tbody>\n",
       "</table>\n",
       "</div>"
      ],
      "text/plain": [
       "     语文  数学  英语  政治  体育\n",
       "同学0  44  55  74  44  64\n",
       "同学1  80  57  83  41  76\n",
       "同学2  79  90  91  65  83\n",
       "同学3  67  88  70  56  71\n",
       "同学4  66  41  43  75  85\n",
       "同学5  72  88  84  51  68\n",
       "同学6  78  53  50  87  58\n",
       "同学7  69  84  65  61  97\n",
       "同学8  95  92  95  90  79\n",
       "同学9  68  92  60  62  48"
      ]
     },
     "execution_count": 1053,
     "metadata": {},
     "output_type": "execute_result"
    }
   ],
   "source": [
    "subject=['语文','数学','英语','政治','体育']\n",
    "stu=['同学'+str(i)for i in range(score_df.shape[0])]\n",
    "data=pd.DataFrame(score,columns=subject,index=stu)\n",
    "data"
   ]
  },
  {
   "cell_type": "markdown",
   "id": "f60ff914",
   "metadata": {},
   "source": [
    "`stu=['同学'+str(i)for i in range(score_df.shape[0])]` 创建了一个包含学生名称的列表。\n",
    "列表中的每个元素是字符串 `'同学'` 加上从 0 到 `score_df.shape[0]-1` 的索引值。\n",
    "例如，如果 `score_df` 有 10 行，则生成的列表为 `['同学0', '同学1', ..., '同学9']`。\n",
    "这通常用于为数据框的行创建自定义索引。"
   ]
  },
  {
   "cell_type": "markdown",
   "id": "34d6bd5b",
   "metadata": {},
   "source": [
    "`str(i)` 将整数 `i` 转换为字符串形式。\n",
    "例如，如果 `i` 的值为 `5`，则 `str(i)` 的结果为 `'5'`。\n",
    "这种转换通常用于将数字与字符串拼接或格式化输出。"
   ]
  },
  {
   "cell_type": "markdown",
   "id": "29b0f886",
   "metadata": {},
   "source": [
    "属性"
   ]
  },
  {
   "cell_type": "code",
   "execution_count": 1054,
   "id": "b689e972",
   "metadata": {},
   "outputs": [
    {
     "data": {
      "text/plain": [
       "(10, 5)"
      ]
     },
     "execution_count": 1054,
     "metadata": {},
     "output_type": "execute_result"
    }
   ],
   "source": [
    "data.shape"
   ]
  },
  {
   "cell_type": "code",
   "execution_count": 1055,
   "id": "4acc231f",
   "metadata": {},
   "outputs": [
    {
     "data": {
      "text/plain": [
       "Index(['同学0', '同学1', '同学2', '同学3', '同学4', '同学5', '同学6', '同学7', '同学8', '同学9'], dtype='object')"
      ]
     },
     "execution_count": 1055,
     "metadata": {},
     "output_type": "execute_result"
    }
   ],
   "source": [
    "data.index"
   ]
  },
  {
   "cell_type": "code",
   "execution_count": 1056,
   "id": "af8d3faf",
   "metadata": {},
   "outputs": [
    {
     "data": {
      "text/plain": [
       "Index(['语文', '数学', '英语', '政治', '体育'], dtype='object')"
      ]
     },
     "execution_count": 1056,
     "metadata": {},
     "output_type": "execute_result"
    }
   ],
   "source": [
    "data.columns"
   ]
  },
  {
   "cell_type": "code",
   "execution_count": 1057,
   "id": "d15b26fa",
   "metadata": {},
   "outputs": [
    {
     "data": {
      "text/plain": [
       "array([[44, 55, 74, 44, 64],\n",
       "       [80, 57, 83, 41, 76],\n",
       "       [79, 90, 91, 65, 83],\n",
       "       [67, 88, 70, 56, 71],\n",
       "       [66, 41, 43, 75, 85],\n",
       "       [72, 88, 84, 51, 68],\n",
       "       [78, 53, 50, 87, 58],\n",
       "       [69, 84, 65, 61, 97],\n",
       "       [95, 92, 95, 90, 79],\n",
       "       [68, 92, 60, 62, 48]])"
      ]
     },
     "execution_count": 1057,
     "metadata": {},
     "output_type": "execute_result"
    }
   ],
   "source": [
    "data.values"
   ]
  },
  {
   "cell_type": "code",
   "execution_count": 1058,
   "id": "88b4c68c",
   "metadata": {},
   "outputs": [
    {
     "data": {
      "text/html": [
       "<div>\n",
       "<style scoped>\n",
       "    .dataframe tbody tr th:only-of-type {\n",
       "        vertical-align: middle;\n",
       "    }\n",
       "\n",
       "    .dataframe tbody tr th {\n",
       "        vertical-align: top;\n",
       "    }\n",
       "\n",
       "    .dataframe thead th {\n",
       "        text-align: right;\n",
       "    }\n",
       "</style>\n",
       "<table border=\"1\" class=\"dataframe\">\n",
       "  <thead>\n",
       "    <tr style=\"text-align: right;\">\n",
       "      <th></th>\n",
       "      <th>同学0</th>\n",
       "      <th>同学1</th>\n",
       "      <th>同学2</th>\n",
       "      <th>同学3</th>\n",
       "      <th>同学4</th>\n",
       "      <th>同学5</th>\n",
       "      <th>同学6</th>\n",
       "      <th>同学7</th>\n",
       "      <th>同学8</th>\n",
       "      <th>同学9</th>\n",
       "    </tr>\n",
       "  </thead>\n",
       "  <tbody>\n",
       "    <tr>\n",
       "      <th>语文</th>\n",
       "      <td>44</td>\n",
       "      <td>80</td>\n",
       "      <td>79</td>\n",
       "      <td>67</td>\n",
       "      <td>66</td>\n",
       "      <td>72</td>\n",
       "      <td>78</td>\n",
       "      <td>69</td>\n",
       "      <td>95</td>\n",
       "      <td>68</td>\n",
       "    </tr>\n",
       "    <tr>\n",
       "      <th>数学</th>\n",
       "      <td>55</td>\n",
       "      <td>57</td>\n",
       "      <td>90</td>\n",
       "      <td>88</td>\n",
       "      <td>41</td>\n",
       "      <td>88</td>\n",
       "      <td>53</td>\n",
       "      <td>84</td>\n",
       "      <td>92</td>\n",
       "      <td>92</td>\n",
       "    </tr>\n",
       "    <tr>\n",
       "      <th>英语</th>\n",
       "      <td>74</td>\n",
       "      <td>83</td>\n",
       "      <td>91</td>\n",
       "      <td>70</td>\n",
       "      <td>43</td>\n",
       "      <td>84</td>\n",
       "      <td>50</td>\n",
       "      <td>65</td>\n",
       "      <td>95</td>\n",
       "      <td>60</td>\n",
       "    </tr>\n",
       "    <tr>\n",
       "      <th>政治</th>\n",
       "      <td>44</td>\n",
       "      <td>41</td>\n",
       "      <td>65</td>\n",
       "      <td>56</td>\n",
       "      <td>75</td>\n",
       "      <td>51</td>\n",
       "      <td>87</td>\n",
       "      <td>61</td>\n",
       "      <td>90</td>\n",
       "      <td>62</td>\n",
       "    </tr>\n",
       "    <tr>\n",
       "      <th>体育</th>\n",
       "      <td>64</td>\n",
       "      <td>76</td>\n",
       "      <td>83</td>\n",
       "      <td>71</td>\n",
       "      <td>85</td>\n",
       "      <td>68</td>\n",
       "      <td>58</td>\n",
       "      <td>97</td>\n",
       "      <td>79</td>\n",
       "      <td>48</td>\n",
       "    </tr>\n",
       "  </tbody>\n",
       "</table>\n",
       "</div>"
      ],
      "text/plain": [
       "    同学0  同学1  同学2  同学3  同学4  同学5  同学6  同学7  同学8  同学9\n",
       "语文   44   80   79   67   66   72   78   69   95   68\n",
       "数学   55   57   90   88   41   88   53   84   92   92\n",
       "英语   74   83   91   70   43   84   50   65   95   60\n",
       "政治   44   41   65   56   75   51   87   61   90   62\n",
       "体育   64   76   83   71   85   68   58   97   79   48"
      ]
     },
     "execution_count": 1058,
     "metadata": {},
     "output_type": "execute_result"
    }
   ],
   "source": [
    "data.T"
   ]
  },
  {
   "cell_type": "code",
   "execution_count": 1059,
   "id": "547d69e9",
   "metadata": {},
   "outputs": [
    {
     "data": {
      "text/html": [
       "<div>\n",
       "<style scoped>\n",
       "    .dataframe tbody tr th:only-of-type {\n",
       "        vertical-align: middle;\n",
       "    }\n",
       "\n",
       "    .dataframe tbody tr th {\n",
       "        vertical-align: top;\n",
       "    }\n",
       "\n",
       "    .dataframe thead th {\n",
       "        text-align: right;\n",
       "    }\n",
       "</style>\n",
       "<table border=\"1\" class=\"dataframe\">\n",
       "  <thead>\n",
       "    <tr style=\"text-align: right;\">\n",
       "      <th></th>\n",
       "      <th>语文</th>\n",
       "      <th>数学</th>\n",
       "      <th>英语</th>\n",
       "      <th>政治</th>\n",
       "      <th>体育</th>\n",
       "    </tr>\n",
       "  </thead>\n",
       "  <tbody>\n",
       "    <tr>\n",
       "      <th>同学0</th>\n",
       "      <td>44</td>\n",
       "      <td>55</td>\n",
       "      <td>74</td>\n",
       "      <td>44</td>\n",
       "      <td>64</td>\n",
       "    </tr>\n",
       "    <tr>\n",
       "      <th>同学1</th>\n",
       "      <td>80</td>\n",
       "      <td>57</td>\n",
       "      <td>83</td>\n",
       "      <td>41</td>\n",
       "      <td>76</td>\n",
       "    </tr>\n",
       "    <tr>\n",
       "      <th>同学2</th>\n",
       "      <td>79</td>\n",
       "      <td>90</td>\n",
       "      <td>91</td>\n",
       "      <td>65</td>\n",
       "      <td>83</td>\n",
       "    </tr>\n",
       "    <tr>\n",
       "      <th>同学3</th>\n",
       "      <td>67</td>\n",
       "      <td>88</td>\n",
       "      <td>70</td>\n",
       "      <td>56</td>\n",
       "      <td>71</td>\n",
       "    </tr>\n",
       "    <tr>\n",
       "      <th>同学4</th>\n",
       "      <td>66</td>\n",
       "      <td>41</td>\n",
       "      <td>43</td>\n",
       "      <td>75</td>\n",
       "      <td>85</td>\n",
       "    </tr>\n",
       "  </tbody>\n",
       "</table>\n",
       "</div>"
      ],
      "text/plain": [
       "     语文  数学  英语  政治  体育\n",
       "同学0  44  55  74  44  64\n",
       "同学1  80  57  83  41  76\n",
       "同学2  79  90  91  65  83\n",
       "同学3  67  88  70  56  71\n",
       "同学4  66  41  43  75  85"
      ]
     },
     "execution_count": 1059,
     "metadata": {},
     "output_type": "execute_result"
    }
   ],
   "source": [
    "data.head(5)#前5行"
   ]
  },
  {
   "cell_type": "code",
   "execution_count": 1060,
   "id": "bab9f270",
   "metadata": {},
   "outputs": [
    {
     "data": {
      "text/html": [
       "<div>\n",
       "<style scoped>\n",
       "    .dataframe tbody tr th:only-of-type {\n",
       "        vertical-align: middle;\n",
       "    }\n",
       "\n",
       "    .dataframe tbody tr th {\n",
       "        vertical-align: top;\n",
       "    }\n",
       "\n",
       "    .dataframe thead th {\n",
       "        text-align: right;\n",
       "    }\n",
       "</style>\n",
       "<table border=\"1\" class=\"dataframe\">\n",
       "  <thead>\n",
       "    <tr style=\"text-align: right;\">\n",
       "      <th></th>\n",
       "      <th>语文</th>\n",
       "      <th>数学</th>\n",
       "      <th>英语</th>\n",
       "      <th>政治</th>\n",
       "      <th>体育</th>\n",
       "    </tr>\n",
       "  </thead>\n",
       "  <tbody>\n",
       "    <tr>\n",
       "      <th>同学5</th>\n",
       "      <td>72</td>\n",
       "      <td>88</td>\n",
       "      <td>84</td>\n",
       "      <td>51</td>\n",
       "      <td>68</td>\n",
       "    </tr>\n",
       "    <tr>\n",
       "      <th>同学6</th>\n",
       "      <td>78</td>\n",
       "      <td>53</td>\n",
       "      <td>50</td>\n",
       "      <td>87</td>\n",
       "      <td>58</td>\n",
       "    </tr>\n",
       "    <tr>\n",
       "      <th>同学7</th>\n",
       "      <td>69</td>\n",
       "      <td>84</td>\n",
       "      <td>65</td>\n",
       "      <td>61</td>\n",
       "      <td>97</td>\n",
       "    </tr>\n",
       "    <tr>\n",
       "      <th>同学8</th>\n",
       "      <td>95</td>\n",
       "      <td>92</td>\n",
       "      <td>95</td>\n",
       "      <td>90</td>\n",
       "      <td>79</td>\n",
       "    </tr>\n",
       "    <tr>\n",
       "      <th>同学9</th>\n",
       "      <td>68</td>\n",
       "      <td>92</td>\n",
       "      <td>60</td>\n",
       "      <td>62</td>\n",
       "      <td>48</td>\n",
       "    </tr>\n",
       "  </tbody>\n",
       "</table>\n",
       "</div>"
      ],
      "text/plain": [
       "     语文  数学  英语  政治  体育\n",
       "同学5  72  88  84  51  68\n",
       "同学6  78  53  50  87  58\n",
       "同学7  69  84  65  61  97\n",
       "同学8  95  92  95  90  79\n",
       "同学9  68  92  60  62  48"
      ]
     },
     "execution_count": 1060,
     "metadata": {},
     "output_type": "execute_result"
    }
   ],
   "source": [
    "data.tail(5)#后5行"
   ]
  },
  {
   "cell_type": "code",
   "execution_count": null,
   "id": "c8a9dab5",
   "metadata": {},
   "outputs": [],
   "source": []
  },
  {
   "cell_type": "markdown",
   "id": "7bdfecc3",
   "metadata": {},
   "source": [
    "修改索引值"
   ]
  },
  {
   "cell_type": "code",
   "execution_count": 1061,
   "id": "4a7dc445",
   "metadata": {},
   "outputs": [],
   "source": [
    "stu=['学生'+str(i)for i in range(score_df.shape[0])]\n",
    "data.index=stu"
   ]
  },
  {
   "cell_type": "code",
   "execution_count": 1062,
   "id": "9ea99ccd",
   "metadata": {},
   "outputs": [
    {
     "data": {
      "text/html": [
       "<div>\n",
       "<style scoped>\n",
       "    .dataframe tbody tr th:only-of-type {\n",
       "        vertical-align: middle;\n",
       "    }\n",
       "\n",
       "    .dataframe tbody tr th {\n",
       "        vertical-align: top;\n",
       "    }\n",
       "\n",
       "    .dataframe thead th {\n",
       "        text-align: right;\n",
       "    }\n",
       "</style>\n",
       "<table border=\"1\" class=\"dataframe\">\n",
       "  <thead>\n",
       "    <tr style=\"text-align: right;\">\n",
       "      <th></th>\n",
       "      <th>语文</th>\n",
       "      <th>数学</th>\n",
       "      <th>英语</th>\n",
       "      <th>政治</th>\n",
       "      <th>体育</th>\n",
       "    </tr>\n",
       "  </thead>\n",
       "  <tbody>\n",
       "    <tr>\n",
       "      <th>学生0</th>\n",
       "      <td>44</td>\n",
       "      <td>55</td>\n",
       "      <td>74</td>\n",
       "      <td>44</td>\n",
       "      <td>64</td>\n",
       "    </tr>\n",
       "    <tr>\n",
       "      <th>学生1</th>\n",
       "      <td>80</td>\n",
       "      <td>57</td>\n",
       "      <td>83</td>\n",
       "      <td>41</td>\n",
       "      <td>76</td>\n",
       "    </tr>\n",
       "    <tr>\n",
       "      <th>学生2</th>\n",
       "      <td>79</td>\n",
       "      <td>90</td>\n",
       "      <td>91</td>\n",
       "      <td>65</td>\n",
       "      <td>83</td>\n",
       "    </tr>\n",
       "    <tr>\n",
       "      <th>学生3</th>\n",
       "      <td>67</td>\n",
       "      <td>88</td>\n",
       "      <td>70</td>\n",
       "      <td>56</td>\n",
       "      <td>71</td>\n",
       "    </tr>\n",
       "    <tr>\n",
       "      <th>学生4</th>\n",
       "      <td>66</td>\n",
       "      <td>41</td>\n",
       "      <td>43</td>\n",
       "      <td>75</td>\n",
       "      <td>85</td>\n",
       "    </tr>\n",
       "    <tr>\n",
       "      <th>学生5</th>\n",
       "      <td>72</td>\n",
       "      <td>88</td>\n",
       "      <td>84</td>\n",
       "      <td>51</td>\n",
       "      <td>68</td>\n",
       "    </tr>\n",
       "    <tr>\n",
       "      <th>学生6</th>\n",
       "      <td>78</td>\n",
       "      <td>53</td>\n",
       "      <td>50</td>\n",
       "      <td>87</td>\n",
       "      <td>58</td>\n",
       "    </tr>\n",
       "    <tr>\n",
       "      <th>学生7</th>\n",
       "      <td>69</td>\n",
       "      <td>84</td>\n",
       "      <td>65</td>\n",
       "      <td>61</td>\n",
       "      <td>97</td>\n",
       "    </tr>\n",
       "    <tr>\n",
       "      <th>学生8</th>\n",
       "      <td>95</td>\n",
       "      <td>92</td>\n",
       "      <td>95</td>\n",
       "      <td>90</td>\n",
       "      <td>79</td>\n",
       "    </tr>\n",
       "    <tr>\n",
       "      <th>学生9</th>\n",
       "      <td>68</td>\n",
       "      <td>92</td>\n",
       "      <td>60</td>\n",
       "      <td>62</td>\n",
       "      <td>48</td>\n",
       "    </tr>\n",
       "  </tbody>\n",
       "</table>\n",
       "</div>"
      ],
      "text/plain": [
       "     语文  数学  英语  政治  体育\n",
       "学生0  44  55  74  44  64\n",
       "学生1  80  57  83  41  76\n",
       "学生2  79  90  91  65  83\n",
       "学生3  67  88  70  56  71\n",
       "学生4  66  41  43  75  85\n",
       "学生5  72  88  84  51  68\n",
       "学生6  78  53  50  87  58\n",
       "学生7  69  84  65  61  97\n",
       "学生8  95  92  95  90  79\n",
       "学生9  68  92  60  62  48"
      ]
     },
     "execution_count": 1062,
     "metadata": {},
     "output_type": "execute_result"
    }
   ],
   "source": [
    "data"
   ]
  },
  {
   "cell_type": "markdown",
   "id": "a893c716",
   "metadata": {},
   "source": [
    "重设索引"
   ]
  },
  {
   "cell_type": "markdown",
   "id": "2b86a01a",
   "metadata": {},
   "source": [
    "reset_index(drop=False)\n"
   ]
  },
  {
   "cell_type": "markdown",
   "id": "4b1a937b",
   "metadata": {},
   "source": [
    "设置新的下标索引，drop:默认为False,不删除原索引，True，删除原索引"
   ]
  },
  {
   "cell_type": "code",
   "execution_count": 1063,
   "id": "7b7f00d5",
   "metadata": {},
   "outputs": [
    {
     "data": {
      "text/html": [
       "<div>\n",
       "<style scoped>\n",
       "    .dataframe tbody tr th:only-of-type {\n",
       "        vertical-align: middle;\n",
       "    }\n",
       "\n",
       "    .dataframe tbody tr th {\n",
       "        vertical-align: top;\n",
       "    }\n",
       "\n",
       "    .dataframe thead th {\n",
       "        text-align: right;\n",
       "    }\n",
       "</style>\n",
       "<table border=\"1\" class=\"dataframe\">\n",
       "  <thead>\n",
       "    <tr style=\"text-align: right;\">\n",
       "      <th></th>\n",
       "      <th>index</th>\n",
       "      <th>语文</th>\n",
       "      <th>数学</th>\n",
       "      <th>英语</th>\n",
       "      <th>政治</th>\n",
       "      <th>体育</th>\n",
       "    </tr>\n",
       "  </thead>\n",
       "  <tbody>\n",
       "    <tr>\n",
       "      <th>0</th>\n",
       "      <td>学生0</td>\n",
       "      <td>44</td>\n",
       "      <td>55</td>\n",
       "      <td>74</td>\n",
       "      <td>44</td>\n",
       "      <td>64</td>\n",
       "    </tr>\n",
       "    <tr>\n",
       "      <th>1</th>\n",
       "      <td>学生1</td>\n",
       "      <td>80</td>\n",
       "      <td>57</td>\n",
       "      <td>83</td>\n",
       "      <td>41</td>\n",
       "      <td>76</td>\n",
       "    </tr>\n",
       "    <tr>\n",
       "      <th>2</th>\n",
       "      <td>学生2</td>\n",
       "      <td>79</td>\n",
       "      <td>90</td>\n",
       "      <td>91</td>\n",
       "      <td>65</td>\n",
       "      <td>83</td>\n",
       "    </tr>\n",
       "    <tr>\n",
       "      <th>3</th>\n",
       "      <td>学生3</td>\n",
       "      <td>67</td>\n",
       "      <td>88</td>\n",
       "      <td>70</td>\n",
       "      <td>56</td>\n",
       "      <td>71</td>\n",
       "    </tr>\n",
       "    <tr>\n",
       "      <th>4</th>\n",
       "      <td>学生4</td>\n",
       "      <td>66</td>\n",
       "      <td>41</td>\n",
       "      <td>43</td>\n",
       "      <td>75</td>\n",
       "      <td>85</td>\n",
       "    </tr>\n",
       "    <tr>\n",
       "      <th>5</th>\n",
       "      <td>学生5</td>\n",
       "      <td>72</td>\n",
       "      <td>88</td>\n",
       "      <td>84</td>\n",
       "      <td>51</td>\n",
       "      <td>68</td>\n",
       "    </tr>\n",
       "    <tr>\n",
       "      <th>6</th>\n",
       "      <td>学生6</td>\n",
       "      <td>78</td>\n",
       "      <td>53</td>\n",
       "      <td>50</td>\n",
       "      <td>87</td>\n",
       "      <td>58</td>\n",
       "    </tr>\n",
       "    <tr>\n",
       "      <th>7</th>\n",
       "      <td>学生7</td>\n",
       "      <td>69</td>\n",
       "      <td>84</td>\n",
       "      <td>65</td>\n",
       "      <td>61</td>\n",
       "      <td>97</td>\n",
       "    </tr>\n",
       "    <tr>\n",
       "      <th>8</th>\n",
       "      <td>学生8</td>\n",
       "      <td>95</td>\n",
       "      <td>92</td>\n",
       "      <td>95</td>\n",
       "      <td>90</td>\n",
       "      <td>79</td>\n",
       "    </tr>\n",
       "    <tr>\n",
       "      <th>9</th>\n",
       "      <td>学生9</td>\n",
       "      <td>68</td>\n",
       "      <td>92</td>\n",
       "      <td>60</td>\n",
       "      <td>62</td>\n",
       "      <td>48</td>\n",
       "    </tr>\n",
       "  </tbody>\n",
       "</table>\n",
       "</div>"
      ],
      "text/plain": [
       "  index  语文  数学  英语  政治  体育\n",
       "0   学生0  44  55  74  44  64\n",
       "1   学生1  80  57  83  41  76\n",
       "2   学生2  79  90  91  65  83\n",
       "3   学生3  67  88  70  56  71\n",
       "4   学生4  66  41  43  75  85\n",
       "5   学生5  72  88  84  51  68\n",
       "6   学生6  78  53  50  87  58\n",
       "7   学生7  69  84  65  61  97\n",
       "8   学生8  95  92  95  90  79\n",
       "9   学生9  68  92  60  62  48"
      ]
     },
     "execution_count": 1063,
     "metadata": {},
     "output_type": "execute_result"
    }
   ],
   "source": [
    "data.reset_index(drop=False)"
   ]
  },
  {
   "cell_type": "code",
   "execution_count": 1064,
   "id": "0e1a3a41",
   "metadata": {},
   "outputs": [
    {
     "data": {
      "text/html": [
       "<div>\n",
       "<style scoped>\n",
       "    .dataframe tbody tr th:only-of-type {\n",
       "        vertical-align: middle;\n",
       "    }\n",
       "\n",
       "    .dataframe tbody tr th {\n",
       "        vertical-align: top;\n",
       "    }\n",
       "\n",
       "    .dataframe thead th {\n",
       "        text-align: right;\n",
       "    }\n",
       "</style>\n",
       "<table border=\"1\" class=\"dataframe\">\n",
       "  <thead>\n",
       "    <tr style=\"text-align: right;\">\n",
       "      <th></th>\n",
       "      <th>语文</th>\n",
       "      <th>数学</th>\n",
       "      <th>英语</th>\n",
       "      <th>政治</th>\n",
       "      <th>体育</th>\n",
       "    </tr>\n",
       "  </thead>\n",
       "  <tbody>\n",
       "    <tr>\n",
       "      <th>0</th>\n",
       "      <td>44</td>\n",
       "      <td>55</td>\n",
       "      <td>74</td>\n",
       "      <td>44</td>\n",
       "      <td>64</td>\n",
       "    </tr>\n",
       "    <tr>\n",
       "      <th>1</th>\n",
       "      <td>80</td>\n",
       "      <td>57</td>\n",
       "      <td>83</td>\n",
       "      <td>41</td>\n",
       "      <td>76</td>\n",
       "    </tr>\n",
       "    <tr>\n",
       "      <th>2</th>\n",
       "      <td>79</td>\n",
       "      <td>90</td>\n",
       "      <td>91</td>\n",
       "      <td>65</td>\n",
       "      <td>83</td>\n",
       "    </tr>\n",
       "    <tr>\n",
       "      <th>3</th>\n",
       "      <td>67</td>\n",
       "      <td>88</td>\n",
       "      <td>70</td>\n",
       "      <td>56</td>\n",
       "      <td>71</td>\n",
       "    </tr>\n",
       "    <tr>\n",
       "      <th>4</th>\n",
       "      <td>66</td>\n",
       "      <td>41</td>\n",
       "      <td>43</td>\n",
       "      <td>75</td>\n",
       "      <td>85</td>\n",
       "    </tr>\n",
       "    <tr>\n",
       "      <th>5</th>\n",
       "      <td>72</td>\n",
       "      <td>88</td>\n",
       "      <td>84</td>\n",
       "      <td>51</td>\n",
       "      <td>68</td>\n",
       "    </tr>\n",
       "    <tr>\n",
       "      <th>6</th>\n",
       "      <td>78</td>\n",
       "      <td>53</td>\n",
       "      <td>50</td>\n",
       "      <td>87</td>\n",
       "      <td>58</td>\n",
       "    </tr>\n",
       "    <tr>\n",
       "      <th>7</th>\n",
       "      <td>69</td>\n",
       "      <td>84</td>\n",
       "      <td>65</td>\n",
       "      <td>61</td>\n",
       "      <td>97</td>\n",
       "    </tr>\n",
       "    <tr>\n",
       "      <th>8</th>\n",
       "      <td>95</td>\n",
       "      <td>92</td>\n",
       "      <td>95</td>\n",
       "      <td>90</td>\n",
       "      <td>79</td>\n",
       "    </tr>\n",
       "    <tr>\n",
       "      <th>9</th>\n",
       "      <td>68</td>\n",
       "      <td>92</td>\n",
       "      <td>60</td>\n",
       "      <td>62</td>\n",
       "      <td>48</td>\n",
       "    </tr>\n",
       "  </tbody>\n",
       "</table>\n",
       "</div>"
      ],
      "text/plain": [
       "   语文  数学  英语  政治  体育\n",
       "0  44  55  74  44  64\n",
       "1  80  57  83  41  76\n",
       "2  79  90  91  65  83\n",
       "3  67  88  70  56  71\n",
       "4  66  41  43  75  85\n",
       "5  72  88  84  51  68\n",
       "6  78  53  50  87  58\n",
       "7  69  84  65  61  97\n",
       "8  95  92  95  90  79\n",
       "9  68  92  60  62  48"
      ]
     },
     "execution_count": 1064,
     "metadata": {},
     "output_type": "execute_result"
    }
   ],
   "source": [
    "data.reset_index(drop=True)"
   ]
  },
  {
   "cell_type": "markdown",
   "id": "56143980",
   "metadata": {},
   "source": [
    "以某列值设置新索引"
   ]
  },
  {
   "cell_type": "markdown",
   "id": "f73d090f",
   "metadata": {},
   "source": [
    "set_index(keys,drop=True)"
   ]
  },
  {
   "cell_type": "markdown",
   "id": "55cb2929",
   "metadata": {},
   "source": [
    "keys:列索引名或列索引名称的列表\n",
    "drop:默认为False,不删除原索引，True，删除原索引"
   ]
  },
  {
   "cell_type": "code",
   "execution_count": 1065,
   "id": "85e9f6ed",
   "metadata": {},
   "outputs": [],
   "source": [
    "df=pd.DataFrame({'month':[1,4,7,9],\n",
    "                 'year':[2013,2014,2015,2016],\n",
    "                 'sale':[55,33,234,56]})"
   ]
  },
  {
   "cell_type": "code",
   "execution_count": 1066,
   "id": "14f6ead3",
   "metadata": {},
   "outputs": [
    {
     "data": {
      "text/html": [
       "<div>\n",
       "<style scoped>\n",
       "    .dataframe tbody tr th:only-of-type {\n",
       "        vertical-align: middle;\n",
       "    }\n",
       "\n",
       "    .dataframe tbody tr th {\n",
       "        vertical-align: top;\n",
       "    }\n",
       "\n",
       "    .dataframe thead th {\n",
       "        text-align: right;\n",
       "    }\n",
       "</style>\n",
       "<table border=\"1\" class=\"dataframe\">\n",
       "  <thead>\n",
       "    <tr style=\"text-align: right;\">\n",
       "      <th></th>\n",
       "      <th>month</th>\n",
       "      <th>year</th>\n",
       "      <th>sale</th>\n",
       "    </tr>\n",
       "  </thead>\n",
       "  <tbody>\n",
       "    <tr>\n",
       "      <th>0</th>\n",
       "      <td>1</td>\n",
       "      <td>2013</td>\n",
       "      <td>55</td>\n",
       "    </tr>\n",
       "    <tr>\n",
       "      <th>1</th>\n",
       "      <td>4</td>\n",
       "      <td>2014</td>\n",
       "      <td>33</td>\n",
       "    </tr>\n",
       "    <tr>\n",
       "      <th>2</th>\n",
       "      <td>7</td>\n",
       "      <td>2015</td>\n",
       "      <td>234</td>\n",
       "    </tr>\n",
       "    <tr>\n",
       "      <th>3</th>\n",
       "      <td>9</td>\n",
       "      <td>2016</td>\n",
       "      <td>56</td>\n",
       "    </tr>\n",
       "  </tbody>\n",
       "</table>\n",
       "</div>"
      ],
      "text/plain": [
       "   month  year  sale\n",
       "0      1  2013    55\n",
       "1      4  2014    33\n",
       "2      7  2015   234\n",
       "3      9  2016    56"
      ]
     },
     "execution_count": 1066,
     "metadata": {},
     "output_type": "execute_result"
    }
   ],
   "source": [
    "df"
   ]
  },
  {
   "cell_type": "code",
   "execution_count": 1067,
   "id": "23526bc7",
   "metadata": {},
   "outputs": [
    {
     "data": {
      "text/html": [
       "<div>\n",
       "<style scoped>\n",
       "    .dataframe tbody tr th:only-of-type {\n",
       "        vertical-align: middle;\n",
       "    }\n",
       "\n",
       "    .dataframe tbody tr th {\n",
       "        vertical-align: top;\n",
       "    }\n",
       "\n",
       "    .dataframe thead th {\n",
       "        text-align: right;\n",
       "    }\n",
       "</style>\n",
       "<table border=\"1\" class=\"dataframe\">\n",
       "  <thead>\n",
       "    <tr style=\"text-align: right;\">\n",
       "      <th></th>\n",
       "      <th>year</th>\n",
       "      <th>sale</th>\n",
       "    </tr>\n",
       "    <tr>\n",
       "      <th>month</th>\n",
       "      <th></th>\n",
       "      <th></th>\n",
       "    </tr>\n",
       "  </thead>\n",
       "  <tbody>\n",
       "    <tr>\n",
       "      <th>1</th>\n",
       "      <td>2013</td>\n",
       "      <td>55</td>\n",
       "    </tr>\n",
       "    <tr>\n",
       "      <th>4</th>\n",
       "      <td>2014</td>\n",
       "      <td>33</td>\n",
       "    </tr>\n",
       "    <tr>\n",
       "      <th>7</th>\n",
       "      <td>2015</td>\n",
       "      <td>234</td>\n",
       "    </tr>\n",
       "    <tr>\n",
       "      <th>9</th>\n",
       "      <td>2016</td>\n",
       "      <td>56</td>\n",
       "    </tr>\n",
       "  </tbody>\n",
       "</table>\n",
       "</div>"
      ],
      "text/plain": [
       "       year  sale\n",
       "month            \n",
       "1      2013    55\n",
       "4      2014    33\n",
       "7      2015   234\n",
       "9      2016    56"
      ]
     },
     "execution_count": 1067,
     "metadata": {},
     "output_type": "execute_result"
    }
   ],
   "source": [
    "df.set_index('month')"
   ]
  },
  {
   "cell_type": "code",
   "execution_count": 1068,
   "id": "40c43407",
   "metadata": {},
   "outputs": [
    {
     "data": {
      "text/html": [
       "<div>\n",
       "<style scoped>\n",
       "    .dataframe tbody tr th:only-of-type {\n",
       "        vertical-align: middle;\n",
       "    }\n",
       "\n",
       "    .dataframe tbody tr th {\n",
       "        vertical-align: top;\n",
       "    }\n",
       "\n",
       "    .dataframe thead th {\n",
       "        text-align: right;\n",
       "    }\n",
       "</style>\n",
       "<table border=\"1\" class=\"dataframe\">\n",
       "  <thead>\n",
       "    <tr style=\"text-align: right;\">\n",
       "      <th></th>\n",
       "      <th></th>\n",
       "      <th>sale</th>\n",
       "    </tr>\n",
       "    <tr>\n",
       "      <th>month</th>\n",
       "      <th>year</th>\n",
       "      <th></th>\n",
       "    </tr>\n",
       "  </thead>\n",
       "  <tbody>\n",
       "    <tr>\n",
       "      <th>1</th>\n",
       "      <th>2013</th>\n",
       "      <td>55</td>\n",
       "    </tr>\n",
       "    <tr>\n",
       "      <th>4</th>\n",
       "      <th>2014</th>\n",
       "      <td>33</td>\n",
       "    </tr>\n",
       "    <tr>\n",
       "      <th>7</th>\n",
       "      <th>2015</th>\n",
       "      <td>234</td>\n",
       "    </tr>\n",
       "    <tr>\n",
       "      <th>9</th>\n",
       "      <th>2016</th>\n",
       "      <td>56</td>\n",
       "    </tr>\n",
       "  </tbody>\n",
       "</table>\n",
       "</div>"
      ],
      "text/plain": [
       "            sale\n",
       "month year      \n",
       "1     2013    55\n",
       "4     2014    33\n",
       "7     2015   234\n",
       "9     2016    56"
      ]
     },
     "execution_count": 1068,
     "metadata": {},
     "output_type": "execute_result"
    }
   ],
   "source": [
    "df=df.set_index(['month','year'])\n",
    "df\n",
    "\n"
   ]
  },
  {
   "cell_type": "markdown",
   "id": "3fbc8920",
   "metadata": {},
   "source": [
    "multiindex"
   ]
  },
  {
   "cell_type": "code",
   "execution_count": 1069,
   "id": "3b3dc60f",
   "metadata": {},
   "outputs": [
    {
     "data": {
      "text/plain": [
       "MultiIndex([(1, 2013),\n",
       "            (4, 2014),\n",
       "            (7, 2015),\n",
       "            (9, 2016)],\n",
       "           names=['month', 'year'])"
      ]
     },
     "execution_count": 1069,
     "metadata": {},
     "output_type": "execute_result"
    }
   ],
   "source": [
    "df.index"
   ]
  },
  {
   "cell_type": "markdown",
   "id": "06902c97",
   "metadata": {},
   "source": [
    "`df.index.names` 返回当前 DataFrame 索引的名称列表。\n",
    "如果 DataFrame 使用了 MultiIndex（多级索引），则会返回每一级索引的名称。\n",
    "例如，对于一个具有两级索引的 DataFrame，`df.index.names` 可能返回 `['level_1', 'level_2']`。\n",
    "这在需要查看或修改索引名称时非常有用。"
   ]
  },
  {
   "cell_type": "code",
   "execution_count": 1070,
   "id": "ec167d7c",
   "metadata": {},
   "outputs": [
    {
     "data": {
      "text/plain": [
       "FrozenList(['month', 'year'])"
      ]
     },
     "execution_count": 1070,
     "metadata": {},
     "output_type": "execute_result"
    }
   ],
   "source": [
    "df.index.names"
   ]
  },
  {
   "cell_type": "code",
   "execution_count": 1071,
   "id": "936be66c",
   "metadata": {},
   "outputs": [
    {
     "data": {
      "text/plain": [
       "FrozenList([[1, 4, 7, 9], [2013, 2014, 2015, 2016]])"
      ]
     },
     "execution_count": 1071,
     "metadata": {},
     "output_type": "execute_result"
    }
   ],
   "source": [
    "df.index.levels"
   ]
  },
  {
   "cell_type": "code",
   "execution_count": 1072,
   "id": "5f774236",
   "metadata": {},
   "outputs": [
    {
     "data": {
      "text/plain": [
       "MultiIndex([(1,  'red'),\n",
       "            (1, 'blue'),\n",
       "            (2,  'red'),\n",
       "            (2, 'blue')],\n",
       "           names=['number', 'color'])"
      ]
     },
     "execution_count": 1072,
     "metadata": {},
     "output_type": "execute_result"
    }
   ],
   "source": [
    "arrays=[[1,1,2,2],['red','blue','red','blue']]\n",
    "pd.MultiIndex.from_arrays(arrays,names=('number','color'))"
   ]
  },
  {
   "cell_type": "markdown",
   "id": "122226df",
   "metadata": {},
   "source": [
    "索引"
   ]
  },
  {
   "cell_type": "markdown",
   "id": "9fcbdf61",
   "metadata": {},
   "source": [
    "drop删除列"
   ]
  },
  {
   "cell_type": "code",
   "execution_count": 1073,
   "id": "88c8e50a",
   "metadata": {},
   "outputs": [
    {
     "data": {
      "text/html": [
       "<div>\n",
       "<style scoped>\n",
       "    .dataframe tbody tr th:only-of-type {\n",
       "        vertical-align: middle;\n",
       "    }\n",
       "\n",
       "    .dataframe tbody tr th {\n",
       "        vertical-align: top;\n",
       "    }\n",
       "\n",
       "    .dataframe thead th {\n",
       "        text-align: right;\n",
       "    }\n",
       "</style>\n",
       "<table border=\"1\" class=\"dataframe\">\n",
       "  <thead>\n",
       "    <tr style=\"text-align: right;\">\n",
       "      <th></th>\n",
       "      <th></th>\n",
       "    </tr>\n",
       "    <tr>\n",
       "      <th>month</th>\n",
       "      <th>year</th>\n",
       "    </tr>\n",
       "  </thead>\n",
       "  <tbody>\n",
       "    <tr>\n",
       "      <th>1</th>\n",
       "      <th>2013</th>\n",
       "    </tr>\n",
       "    <tr>\n",
       "      <th>4</th>\n",
       "      <th>2014</th>\n",
       "    </tr>\n",
       "    <tr>\n",
       "      <th>7</th>\n",
       "      <th>2015</th>\n",
       "    </tr>\n",
       "    <tr>\n",
       "      <th>9</th>\n",
       "      <th>2016</th>\n",
       "    </tr>\n",
       "  </tbody>\n",
       "</table>\n",
       "</div>"
      ],
      "text/plain": [
       "Empty DataFrame\n",
       "Columns: []\n",
       "Index: [(1, 2013), (4, 2014), (7, 2015), (9, 2016)]"
      ]
     },
     "execution_count": 1073,
     "metadata": {},
     "output_type": "execute_result"
    }
   ],
   "source": [
    "df=df.drop(['sale'],axis=1)\n",
    "df"
   ]
  },
  {
   "cell_type": "markdown",
   "id": "67df5540",
   "metadata": {},
   "source": [
    "`df=df.drop(['sale'],axis=1)` 删除了 DataFrame 中名为 `'sale'` 的列。\n",
    "参数 `axis=1` 指定操作的是列，而不是行。\n",
    "此操作返回一个新的 DataFrame，并不会修改原始 DataFrame，除非使用 `inplace=True` 参数。"
   ]
  },
  {
   "cell_type": "markdown",
   "id": "5b5c162a",
   "metadata": {},
   "source": [
    "直接索引（先列后行）"
   ]
  },
  {
   "cell_type": "code",
   "execution_count": 1074,
   "id": "f7918367",
   "metadata": {},
   "outputs": [
    {
     "data": {
      "text/plain": [
       "64"
      ]
     },
     "execution_count": 1074,
     "metadata": {},
     "output_type": "execute_result"
    }
   ],
   "source": [
    "data['体育']['学生0']"
   ]
  },
  {
   "cell_type": "markdown",
   "id": "bacfb74e",
   "metadata": {},
   "source": [
    "loc和iloc"
   ]
  },
  {
   "cell_type": "code",
   "execution_count": 1075,
   "id": "71d21b4b",
   "metadata": {},
   "outputs": [
    {
     "data": {
      "text/html": [
       "<div>\n",
       "<style scoped>\n",
       "    .dataframe tbody tr th:only-of-type {\n",
       "        vertical-align: middle;\n",
       "    }\n",
       "\n",
       "    .dataframe tbody tr th {\n",
       "        vertical-align: top;\n",
       "    }\n",
       "\n",
       "    .dataframe thead th {\n",
       "        text-align: right;\n",
       "    }\n",
       "</style>\n",
       "<table border=\"1\" class=\"dataframe\">\n",
       "  <thead>\n",
       "    <tr style=\"text-align: right;\">\n",
       "      <th></th>\n",
       "      <th>语文</th>\n",
       "      <th>数学</th>\n",
       "      <th>英语</th>\n",
       "      <th>政治</th>\n",
       "      <th>体育</th>\n",
       "    </tr>\n",
       "  </thead>\n",
       "  <tbody>\n",
       "    <tr>\n",
       "      <th>学生0</th>\n",
       "      <td>44</td>\n",
       "      <td>55</td>\n",
       "      <td>74</td>\n",
       "      <td>44</td>\n",
       "      <td>64</td>\n",
       "    </tr>\n",
       "    <tr>\n",
       "      <th>学生1</th>\n",
       "      <td>80</td>\n",
       "      <td>57</td>\n",
       "      <td>83</td>\n",
       "      <td>41</td>\n",
       "      <td>76</td>\n",
       "    </tr>\n",
       "    <tr>\n",
       "      <th>学生2</th>\n",
       "      <td>79</td>\n",
       "      <td>90</td>\n",
       "      <td>91</td>\n",
       "      <td>65</td>\n",
       "      <td>83</td>\n",
       "    </tr>\n",
       "    <tr>\n",
       "      <th>学生3</th>\n",
       "      <td>67</td>\n",
       "      <td>88</td>\n",
       "      <td>70</td>\n",
       "      <td>56</td>\n",
       "      <td>71</td>\n",
       "    </tr>\n",
       "    <tr>\n",
       "      <th>学生4</th>\n",
       "      <td>66</td>\n",
       "      <td>41</td>\n",
       "      <td>43</td>\n",
       "      <td>75</td>\n",
       "      <td>85</td>\n",
       "    </tr>\n",
       "    <tr>\n",
       "      <th>学生5</th>\n",
       "      <td>72</td>\n",
       "      <td>88</td>\n",
       "      <td>84</td>\n",
       "      <td>51</td>\n",
       "      <td>68</td>\n",
       "    </tr>\n",
       "    <tr>\n",
       "      <th>学生6</th>\n",
       "      <td>78</td>\n",
       "      <td>53</td>\n",
       "      <td>50</td>\n",
       "      <td>87</td>\n",
       "      <td>58</td>\n",
       "    </tr>\n",
       "    <tr>\n",
       "      <th>学生7</th>\n",
       "      <td>69</td>\n",
       "      <td>84</td>\n",
       "      <td>65</td>\n",
       "      <td>61</td>\n",
       "      <td>97</td>\n",
       "    </tr>\n",
       "    <tr>\n",
       "      <th>学生8</th>\n",
       "      <td>95</td>\n",
       "      <td>92</td>\n",
       "      <td>95</td>\n",
       "      <td>90</td>\n",
       "      <td>79</td>\n",
       "    </tr>\n",
       "    <tr>\n",
       "      <th>学生9</th>\n",
       "      <td>68</td>\n",
       "      <td>92</td>\n",
       "      <td>60</td>\n",
       "      <td>62</td>\n",
       "      <td>48</td>\n",
       "    </tr>\n",
       "  </tbody>\n",
       "</table>\n",
       "</div>"
      ],
      "text/plain": [
       "     语文  数学  英语  政治  体育\n",
       "学生0  44  55  74  44  64\n",
       "学生1  80  57  83  41  76\n",
       "学生2  79  90  91  65  83\n",
       "学生3  67  88  70  56  71\n",
       "学生4  66  41  43  75  85\n",
       "学生5  72  88  84  51  68\n",
       "学生6  78  53  50  87  58\n",
       "学生7  69  84  65  61  97\n",
       "学生8  95  92  95  90  79\n",
       "学生9  68  92  60  62  48"
      ]
     },
     "execution_count": 1075,
     "metadata": {},
     "output_type": "execute_result"
    }
   ],
   "source": [
    "data"
   ]
  },
  {
   "cell_type": "code",
   "execution_count": 1076,
   "id": "abe5700b",
   "metadata": {},
   "outputs": [
    {
     "data": {
      "text/html": [
       "<div>\n",
       "<style scoped>\n",
       "    .dataframe tbody tr th:only-of-type {\n",
       "        vertical-align: middle;\n",
       "    }\n",
       "\n",
       "    .dataframe tbody tr th {\n",
       "        vertical-align: top;\n",
       "    }\n",
       "\n",
       "    .dataframe thead th {\n",
       "        text-align: right;\n",
       "    }\n",
       "</style>\n",
       "<table border=\"1\" class=\"dataframe\">\n",
       "  <thead>\n",
       "    <tr style=\"text-align: right;\">\n",
       "      <th></th>\n",
       "      <th>语文</th>\n",
       "      <th>数学</th>\n",
       "    </tr>\n",
       "  </thead>\n",
       "  <tbody>\n",
       "    <tr>\n",
       "      <th>学生0</th>\n",
       "      <td>44</td>\n",
       "      <td>55</td>\n",
       "    </tr>\n",
       "    <tr>\n",
       "      <th>学生1</th>\n",
       "      <td>80</td>\n",
       "      <td>57</td>\n",
       "    </tr>\n",
       "    <tr>\n",
       "      <th>学生2</th>\n",
       "      <td>79</td>\n",
       "      <td>90</td>\n",
       "    </tr>\n",
       "    <tr>\n",
       "      <th>学生3</th>\n",
       "      <td>67</td>\n",
       "      <td>88</td>\n",
       "    </tr>\n",
       "    <tr>\n",
       "      <th>学生4</th>\n",
       "      <td>66</td>\n",
       "      <td>41</td>\n",
       "    </tr>\n",
       "    <tr>\n",
       "      <th>学生5</th>\n",
       "      <td>72</td>\n",
       "      <td>88</td>\n",
       "    </tr>\n",
       "    <tr>\n",
       "      <th>学生6</th>\n",
       "      <td>78</td>\n",
       "      <td>53</td>\n",
       "    </tr>\n",
       "    <tr>\n",
       "      <th>学生7</th>\n",
       "      <td>69</td>\n",
       "      <td>84</td>\n",
       "    </tr>\n",
       "    <tr>\n",
       "      <th>学生8</th>\n",
       "      <td>95</td>\n",
       "      <td>92</td>\n",
       "    </tr>\n",
       "    <tr>\n",
       "      <th>学生9</th>\n",
       "      <td>68</td>\n",
       "      <td>92</td>\n",
       "    </tr>\n",
       "  </tbody>\n",
       "</table>\n",
       "</div>"
      ],
      "text/plain": [
       "     语文  数学\n",
       "学生0  44  55\n",
       "学生1  80  57\n",
       "学生2  79  90\n",
       "学生3  67  88\n",
       "学生4  66  41\n",
       "学生5  72  88\n",
       "学生6  78  53\n",
       "学生7  69  84\n",
       "学生8  95  92\n",
       "学生9  68  92"
      ]
     },
     "execution_count": 1076,
     "metadata": {},
     "output_type": "execute_result"
    }
   ],
   "source": [
    "data.loc[:,'语文':'数学']#只能通过行列索引名字"
   ]
  },
  {
   "cell_type": "code",
   "execution_count": 1077,
   "id": "dc4c84da",
   "metadata": {},
   "outputs": [
    {
     "data": {
      "text/html": [
       "<div>\n",
       "<style scoped>\n",
       "    .dataframe tbody tr th:only-of-type {\n",
       "        vertical-align: middle;\n",
       "    }\n",
       "\n",
       "    .dataframe tbody tr th {\n",
       "        vertical-align: top;\n",
       "    }\n",
       "\n",
       "    .dataframe thead th {\n",
       "        text-align: right;\n",
       "    }\n",
       "</style>\n",
       "<table border=\"1\" class=\"dataframe\">\n",
       "  <thead>\n",
       "    <tr style=\"text-align: right;\">\n",
       "      <th></th>\n",
       "      <th>语文</th>\n",
       "      <th>数学</th>\n",
       "      <th>英语</th>\n",
       "      <th>政治</th>\n",
       "      <th>体育</th>\n",
       "    </tr>\n",
       "  </thead>\n",
       "  <tbody>\n",
       "    <tr>\n",
       "      <th>学生0</th>\n",
       "      <td>44</td>\n",
       "      <td>55</td>\n",
       "      <td>74</td>\n",
       "      <td>44</td>\n",
       "      <td>64</td>\n",
       "    </tr>\n",
       "    <tr>\n",
       "      <th>学生1</th>\n",
       "      <td>80</td>\n",
       "      <td>57</td>\n",
       "      <td>83</td>\n",
       "      <td>41</td>\n",
       "      <td>76</td>\n",
       "    </tr>\n",
       "    <tr>\n",
       "      <th>学生2</th>\n",
       "      <td>79</td>\n",
       "      <td>90</td>\n",
       "      <td>91</td>\n",
       "      <td>65</td>\n",
       "      <td>83</td>\n",
       "    </tr>\n",
       "  </tbody>\n",
       "</table>\n",
       "</div>"
      ],
      "text/plain": [
       "     语文  数学  英语  政治  体育\n",
       "学生0  44  55  74  44  64\n",
       "学生1  80  57  83  41  76\n",
       "学生2  79  90  91  65  83"
      ]
     },
     "execution_count": 1077,
     "metadata": {},
     "output_type": "execute_result"
    }
   ],
   "source": [
    "data.iloc[:3,:5]#通过索引下标"
   ]
  },
  {
   "cell_type": "markdown",
   "id": "d028056c",
   "metadata": {},
   "source": [
    "ix"
   ]
  },
  {
   "cell_type": "code",
   "execution_count": 1078,
   "id": "f1e24b75",
   "metadata": {},
   "outputs": [
    {
     "data": {
      "text/html": [
       "<div>\n",
       "<style scoped>\n",
       "    .dataframe tbody tr th:only-of-type {\n",
       "        vertical-align: middle;\n",
       "    }\n",
       "\n",
       "    .dataframe tbody tr th {\n",
       "        vertical-align: top;\n",
       "    }\n",
       "\n",
       "    .dataframe thead th {\n",
       "        text-align: right;\n",
       "    }\n",
       "</style>\n",
       "<table border=\"1\" class=\"dataframe\">\n",
       "  <thead>\n",
       "    <tr style=\"text-align: right;\">\n",
       "      <th></th>\n",
       "      <th>语文</th>\n",
       "      <th>体育</th>\n",
       "    </tr>\n",
       "  </thead>\n",
       "  <tbody>\n",
       "    <tr>\n",
       "      <th>学生0</th>\n",
       "      <td>44</td>\n",
       "      <td>64</td>\n",
       "    </tr>\n",
       "    <tr>\n",
       "      <th>学生1</th>\n",
       "      <td>80</td>\n",
       "      <td>76</td>\n",
       "    </tr>\n",
       "    <tr>\n",
       "      <th>学生2</th>\n",
       "      <td>79</td>\n",
       "      <td>83</td>\n",
       "    </tr>\n",
       "    <tr>\n",
       "      <th>学生3</th>\n",
       "      <td>67</td>\n",
       "      <td>71</td>\n",
       "    </tr>\n",
       "  </tbody>\n",
       "</table>\n",
       "</div>"
      ],
      "text/plain": [
       "     语文  体育\n",
       "学生0  44  64\n",
       "学生1  80  76\n",
       "学生2  79  83\n",
       "学生3  67  71"
      ]
     },
     "execution_count": 1078,
     "metadata": {},
     "output_type": "execute_result"
    }
   ],
   "source": [
    "data.loc[data.index[0:4],['语文','体育']]"
   ]
  },
  {
   "cell_type": "code",
   "execution_count": 1079,
   "id": "918934c3",
   "metadata": {},
   "outputs": [
    {
     "data": {
      "text/html": [
       "<div>\n",
       "<style scoped>\n",
       "    .dataframe tbody tr th:only-of-type {\n",
       "        vertical-align: middle;\n",
       "    }\n",
       "\n",
       "    .dataframe tbody tr th {\n",
       "        vertical-align: top;\n",
       "    }\n",
       "\n",
       "    .dataframe thead th {\n",
       "        text-align: right;\n",
       "    }\n",
       "</style>\n",
       "<table border=\"1\" class=\"dataframe\">\n",
       "  <thead>\n",
       "    <tr style=\"text-align: right;\">\n",
       "      <th></th>\n",
       "      <th>语文</th>\n",
       "      <th>体育</th>\n",
       "    </tr>\n",
       "  </thead>\n",
       "  <tbody>\n",
       "    <tr>\n",
       "      <th>学生0</th>\n",
       "      <td>44</td>\n",
       "      <td>64</td>\n",
       "    </tr>\n",
       "    <tr>\n",
       "      <th>学生1</th>\n",
       "      <td>80</td>\n",
       "      <td>76</td>\n",
       "    </tr>\n",
       "    <tr>\n",
       "      <th>学生2</th>\n",
       "      <td>79</td>\n",
       "      <td>83</td>\n",
       "    </tr>\n",
       "    <tr>\n",
       "      <th>学生3</th>\n",
       "      <td>67</td>\n",
       "      <td>71</td>\n",
       "    </tr>\n",
       "  </tbody>\n",
       "</table>\n",
       "</div>"
      ],
      "text/plain": [
       "     语文  体育\n",
       "学生0  44  64\n",
       "学生1  80  76\n",
       "学生2  79  83\n",
       "学生3  67  71"
      ]
     },
     "execution_count": 1079,
     "metadata": {},
     "output_type": "execute_result"
    }
   ],
   "source": [
    "data.iloc[0:4,data.columns.get_indexer(['语文','体育'])]"
   ]
  },
  {
   "cell_type": "markdown",
   "id": "76164007",
   "metadata": {},
   "source": [
    "赋值"
   ]
  },
  {
   "cell_type": "code",
   "execution_count": 1080,
   "id": "79d20e1e",
   "metadata": {},
   "outputs": [],
   "source": [
    "data['语文']=1"
   ]
  },
  {
   "cell_type": "markdown",
   "id": "e76dd0f0",
   "metadata": {},
   "source": [
    "排序"
   ]
  },
  {
   "cell_type": "markdown",
   "id": "fc6d906a",
   "metadata": {},
   "source": [
    "sort_values"
   ]
  },
  {
   "cell_type": "code",
   "execution_count": 1081,
   "id": "1055befc",
   "metadata": {},
   "outputs": [
    {
     "data": {
      "text/html": [
       "<div>\n",
       "<style scoped>\n",
       "    .dataframe tbody tr th:only-of-type {\n",
       "        vertical-align: middle;\n",
       "    }\n",
       "\n",
       "    .dataframe tbody tr th {\n",
       "        vertical-align: top;\n",
       "    }\n",
       "\n",
       "    .dataframe thead th {\n",
       "        text-align: right;\n",
       "    }\n",
       "</style>\n",
       "<table border=\"1\" class=\"dataframe\">\n",
       "  <thead>\n",
       "    <tr style=\"text-align: right;\">\n",
       "      <th></th>\n",
       "      <th>语文</th>\n",
       "      <th>数学</th>\n",
       "      <th>英语</th>\n",
       "      <th>政治</th>\n",
       "      <th>体育</th>\n",
       "    </tr>\n",
       "  </thead>\n",
       "  <tbody>\n",
       "    <tr>\n",
       "      <th>学生7</th>\n",
       "      <td>1</td>\n",
       "      <td>84</td>\n",
       "      <td>65</td>\n",
       "      <td>61</td>\n",
       "      <td>97</td>\n",
       "    </tr>\n",
       "    <tr>\n",
       "      <th>学生4</th>\n",
       "      <td>1</td>\n",
       "      <td>41</td>\n",
       "      <td>43</td>\n",
       "      <td>75</td>\n",
       "      <td>85</td>\n",
       "    </tr>\n",
       "    <tr>\n",
       "      <th>学生2</th>\n",
       "      <td>1</td>\n",
       "      <td>90</td>\n",
       "      <td>91</td>\n",
       "      <td>65</td>\n",
       "      <td>83</td>\n",
       "    </tr>\n",
       "    <tr>\n",
       "      <th>学生8</th>\n",
       "      <td>1</td>\n",
       "      <td>92</td>\n",
       "      <td>95</td>\n",
       "      <td>90</td>\n",
       "      <td>79</td>\n",
       "    </tr>\n",
       "    <tr>\n",
       "      <th>学生1</th>\n",
       "      <td>1</td>\n",
       "      <td>57</td>\n",
       "      <td>83</td>\n",
       "      <td>41</td>\n",
       "      <td>76</td>\n",
       "    </tr>\n",
       "    <tr>\n",
       "      <th>学生3</th>\n",
       "      <td>1</td>\n",
       "      <td>88</td>\n",
       "      <td>70</td>\n",
       "      <td>56</td>\n",
       "      <td>71</td>\n",
       "    </tr>\n",
       "    <tr>\n",
       "      <th>学生5</th>\n",
       "      <td>1</td>\n",
       "      <td>88</td>\n",
       "      <td>84</td>\n",
       "      <td>51</td>\n",
       "      <td>68</td>\n",
       "    </tr>\n",
       "    <tr>\n",
       "      <th>学生0</th>\n",
       "      <td>1</td>\n",
       "      <td>55</td>\n",
       "      <td>74</td>\n",
       "      <td>44</td>\n",
       "      <td>64</td>\n",
       "    </tr>\n",
       "    <tr>\n",
       "      <th>学生6</th>\n",
       "      <td>1</td>\n",
       "      <td>53</td>\n",
       "      <td>50</td>\n",
       "      <td>87</td>\n",
       "      <td>58</td>\n",
       "    </tr>\n",
       "    <tr>\n",
       "      <th>学生9</th>\n",
       "      <td>1</td>\n",
       "      <td>92</td>\n",
       "      <td>60</td>\n",
       "      <td>62</td>\n",
       "      <td>48</td>\n",
       "    </tr>\n",
       "  </tbody>\n",
       "</table>\n",
       "</div>"
      ],
      "text/plain": [
       "     语文  数学  英语  政治  体育\n",
       "学生7   1  84  65  61  97\n",
       "学生4   1  41  43  75  85\n",
       "学生2   1  90  91  65  83\n",
       "学生8   1  92  95  90  79\n",
       "学生1   1  57  83  41  76\n",
       "学生3   1  88  70  56  71\n",
       "学生5   1  88  84  51  68\n",
       "学生0   1  55  74  44  64\n",
       "学生6   1  53  50  87  58\n",
       "学生9   1  92  60  62  48"
      ]
     },
     "execution_count": 1081,
     "metadata": {},
     "output_type": "execute_result"
    }
   ],
   "source": [
    "data.sort_values(by='体育',ascending=False)"
   ]
  },
  {
   "cell_type": "code",
   "execution_count": 1082,
   "id": "0310dfbb",
   "metadata": {},
   "outputs": [
    {
     "data": {
      "text/html": [
       "<div>\n",
       "<style scoped>\n",
       "    .dataframe tbody tr th:only-of-type {\n",
       "        vertical-align: middle;\n",
       "    }\n",
       "\n",
       "    .dataframe tbody tr th {\n",
       "        vertical-align: top;\n",
       "    }\n",
       "\n",
       "    .dataframe thead th {\n",
       "        text-align: right;\n",
       "    }\n",
       "</style>\n",
       "<table border=\"1\" class=\"dataframe\">\n",
       "  <thead>\n",
       "    <tr style=\"text-align: right;\">\n",
       "      <th></th>\n",
       "      <th>语文</th>\n",
       "      <th>数学</th>\n",
       "      <th>英语</th>\n",
       "      <th>政治</th>\n",
       "      <th>体育</th>\n",
       "    </tr>\n",
       "  </thead>\n",
       "  <tbody>\n",
       "    <tr>\n",
       "      <th>学生9</th>\n",
       "      <td>1</td>\n",
       "      <td>92</td>\n",
       "      <td>60</td>\n",
       "      <td>62</td>\n",
       "      <td>48</td>\n",
       "    </tr>\n",
       "    <tr>\n",
       "      <th>学生6</th>\n",
       "      <td>1</td>\n",
       "      <td>53</td>\n",
       "      <td>50</td>\n",
       "      <td>87</td>\n",
       "      <td>58</td>\n",
       "    </tr>\n",
       "    <tr>\n",
       "      <th>学生0</th>\n",
       "      <td>1</td>\n",
       "      <td>55</td>\n",
       "      <td>74</td>\n",
       "      <td>44</td>\n",
       "      <td>64</td>\n",
       "    </tr>\n",
       "    <tr>\n",
       "      <th>学生5</th>\n",
       "      <td>1</td>\n",
       "      <td>88</td>\n",
       "      <td>84</td>\n",
       "      <td>51</td>\n",
       "      <td>68</td>\n",
       "    </tr>\n",
       "    <tr>\n",
       "      <th>学生3</th>\n",
       "      <td>1</td>\n",
       "      <td>88</td>\n",
       "      <td>70</td>\n",
       "      <td>56</td>\n",
       "      <td>71</td>\n",
       "    </tr>\n",
       "    <tr>\n",
       "      <th>学生1</th>\n",
       "      <td>1</td>\n",
       "      <td>57</td>\n",
       "      <td>83</td>\n",
       "      <td>41</td>\n",
       "      <td>76</td>\n",
       "    </tr>\n",
       "    <tr>\n",
       "      <th>学生8</th>\n",
       "      <td>1</td>\n",
       "      <td>92</td>\n",
       "      <td>95</td>\n",
       "      <td>90</td>\n",
       "      <td>79</td>\n",
       "    </tr>\n",
       "    <tr>\n",
       "      <th>学生2</th>\n",
       "      <td>1</td>\n",
       "      <td>90</td>\n",
       "      <td>91</td>\n",
       "      <td>65</td>\n",
       "      <td>83</td>\n",
       "    </tr>\n",
       "    <tr>\n",
       "      <th>学生4</th>\n",
       "      <td>1</td>\n",
       "      <td>41</td>\n",
       "      <td>43</td>\n",
       "      <td>75</td>\n",
       "      <td>85</td>\n",
       "    </tr>\n",
       "    <tr>\n",
       "      <th>学生7</th>\n",
       "      <td>1</td>\n",
       "      <td>84</td>\n",
       "      <td>65</td>\n",
       "      <td>61</td>\n",
       "      <td>97</td>\n",
       "    </tr>\n",
       "  </tbody>\n",
       "</table>\n",
       "</div>"
      ],
      "text/plain": [
       "     语文  数学  英语  政治  体育\n",
       "学生9   1  92  60  62  48\n",
       "学生6   1  53  50  87  58\n",
       "学生0   1  55  74  44  64\n",
       "学生5   1  88  84  51  68\n",
       "学生3   1  88  70  56  71\n",
       "学生1   1  57  83  41  76\n",
       "学生8   1  92  95  90  79\n",
       "学生2   1  90  91  65  83\n",
       "学生4   1  41  43  75  85\n",
       "学生7   1  84  65  61  97"
      ]
     },
     "execution_count": 1082,
     "metadata": {},
     "output_type": "execute_result"
    }
   ],
   "source": [
    "data.sort_values(by=['体育','数学'])"
   ]
  },
  {
   "cell_type": "markdown",
   "id": "d75e49ab",
   "metadata": {},
   "source": [
    "sort_index索引排序"
   ]
  },
  {
   "cell_type": "code",
   "execution_count": 1083,
   "id": "0b28b244",
   "metadata": {},
   "outputs": [
    {
     "data": {
      "text/html": [
       "<div>\n",
       "<style scoped>\n",
       "    .dataframe tbody tr th:only-of-type {\n",
       "        vertical-align: middle;\n",
       "    }\n",
       "\n",
       "    .dataframe tbody tr th {\n",
       "        vertical-align: top;\n",
       "    }\n",
       "\n",
       "    .dataframe thead th {\n",
       "        text-align: right;\n",
       "    }\n",
       "</style>\n",
       "<table border=\"1\" class=\"dataframe\">\n",
       "  <thead>\n",
       "    <tr style=\"text-align: right;\">\n",
       "      <th></th>\n",
       "      <th>语文</th>\n",
       "      <th>数学</th>\n",
       "      <th>英语</th>\n",
       "      <th>政治</th>\n",
       "      <th>体育</th>\n",
       "    </tr>\n",
       "  </thead>\n",
       "  <tbody>\n",
       "    <tr>\n",
       "      <th>学生0</th>\n",
       "      <td>1</td>\n",
       "      <td>55</td>\n",
       "      <td>74</td>\n",
       "      <td>44</td>\n",
       "      <td>64</td>\n",
       "    </tr>\n",
       "    <tr>\n",
       "      <th>学生1</th>\n",
       "      <td>1</td>\n",
       "      <td>57</td>\n",
       "      <td>83</td>\n",
       "      <td>41</td>\n",
       "      <td>76</td>\n",
       "    </tr>\n",
       "    <tr>\n",
       "      <th>学生2</th>\n",
       "      <td>1</td>\n",
       "      <td>90</td>\n",
       "      <td>91</td>\n",
       "      <td>65</td>\n",
       "      <td>83</td>\n",
       "    </tr>\n",
       "    <tr>\n",
       "      <th>学生3</th>\n",
       "      <td>1</td>\n",
       "      <td>88</td>\n",
       "      <td>70</td>\n",
       "      <td>56</td>\n",
       "      <td>71</td>\n",
       "    </tr>\n",
       "    <tr>\n",
       "      <th>学生4</th>\n",
       "      <td>1</td>\n",
       "      <td>41</td>\n",
       "      <td>43</td>\n",
       "      <td>75</td>\n",
       "      <td>85</td>\n",
       "    </tr>\n",
       "    <tr>\n",
       "      <th>学生5</th>\n",
       "      <td>1</td>\n",
       "      <td>88</td>\n",
       "      <td>84</td>\n",
       "      <td>51</td>\n",
       "      <td>68</td>\n",
       "    </tr>\n",
       "    <tr>\n",
       "      <th>学生6</th>\n",
       "      <td>1</td>\n",
       "      <td>53</td>\n",
       "      <td>50</td>\n",
       "      <td>87</td>\n",
       "      <td>58</td>\n",
       "    </tr>\n",
       "    <tr>\n",
       "      <th>学生7</th>\n",
       "      <td>1</td>\n",
       "      <td>84</td>\n",
       "      <td>65</td>\n",
       "      <td>61</td>\n",
       "      <td>97</td>\n",
       "    </tr>\n",
       "    <tr>\n",
       "      <th>学生8</th>\n",
       "      <td>1</td>\n",
       "      <td>92</td>\n",
       "      <td>95</td>\n",
       "      <td>90</td>\n",
       "      <td>79</td>\n",
       "    </tr>\n",
       "    <tr>\n",
       "      <th>学生9</th>\n",
       "      <td>1</td>\n",
       "      <td>92</td>\n",
       "      <td>60</td>\n",
       "      <td>62</td>\n",
       "      <td>48</td>\n",
       "    </tr>\n",
       "  </tbody>\n",
       "</table>\n",
       "</div>"
      ],
      "text/plain": [
       "     语文  数学  英语  政治  体育\n",
       "学生0   1  55  74  44  64\n",
       "学生1   1  57  83  41  76\n",
       "学生2   1  90  91  65  83\n",
       "学生3   1  88  70  56  71\n",
       "学生4   1  41  43  75  85\n",
       "学生5   1  88  84  51  68\n",
       "学生6   1  53  50  87  58\n",
       "学生7   1  84  65  61  97\n",
       "学生8   1  92  95  90  79\n",
       "学生9   1  92  60  62  48"
      ]
     },
     "execution_count": 1083,
     "metadata": {},
     "output_type": "execute_result"
    }
   ],
   "source": [
    "data.sort_index()"
   ]
  },
  {
   "cell_type": "markdown",
   "id": "a7f29206",
   "metadata": {},
   "source": [
    "Seroes排序"
   ]
  },
  {
   "cell_type": "code",
   "execution_count": 1084,
   "id": "16735f5b",
   "metadata": {},
   "outputs": [
    {
     "data": {
      "text/plain": [
       "学生7    97\n",
       "学生4    85\n",
       "学生2    83\n",
       "学生8    79\n",
       "学生1    76\n",
       "学生3    71\n",
       "学生5    68\n",
       "学生0    64\n",
       "学生6    58\n",
       "学生9    48\n",
       "Name: 体育, dtype: int64"
      ]
     },
     "execution_count": 1084,
     "metadata": {},
     "output_type": "execute_result"
    }
   ],
   "source": [
    "data['体育'].sort_values(ascending=False)"
   ]
  },
  {
   "cell_type": "code",
   "execution_count": 1085,
   "id": "19feb38f",
   "metadata": {},
   "outputs": [
    {
     "data": {
      "text/html": [
       "<div>\n",
       "<style scoped>\n",
       "    .dataframe tbody tr th:only-of-type {\n",
       "        vertical-align: middle;\n",
       "    }\n",
       "\n",
       "    .dataframe tbody tr th {\n",
       "        vertical-align: top;\n",
       "    }\n",
       "\n",
       "    .dataframe thead th {\n",
       "        text-align: right;\n",
       "    }\n",
       "</style>\n",
       "<table border=\"1\" class=\"dataframe\">\n",
       "  <thead>\n",
       "    <tr style=\"text-align: right;\">\n",
       "      <th></th>\n",
       "      <th>语文</th>\n",
       "      <th>数学</th>\n",
       "      <th>英语</th>\n",
       "      <th>政治</th>\n",
       "      <th>体育</th>\n",
       "    </tr>\n",
       "  </thead>\n",
       "  <tbody>\n",
       "    <tr>\n",
       "      <th>学生0</th>\n",
       "      <td>1</td>\n",
       "      <td>55</td>\n",
       "      <td>74</td>\n",
       "      <td>44</td>\n",
       "      <td>64</td>\n",
       "    </tr>\n",
       "    <tr>\n",
       "      <th>学生1</th>\n",
       "      <td>1</td>\n",
       "      <td>57</td>\n",
       "      <td>83</td>\n",
       "      <td>41</td>\n",
       "      <td>76</td>\n",
       "    </tr>\n",
       "    <tr>\n",
       "      <th>学生2</th>\n",
       "      <td>1</td>\n",
       "      <td>90</td>\n",
       "      <td>91</td>\n",
       "      <td>65</td>\n",
       "      <td>83</td>\n",
       "    </tr>\n",
       "    <tr>\n",
       "      <th>学生3</th>\n",
       "      <td>1</td>\n",
       "      <td>88</td>\n",
       "      <td>70</td>\n",
       "      <td>56</td>\n",
       "      <td>71</td>\n",
       "    </tr>\n",
       "    <tr>\n",
       "      <th>学生4</th>\n",
       "      <td>1</td>\n",
       "      <td>41</td>\n",
       "      <td>43</td>\n",
       "      <td>75</td>\n",
       "      <td>85</td>\n",
       "    </tr>\n",
       "    <tr>\n",
       "      <th>学生5</th>\n",
       "      <td>1</td>\n",
       "      <td>88</td>\n",
       "      <td>84</td>\n",
       "      <td>51</td>\n",
       "      <td>68</td>\n",
       "    </tr>\n",
       "    <tr>\n",
       "      <th>学生6</th>\n",
       "      <td>1</td>\n",
       "      <td>53</td>\n",
       "      <td>50</td>\n",
       "      <td>87</td>\n",
       "      <td>58</td>\n",
       "    </tr>\n",
       "    <tr>\n",
       "      <th>学生7</th>\n",
       "      <td>1</td>\n",
       "      <td>84</td>\n",
       "      <td>65</td>\n",
       "      <td>61</td>\n",
       "      <td>97</td>\n",
       "    </tr>\n",
       "    <tr>\n",
       "      <th>学生8</th>\n",
       "      <td>1</td>\n",
       "      <td>92</td>\n",
       "      <td>95</td>\n",
       "      <td>90</td>\n",
       "      <td>79</td>\n",
       "    </tr>\n",
       "    <tr>\n",
       "      <th>学生9</th>\n",
       "      <td>1</td>\n",
       "      <td>92</td>\n",
       "      <td>60</td>\n",
       "      <td>62</td>\n",
       "      <td>48</td>\n",
       "    </tr>\n",
       "  </tbody>\n",
       "</table>\n",
       "</div>"
      ],
      "text/plain": [
       "     语文  数学  英语  政治  体育\n",
       "学生0   1  55  74  44  64\n",
       "学生1   1  57  83  41  76\n",
       "学生2   1  90  91  65  83\n",
       "学生3   1  88  70  56  71\n",
       "学生4   1  41  43  75  85\n",
       "学生5   1  88  84  51  68\n",
       "学生6   1  53  50  87  58\n",
       "学生7   1  84  65  61  97\n",
       "学生8   1  92  95  90  79\n",
       "学生9   1  92  60  62  48"
      ]
     },
     "execution_count": 1085,
     "metadata": {},
     "output_type": "execute_result"
    }
   ],
   "source": [
    "data.sort_index()"
   ]
  },
  {
   "cell_type": "markdown",
   "id": "9d45ad19",
   "metadata": {},
   "source": [
    "算数运算"
   ]
  },
  {
   "cell_type": "code",
   "execution_count": 1086,
   "id": "8bdcbaf7",
   "metadata": {},
   "outputs": [
    {
     "data": {
      "text/plain": [
       "学生0    65\n",
       "学生1    77\n",
       "学生2    84\n",
       "学生3    72\n",
       "学生4    86\n",
       "学生5    69\n",
       "学生6    59\n",
       "学生7    98\n",
       "学生8    80\n",
       "学生9    49\n",
       "Name: 体育, dtype: int64"
      ]
     },
     "execution_count": 1086,
     "metadata": {},
     "output_type": "execute_result"
    }
   ],
   "source": [
    "data['体育'].add(1)"
   ]
  },
  {
   "cell_type": "markdown",
   "id": "70c650c5",
   "metadata": {},
   "source": [
    "逻辑运算"
   ]
  },
  {
   "cell_type": "code",
   "execution_count": 1087,
   "id": "613f9c46",
   "metadata": {},
   "outputs": [
    {
     "data": {
      "text/plain": [
       "学生0     True\n",
       "学生1     True\n",
       "学生2     True\n",
       "学生3     True\n",
       "学生4     True\n",
       "学生5     True\n",
       "学生6    False\n",
       "学生7     True\n",
       "学生8     True\n",
       "学生9    False\n",
       "Name: 体育, dtype: bool"
      ]
     },
     "execution_count": 1087,
     "metadata": {},
     "output_type": "execute_result"
    }
   ],
   "source": [
    "data['体育']>60"
   ]
  },
  {
   "cell_type": "code",
   "execution_count": 1088,
   "id": "bebb247a",
   "metadata": {},
   "outputs": [
    {
     "data": {
      "text/html": [
       "<div>\n",
       "<style scoped>\n",
       "    .dataframe tbody tr th:only-of-type {\n",
       "        vertical-align: middle;\n",
       "    }\n",
       "\n",
       "    .dataframe tbody tr th {\n",
       "        vertical-align: top;\n",
       "    }\n",
       "\n",
       "    .dataframe thead th {\n",
       "        text-align: right;\n",
       "    }\n",
       "</style>\n",
       "<table border=\"1\" class=\"dataframe\">\n",
       "  <thead>\n",
       "    <tr style=\"text-align: right;\">\n",
       "      <th></th>\n",
       "      <th>语文</th>\n",
       "      <th>数学</th>\n",
       "      <th>英语</th>\n",
       "      <th>政治</th>\n",
       "      <th>体育</th>\n",
       "    </tr>\n",
       "  </thead>\n",
       "  <tbody>\n",
       "    <tr>\n",
       "      <th>学生2</th>\n",
       "      <td>1</td>\n",
       "      <td>90</td>\n",
       "      <td>91</td>\n",
       "      <td>65</td>\n",
       "      <td>83</td>\n",
       "    </tr>\n",
       "    <tr>\n",
       "      <th>学生3</th>\n",
       "      <td>1</td>\n",
       "      <td>88</td>\n",
       "      <td>70</td>\n",
       "      <td>56</td>\n",
       "      <td>71</td>\n",
       "    </tr>\n",
       "    <tr>\n",
       "      <th>学生5</th>\n",
       "      <td>1</td>\n",
       "      <td>88</td>\n",
       "      <td>84</td>\n",
       "      <td>51</td>\n",
       "      <td>68</td>\n",
       "    </tr>\n",
       "    <tr>\n",
       "      <th>学生7</th>\n",
       "      <td>1</td>\n",
       "      <td>84</td>\n",
       "      <td>65</td>\n",
       "      <td>61</td>\n",
       "      <td>97</td>\n",
       "    </tr>\n",
       "    <tr>\n",
       "      <th>学生8</th>\n",
       "      <td>1</td>\n",
       "      <td>92</td>\n",
       "      <td>95</td>\n",
       "      <td>90</td>\n",
       "      <td>79</td>\n",
       "    </tr>\n",
       "  </tbody>\n",
       "</table>\n",
       "</div>"
      ],
      "text/plain": [
       "     语文  数学  英语  政治  体育\n",
       "学生2   1  90  91  65  83\n",
       "学生3   1  88  70  56  71\n",
       "学生5   1  88  84  51  68\n",
       "学生7   1  84  65  61  97\n",
       "学生8   1  92  95  90  79"
      ]
     },
     "execution_count": 1088,
     "metadata": {},
     "output_type": "execute_result"
    }
   ],
   "source": [
    "data[(data['体育']>60)&(data['数学']>60)]"
   ]
  },
  {
   "cell_type": "markdown",
   "id": "d151f4e6",
   "metadata": {},
   "source": [
    "统计函数"
   ]
  },
  {
   "cell_type": "code",
   "execution_count": 1089,
   "id": "288e30cd",
   "metadata": {},
   "outputs": [
    {
     "data": {
      "text/html": [
       "<div>\n",
       "<style scoped>\n",
       "    .dataframe tbody tr th:only-of-type {\n",
       "        vertical-align: middle;\n",
       "    }\n",
       "\n",
       "    .dataframe tbody tr th {\n",
       "        vertical-align: top;\n",
       "    }\n",
       "\n",
       "    .dataframe thead th {\n",
       "        text-align: right;\n",
       "    }\n",
       "</style>\n",
       "<table border=\"1\" class=\"dataframe\">\n",
       "  <thead>\n",
       "    <tr style=\"text-align: right;\">\n",
       "      <th></th>\n",
       "      <th>语文</th>\n",
       "      <th>数学</th>\n",
       "      <th>英语</th>\n",
       "      <th>政治</th>\n",
       "      <th>体育</th>\n",
       "    </tr>\n",
       "  </thead>\n",
       "  <tbody>\n",
       "    <tr>\n",
       "      <th>count</th>\n",
       "      <td>10.0</td>\n",
       "      <td>10.000000</td>\n",
       "      <td>10.000000</td>\n",
       "      <td>10.000000</td>\n",
       "      <td>10.000000</td>\n",
       "    </tr>\n",
       "    <tr>\n",
       "      <th>mean</th>\n",
       "      <td>1.0</td>\n",
       "      <td>74.000000</td>\n",
       "      <td>71.500000</td>\n",
       "      <td>63.200000</td>\n",
       "      <td>72.900000</td>\n",
       "    </tr>\n",
       "    <tr>\n",
       "      <th>std</th>\n",
       "      <td>0.0</td>\n",
       "      <td>19.933222</td>\n",
       "      <td>17.251409</td>\n",
       "      <td>16.651994</td>\n",
       "      <td>14.239616</td>\n",
       "    </tr>\n",
       "    <tr>\n",
       "      <th>min</th>\n",
       "      <td>1.0</td>\n",
       "      <td>41.000000</td>\n",
       "      <td>43.000000</td>\n",
       "      <td>41.000000</td>\n",
       "      <td>48.000000</td>\n",
       "    </tr>\n",
       "    <tr>\n",
       "      <th>25%</th>\n",
       "      <td>1.0</td>\n",
       "      <td>55.500000</td>\n",
       "      <td>61.250000</td>\n",
       "      <td>52.250000</td>\n",
       "      <td>65.000000</td>\n",
       "    </tr>\n",
       "    <tr>\n",
       "      <th>50%</th>\n",
       "      <td>1.0</td>\n",
       "      <td>86.000000</td>\n",
       "      <td>72.000000</td>\n",
       "      <td>61.500000</td>\n",
       "      <td>73.500000</td>\n",
       "    </tr>\n",
       "    <tr>\n",
       "      <th>75%</th>\n",
       "      <td>1.0</td>\n",
       "      <td>89.500000</td>\n",
       "      <td>83.750000</td>\n",
       "      <td>72.500000</td>\n",
       "      <td>82.000000</td>\n",
       "    </tr>\n",
       "    <tr>\n",
       "      <th>max</th>\n",
       "      <td>1.0</td>\n",
       "      <td>92.000000</td>\n",
       "      <td>95.000000</td>\n",
       "      <td>90.000000</td>\n",
       "      <td>97.000000</td>\n",
       "    </tr>\n",
       "  </tbody>\n",
       "</table>\n",
       "</div>"
      ],
      "text/plain": [
       "         语文         数学         英语         政治         体育\n",
       "count  10.0  10.000000  10.000000  10.000000  10.000000\n",
       "mean    1.0  74.000000  71.500000  63.200000  72.900000\n",
       "std     0.0  19.933222  17.251409  16.651994  14.239616\n",
       "min     1.0  41.000000  43.000000  41.000000  48.000000\n",
       "25%     1.0  55.500000  61.250000  52.250000  65.000000\n",
       "50%     1.0  86.000000  72.000000  61.500000  73.500000\n",
       "75%     1.0  89.500000  83.750000  72.500000  82.000000\n",
       "max     1.0  92.000000  95.000000  90.000000  97.000000"
      ]
     },
     "execution_count": 1089,
     "metadata": {},
     "output_type": "execute_result"
    }
   ],
   "source": [
    "data.describe()#数量，平均值，标准差，最小值，25%百分位数，50%百分位数，75%百分位数，最大值"
   ]
  },
  {
   "cell_type": "markdown",
   "id": "7a7bdf53",
   "metadata": {},
   "source": [
    "mode众数"
   ]
  },
  {
   "cell_type": "markdown",
   "id": "25ae2277",
   "metadata": {},
   "source": [
    "abs绝对值"
   ]
  },
  {
   "cell_type": "markdown",
   "id": "5e6f9bde",
   "metadata": {},
   "source": [
    "idxmin最小值索引"
   ]
  },
  {
   "cell_type": "code",
   "execution_count": 1090,
   "id": "2e55374c",
   "metadata": {},
   "outputs": [
    {
     "data": {
      "text/plain": [
       "语文    学生0\n",
       "数学    学生4\n",
       "英语    学生4\n",
       "政治    学生1\n",
       "体育    学生9\n",
       "dtype: object"
      ]
     },
     "execution_count": 1090,
     "metadata": {},
     "output_type": "execute_result"
    }
   ],
   "source": [
    "data.idxmin()"
   ]
  },
  {
   "cell_type": "markdown",
   "id": "054bb4db",
   "metadata": {},
   "source": [
    "idxmax最大值索引"
   ]
  },
  {
   "cell_type": "code",
   "execution_count": 1091,
   "id": "2d0939ef",
   "metadata": {},
   "outputs": [
    {
     "data": {
      "text/plain": [
       "语文    学生0\n",
       "数学    学生8\n",
       "英语    学生8\n",
       "政治    学生8\n",
       "体育    学生7\n",
       "dtype: object"
      ]
     },
     "execution_count": 1091,
     "metadata": {},
     "output_type": "execute_result"
    }
   ],
   "source": [
    "data.idxmax()"
   ]
  },
  {
   "cell_type": "markdown",
   "id": "56a1fb8c",
   "metadata": {},
   "source": [
    "统计时默认按列"
   ]
  },
  {
   "cell_type": "markdown",
   "id": "7f53bd6f",
   "metadata": {},
   "source": [
    "medain中位数"
   ]
  },
  {
   "cell_type": "code",
   "execution_count": 1092,
   "id": "eaabe76c",
   "metadata": {},
   "outputs": [
    {
     "data": {
      "text/plain": [
       "d1    2.5\n",
       "d2    3.5\n",
       "dtype: float64"
      ]
     },
     "execution_count": 1092,
     "metadata": {},
     "output_type": "execute_result"
    }
   ],
   "source": [
    "df=pd.DataFrame({'d1':[1,3,5,2],\n",
    "                 'd2':[2,3,4,5]})\n",
    "df.median()"
   ]
  },
  {
   "cell_type": "markdown",
   "id": "76efe4de",
   "metadata": {},
   "source": [
    "累计统计函数"
   ]
  },
  {
   "cell_type": "markdown",
   "id": "30448865",
   "metadata": {},
   "source": [
    "cumsum累加和"
   ]
  },
  {
   "cell_type": "markdown",
   "id": "147b8e52",
   "metadata": {},
   "source": [
    "cummax最大值"
   ]
  },
  {
   "cell_type": "markdown",
   "id": "54b6a902",
   "metadata": {},
   "source": [
    "cummin最小值"
   ]
  },
  {
   "cell_type": "markdown",
   "id": "95686b6b",
   "metadata": {},
   "source": [
    "cumprod乘积"
   ]
  },
  {
   "cell_type": "code",
   "execution_count": 1093,
   "id": "34606a11",
   "metadata": {},
   "outputs": [],
   "source": [
    "data=data.sort_index()"
   ]
  },
  {
   "cell_type": "code",
   "execution_count": 1094,
   "id": "1cb2a610",
   "metadata": {},
   "outputs": [
    {
     "data": {
      "text/plain": [
       "<Axes: >"
      ]
     },
     "execution_count": 1094,
     "metadata": {},
     "output_type": "execute_result"
    },
    {
     "name": "stderr",
     "output_type": "stream",
     "text": [
      "/home/liuyongze/vs/.venv/lib/python3.11/site-packages/IPython/core/events.py:82: UserWarning: Glyph 23398 (\\N{CJK UNIFIED IDEOGRAPH-5B66}) missing from font(s) DejaVu Sans.\n",
      "  func(*args, **kwargs)\n",
      "/home/liuyongze/vs/.venv/lib/python3.11/site-packages/IPython/core/events.py:82: UserWarning: Glyph 29983 (\\N{CJK UNIFIED IDEOGRAPH-751F}) missing from font(s) DejaVu Sans.\n",
      "  func(*args, **kwargs)\n",
      "/home/liuyongze/vs/.venv/lib/python3.11/site-packages/IPython/core/pylabtools.py:170: UserWarning: Glyph 23398 (\\N{CJK UNIFIED IDEOGRAPH-5B66}) missing from font(s) DejaVu Sans.\n",
      "  fig.canvas.print_figure(bytes_io, **kw)\n",
      "/home/liuyongze/vs/.venv/lib/python3.11/site-packages/IPython/core/pylabtools.py:170: UserWarning: Glyph 29983 (\\N{CJK UNIFIED IDEOGRAPH-751F}) missing from font(s) DejaVu Sans.\n",
      "  fig.canvas.print_figure(bytes_io, **kw)\n"
     ]
    },
    {
     "data": {
      "image/png": "[encoded data removed]",
      "text/plain": [
       "<Figure size 640x480 with 1 Axes>"
      ]
     },
     "metadata": {},
     "output_type": "display_data"
    }
   ],
   "source": [
    "s=data['数学']\n",
    "s.cumsum()\n",
    "import matplotlib as plt\n",
    "s.cumsum().plot()\n"
   ]
  },
  {
   "cell_type": "markdown",
   "id": "667d5028",
   "metadata": {},
   "source": [
    "自定义运算"
   ]
  },
  {
   "cell_type": "markdown",
   "id": "be727f05",
   "metadata": {},
   "source": [
    "apply(func,axis=0)func自定义函数，axis=0默认为列"
   ]
  },
  {
   "cell_type": "code",
   "execution_count": 1095,
   "id": "cb49d6cd",
   "metadata": {},
   "outputs": [
    {
     "data": {
      "text/plain": [
       "体育    49\n",
       "数学    51\n",
       "dtype: int64"
      ]
     },
     "execution_count": 1095,
     "metadata": {},
     "output_type": "execute_result"
    }
   ],
   "source": [
    "data[['体育','数学']].apply(lambda x:x.max()-x.min(),axis=0)"
   ]
  },
  {
   "cell_type": "markdown",
   "id": "380b1e1e",
   "metadata": {},
   "source": [
    "### 代码解释\n",
    "\n",
    "以下代码对 `data` 数据框的两列（`体育` 和 `数学`）应用了一个自定义函数，计算每列的最大值与最小值之差：\n",
    "\n",
    "```python\n",
    "data[['体育','数学']].apply(lambda x: x.max() - x.min(), axis=0)\n",
    "```\n",
    "\n",
    "- `data[['体育','数学']]`：选取数据框中的两列 `体育` 和 `数学`。\n",
    "- `.apply(lambda x: x.max() - x.min(), axis=0)`：对每列（`axis=0` 表示按列操作）应用匿名函数 `lambda x: x.max() - x.min()`。\n",
    "  - `x.max()`：计算列的最大值。\n",
    "  - `x.min()`：计算列的最小值。\n",
    "- 返回结果是一个包含两列最大值与最小值差值的 `Series` 对象。"
   ]
  }
 ],
 "metadata": {
  "kernelspec": {
   "display_name": ".venv",
   "language": "python",
   "name": "python3"
  },
  "language_info": {
   "codemirror_mode": {
    "name": "ipython",
    "version": 3
   },
   "file_extension": ".py",
   "mimetype": "text/x-python",
   "name": "python",
   "nbconvert_exporter": "python",
   "pygments_lexer": "ipython3",
   "version": "3.11.2"
  }
 },
 "nbformat": 4,
 "nbformat_minor": 5
}
