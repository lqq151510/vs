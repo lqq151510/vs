{
 "cells": [
  {
   "cell_type": "code",
   "execution_count": 20,
   "id": "369fab48",
   "metadata": {},
   "outputs": [],
   "source": [
    "import numpy as np\n",
    "import pandas as pd"
   ]
  },
  {
   "cell_type": "markdown",
   "id": "96f669e7",
   "metadata": {},
   "source": [
    "### 处理中文乱码问题\n",
    "在读取包含中文的文件时，可能会出现乱码问题。可以通过指定 `encoding='GB2312'` 来解决，\n",
    "特别是当文件使用的是 GB2312 编码格式时。"
   ]
  },
  {
   "cell_type": "code",
   "execution_count": 21,
   "id": "a4639caf",
   "metadata": {},
   "outputs": [
    {
     "name": "stdout",
     "output_type": "stream",
     "text": [
      "   月份  日期  时间 故障类别  推出状态  推出累计数  抓取状态  抓取累计数  安装状态  安装累计数  检测状态  检测累计数  \\\n",
      "0   1   1   1  NaN     1      1     0      0     0      0     0      0   \n",
      "1   1   1   2  NaN     0      1     0      0     0      0     0      0   \n",
      "2   1   1   3  NaN     0      1     0      0     0      0     0      0   \n",
      "3   1   1   4  NaN     1      2     0      0     0      0     0      0   \n",
      "4   1   1   5  NaN     0      2     0      0     0      0     0      0   \n",
      "\n",
      "   合格产品累计数  不合格产品累计数  \n",
      "0        0         0  \n",
      "1        0         0  \n",
      "2        0         0  \n",
      "3        0         0  \n",
      "4        0         0  \n"
     ]
    }
   ],
   "source": [
    "# 示例：读取包含中文的 CSV 文件\n",
    "df = pd.read_csv('M101.csv', encoding='GB2312')\n",
    "print(df.head())"
   ]
  },
  {
   "cell_type": "markdown",
   "id": "b8d4c5de",
   "metadata": {},
   "source": [
    "### 数据对齐\n",
    "在读取 `GB2312` 编码的 CSV 文件后，可以通过 Pandas 的方法对数据进行对齐，\n",
    "例如按某些列排序或重置索引。"
   ]
  },
  {
   "cell_type": "code",
   "execution_count": 22,
   "id": "be081f49",
   "metadata": {},
   "outputs": [
    {
     "name": "stdout",
     "output_type": "stream",
     "text": [
      "   月份  日期  时间 故障类别  推出状态  推出累计数  抓取状态  抓取累计数  安装状态  安装累计数  检测状态  检测累计数  \\\n",
      "0   1   1   1  NaN     1      1     0      0     0      0     0      0   \n",
      "1   2   1   1  NaN     1      1     0      0     0      0     0      0   \n",
      "2   1   1   2  NaN     0      1     0      0     0      0     0      0   \n",
      "3   2   1   2  NaN     0      1     0      0     0      0     0      0   \n",
      "4   1   1   3  NaN     0      1     0      0     0      0     0      0   \n",
      "\n",
      "   合格产品累计数  不合格产品累计数  \n",
      "0        0         0  \n",
      "1        0         0  \n",
      "2        0         0  \n",
      "3        0         0  \n",
      "4        0         0  \n"
     ]
    }
   ],
   "source": [
    "# 示例：读取并对齐数据\n",
    "df = pd.read_csv('M101.csv', encoding='GB2312')\n",
    "# 按 '日期' 和 '时间' 列排序并重置索引\n",
    "df_aligned = df.sort_values(by=['日期', '时间']).reset_index(drop=True)\n",
    "print(df_aligned.head())"
   ]
  }
 ],
 "metadata": {
  "kernelspec": {
   "display_name": ".venv",
   "language": "python",
   "name": "python3"
  },
  "language_info": {
   "codemirror_mode": {
    "name": "ipython",
    "version": 3
   },
   "file_extension": ".py",
   "mimetype": "text/x-python",
   "name": "python",
   "nbconvert_exporter": "python",
   "pygments_lexer": "ipython3",
   "version": "3.11.2"
  }
 },
 "nbformat": 4,
 "nbformat_minor": 5
}
