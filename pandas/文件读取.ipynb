{
 "cells": [
  {
   "cell_type": "code",
   "execution_count": 10,
   "id": "369fab48",
   "metadata": {},
   "outputs": [],
   "source": [
    "import numpy as np\n",
    "import pandas as pd"
   ]
  },
  {
   "cell_type": "code",
   "execution_count": null,
   "id": "a8637746",
   "metadata": {},
   "outputs": [],
   "source": [
    "# Access Windows file system from Debian\n",
    "# Ensure the Windows partition is mounted. Replace 'G' with the actual mount point.\n",
    "windows_path = '/mnt/g/path/to/your/file.csv'\n",
    "chunk_size = 10000\n",
    "# Read the file in chunks\n",
    "for chunk in pd.read_csv(windows_path, chunksize=chunk_size):\n",
    "    print(chunk.head())"
   ]
  }
 ],
 "metadata": {
  "kernelspec": {
   "display_name": ".venv",
   "language": "python",
   "name": "python3"
  },
  "language_info": {
   "codemirror_mode": {
    "name": "ipython",
    "version": 3
   },
   "file_extension": ".py",
   "mimetype": "text/x-python",
   "name": "python",
   "nbconvert_exporter": "python",
   "pygments_lexer": "ipython3",
   "version": "3.11.2"
  }
 },
 "nbformat": 4,
 "nbformat_minor": 5
}
