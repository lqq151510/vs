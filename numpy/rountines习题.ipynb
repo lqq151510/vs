{
 "cells": [
  {
   "cell_type": "code",
   "execution_count": 15,
   "id": "cfa655e8",
   "metadata": {},
   "outputs": [],
   "source": [
    "import numpy as np"
   ]
  },
  {
   "cell_type": "code",
   "execution_count": 16,
   "id": "9a63e5cc",
   "metadata": {},
   "outputs": [
    {
     "data": {
      "text/plain": [
       "array([[-4, -2,  0,  3],\n",
       "       [ 4,  4, -4, -4],\n",
       "       [-4, -1,  1, -2]])"
      ]
     },
     "execution_count": 16,
     "metadata": {},
     "output_type": "execute_result"
    }
   ],
   "source": [
    "np.random.randint(-5,5,size=(3,4))"
   ]
  },
  {
   "cell_type": "markdown",
   "id": "1098ef47",
   "metadata": {},
   "source": [
    "创建一个（3,4）的二维数组，取值范围（-5,5）"
   ]
  },
  {
   "cell_type": "code",
   "execution_count": 17,
   "id": "3a1d00e6",
   "metadata": {},
   "outputs": [
    {
     "data": {
      "text/plain": [
       "array([ 0.,  3.,  6.,  9., 12.])"
      ]
     },
     "execution_count": 17,
     "metadata": {},
     "output_type": "execute_result"
    }
   ],
   "source": [
    "np.linspace(0,15,5,endpoint=False)"
   ]
  },
  {
   "cell_type": "code",
   "execution_count": 18,
   "id": "ae85989e",
   "metadata": {},
   "outputs": [
    {
     "data": {
      "text/plain": [
       "array([ 0,  3,  6,  9, 12])"
      ]
     },
     "execution_count": 18,
     "metadata": {},
     "output_type": "execute_result"
    }
   ],
   "source": [
    "np.arange(0,15,step=3)"
   ]
  },
  {
   "cell_type": "markdown",
   "id": "f73afb7b",
   "metadata": {},
   "source": [
    "创建一组等差数列,步长为3，数组长度为5."
   ]
  },
  {
   "cell_type": "code",
   "execution_count": 19,
   "id": "6975e7a1",
   "metadata": {},
   "outputs": [
    {
     "data": {
      "text/plain": [
       "dtype('float64')"
      ]
     },
     "execution_count": 19,
     "metadata": {},
     "output_type": "execute_result"
    }
   ],
   "source": [
    "data=np.random.random(size=(100,100,3))\n",
    "data.dtype"
   ]
  },
  {
   "cell_type": "markdown",
   "id": "338953ad",
   "metadata": {},
   "source": [
    "构造一个3维取值范围0-1的随机数组，数组类型为np.float64，形状为(100,100,3)"
   ]
  },
  {
   "cell_type": "code",
   "execution_count": 20,
   "id": "e8575a73",
   "metadata": {},
   "outputs": [
    {
     "data": {
      "text/plain": [
       "array([0.        , 0.78539816, 1.57079633, 2.35619449, 3.14159265,\n",
       "       3.92699082, 4.71238898, 5.49778714])"
      ]
     },
     "execution_count": 20,
     "metadata": {},
     "output_type": "execute_result"
    }
   ],
   "source": [
    "np.linspace(0,2*np.pi,num=8,endpoint=False)"
   ]
  },
  {
   "cell_type": "markdown",
   "id": "89803c5a",
   "metadata": {},
   "source": [
    "已知π在numpy中是预制的常量,可以用np.pi访问，计算出一个圆等分成8份的代码"
   ]
  }
 ],
 "metadata": {
  "kernelspec": {
   "display_name": ".venv",
   "language": "python",
   "name": "python3"
  },
  "language_info": {
   "codemirror_mode": {
    "name": "ipython",
    "version": 3
   },
   "file_extension": ".py",
   "mimetype": "text/x-python",
   "name": "python",
   "nbconvert_exporter": "python",
   "pygments_lexer": "ipython3",
   "version": "3.11.2"
  }
 },
 "nbformat": 4,
 "nbformat_minor": 5
}
