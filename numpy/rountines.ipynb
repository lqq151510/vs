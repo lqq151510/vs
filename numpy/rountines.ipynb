{
 "cells": [
  {
   "cell_type": "code",
   "execution_count": 138,
   "id": "de115cc4",
   "metadata": {},
   "outputs": [],
   "source": [
    "import numpy as np"
   ]
  },
  {
   "cell_type": "code",
   "execution_count": 139,
   "id": "216ec246",
   "metadata": {},
   "outputs": [
    {
     "data": {
      "text/plain": [
       "array([[1, 2, 3],\n",
       "       [2, 3, 4],\n",
       "       [4, 5, 6]])"
      ]
     },
     "execution_count": 139,
     "metadata": {},
     "output_type": "execute_result"
    }
   ],
   "source": [
    "np.array([[1,2,3],[2,3,4],[4,5,6]])"
   ]
  },
  {
   "cell_type": "code",
   "execution_count": 140,
   "id": "d6684786",
   "metadata": {},
   "outputs": [
    {
     "data": {
      "text/plain": [
       "array([[1., 1., 1.],\n",
       "       [1., 1., 1.]])"
      ]
     },
     "execution_count": 140,
     "metadata": {},
     "output_type": "execute_result"
    }
   ],
   "source": [
    "np.ones(shape=(2,3))"
   ]
  },
  {
   "cell_type": "code",
   "execution_count": 141,
   "id": "01c44675",
   "metadata": {},
   "outputs": [
    {
     "data": {
      "text/plain": [
       "array([1., 1., 1.])"
      ]
     },
     "execution_count": 141,
     "metadata": {},
     "output_type": "execute_result"
    }
   ],
   "source": [
    "np.ones(shape=(3,))"
   ]
  },
  {
   "cell_type": "code",
   "execution_count": 142,
   "id": "4099f1bf",
   "metadata": {},
   "outputs": [
    {
     "data": {
      "text/plain": [
       "array([[1., 1., 1.]])"
      ]
     },
     "execution_count": 142,
     "metadata": {},
     "output_type": "execute_result"
    }
   ],
   "source": [
    "np.ones(shape=(1,3))"
   ]
  },
  {
   "cell_type": "code",
   "execution_count": 143,
   "id": "557823d4",
   "metadata": {},
   "outputs": [
    {
     "data": {
      "text/plain": [
       "array([[1.],\n",
       "       [1.],\n",
       "       [1.]])"
      ]
     },
     "execution_count": 143,
     "metadata": {},
     "output_type": "execute_result"
    }
   ],
   "source": [
    "np.ones(shape=(3,1))"
   ]
  },
  {
   "cell_type": "code",
   "execution_count": 144,
   "id": "2dd2d7e3",
   "metadata": {},
   "outputs": [
    {
     "data": {
      "text/plain": [
       "array([[1, 1],\n",
       "       [1, 1],\n",
       "       [1, 1]], dtype=int8)"
      ]
     },
     "execution_count": 144,
     "metadata": {},
     "output_type": "execute_result"
    }
   ],
   "source": [
    "np.ones(shape=(3,2),dtype=np.int8)"
   ]
  },
  {
   "cell_type": "code",
   "execution_count": 145,
   "id": "2e2f430a",
   "metadata": {},
   "outputs": [
    {
     "data": {
      "text/plain": [
       "array([[0],\n",
       "       [0],\n",
       "       [0]], dtype=uint8)"
      ]
     },
     "execution_count": 145,
     "metadata": {},
     "output_type": "execute_result"
    }
   ],
   "source": [
    "np.zeros(shape=(3,1),dtype=np.uint8)"
   ]
  },
  {
   "cell_type": "code",
   "execution_count": 146,
   "id": "15138466",
   "metadata": {},
   "outputs": [
    {
     "data": {
      "text/plain": [
       "array([[6, 6, 6],\n",
       "       [6, 6, 6],\n",
       "       [6, 6, 6]])"
      ]
     },
     "execution_count": 146,
     "metadata": {},
     "output_type": "execute_result"
    }
   ],
   "source": [
    "np.full(shape=(3,3),fill_value=6)"
   ]
  },
  {
   "cell_type": "code",
   "execution_count": 147,
   "id": "e6e823be",
   "metadata": {},
   "outputs": [
    {
     "data": {
      "text/plain": [
       "array([[1., 0., 0.],\n",
       "       [0., 1., 0.],\n",
       "       [0., 0., 1.]])"
      ]
     },
     "execution_count": 147,
     "metadata": {},
     "output_type": "execute_result"
    }
   ],
   "source": [
    "np.eye(3)"
   ]
  },
  {
   "cell_type": "code",
   "execution_count": 148,
   "id": "22a037f4",
   "metadata": {},
   "outputs": [
    {
     "data": {
      "text/plain": [
       "array([[1., 0.],\n",
       "       [0., 1.],\n",
       "       [0., 0.]])"
      ]
     },
     "execution_count": 148,
     "metadata": {},
     "output_type": "execute_result"
    }
   ],
   "source": [
    "np.eye(N=3,M=2)"
   ]
  },
  {
   "cell_type": "code",
   "execution_count": 149,
   "id": "32d9ac97",
   "metadata": {},
   "outputs": [
    {
     "data": {
      "text/plain": [
       "array([[0., 1., 0.],\n",
       "       [0., 0., 1.],\n",
       "       [0., 0., 0.]])"
      ]
     },
     "execution_count": 149,
     "metadata": {},
     "output_type": "execute_result"
    }
   ],
   "source": [
    "np.eye(N=3,k=1)#向右偏移"
   ]
  },
  {
   "cell_type": "code",
   "execution_count": 150,
   "id": "c6caea4b",
   "metadata": {},
   "outputs": [
    {
     "data": {
      "text/plain": [
       "array([[0., 0., 0.],\n",
       "       [1., 0., 0.],\n",
       "       [0., 1., 0.]])"
      ]
     },
     "execution_count": 150,
     "metadata": {},
     "output_type": "execute_result"
    }
   ],
   "source": [
    "np.eye(N=3,k=-1)#向左偏移"
   ]
  },
  {
   "cell_type": "code",
   "execution_count": 151,
   "id": "44d7cda9",
   "metadata": {},
   "outputs": [
    {
     "data": {
      "text/plain": [
       "array([ 0.,  1.,  2.,  3.,  4.,  5.,  6.,  7.,  8.,  9., 10.])"
      ]
     },
     "execution_count": 151,
     "metadata": {},
     "output_type": "execute_result"
    }
   ],
   "source": [
    "np.linspace(0,10,11)#等差数列"
   ]
  },
  {
   "cell_type": "code",
   "execution_count": 152,
   "id": "450dbe67",
   "metadata": {},
   "outputs": [
    {
     "data": {
      "text/plain": [
       "array([  0.,  10.,  20.,  30.,  40.,  50.,  60.,  70.,  80.,  90., 100.])"
      ]
     },
     "execution_count": 152,
     "metadata": {},
     "output_type": "execute_result"
    }
   ],
   "source": [
    "np.linspace(0,100,11)"
   ]
  },
  {
   "cell_type": "code",
   "execution_count": 153,
   "id": "b4e2b771",
   "metadata": {},
   "outputs": [
    {
     "data": {
      "text/plain": [
       "array([ 0.        ,  9.09090909, 18.18181818, 27.27272727, 36.36363636,\n",
       "       45.45454545, 54.54545455, 63.63636364, 72.72727273, 81.81818182,\n",
       "       90.90909091])"
      ]
     },
     "execution_count": 153,
     "metadata": {},
     "output_type": "execute_result"
    }
   ],
   "source": [
    "np.linspace(0,100,11,endpoint=False)#不要最后一个数"
   ]
  },
  {
   "cell_type": "code",
   "execution_count": 154,
   "id": "2834b821",
   "metadata": {},
   "outputs": [
    {
     "data": {
      "text/plain": [
       "array([  0.,  90., 180., 270.])"
      ]
     },
     "execution_count": 154,
     "metadata": {},
     "output_type": "execute_result"
    }
   ],
   "source": [
    "np.linspace(0,360,4,endpoint=False)"
   ]
  },
  {
   "cell_type": "code",
   "execution_count": 155,
   "id": "a04fcfe1",
   "metadata": {},
   "outputs": [
    {
     "data": {
      "text/plain": [
       "array([ 0, 10, 20, 30, 40, 50, 60, 70, 80, 90])"
      ]
     },
     "execution_count": 155,
     "metadata": {},
     "output_type": "execute_result"
    }
   ],
   "source": [
    "np.arange(0,100,step=10)"
   ]
  },
  {
   "cell_type": "code",
   "execution_count": 156,
   "id": "14d87f4e",
   "metadata": {},
   "outputs": [
    {
     "data": {
      "text/plain": [
       "array([[ 5, 20, 50, 60, 89],\n",
       "       [97, 71, 12, 18, 94],\n",
       "       [77, 92, 14, 81, 66]])"
      ]
     },
     "execution_count": 156,
     "metadata": {},
     "output_type": "execute_result"
    }
   ],
   "source": [
    "np.random.randint(low=0,high=100,size=(3,5))"
   ]
  },
  {
   "cell_type": "code",
   "execution_count": 157,
   "id": "db707590",
   "metadata": {},
   "outputs": [
    {
     "data": {
      "text/plain": [
       "array([0, 6, 6, 4, 3, 7, 8, 3, 1, 0])"
      ]
     },
     "execution_count": 157,
     "metadata": {},
     "output_type": "execute_result"
    }
   ],
   "source": [
    "np.random.randint(0,10,size=(10))"
   ]
  },
  {
   "cell_type": "code",
   "execution_count": 158,
   "id": "1b89f0d2",
   "metadata": {},
   "outputs": [
    {
     "data": {
      "text/plain": [
       "array([170.96984112, 181.5391259 , 164.48160165, 165.03844347,\n",
       "       169.030102  , 156.59705313, 165.56089471, 185.95602355,\n",
       "       163.71778979, 175.97212976])"
      ]
     },
     "execution_count": 158,
     "metadata": {},
     "output_type": "execute_result"
    }
   ],
   "source": [
    "np.random.normal(loc=175,scale=10,size=(10,))#标准正太分布,loc均值,scale标准差"
   ]
  },
  {
   "cell_type": "code",
   "execution_count": 159,
   "id": "90448778",
   "metadata": {},
   "outputs": [
    {
     "data": {
      "text/plain": [
       "0.49424736430414107"
      ]
     },
     "execution_count": 159,
     "metadata": {},
     "output_type": "execute_result"
    }
   ],
   "source": [
    "np.random.random(size=None)#0-1随机数"
   ]
  },
  {
   "cell_type": "code",
   "execution_count": 160,
   "id": "fac16c38",
   "metadata": {},
   "outputs": [
    {
     "data": {
      "text/plain": [
       "array([[[-0.69959366,  0.17113101,  1.54704309],\n",
       "        [-1.58467789,  0.93989301,  0.17073385],\n",
       "        [ 0.51842012,  0.84714471,  0.52959778],\n",
       "        [ 1.77554784, -0.6435129 ,  0.51918208],\n",
       "        [-0.24937731,  0.75224264,  0.58170349]],\n",
       "\n",
       "       [[ 0.54309638,  0.24576223,  0.27411062],\n",
       "        [-0.15783582,  0.28420802, -1.68073361],\n",
       "        [-0.80775468, -0.02744198,  0.96719801],\n",
       "        [ 0.66631918, -0.18249853, -1.90521355],\n",
       "        [-0.08623303,  1.24166774,  0.12295562]],\n",
       "\n",
       "       [[-0.7270688 ,  1.19033579, -1.0944616 ],\n",
       "        [ 0.49725187,  1.02728265, -1.34591881],\n",
       "        [ 0.15581943, -0.44266733,  1.05749852],\n",
       "        [-1.75054161, -0.45802152, -0.1972608 ],\n",
       "        [-1.11564779, -0.11286377,  0.23169587]],\n",
       "\n",
       "       [[ 0.02823447,  1.24734824,  1.67702764],\n",
       "        [-0.23346962, -1.7910284 ,  0.07201406],\n",
       "        [-0.3983749 ,  0.14386235,  0.77343362],\n",
       "        [-0.03985334,  0.95366428,  1.12439526],\n",
       "        [-2.26274071, -0.53424157, -0.17011774]],\n",
       "\n",
       "       [[ 0.23923308,  0.92012259, -0.0123114 ],\n",
       "        [ 0.10620839, -0.26163996,  0.91562158],\n",
       "        [ 0.13609826,  0.8560857 , -2.55284762],\n",
       "        [-0.87274223, -0.1823347 , -0.73129333],\n",
       "        [ 0.84402297,  0.70700725, -0.92678255]],\n",
       "\n",
       "       [[ 1.36056034, -0.22064131, -2.54951207],\n",
       "        [-0.71728191, -0.88794413, -1.04381942],\n",
       "        [-0.17614185,  0.13935448,  1.11579135],\n",
       "        [ 0.40594577,  0.1782174 , -0.98642338],\n",
       "        [ 1.66254914,  0.85305107,  1.35423219]],\n",
       "\n",
       "       [[ 1.1089376 , -0.72489903, -0.44603309],\n",
       "        [ 0.10050134,  0.69207529, -0.74941777],\n",
       "        [ 0.13520079,  0.1647769 ,  0.25315047],\n",
       "        [-0.37907988,  1.528871  , -0.11340682],\n",
       "        [-0.07827941,  0.23332118, -0.11165685]],\n",
       "\n",
       "       [[-0.45197282, -0.64715418, -0.60648719],\n",
       "        [-0.12758996, -0.86740741,  0.61599759],\n",
       "        [ 0.4916895 , -0.97106791, -0.75159066],\n",
       "        [-0.8616756 ,  1.48200551, -0.50735196],\n",
       "        [-1.04560681,  1.65087412,  1.14265057]],\n",
       "\n",
       "       [[-0.54084121, -1.78785686,  0.01478261],\n",
       "        [ 0.49558595,  1.50338977, -1.40551937],\n",
       "        [ 0.00888983, -0.88818336, -0.89083991],\n",
       "        [-0.82154647,  1.42530268,  0.44358635],\n",
       "        [ 0.18890248,  1.27430297,  2.10295073]],\n",
       "\n",
       "       [[-0.14314641,  0.35678046,  0.15720384],\n",
       "        [-1.43191819,  1.26327506,  2.13746667],\n",
       "        [ 0.28801191,  1.95956342, -0.48142113],\n",
       "        [ 0.73623514,  1.55939973,  0.90078428],\n",
       "        [ 0.46632577,  0.43801481,  1.27265717]]])"
      ]
     },
     "execution_count": 160,
     "metadata": {},
     "output_type": "execute_result"
    }
   ],
   "source": [
    "np.random.randn(10,5,3)#用于生成一个从标准正态分布（均值为0，标准差为1）"
   ]
  },
  {
   "cell_type": "code",
   "execution_count": 161,
   "id": "b9d9b7f9",
   "metadata": {},
   "outputs": [],
   "source": [
    "data=np.random.randn(1000)#用于生成一个从标准正态分布（均值为0，标准差为1）"
   ]
  },
  {
   "cell_type": "code",
   "execution_count": 162,
   "id": "d274309e",
   "metadata": {},
   "outputs": [],
   "source": [
    "import matplotlib.pyplot as plt"
   ]
  },
  {
   "cell_type": "code",
   "execution_count": 163,
   "id": "70b88f65",
   "metadata": {},
   "outputs": [
    {
     "data": {
      "text/plain": [
       "(array([  4.,  16.,  81., 159., 253., 247., 144.,  75.,  16.,   5.]),\n",
       " array([-3.22891304, -2.58519731, -1.94148158, -1.29776585, -0.65405012,\n",
       "        -0.01033439,  0.63338134,  1.27709707,  1.9208128 ,  2.56452853,\n",
       "         3.20824426]),\n",
       " <BarContainer object of 10 artists>)"
      ]
     },
     "execution_count": 163,
     "metadata": {},
     "output_type": "execute_result"
    },
    {
     "data": {
      "image/png": "[encoded data removed]",
      "text/plain": [
       "<Figure size 640x480 with 1 Axes>"
      ]
     },
     "metadata": {},
     "output_type": "display_data"
    }
   ],
   "source": [
    "plt.hist(data)"
   ]
  },
  {
   "cell_type": "markdown",
   "id": "a88766cf",
   "metadata": {},
   "source": [
    "### 数据直方图\n",
    "使用 `plt.hist(data)` 绘制数据的直方图。直方图是一种统计图表，用于显示数据的分布情况。\n",
    "在这里，`data` 是一个从标准正态分布生成的随机数组，直方图将展示这些数据的频率分布。"
   ]
  }
 ],
 "metadata": {
  "kernelspec": {
   "display_name": ".venv",
   "language": "python",
   "name": "python3"
  },
  "language_info": {
   "codemirror_mode": {
    "name": "ipython",
    "version": 3
   },
   "file_extension": ".py",
   "mimetype": "text/x-python",
   "name": "python",
   "nbconvert_exporter": "python",
   "pygments_lexer": "ipython3",
   "version": "3.11.2"
  }
 },
 "nbformat": 4,
 "nbformat_minor": 5
}
