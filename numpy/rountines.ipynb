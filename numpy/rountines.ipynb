{
 "cells": [
  {
   "cell_type": "code",
   "execution_count": 325,
   "id": "de115cc4",
   "metadata": {},
   "outputs": [],
   "source": [
    "import numpy as np"
   ]
  },
  {
   "cell_type": "code",
   "execution_count": 326,
   "id": "216ec246",
   "metadata": {},
   "outputs": [
    {
     "data": {
      "text/plain": [
       "array([[1, 2, 3],\n",
       "       [2, 3, 4],\n",
       "       [4, 5, 6]])"
      ]
     },
     "execution_count": 326,
     "metadata": {},
     "output_type": "execute_result"
    }
   ],
   "source": [
    "np.array([[1,2,3],[2,3,4],[4,5,6]])"
   ]
  },
  {
   "cell_type": "code",
   "execution_count": 327,
   "id": "d6684786",
   "metadata": {},
   "outputs": [
    {
     "data": {
      "text/plain": [
       "array([[1., 1., 1.],\n",
       "       [1., 1., 1.]])"
      ]
     },
     "execution_count": 327,
     "metadata": {},
     "output_type": "execute_result"
    }
   ],
   "source": [
    "np.ones(shape=(2,3))"
   ]
  },
  {
   "cell_type": "code",
   "execution_count": 328,
   "id": "01c44675",
   "metadata": {},
   "outputs": [
    {
     "data": {
      "text/plain": [
       "array([1., 1., 1.])"
      ]
     },
     "execution_count": 328,
     "metadata": {},
     "output_type": "execute_result"
    }
   ],
   "source": [
    "np.ones(shape=(3,))"
   ]
  },
  {
   "cell_type": "code",
   "execution_count": 329,
   "id": "4099f1bf",
   "metadata": {},
   "outputs": [
    {
     "data": {
      "text/plain": [
       "array([[1., 1., 1.]])"
      ]
     },
     "execution_count": 329,
     "metadata": {},
     "output_type": "execute_result"
    }
   ],
   "source": [
    "np.ones(shape=(1,3))"
   ]
  },
  {
   "cell_type": "code",
   "execution_count": 330,
   "id": "557823d4",
   "metadata": {},
   "outputs": [
    {
     "data": {
      "text/plain": [
       "array([[1.],\n",
       "       [1.],\n",
       "       [1.]])"
      ]
     },
     "execution_count": 330,
     "metadata": {},
     "output_type": "execute_result"
    }
   ],
   "source": [
    "np.ones(shape=(3,1))"
   ]
  },
  {
   "cell_type": "code",
   "execution_count": 331,
   "id": "2dd2d7e3",
   "metadata": {},
   "outputs": [
    {
     "data": {
      "text/plain": [
       "array([[1, 1],\n",
       "       [1, 1],\n",
       "       [1, 1]], dtype=int8)"
      ]
     },
     "execution_count": 331,
     "metadata": {},
     "output_type": "execute_result"
    }
   ],
   "source": [
    "np.ones(shape=(3,2),dtype=np.int8)"
   ]
  },
  {
   "cell_type": "code",
   "execution_count": 332,
   "id": "2e2f430a",
   "metadata": {},
   "outputs": [
    {
     "data": {
      "text/plain": [
       "array([[0],\n",
       "       [0],\n",
       "       [0]], dtype=uint8)"
      ]
     },
     "execution_count": 332,
     "metadata": {},
     "output_type": "execute_result"
    }
   ],
   "source": [
    "np.zeros(shape=(3,1),dtype=np.uint8)"
   ]
  },
  {
   "cell_type": "code",
   "execution_count": 333,
   "id": "15138466",
   "metadata": {},
   "outputs": [
    {
     "data": {
      "text/plain": [
       "array([[6, 6, 6],\n",
       "       [6, 6, 6],\n",
       "       [6, 6, 6]])"
      ]
     },
     "execution_count": 333,
     "metadata": {},
     "output_type": "execute_result"
    }
   ],
   "source": [
    "np.full(shape=(3,3),fill_value=6)"
   ]
  },
  {
   "cell_type": "code",
   "execution_count": 334,
   "id": "e6e823be",
   "metadata": {},
   "outputs": [
    {
     "data": {
      "text/plain": [
       "array([[1., 0., 0.],\n",
       "       [0., 1., 0.],\n",
       "       [0., 0., 1.]])"
      ]
     },
     "execution_count": 334,
     "metadata": {},
     "output_type": "execute_result"
    }
   ],
   "source": [
    "np.eye(3)"
   ]
  },
  {
   "cell_type": "code",
   "execution_count": 335,
   "id": "22a037f4",
   "metadata": {},
   "outputs": [
    {
     "data": {
      "text/plain": [
       "array([[1., 0.],\n",
       "       [0., 1.],\n",
       "       [0., 0.]])"
      ]
     },
     "execution_count": 335,
     "metadata": {},
     "output_type": "execute_result"
    }
   ],
   "source": [
    "np.eye(N=3,M=2)"
   ]
  },
  {
   "cell_type": "code",
   "execution_count": 336,
   "id": "32d9ac97",
   "metadata": {},
   "outputs": [
    {
     "data": {
      "text/plain": [
       "array([[0., 1., 0.],\n",
       "       [0., 0., 1.],\n",
       "       [0., 0., 0.]])"
      ]
     },
     "execution_count": 336,
     "metadata": {},
     "output_type": "execute_result"
    }
   ],
   "source": [
    "np.eye(N=3,k=1)#向右偏移"
   ]
  },
  {
   "cell_type": "code",
   "execution_count": 337,
   "id": "c6caea4b",
   "metadata": {},
   "outputs": [
    {
     "data": {
      "text/plain": [
       "array([[0., 0., 0.],\n",
       "       [1., 0., 0.],\n",
       "       [0., 1., 0.]])"
      ]
     },
     "execution_count": 337,
     "metadata": {},
     "output_type": "execute_result"
    }
   ],
   "source": [
    "np.eye(N=3,k=-1)#向左偏移"
   ]
  },
  {
   "cell_type": "code",
   "execution_count": 338,
   "id": "44d7cda9",
   "metadata": {},
   "outputs": [
    {
     "data": {
      "text/plain": [
       "array([ 0.,  1.,  2.,  3.,  4.,  5.,  6.,  7.,  8.,  9., 10.])"
      ]
     },
     "execution_count": 338,
     "metadata": {},
     "output_type": "execute_result"
    }
   ],
   "source": [
    "np.linspace(0,10,11)#等差数列"
   ]
  },
  {
   "cell_type": "code",
   "execution_count": 339,
   "id": "450dbe67",
   "metadata": {},
   "outputs": [
    {
     "data": {
      "text/plain": [
       "array([  0.,  10.,  20.,  30.,  40.,  50.,  60.,  70.,  80.,  90., 100.])"
      ]
     },
     "execution_count": 339,
     "metadata": {},
     "output_type": "execute_result"
    }
   ],
   "source": [
    "np.linspace(0,100,11)"
   ]
  },
  {
   "cell_type": "code",
   "execution_count": 340,
   "id": "b4e2b771",
   "metadata": {},
   "outputs": [
    {
     "data": {
      "text/plain": [
       "array([ 0.        ,  9.09090909, 18.18181818, 27.27272727, 36.36363636,\n",
       "       45.45454545, 54.54545455, 63.63636364, 72.72727273, 81.81818182,\n",
       "       90.90909091])"
      ]
     },
     "execution_count": 340,
     "metadata": {},
     "output_type": "execute_result"
    }
   ],
   "source": [
    "np.linspace(0,100,11,endpoint=False)#不要最后一个数"
   ]
  },
  {
   "cell_type": "code",
   "execution_count": 341,
   "id": "2834b821",
   "metadata": {},
   "outputs": [
    {
     "data": {
      "text/plain": [
       "array([  0.,  90., 180., 270.])"
      ]
     },
     "execution_count": 341,
     "metadata": {},
     "output_type": "execute_result"
    }
   ],
   "source": [
    "np.linspace(0,360,4,endpoint=False)"
   ]
  },
  {
   "cell_type": "code",
   "execution_count": 342,
   "id": "a04fcfe1",
   "metadata": {},
   "outputs": [
    {
     "data": {
      "text/plain": [
       "array([ 0, 10, 20, 30, 40, 50, 60, 70, 80, 90])"
      ]
     },
     "execution_count": 342,
     "metadata": {},
     "output_type": "execute_result"
    }
   ],
   "source": [
    "np.arange(0,100,step=10)"
   ]
  },
  {
   "cell_type": "code",
   "execution_count": 343,
   "id": "14d87f4e",
   "metadata": {},
   "outputs": [
    {
     "data": {
      "text/plain": [
       "array([[ 9, 83, 21, 36, 87],\n",
       "       [70, 88, 88, 12, 58],\n",
       "       [65, 39, 87, 46, 88]])"
      ]
     },
     "execution_count": 343,
     "metadata": {},
     "output_type": "execute_result"
    }
   ],
   "source": [
    "np.random.randint(low=0,high=100,size=(3,5))"
   ]
  },
  {
   "cell_type": "code",
   "execution_count": 344,
   "id": "db707590",
   "metadata": {},
   "outputs": [
    {
     "data": {
      "text/plain": [
       "array([1, 5, 9, 8, 9, 4, 3, 0, 3, 5])"
      ]
     },
     "execution_count": 344,
     "metadata": {},
     "output_type": "execute_result"
    }
   ],
   "source": [
    "np.random.randint(0,10,size=(10))"
   ]
  },
  {
   "cell_type": "code",
   "execution_count": 345,
   "id": "1b89f0d2",
   "metadata": {},
   "outputs": [
    {
     "data": {
      "text/plain": [
       "array([179.43863233, 178.33674327, 189.94079073, 172.94841736,\n",
       "       178.13067702, 166.45904261, 149.47010184, 181.53618595,\n",
       "       183.64436199, 167.5783498 ])"
      ]
     },
     "execution_count": 345,
     "metadata": {},
     "output_type": "execute_result"
    }
   ],
   "source": [
    "np.random.normal(loc=175,scale=10,size=(10,))#标准正太分布,loc均值,scale标准差"
   ]
  },
  {
   "cell_type": "code",
   "execution_count": 346,
   "id": "90448778",
   "metadata": {},
   "outputs": [
    {
     "data": {
      "text/plain": [
       "array([[0.45615033, 0.56843395, 0.0187898 , 0.6176355 , 0.61209572],\n",
       "       [0.616934  , 0.94374808, 0.6818203 , 0.3595079 , 0.43703195],\n",
       "       [0.6976312 , 0.06022547, 0.66676672, 0.67063787, 0.21038256],\n",
       "       [0.1289263 , 0.31542835, 0.36371077, 0.57019677, 0.43860151],\n",
       "       [0.98837384, 0.10204481, 0.20887676, 0.16130952, 0.65310833],\n",
       "       [0.2532916 , 0.46631077, 0.24442559, 0.15896958, 0.11037514],\n",
       "       [0.65632959, 0.13818295, 0.19658236, 0.36872517, 0.82099323],\n",
       "       [0.09710128, 0.83794491, 0.09609841, 0.97645947, 0.4686512 ],\n",
       "       [0.97676109, 0.60484552, 0.73926358, 0.03918779, 0.28280696],\n",
       "       [0.12019656, 0.2961402 , 0.11872772, 0.31798318, 0.41426299]])"
      ]
     },
     "execution_count": 346,
     "metadata": {},
     "output_type": "execute_result"
    }
   ],
   "source": [
    "np.random.random(size=(10,5))#0-1随机数"
   ]
  },
  {
   "cell_type": "code",
   "execution_count": 347,
   "id": "fac16c38",
   "metadata": {},
   "outputs": [
    {
     "data": {
      "text/plain": [
       "array([[[ 0.17742614, -0.40178094, -1.63019835],\n",
       "        [ 0.46278226, -0.90729836,  0.0519454 ],\n",
       "        [ 0.72909056,  0.12898291,  1.13940068],\n",
       "        [-1.23482582,  0.40234164, -0.68481009],\n",
       "        [-0.87079715, -0.57884966, -0.31155253]],\n",
       "\n",
       "       [[ 0.05616534, -1.16514984,  0.90082649],\n",
       "        [ 0.46566244, -1.53624369,  1.48825219],\n",
       "        [ 1.89588918,  1.17877957, -0.17992484],\n",
       "        [-1.07075262,  1.05445173, -0.40317695],\n",
       "        [ 1.22244507,  0.20827498,  0.97663904]],\n",
       "\n",
       "       [[ 0.3563664 ,  0.70657317,  0.01050002],\n",
       "        [ 1.78587049,  0.12691209,  0.40198936],\n",
       "        [ 1.8831507 , -1.34775906, -1.270485  ],\n",
       "        [ 0.96939671, -1.17312341,  1.94362119],\n",
       "        [-0.41361898, -0.74745481,  1.92294203]],\n",
       "\n",
       "       [[ 1.48051479,  1.86755896,  0.90604466],\n",
       "        [-0.86122569,  1.91006495, -0.26800337],\n",
       "        [ 0.8024564 ,  0.94725197, -0.15501009],\n",
       "        [ 0.61407937,  0.92220667,  0.37642553],\n",
       "        [-1.09940079,  0.29823817,  1.3263859 ]],\n",
       "\n",
       "       [[-0.69456786, -0.14963454, -0.43515355],\n",
       "        [ 1.84926373,  0.67229476,  0.40746184],\n",
       "        [-0.76991607,  0.53924919, -0.67433266],\n",
       "        [ 0.03183056, -0.63584608,  0.67643329],\n",
       "        [ 0.57659082, -0.20829876,  0.39600671]],\n",
       "\n",
       "       [[-1.09306151, -1.49125759,  0.4393917 ],\n",
       "        [ 0.1666735 ,  0.63503144,  2.38314477],\n",
       "        [ 0.94447949, -0.91282223,  1.11701629],\n",
       "        [-1.31590741, -0.4615846 , -0.06824161],\n",
       "        [ 1.71334272, -0.74475482, -0.82643854]],\n",
       "\n",
       "       [[-0.09845252, -0.66347829,  1.12663592],\n",
       "        [-1.07993151, -1.14746865, -0.43782004],\n",
       "        [-0.49803245,  1.92953205,  0.94942081],\n",
       "        [ 0.08755124, -1.22543552,  0.84436298],\n",
       "        [-1.00021535, -1.5447711 ,  1.18802979]],\n",
       "\n",
       "       [[ 0.31694261,  0.92085882,  0.31872765],\n",
       "        [ 0.85683061, -0.65102559, -1.03424284],\n",
       "        [ 0.68159452, -0.80340966, -0.68954978],\n",
       "        [-0.4555325 ,  0.01747916, -0.35399391],\n",
       "        [-1.37495129, -0.6436184 , -2.22340315]],\n",
       "\n",
       "       [[ 0.62523145, -1.60205766, -1.10438334],\n",
       "        [ 0.05216508, -0.739563  ,  1.5430146 ],\n",
       "        [-1.29285691,  0.26705087, -0.03928282],\n",
       "        [-1.1680935 ,  0.52327666, -0.17154633],\n",
       "        [ 0.77179055,  0.82350415,  2.16323595]],\n",
       "\n",
       "       [[ 1.33652795, -0.36918184, -0.23937918],\n",
       "        [ 1.0996596 ,  0.65526373,  0.64013153],\n",
       "        [-1.61695604, -0.02432612, -0.73803091],\n",
       "        [ 0.2799246 , -0.09815039,  0.91017891],\n",
       "        [ 0.31721822,  0.78632796, -0.4664191 ]]])"
      ]
     },
     "execution_count": 347,
     "metadata": {},
     "output_type": "execute_result"
    }
   ],
   "source": [
    "np.random.randn(10,5,3)#用于生成一个从标准正态分布（均值为0，标准差为1）"
   ]
  },
  {
   "cell_type": "code",
   "execution_count": 348,
   "id": "b9d9b7f9",
   "metadata": {},
   "outputs": [],
   "source": [
    "data=np.random.randn(1000)#用于生成一个从标准正态分布（均值为0，标准差为1）"
   ]
  },
  {
   "cell_type": "code",
   "execution_count": 349,
   "id": "d274309e",
   "metadata": {},
   "outputs": [],
   "source": [
    "import matplotlib.pyplot as plt"
   ]
  },
  {
   "cell_type": "code",
   "execution_count": 350,
   "id": "70b88f65",
   "metadata": {},
   "outputs": [
    {
     "data": {
      "text/plain": [
       "(array([  8.,  27.,  81., 172., 259., 228., 139.,  62.,  20.,   4.]),\n",
       " array([-3.04614305, -2.42443127, -1.80271949, -1.18100771, -0.55929592,\n",
       "         0.06241586,  0.68412764,  1.30583942,  1.92755121,  2.54926299,\n",
       "         3.17097477]),\n",
       " <BarContainer object of 10 artists>)"
      ]
     },
     "execution_count": 350,
     "metadata": {},
     "output_type": "execute_result"
    },
    {
     "data": {
      "image/png": "[encoded data removed]",
      "text/plain": [
       "<Figure size 640x480 with 1 Axes>"
      ]
     },
     "metadata": {},
     "output_type": "display_data"
    }
   ],
   "source": [
    "plt.hist(data)"
   ]
  },
  {
   "cell_type": "markdown",
   "id": "a88766cf",
   "metadata": {},
   "source": [
    "### 数据直方图\n",
    "使用 `plt.hist(data)` 绘制数据的直方图。直方图是一种统计图表，用于显示数据的分布情况。\n",
    "在这里，`data` 是一个从标准正态分布生成的随机数组，直方图将展示这些数据的频率分布。"
   ]
  },
  {
   "cell_type": "code",
   "execution_count": 351,
   "id": "b76fc6f3",
   "metadata": {},
   "outputs": [
    {
     "data": {
      "text/plain": [
       "array([2, 3, 6, 8, 4, 7, 1, 9, 5, 0])"
      ]
     },
     "execution_count": 351,
     "metadata": {},
     "output_type": "execute_result"
    }
   ],
   "source": [
    "np.random.permutation(10)#随机索引，从0开始"
   ]
  },
  {
   "cell_type": "code",
   "execution_count": null,
   "id": "c345aa98",
   "metadata": {},
   "outputs": [
    {
     "data": {
      "text/plain": [
       "array([5, 0, 3, 3, 7])"
      ]
     },
     "execution_count": 352,
     "metadata": {},
     "output_type": "execute_result"
    }
   ],
   "source": [
    "np.random.seed(0)#添加一个种子,一定有种子这个数\n",
    "np.random.randint(0,10,size=5)"
   ]
  }
 ],
 "metadata": {
  "kernelspec": {
   "display_name": ".venv",
   "language": "python",
   "name": "python3"
  },
  "language_info": {
   "codemirror_mode": {
    "name": "ipython",
    "version": 3
   },
   "file_extension": ".py",
   "mimetype": "text/x-python",
   "name": "python",
   "nbconvert_exporter": "python",
   "pygments_lexer": "ipython3",
   "version": "3.11.2"
  }
 },
 "nbformat": 4,
 "nbformat_minor": 5
}
