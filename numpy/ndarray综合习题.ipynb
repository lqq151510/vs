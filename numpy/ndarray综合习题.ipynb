{
 "cells": [
  {
   "cell_type": "code",
   "execution_count": 57,
   "id": "73b0804b",
   "metadata": {},
   "outputs": [],
   "source": [
    "import numpy as np"
   ]
  },
  {
   "cell_type": "code",
   "execution_count": 58,
   "id": "edad22f1",
   "metadata": {},
   "outputs": [],
   "source": [
    "python=np.random.randint(0,100,size=100)"
   ]
  },
  {
   "cell_type": "code",
   "execution_count": 59,
   "id": "f8945091",
   "metadata": {},
   "outputs": [
    {
     "data": {
      "text/plain": [
       "0.42"
      ]
     },
     "execution_count": 59,
     "metadata": {},
     "output_type": "execute_result"
    }
   ],
   "source": [
    "((python>60)*1).mean()"
   ]
  },
  {
   "cell_type": "markdown",
   "id": "8fd3761c",
   "metadata": {},
   "source": [
    "生成一个成绩列表，100人。求及格率"
   ]
  },
  {
   "cell_type": "markdown",
   "id": "cd3f8a7e",
   "metadata": {},
   "source": [
    "### 计算及格率\n",
    "代码 `((python>60)*1).mean()` 的作用是计算成绩列表中及格的比例。\n",
    "- `python>60` 会生成一个布尔数组，表示每个成绩是否大于 60（即是否及格）。\n",
    "- `*1` 将布尔值转换为整数值（`True` 转为 1，`False` 转为 0）。\n",
    "- `.mean()` 计算数组的平均值，即及格的比例（及格人数占总人数的百分比）。"
   ]
  },
  {
   "cell_type": "code",
   "execution_count": 60,
   "id": "8efbe557",
   "metadata": {},
   "outputs": [],
   "source": [
    "def standerd_transform(x):\n",
    "    return (x-x.mean())/x.std()\n",
    "    "
   ]
  },
  {
   "cell_type": "markdown",
   "id": "c7295307",
   "metadata": {},
   "source": [
    "数据标准化：减去期望值再除以方差"
   ]
  },
  {
   "cell_type": "markdown",
   "id": "63d90e7f",
   "metadata": {},
   "source": [
    "### 数据标准化函数\n",
    "函数 `standerd_transform(x)` 用于对输入数组 `x` 进行标准化处理。\n",
    "- 标准化的公式为 `(x - x.mean()) / x.std()`。\n",
    "- 该公式会将数据的均值调整为 0，标准差调整为 1，从而消除数据的量纲影响。\n",
    "- 标准化后的数据适用于需要归一化输入的机器学习算法或统计分析。"
   ]
  },
  {
   "cell_type": "code",
   "execution_count": 61,
   "id": "c4c7920b",
   "metadata": {},
   "outputs": [
    {
     "data": {
      "text/plain": [
       "array([-1.50524291, -0.50698175,  0.51063182, -0.40283113,  0.34802476,\n",
       "       -0.99329743, -0.09477254, -1.74678983, -0.23878545,  0.58533447,\n",
       "       -1.07145816,  0.43446962, -0.14061409,  0.80578704,  1.42776909,\n",
       "        0.13772351, -1.06783937,  0.27882157, -1.17394093,  0.7310334 ,\n",
       "       -0.9906903 , -0.68416618, -0.06863493, -0.98071205,  0.78291111,\n",
       "        0.18599699, -1.73176515,  0.33794283, -0.75168238,  1.31091107,\n",
       "        0.60573562,  0.97556967, -0.7596873 , -0.23831216,  0.43585984,\n",
       "       -0.51439185,  0.5281642 , -0.19599334,  1.33512485,  0.47721714,\n",
       "        0.19867906, -1.72423358,  2.0812707 ,  0.07652254,  0.1080408 ,\n",
       "        0.31097216, -0.34065368,  0.31627417, -0.74196289, -2.14206487,\n",
       "       -0.68424798, -0.31556225, -1.84910243,  0.45690344, -0.17445708,\n",
       "        0.47583071,  0.60960995, -1.42308857, -0.88645716,  1.41853903,\n",
       "        2.3407112 ,  0.11417679, -1.19334025,  0.58266862,  1.10809022,\n",
       "        0.41334337, -1.14573334,  0.53976072, -0.26048933, -1.47957788,\n",
       "        0.33406587,  0.4854725 , -0.79572966, -0.64898708,  0.38386692,\n",
       "       -0.48033281,  0.32819061,  1.91362934,  1.39426165, -1.74228362,\n",
       "        0.26239406,  1.47014469,  0.83777737,  0.69998923, -1.17409224,\n",
       "       -0.01571732,  1.08842668,  0.61847364,  0.63063557,  1.09191808,\n",
       "        0.94725812,  0.52391147, -0.65253535, -0.76347913,  1.2927888 ,\n",
       "       -0.45828622,  0.29750916,  0.16790434, -0.49605379, -2.46346334])"
      ]
     },
     "execution_count": 61,
     "metadata": {},
     "output_type": "execute_result"
    }
   ],
   "source": [
    "data=np.random.randn(100)\n",
    "data"
   ]
  },
  {
   "cell_type": "markdown",
   "id": "5371fae8",
   "metadata": {},
   "source": [
    "随机一个一维数组，比较其中是否有至少一个数据大于3倍平均值"
   ]
  },
  {
   "cell_type": "code",
   "execution_count": 62,
   "id": "adbde207",
   "metadata": {},
   "outputs": [
    {
     "data": {
      "text/plain": [
       "array([[-1.34597899, -0.37853976,  0.1833175 ],\n",
       "       [ 0.53721605,  1.19454329,  1.45639714],\n",
       "       [ 1.28905664,  0.01463584, -1.15001269],\n",
       "       ...,\n",
       "       [ 3.47287499, -1.19922562,  1.40591363],\n",
       "       [ 0.52690203,  0.41080189, -0.13423222],\n",
       "       [-1.38959926,  0.92780046,  0.50034748]])"
      ]
     },
     "execution_count": 62,
     "metadata": {},
     "output_type": "execute_result"
    }
   ],
   "source": [
    "data=np.random.randn(1000,3)\n",
    "data"
   ]
  },
  {
   "cell_type": "code",
   "execution_count": null,
   "id": "1d97e59f",
   "metadata": {},
   "outputs": [
    {
     "data": {
      "text/plain": [
       "True"
      ]
     },
     "execution_count": 63,
     "metadata": {},
     "output_type": "execute_result"
    }
   ],
   "source": [
    "(data>data.std(axis=0)*3).any(axis=0)"
   ]
  },
  {
   "cell_type": "markdown",
   "id": "5fa427c9",
   "metadata": {},
   "source": [
    "生成1000行3列的一个标准正太分布方程组，查询每一列是否存在至少一个大数据大于该列的3倍标准差"
   ]
  },
  {
   "cell_type": "markdown",
   "id": "35f85821",
   "metadata": {},
   "source": [
    "### 检查是否存在异常值\n",
    "代码 `(data>data.std(axis=0)*3).any(axis=0)` 用于检查数组 `data` 中每一列是否存在至少一个值大于该列标准差的 3 倍。\n",
    "- `data.std(axis=0)` 计算每一列的标准差。\n",
    "- `data>data.std(axis=0)*3` 生成一个布尔数组，表示每个元素是否大于对应列标准差的 3 倍。\n",
    "- `.any(axis=0)` 检查布尔数组中每列是否至少有一个 `True` 值，返回一个布尔数组，表示每列是否存在异常值。\n",
    "- 该操作常用于检测数据中的异常值（outliers）。"
   ]
  },
  {
   "cell_type": "markdown",
   "id": "686dfb92",
   "metadata": {},
   "source": [
    "### 按列计算标准差\n",
    "代码 `data.std(axis=0)` 用于计算数组 `data` 中每一列的标准差。\n",
    "- 参数 `axis=0` 指定沿着第 0 轴（即行的方向）计算标准差，因此结果是一个包含每列标准差的一维数组。\n",
    "- 标准差是衡量数据分布离散程度的指标，表示数据点与均值的平均偏离程度。\n",
    "- 该操作常用于分析多维数据中各列的分布特性。"
   ]
  },
  {
   "cell_type": "code",
   "execution_count": null,
   "id": "9533654d",
   "metadata": {},
   "outputs": [],
   "source": [
    "np.random"
   ]
  },
  {
   "cell_type": "markdown",
   "id": "1d1e25f0",
   "metadata": {},
   "source": []
  }
 ],
 "metadata": {
  "kernelspec": {
   "display_name": ".venv",
   "language": "python",
   "name": "python3"
  },
  "language_info": {
   "codemirror_mode": {
    "name": "ipython",
    "version": 3
   },
   "file_extension": ".py",
   "mimetype": "text/x-python",
   "name": "python",
   "nbconvert_exporter": "python",
   "pygments_lexer": "ipython3",
   "version": "3.11.2"
  }
 },
 "nbformat": 4,
 "nbformat_minor": 5
}
