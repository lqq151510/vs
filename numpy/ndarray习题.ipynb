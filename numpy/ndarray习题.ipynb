{
 "cells": [
  {
   "cell_type": "code",
   "execution_count": 75,
   "id": "3f64dbc1",
   "metadata": {},
   "outputs": [
    {
     "data": {
      "text/plain": [
       "array([[25, 10, 25, 46, 83],\n",
       "       [81, 90, 18, 82, 98],\n",
       "       [51, 16, 53, 24, 81],\n",
       "       [48, 27, 49, 16, 33],\n",
       "       [88, 12, 65, 26, 74],\n",
       "       [74, 89, 44, 34, 86]])"
      ]
     },
     "execution_count": 75,
     "metadata": {},
     "output_type": "execute_result"
    }
   ],
   "source": [
    "import numpy as np\n",
    "arr=np.random.randint(0,100,size=(6,5))\n",
    "arr"
   ]
  },
  {
   "cell_type": "code",
   "execution_count": 76,
   "id": "724b3fd5",
   "metadata": {},
   "outputs": [
    {
     "data": {
      "text/plain": [
       "[array([[25, 10, 25, 46, 83],\n",
       "        [81, 90, 18, 82, 98],\n",
       "        [51, 16, 53, 24, 81]]),\n",
       " array([[48, 27, 49, 16, 33],\n",
       "        [88, 12, 65, 26, 74],\n",
       "        [74, 89, 44, 34, 86]])]"
      ]
     },
     "execution_count": 76,
     "metadata": {},
     "output_type": "execute_result"
    }
   ],
   "source": [
    "np.vsplit(arr,indices_or_sections=2)"
   ]
  },
  {
   "cell_type": "markdown",
   "id": "ddc2bbf4",
   "metadata": {},
   "source": [
    "### 垂直切分数组\n",
    "使用 `np.vsplit(arr,indices_or_sections=2)` 将数组 `arr` 沿行方向（垂直）切分。\n",
    "参数 `indices_or_sections=2` 表示将数组均匀分为两部分。\n",
    "每部分包含相同数量的行，适用于行数可以被均匀分割的情况。"
   ]
  },
  {
   "cell_type": "code",
   "execution_count": 77,
   "id": "08dcf200",
   "metadata": {},
   "outputs": [
    {
     "data": {
      "text/plain": [
       "[array([[25, 10],\n",
       "        [81, 90],\n",
       "        [51, 16],\n",
       "        [48, 27],\n",
       "        [88, 12],\n",
       "        [74, 89]]),\n",
       " array([[25],\n",
       "        [18],\n",
       "        [53],\n",
       "        [49],\n",
       "        [65],\n",
       "        [44]]),\n",
       " array([[46, 83],\n",
       "        [82, 98],\n",
       "        [24, 81],\n",
       "        [16, 33],\n",
       "        [26, 74],\n",
       "        [34, 86]])]"
      ]
     },
     "execution_count": 77,
     "metadata": {},
     "output_type": "execute_result"
    }
   ],
   "source": [
    "np.hsplit(arr,indices_or_sections=[2,3])"
   ]
  },
  {
   "cell_type": "markdown",
   "id": "d88006a1",
   "metadata": {},
   "source": [
    "### 水平切分数组\n",
    "使用 `np.hsplit(arr,indices_or_sections=[2,3])` 将数组 `arr` 沿列方向（水平）切分。\n",
    "参数 `indices_or_sections=[2,3]` 指定切分点，将数组分为三部分：\n",
    "- 第一部分包含前两列。\n",
    "- 第二部分包含第 3 列。\n",
    "- 第三部分包含剩余的列。"
   ]
  },
  {
   "cell_type": "code",
   "execution_count": 78,
   "id": "793362e0",
   "metadata": {},
   "outputs": [
    {
     "data": {
      "text/plain": [
       "array([[6, 9, 1, 0],\n",
       "       [9, 9, 6, 0],\n",
       "       [9, 9, 9, 1],\n",
       "       [2, 3, 8, 9]])"
      ]
     },
     "metadata": {},
     "output_type": "display_data"
    },
    {
     "data": {
      "text/plain": [
       "array([[1, 3, 4, 6],\n",
       "       [8, 9, 5, 9],\n",
       "       [9, 0, 9, 8],\n",
       "       [8, 5, 6, 9],\n",
       "       [5, 5, 8, 7],\n",
       "       [1, 7, 1, 5],\n",
       "       [0, 0, 5, 9],\n",
       "       [4, 4, 7, 6]])"
      ]
     },
     "metadata": {},
     "output_type": "display_data"
    }
   ],
   "source": [
    "a1=np.random.randint(0,10,size=(4,4))\n",
    "a2=np.random.randint(0,10,size=(8,4))\n",
    "display(a1,a2)"
   ]
  },
  {
   "cell_type": "code",
   "execution_count": 79,
   "id": "e1e3dd4f",
   "metadata": {},
   "outputs": [
    {
     "data": {
      "text/plain": [
       "array([[6, 9, 1, 0],\n",
       "       [9, 9, 6, 0],\n",
       "       [9, 9, 9, 1],\n",
       "       [2, 3, 8, 9],\n",
       "       [1, 3, 4, 6],\n",
       "       [8, 9, 5, 9],\n",
       "       [9, 0, 9, 8],\n",
       "       [8, 5, 6, 9],\n",
       "       [5, 5, 8, 7],\n",
       "       [1, 7, 1, 5],\n",
       "       [0, 0, 5, 9],\n",
       "       [4, 4, 7, 6]])"
      ]
     },
     "execution_count": 79,
     "metadata": {},
     "output_type": "execute_result"
    }
   ],
   "source": [
    "np.concatenate((a1,a2),axis=0)"
   ]
  },
  {
   "cell_type": "code",
   "execution_count": 80,
   "id": "627ba36f",
   "metadata": {},
   "outputs": [],
   "source": [
    "arr3=np.vstack((a1,a2))"
   ]
  },
  {
   "cell_type": "markdown",
   "id": "82a2591a",
   "metadata": {},
   "source": [
    "生成两个形状分别为（4,4）和（8,4）的二维数组，尝试级联"
   ]
  },
  {
   "cell_type": "code",
   "execution_count": 81,
   "id": "b4e7a30b",
   "metadata": {},
   "outputs": [
    {
     "data": {
      "text/plain": [
       "[array([[6, 9, 1, 0],\n",
       "        [9, 9, 6, 0],\n",
       "        [9, 9, 9, 1],\n",
       "        [2, 3, 8, 9]]),\n",
       " array([[1, 3, 4, 6],\n",
       "        [8, 9, 5, 9],\n",
       "        [9, 0, 9, 8],\n",
       "        [8, 5, 6, 9]]),\n",
       " array([[5, 5, 8, 7],\n",
       "        [1, 7, 1, 5],\n",
       "        [0, 0, 5, 9],\n",
       "        [4, 4, 7, 6]])]"
      ]
     },
     "execution_count": 81,
     "metadata": {},
     "output_type": "execute_result"
    }
   ],
   "source": [
    "np.split(arr3,indices_or_sections=3)"
   ]
  },
  {
   "cell_type": "code",
   "execution_count": 82,
   "id": "7e531777",
   "metadata": {},
   "outputs": [
    {
     "data": {
      "text/plain": [
       "[array([[6, 9, 1, 0],\n",
       "        [9, 9, 6, 0],\n",
       "        [9, 9, 9, 1],\n",
       "        [2, 3, 8, 9]]),\n",
       " array([[1, 3, 4, 6],\n",
       "        [8, 9, 5, 9],\n",
       "        [9, 0, 9, 8],\n",
       "        [8, 5, 6, 9]]),\n",
       " array([[5, 5, 8, 7],\n",
       "        [1, 7, 1, 5],\n",
       "        [0, 0, 5, 9],\n",
       "        [4, 4, 7, 6]])]"
      ]
     },
     "execution_count": 82,
     "metadata": {},
     "output_type": "execute_result"
    }
   ],
   "source": [
    "np.split(arr3,indices_or_sections=[4,8])"
   ]
  },
  {
   "cell_type": "markdown",
   "id": "d234deb8",
   "metadata": {},
   "source": [
    "尝试用两种方法将上题级联结果保存并拆分成3等分"
   ]
  },
  {
   "cell_type": "markdown",
   "id": "0fa7a900",
   "metadata": {},
   "source": []
  },
  {
   "cell_type": "code",
   "execution_count": 83,
   "id": "6a3abe6a",
   "metadata": {},
   "outputs": [],
   "source": [
    "data=np.random.randint(0,10,size=5)"
   ]
  },
  {
   "cell_type": "code",
   "execution_count": 84,
   "id": "015ec5ee",
   "metadata": {},
   "outputs": [
    {
     "data": {
      "text/plain": [
       "numpy.ndarray"
      ]
     },
     "execution_count": 84,
     "metadata": {},
     "output_type": "execute_result"
    }
   ],
   "source": [
    "type(data)"
   ]
  },
  {
   "cell_type": "code",
   "execution_count": 85,
   "id": "8a52a79b",
   "metadata": {},
   "outputs": [
    {
     "data": {
      "text/plain": [
       "dtype('int64')"
      ]
     },
     "execution_count": 85,
     "metadata": {},
     "output_type": "execute_result"
    }
   ],
   "source": [
    "data.dtype"
   ]
  },
  {
   "cell_type": "code",
   "execution_count": 86,
   "id": "beab6757",
   "metadata": {},
   "outputs": [
    {
     "data": {
      "text/plain": [
       "array([4., 1., 6., 0., 9.], dtype=float32)"
      ]
     },
     "execution_count": 86,
     "metadata": {},
     "output_type": "execute_result"
    }
   ],
   "source": [
    "data.astype(np.float32)"
   ]
  },
  {
   "cell_type": "markdown",
   "id": "dfe18012",
   "metadata": {},
   "source": [
    "生成长度为5的整形数组，将类型修改为float32"
   ]
  },
  {
   "cell_type": "markdown",
   "id": "af88e166",
   "metadata": {},
   "source": [
    "### 修改数组数据类型\n",
    "使用 `data.astype(np.float32)` 方法将数组 `data` 的数据类型从整型转换为 `float32` 类型。\n",
    "该方法不会修改原数组，而是返回一个新的数组，且新数组的元素类型为 `float32`。\n",
    "这种转换在需要更高精度或特定数据类型的计算场景中非常有用。"
   ]
  }
 ],
 "metadata": {
  "kernelspec": {
   "display_name": ".venv",
   "language": "python",
   "name": "python3"
  },
  "language_info": {
   "codemirror_mode": {
    "name": "ipython",
    "version": 3
   },
   "file_extension": ".py",
   "mimetype": "text/x-python",
   "name": "python",
   "nbconvert_exporter": "python",
   "pygments_lexer": "ipython3",
   "version": "3.11.2"
  }
 },
 "nbformat": 4,
 "nbformat_minor": 5
}
