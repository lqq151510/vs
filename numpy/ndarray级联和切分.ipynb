{
 "cells": [
  {
   "cell_type": "code",
   "execution_count": 45,
   "id": "8bb49627",
   "metadata": {},
   "outputs": [],
   "source": [
    "import numpy as np"
   ]
  },
  {
   "cell_type": "code",
   "execution_count": 46,
   "id": "e6f52e5d",
   "metadata": {},
   "outputs": [
    {
     "data": {
      "text/plain": [
       "array([[9, 7, 2, 6],\n",
       "       [7, 1, 7, 3],\n",
       "       [1, 0, 8, 5]])"
      ]
     },
     "metadata": {},
     "output_type": "display_data"
    },
    {
     "data": {
      "text/plain": [
       "array([[14, 14, 17, 14],\n",
       "       [17, 19, 10, 14],\n",
       "       [12, 18, 17, 15]])"
      ]
     },
     "metadata": {},
     "output_type": "display_data"
    }
   ],
   "source": [
    "a1=np.random.randint(0,10,size=(3,4))\n",
    "a2=np.random.randint(10,20,size=(3,4))\n",
    "display(a1,a2)"
   ]
  },
  {
   "cell_type": "code",
   "execution_count": 47,
   "id": "e788f2cb",
   "metadata": {},
   "outputs": [
    {
     "data": {
      "text/plain": [
       "array([[ 9,  7,  2,  6],\n",
       "       [ 7,  1,  7,  3],\n",
       "       [ 1,  0,  8,  5],\n",
       "       [14, 14, 17, 14],\n",
       "       [17, 19, 10, 14],\n",
       "       [12, 18, 17, 15]])"
      ]
     },
     "execution_count": 47,
     "metadata": {},
     "output_type": "execute_result"
    }
   ],
   "source": [
    "np.concatenate((a1,a2),axis=0)#NumPy 中用于连接（拼接）数组的函数。"
   ]
  },
  {
   "cell_type": "code",
   "execution_count": 48,
   "id": "f03ccab3",
   "metadata": {},
   "outputs": [
    {
     "data": {
      "text/plain": [
       "array([[23, 29, 21],\n",
       "       [28, 21, 24],\n",
       "       [23, 22, 23]])"
      ]
     },
     "execution_count": 48,
     "metadata": {},
     "output_type": "execute_result"
    }
   ],
   "source": [
    "a3=np.random.randint(20,30,size=(3,3))\n",
    "a3"
   ]
  },
  {
   "cell_type": "markdown",
   "id": "a6ecb43c",
   "metadata": {},
   "source": [
    "维度和级联的维度上长度一致"
   ]
  },
  {
   "cell_type": "code",
   "execution_count": 49,
   "id": "f1ba6405",
   "metadata": {},
   "outputs": [
    {
     "data": {
      "text/plain": [
       "array([[ 9,  7,  2,  6, 23, 29, 21],\n",
       "       [ 7,  1,  7,  3, 28, 21, 24],\n",
       "       [ 1,  0,  8,  5, 23, 22, 23]])"
      ]
     },
     "execution_count": 49,
     "metadata": {},
     "output_type": "execute_result"
    }
   ],
   "source": [
    "np.concatenate((a1,a3),axis=1)"
   ]
  },
  {
   "cell_type": "code",
   "execution_count": 50,
   "id": "23c0e1de",
   "metadata": {},
   "outputs": [
    {
     "data": {
      "text/plain": [
       "array([[ 9,  7,  2,  6],\n",
       "       [ 7,  1,  7,  3],\n",
       "       [ 1,  0,  8,  5],\n",
       "       [14, 14, 17, 14],\n",
       "       [17, 19, 10, 14],\n",
       "       [12, 18, 17, 15]])"
      ]
     },
     "execution_count": 50,
     "metadata": {},
     "output_type": "execute_result"
    }
   ],
   "source": [
    "np.vstack((a1,a2))#竖着连"
   ]
  },
  {
   "cell_type": "code",
   "execution_count": 51,
   "id": "b9e40598",
   "metadata": {},
   "outputs": [
    {
     "data": {
      "text/plain": [
       "array([[ 9,  7,  2,  6, 23, 29, 21],\n",
       "       [ 7,  1,  7,  3, 28, 21, 24],\n",
       "       [ 1,  0,  8,  5, 23, 22, 23]])"
      ]
     },
     "execution_count": 51,
     "metadata": {},
     "output_type": "execute_result"
    }
   ],
   "source": [
    "np.hstack((a1,a3))#横着连"
   ]
  },
  {
   "cell_type": "code",
   "execution_count": 52,
   "id": "e0ea1e89",
   "metadata": {},
   "outputs": [
    {
     "data": {
      "text/plain": [
       "array([[41, 16, 81, 76,  0],\n",
       "       [45, 58, 93, 47,  5],\n",
       "       [84, 81,  1, 18, 81],\n",
       "       [35, 50, 61,  2, 61],\n",
       "       [45, 38, 55, 10, 35],\n",
       "       [83, 36, 30, 20, 31]])"
      ]
     },
     "execution_count": 52,
     "metadata": {},
     "output_type": "execute_result"
    }
   ],
   "source": [
    "arr=np.random.randint(0,100,size=(6,5))\n",
    "arr"
   ]
  },
  {
   "cell_type": "code",
   "execution_count": 53,
   "id": "6bde24e2",
   "metadata": {},
   "outputs": [
    {
     "data": {
      "text/plain": [
       "[array([[41, 16, 81, 76,  0],\n",
       "        [45, 58, 93, 47,  5],\n",
       "        [84, 81,  1, 18, 81]]),\n",
       " array([[35, 50, 61,  2, 61],\n",
       "        [45, 38, 55, 10, 35],\n",
       "        [83, 36, 30, 20, 31]])]"
      ]
     },
     "execution_count": 53,
     "metadata": {},
     "output_type": "execute_result"
    }
   ],
   "source": [
    "np.split(arr,indices_or_sections=2,axis=0)# NumPy 中用于分割数组的函数。indices_or_sections表示要将数组沿指定轴均匀分割成多少个子数组"
   ]
  },
  {
   "cell_type": "code",
   "execution_count": 54,
   "id": "66e8b903",
   "metadata": {},
   "outputs": [
    {
     "data": {
      "text/plain": [
       "[array([[41, 16],\n",
       "        [45, 58],\n",
       "        [84, 81],\n",
       "        [35, 50],\n",
       "        [45, 38],\n",
       "        [83, 36]]),\n",
       " array([[81],\n",
       "        [93],\n",
       "        [ 1],\n",
       "        [61],\n",
       "        [55],\n",
       "        [30]]),\n",
       " array([[76,  0],\n",
       "        [47,  5],\n",
       "        [18, 81],\n",
       "        [ 2, 61],\n",
       "        [10, 35],\n",
       "        [20, 31]])]"
      ]
     },
     "execution_count": 54,
     "metadata": {},
     "output_type": "execute_result"
    }
   ],
   "source": [
    "np.split(arr,indices_or_sections=[2,3],axis=1)#左闭右开区间"
   ]
  },
  {
   "cell_type": "markdown",
   "id": "bed6cfe3",
   "metadata": {},
   "source": [
    "### 数组切分\n",
    "使用 `np.split(arr,indices_or_sections=[2,3],axis=1)` 将数组 `arr` 沿列方向（`axis=1`）切分。\n",
    "参数 `indices_or_sections=[2,3]` 指定切分点，将数组分为三部分：\n",
    "- 第一部分包含前两列。\n",
    "- 第二部分包含第 3 列。\n",
    "- 第三部分包含剩余的列。"
   ]
  }
 ],
 "metadata": {
  "kernelspec": {
   "display_name": ".venv",
   "language": "python",
   "name": "python3"
  },
  "language_info": {
   "codemirror_mode": {
    "name": "ipython",
    "version": 3
   },
   "file_extension": ".py",
   "mimetype": "text/x-python",
   "name": "python",
   "nbconvert_exporter": "python",
   "pygments_lexer": "ipython3",
   "version": "3.11.2"
  }
 },
 "nbformat": 4,
 "nbformat_minor": 5
}
