{
 "cells": [
  {
   "cell_type": "code",
   "execution_count": 191,
   "id": "aa59edd5",
   "metadata": {},
   "outputs": [],
   "source": [
    "import numpy as np"
   ]
  },
  {
   "cell_type": "code",
   "execution_count": 192,
   "id": "89ff9c4b",
   "metadata": {},
   "outputs": [],
   "source": [
    "arr=[1,2,3,4,5]"
   ]
  },
  {
   "cell_type": "code",
   "execution_count": 193,
   "id": "eb587a5c",
   "metadata": {},
   "outputs": [
    {
     "data": {
      "text/plain": [
       "array([[3, 7, 9],\n",
       "       [2, 2, 7],\n",
       "       [0, 5, 9],\n",
       "       [2, 1, 4]])"
      ]
     },
     "execution_count": 193,
     "metadata": {},
     "output_type": "execute_result"
    }
   ],
   "source": [
    "arr2=np.random.randint(0,10,size=(4,3))\n",
    "arr2"
   ]
  },
  {
   "cell_type": "code",
   "execution_count": 194,
   "id": "6439dbf5",
   "metadata": {},
   "outputs": [
    {
     "data": {
      "text/plain": [
       "array([1, 3, 4, 5])"
      ]
     },
     "execution_count": 194,
     "metadata": {},
     "output_type": "execute_result"
    }
   ],
   "source": [
    "np.delete(arr,1)"
   ]
  },
  {
   "cell_type": "code",
   "execution_count": 195,
   "id": "14b7bc4b",
   "metadata": {},
   "outputs": [
    {
     "data": {
      "text/plain": [
       "array([[3, 7, 9],\n",
       "       [2, 1, 4]])"
      ]
     },
     "execution_count": 195,
     "metadata": {},
     "output_type": "execute_result"
    }
   ],
   "source": [
    "np.delete(arr2,[[1,2]],axis=0)"
   ]
  },
  {
   "cell_type": "code",
   "execution_count": 196,
   "id": "03509d61",
   "metadata": {},
   "outputs": [
    {
     "data": {
      "text/plain": [
       "array([2, 0, 1, 1, 9, 3, 6, 9])"
      ]
     },
     "execution_count": 196,
     "metadata": {},
     "output_type": "execute_result"
    }
   ],
   "source": [
    "arr=np.random.randint(0,10,size=8)\n",
    "arr"
   ]
  },
  {
   "cell_type": "code",
   "execution_count": 197,
   "id": "9da5205b",
   "metadata": {},
   "outputs": [
    {
     "data": {
      "text/plain": [
       "array([[2, 0, 1, 1],\n",
       "       [9, 3, 6, 9]])"
      ]
     },
     "execution_count": 197,
     "metadata": {},
     "output_type": "execute_result"
    }
   ],
   "source": [
    "arr.reshape((2,4),order='C')#不能显示使用shape\n",
    "#C按行"
   ]
  },
  {
   "cell_type": "code",
   "execution_count": 198,
   "id": "515b6462",
   "metadata": {},
   "outputs": [
    {
     "data": {
      "text/plain": [
       "array([[2, 1, 9, 6],\n",
       "       [0, 1, 3, 9]])"
      ]
     },
     "execution_count": 198,
     "metadata": {},
     "output_type": "execute_result"
    }
   ],
   "source": [
    "arr.reshape((2,4),order='F')#按列"
   ]
  },
  {
   "cell_type": "code",
   "execution_count": 199,
   "id": "7bc9cbea",
   "metadata": {},
   "outputs": [
    {
     "data": {
      "text/plain": [
       "array([[2, 0, 1, 1],\n",
       "       [9, 3, 6, 9]])"
      ]
     },
     "execution_count": 199,
     "metadata": {},
     "output_type": "execute_result"
    }
   ],
   "source": [
    "arr.reshape((2,4),order='A')#原顺序"
   ]
  },
  {
   "cell_type": "code",
   "execution_count": 200,
   "id": "92b9ca5d",
   "metadata": {},
   "outputs": [
    {
     "name": "stdout",
     "output_type": "stream",
     "text": [
      "2\n",
      "0\n",
      "1\n",
      "1\n",
      "9\n",
      "3\n",
      "6\n",
      "9\n"
     ]
    }
   ],
   "source": [
    "for i in arr:\n",
    "    print(i)"
   ]
  },
  {
   "cell_type": "code",
   "execution_count": 201,
   "id": "d780899f",
   "metadata": {},
   "outputs": [
    {
     "name": "stdout",
     "output_type": "stream",
     "text": [
      "3\n",
      "7\n",
      "9\n",
      "2\n",
      "2\n",
      "7\n",
      "0\n",
      "5\n",
      "9\n",
      "2\n",
      "1\n",
      "4\n"
     ]
    }
   ],
   "source": [
    "for arrl in arr2:\n",
    "    for i in arrl:\n",
    "        print(i)\n",
    "    "
   ]
  },
  {
   "cell_type": "code",
   "execution_count": 202,
   "id": "dce17f4b",
   "metadata": {},
   "outputs": [
    {
     "name": "stdout",
     "output_type": "stream",
     "text": [
      "2\n",
      "0\n",
      "1\n",
      "1\n",
      "9\n",
      "3\n",
      "6\n",
      "9\n"
     ]
    }
   ],
   "source": [
    "for i in arr.flat:\n",
    "    print(i)"
   ]
  },
  {
   "cell_type": "markdown",
   "id": "415e130c",
   "metadata": {},
   "source": [
    "`arr.flat` 是 NumPy 数组的一个迭代器属性，它会将多维数组“扁平化”为一维序列进行遍历。使用 `for i in arr.flat:` 可以逐个访问数组中的每一个元素，无论原数组的维度如何。这样可以方便地对数组中的所有元素进行操作，而无需关心其具体的形状结构。"
   ]
  },
  {
   "cell_type": "code",
   "execution_count": 203,
   "id": "9ce76973",
   "metadata": {},
   "outputs": [
    {
     "data": {
      "text/plain": [
       "<attribute 'flat' of 'numpy.ndarray' objects>"
      ]
     },
     "execution_count": 203,
     "metadata": {},
     "output_type": "execute_result"
    }
   ],
   "source": [
    "np.ndarray.flat"
   ]
  },
  {
   "cell_type": "code",
   "execution_count": 204,
   "id": "f4c101dd",
   "metadata": {},
   "outputs": [
    {
     "data": {
      "text/plain": [
       "array([[3, 7, 9],\n",
       "       [2, 2, 7],\n",
       "       [0, 5, 9],\n",
       "       [2, 1, 4]])"
      ]
     },
     "execution_count": 204,
     "metadata": {},
     "output_type": "execute_result"
    }
   ],
   "source": [
    "arr2"
   ]
  },
  {
   "cell_type": "code",
   "execution_count": 205,
   "id": "f1378f2f",
   "metadata": {},
   "outputs": [
    {
     "data": {
      "text/plain": [
       "array([3, 7, 9, 2, 2, 7, 0, 5, 9, 2, 1, 4])"
      ]
     },
     "execution_count": 205,
     "metadata": {},
     "output_type": "execute_result"
    }
   ],
   "source": [
    "arr2.flatten()"
   ]
  },
  {
   "cell_type": "markdown",
   "id": "9c970643",
   "metadata": {},
   "source": [
    "`arr2.flatten()` 会将多维的 NumPy 数组 `arr2` 按行优先（C 顺序）展开为一个一维数组，并返回一个新的数组副本。无论原数组的形状如何，`flatten()` 都会生成一个全新的、连续存储的一维数组，原数组本身不会被修改。"
   ]
  },
  {
   "cell_type": "code",
   "execution_count": 206,
   "id": "8f3d5263",
   "metadata": {},
   "outputs": [
    {
     "data": {
      "text/plain": [
       "array([3, 7, 9, 2, 2, 7, 0, 5, 9, 2, 1, 4])"
      ]
     },
     "execution_count": 206,
     "metadata": {},
     "output_type": "execute_result"
    }
   ],
   "source": [
    "arr2.ravel()"
   ]
  },
  {
   "cell_type": "markdown",
   "id": "e0382ba1",
   "metadata": {},
   "source": [
    "`arr2.ravel()` 也会将多维的 NumPy 数组 `arr2` 展开为一维数组，但与 `flatten()` 不同的是，`ravel()` 通常返回的是原数组的视图（view），不会产生数据的副本（除非有必要）。这意味着对 `ravel()` 返回结果的修改可能会影响原数组（如果返回的是视图）。`ravel()` 默认也是按行优先（C 顺序）展开。"
   ]
  },
  {
   "cell_type": "code",
   "execution_count": 207,
   "id": "c1d58483",
   "metadata": {},
   "outputs": [
    {
     "data": {
      "text/plain": [
       "(4, 3)"
      ]
     },
     "execution_count": 207,
     "metadata": {},
     "output_type": "execute_result"
    }
   ],
   "source": [
    "arr2.shape"
   ]
  },
  {
   "cell_type": "code",
   "execution_count": 208,
   "id": "9d4ec58c",
   "metadata": {},
   "outputs": [
    {
     "data": {
      "text/plain": [
       "array([[3, 7, 9],\n",
       "       [2, 2, 7],\n",
       "       [0, 5, 9],\n",
       "       [2, 1, 4]])"
      ]
     },
     "execution_count": 208,
     "metadata": {},
     "output_type": "execute_result"
    }
   ],
   "source": [
    "arr2"
   ]
  },
  {
   "cell_type": "code",
   "execution_count": 209,
   "id": "dc678f6e",
   "metadata": {},
   "outputs": [
    {
     "data": {
      "text/plain": [
       "array([[3, 2, 0, 2],\n",
       "       [7, 2, 5, 1],\n",
       "       [9, 7, 9, 4]])"
      ]
     },
     "execution_count": 209,
     "metadata": {},
     "output_type": "execute_result"
    }
   ],
   "source": [
    "arr2.transpose([1,0])#转置"
   ]
  },
  {
   "cell_type": "markdown",
   "id": "b7c9f169",
   "metadata": {},
   "source": [
    "`arr2.transpose([1, 0])` 会对二维数组 `arr2` 进行转置操作，将其行和列进行交换。参数 `[1, 0]` 指定了新的轴顺序：原来的第 1 轴（列）变为第 0 轴（行），原来的第 0 轴（行）变为第 1 轴（列）。这等价于 `arr2.T`，常用于矩阵运算或数据格式转换。"
   ]
  }
 ],
 "metadata": {
  "kernelspec": {
   "display_name": ".venv",
   "language": "python",
   "name": "python3"
  },
  "language_info": {
   "codemirror_mode": {
    "name": "ipython",
    "version": 3
   },
   "file_extension": ".py",
   "mimetype": "text/x-python",
   "name": "python",
   "nbconvert_exporter": "python",
   "pygments_lexer": "ipython3",
   "version": "3.11.2"
  }
 },
 "nbformat": 4,
 "nbformat_minor": 5
}
