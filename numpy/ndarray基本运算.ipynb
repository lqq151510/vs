{
 "cells": [
  {
   "cell_type": "code",
   "execution_count": 128,
   "id": "75089dc1",
   "metadata": {},
   "outputs": [
    {
     "data": {
      "text/plain": [
       "array([0.50189669, 0.28370277, 0.21805212, 0.3221231 , 0.2499655 ,\n",
       "       0.81415029, 0.25372695, 0.60024864, 0.96993277, 0.4215054 ])"
      ]
     },
     "execution_count": 128,
     "metadata": {},
     "output_type": "execute_result"
    }
   ],
   "source": [
    "import numpy as np\n",
    "arr=np.random.random(10)\n",
    "arr"
   ]
  },
  {
   "cell_type": "code",
   "execution_count": 129,
   "id": "e97fdf6c",
   "metadata": {},
   "outputs": [
    {
     "data": {
      "text/plain": [
       "array([9, 4, 8, 5, 9, 8, 4, 4, 2, 2])"
      ]
     },
     "execution_count": 129,
     "metadata": {},
     "output_type": "execute_result"
    }
   ],
   "source": [
    "arr2=np.random.randint(0,10,size=10)\n",
    "arr2"
   ]
  },
  {
   "cell_type": "code",
   "execution_count": 130,
   "id": "15e63aab",
   "metadata": {},
   "outputs": [
    {
     "data": {
      "text/plain": [
       "array([9.50189669, 4.28370277, 8.21805212, 5.3221231 , 9.2499655 ,\n",
       "       8.81415029, 4.25372695, 4.60024864, 2.96993277, 2.4215054 ])"
      ]
     },
     "execution_count": 130,
     "metadata": {},
     "output_type": "execute_result"
    }
   ],
   "source": [
    "arr+arr2"
   ]
  },
  {
   "cell_type": "code",
   "execution_count": 131,
   "id": "1f8a180a",
   "metadata": {},
   "outputs": [
    {
     "data": {
      "text/plain": [
       "array([[0.79888894, 0.99813596, 0.4889166 ],\n",
       "       [0.33623932, 0.07202599, 0.0599452 ],\n",
       "       [0.05748991, 0.21357428, 0.16955739]])"
      ]
     },
     "metadata": {},
     "output_type": "display_data"
    },
    {
     "data": {
      "text/plain": [
       "array([[6, 9, 9],\n",
       "       [2, 4, 7],\n",
       "       [2, 7, 4]])"
      ]
     },
     "metadata": {},
     "output_type": "display_data"
    }
   ],
   "source": [
    "arr2=np.random.randint(0,10,size=(3,3))\n",
    "arr1=np.random.random(size=(3,3))\n",
    "display(arr1,arr2)\n"
   ]
  },
  {
   "cell_type": "code",
   "execution_count": 132,
   "id": "e309ab3b",
   "metadata": {},
   "outputs": [
    {
     "data": {
      "text/plain": [
       "array([[6.79888894, 9.99813596, 9.4889166 ],\n",
       "       [2.33623932, 4.07202599, 7.0599452 ],\n",
       "       [2.05748991, 7.21357428, 4.16955739]])"
      ]
     },
     "execution_count": 132,
     "metadata": {},
     "output_type": "execute_result"
    }
   ],
   "source": [
    "arr1+arr2"
   ]
  },
  {
   "cell_type": "code",
   "execution_count": 133,
   "id": "e90a301c",
   "metadata": {},
   "outputs": [
    {
     "data": {
      "text/plain": [
       "array([[ True,  True,  True],\n",
       "       [False, False,  True],\n",
       "       [False,  True, False]])"
      ]
     },
     "execution_count": 133,
     "metadata": {},
     "output_type": "execute_result"
    }
   ],
   "source": [
    "arr2>5#广播机制"
   ]
  },
  {
   "cell_type": "code",
   "execution_count": 134,
   "id": "063f085e",
   "metadata": {},
   "outputs": [
    {
     "data": {
      "text/plain": [
       "array([[1., 1., 1.],\n",
       "       [1., 1., 1.]])"
      ]
     },
     "metadata": {},
     "output_type": "display_data"
    },
    {
     "data": {
      "text/plain": [
       "array([0, 1, 2])"
      ]
     },
     "metadata": {},
     "output_type": "display_data"
    }
   ],
   "source": [
    "a=np.ones((2,3))\n",
    "b=np.arange(3)\n",
    "display(a,b)"
   ]
  },
  {
   "cell_type": "code",
   "execution_count": 135,
   "id": "3e34fcde",
   "metadata": {},
   "outputs": [
    {
     "data": {
      "text/plain": [
       "array([[1., 2., 3.],\n",
       "       [1., 2., 3.]])"
      ]
     },
     "execution_count": 135,
     "metadata": {},
     "output_type": "execute_result"
    }
   ],
   "source": [
    "a+b"
   ]
  },
  {
   "cell_type": "code",
   "execution_count": 136,
   "id": "a11c395c",
   "metadata": {},
   "outputs": [
    {
     "data": {
      "text/plain": [
       "array([[[1., 1.],\n",
       "        [1., 1.],\n",
       "        [1., 1.]],\n",
       "\n",
       "       [[1., 1.],\n",
       "        [1., 1.],\n",
       "        [1., 1.]],\n",
       "\n",
       "       [[1., 1.],\n",
       "        [1., 1.],\n",
       "        [1., 1.]],\n",
       "\n",
       "       [[1., 1.],\n",
       "        [1., 1.],\n",
       "        [1., 1.]]])"
      ]
     },
     "metadata": {},
     "output_type": "display_data"
    },
    {
     "data": {
      "text/plain": [
       "array([[9, 7],\n",
       "       [3, 9],\n",
       "       [0, 8]])"
      ]
     },
     "metadata": {},
     "output_type": "display_data"
    }
   ],
   "source": [
    "a=np.ones((4,3,2))\n",
    "b=np.random.randint(0,10,size=(3,2))\n",
    "display(a,b)"
   ]
  },
  {
   "cell_type": "code",
   "execution_count": 137,
   "id": "c1decbc8",
   "metadata": {},
   "outputs": [
    {
     "data": {
      "text/plain": [
       "array([[[10.,  8.],\n",
       "        [ 4., 10.],\n",
       "        [ 1.,  9.]],\n",
       "\n",
       "       [[10.,  8.],\n",
       "        [ 4., 10.],\n",
       "        [ 1.,  9.]],\n",
       "\n",
       "       [[10.,  8.],\n",
       "        [ 4., 10.],\n",
       "        [ 1.,  9.]],\n",
       "\n",
       "       [[10.,  8.],\n",
       "        [ 4., 10.],\n",
       "        [ 1.,  9.]]])"
      ]
     },
     "execution_count": 137,
     "metadata": {},
     "output_type": "execute_result"
    }
   ],
   "source": [
    "a+b"
   ]
  },
  {
   "cell_type": "code",
   "execution_count": 138,
   "id": "0b4be55b",
   "metadata": {},
   "outputs": [
    {
     "data": {
      "text/plain": [
       "array([[0],\n",
       "       [1],\n",
       "       [2]])"
      ]
     },
     "metadata": {},
     "output_type": "display_data"
    },
    {
     "data": {
      "text/plain": [
       "array([0, 1, 2])"
      ]
     },
     "metadata": {},
     "output_type": "display_data"
    }
   ],
   "source": [
    "a=np.arange(3).reshape((3,1))\n",
    "b=np.arange(3)\n",
    "display(a,b)"
   ]
  },
  {
   "cell_type": "code",
   "execution_count": 139,
   "id": "6d324782",
   "metadata": {},
   "outputs": [
    {
     "data": {
      "text/plain": [
       "array([[0, 1, 2],\n",
       "       [1, 2, 3],\n",
       "       [2, 3, 4]])"
      ]
     },
     "execution_count": 139,
     "metadata": {},
     "output_type": "execute_result"
    }
   ],
   "source": [
    "a+b"
   ]
  },
  {
   "cell_type": "markdown",
   "id": "9ed3a624",
   "metadata": {},
   "source": [
    "### 广播机制示例\n",
    "在 `a+b` 中，`a` 是一个形状为 `(3,1)` 的二维数组，`b` 是一个形状为 `(3,)` 的一维数组。\n",
    "通过 NumPy 的广播机制，`b` 的形状会被扩展为 `(3,1)`，然后与 `a` 逐元素相加。\n",
    "广播机制允许形状不同的数组进行运算，只要它们在维度上是兼容的。"
   ]
  },
  {
   "cell_type": "code",
   "execution_count": 140,
   "id": "de6c27d0",
   "metadata": {},
   "outputs": [
    {
     "data": {
      "text/plain": [
       "array([[1],\n",
       "       [2],\n",
       "       [3]])"
      ]
     },
     "execution_count": 140,
     "metadata": {},
     "output_type": "execute_result"
    }
   ],
   "source": [
    "a+1"
   ]
  }
 ],
 "metadata": {
  "kernelspec": {
   "display_name": ".venv",
   "language": "python",
   "name": "python3"
  },
  "language_info": {
   "codemirror_mode": {
    "name": "ipython",
    "version": 3
   },
   "file_extension": ".py",
   "mimetype": "text/x-python",
   "name": "python",
   "nbconvert_exporter": "python",
   "pygments_lexer": "ipython3",
   "version": "3.11.2"
  }
 },
 "nbformat": 4,
 "nbformat_minor": 5
}
