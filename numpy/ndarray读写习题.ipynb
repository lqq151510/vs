{
 "cells": [
  {
   "cell_type": "code",
   "execution_count": 35,
   "id": "587b8dca",
   "metadata": {},
   "outputs": [],
   "source": [
    "import numpy as np"
   ]
  },
  {
   "cell_type": "code",
   "execution_count": 36,
   "id": "42079585",
   "metadata": {},
   "outputs": [
    {
     "data": {
      "text/plain": [
       "array([0.72417411, 0.28686282, 0.99390308, 0.68235972, 0.26454106,\n",
       "       0.54359426, 0.11138331, 0.63429197, 0.32954026, 0.05573902])"
      ]
     },
     "execution_count": 36,
     "metadata": {},
     "output_type": "execute_result"
    }
   ],
   "source": [
    "np.random.random(size=10)[::-1]"
   ]
  },
  {
   "cell_type": "markdown",
   "id": "69ae8259",
   "metadata": {},
   "source": [
    "创建一个长度为10的随机数组，实现逆序输出"
   ]
  },
  {
   "cell_type": "code",
   "execution_count": 37,
   "id": "574f194d",
   "metadata": {},
   "outputs": [
    {
     "data": {
      "text/plain": [
       "array([[66, 39, 74,  4],\n",
       "       [36, 66, 95, 39],\n",
       "       [55, 87,  3, 31],\n",
       "       [47, 69, 24, 73],\n",
       "       [66, 44, 89, 36]])"
      ]
     },
     "metadata": {},
     "output_type": "display_data"
    }
   ],
   "source": [
    "data2=np.random.randint(0,100,size=(5,4))\n",
    "display(data2)\n"
   ]
  },
  {
   "cell_type": "code",
   "execution_count": 38,
   "id": "4cd6e1e9",
   "metadata": {},
   "outputs": [
    {
     "data": {
      "text/plain": [
       "array([[74,  4],\n",
       "       [95, 39],\n",
       "       [ 3, 31],\n",
       "       [24, 73],\n",
       "       [89, 36]])"
      ]
     },
     "execution_count": 38,
     "metadata": {},
     "output_type": "execute_result"
    }
   ],
   "source": [
    "data2[:,[-2,-1]]"
   ]
  },
  {
   "cell_type": "code",
   "execution_count": 39,
   "id": "8c0c1c2c",
   "metadata": {},
   "outputs": [
    {
     "data": {
      "text/plain": [
       "array([[74,  4],\n",
       "       [95, 39],\n",
       "       [ 3, 31],\n",
       "       [24, 73],\n",
       "       [89, 36]])"
      ]
     },
     "execution_count": 39,
     "metadata": {},
     "output_type": "execute_result"
    }
   ],
   "source": [
    "data2[:,-2:]"
   ]
  },
  {
   "cell_type": "code",
   "execution_count": 40,
   "id": "3e0fde26",
   "metadata": {},
   "outputs": [
    {
     "data": {
      "text/plain": [
       "array([[74,  4],\n",
       "       [95, 39],\n",
       "       [ 3, 31],\n",
       "       [24, 73],\n",
       "       [89, 36]])"
      ]
     },
     "execution_count": 40,
     "metadata": {},
     "output_type": "execute_result"
    }
   ],
   "source": [
    "data2[:,[False,False,True,True]]"
   ]
  },
  {
   "cell_type": "markdown",
   "id": "fd8fc9c4",
   "metadata": {},
   "source": [
    "构造一个形状（5,4）的二维数组,提取最后两列，使用3种方法"
   ]
  }
 ],
 "metadata": {
  "kernelspec": {
   "display_name": ".venv",
   "language": "python",
   "name": "python3"
  },
  "language_info": {
   "codemirror_mode": {
    "name": "ipython",
    "version": 3
   },
   "file_extension": ".py",
   "mimetype": "text/x-python",
   "name": "python",
   "nbconvert_exporter": "python",
   "pygments_lexer": "ipython3",
   "version": "3.11.2"
  }
 },
 "nbformat": 4,
 "nbformat_minor": 5
}
