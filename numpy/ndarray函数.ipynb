{
 "cells": [
  {
   "cell_type": "code",
   "execution_count": 3,
   "id": "9ba5cd90",
   "metadata": {},
   "outputs": [],
   "source": [
    "import numpy as np\n"
   ]
  },
  {
   "cell_type": "code",
   "execution_count": 4,
   "id": "0bb311be",
   "metadata": {},
   "outputs": [
    {
     "data": {
      "text/plain": [
       "array([0.6393795 , 0.2471234 , 0.95443112, 0.43133271, 0.58303563,\n",
       "       0.2841335 , 0.67986505, 0.95527712, 0.5679872 , 0.93323294])"
      ]
     },
     "execution_count": 4,
     "metadata": {},
     "output_type": "execute_result"
    }
   ],
   "source": [
    "np.random.random(size=10)"
   ]
  },
  {
   "cell_type": "code",
   "execution_count": 5,
   "id": "14b171d9",
   "metadata": {},
   "outputs": [
    {
     "data": {
      "text/plain": [
       "1.0"
      ]
     },
     "execution_count": 5,
     "metadata": {},
     "output_type": "execute_result"
    }
   ],
   "source": [
    "np.sign(np.pi)"
   ]
  },
  {
   "cell_type": "markdown",
   "id": "cbbaa65e",
   "metadata": {},
   "source": [
    "`np.sign(np.pi)` 用于判断 `np.pi`（即圆周率 π，约等于 3.14159）的符号。`np.sign` 函数会返回：\n",
    "\n",
    "- 1，如果输入为正数\n",
    "- 0，如果输入为零\n",
    "- -1，如果输入为负数\n",
    "\n",
    "由于 π 是正数，因此 `np.sign(np.pi)` 的结果为 1。"
   ]
  }
 ],
 "metadata": {
  "kernelspec": {
   "display_name": ".venv",
   "language": "python",
   "name": "python3"
  },
  "language_info": {
   "codemirror_mode": {
    "name": "ipython",
    "version": 3
   },
   "file_extension": ".py",
   "mimetype": "text/x-python",
   "name": "python",
   "nbconvert_exporter": "python",
   "pygments_lexer": "ipython3",
   "version": "3.11.2"
  }
 },
 "nbformat": 4,
 "nbformat_minor": 5
}
