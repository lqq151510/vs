{
 "cells": [
  {
   "cell_type": "code",
   "execution_count": 20,
   "id": "9ba5cd90",
   "metadata": {},
   "outputs": [],
   "source": [
    "import numpy as np\n"
   ]
  },
  {
   "cell_type": "code",
   "execution_count": 21,
   "id": "1020b861",
   "metadata": {},
   "outputs": [
    {
     "data": {
      "text/plain": [
       "3.141592653589793"
      ]
     },
     "execution_count": 21,
     "metadata": {},
     "output_type": "execute_result"
    }
   ],
   "source": [
    "np.pi"
   ]
  },
  {
   "cell_type": "code",
   "execution_count": 22,
   "id": "0bb311be",
   "metadata": {},
   "outputs": [],
   "source": [
    "data=np.random.random(size=10)*2*np.pi-np.pi#-pi_+pi"
   ]
  },
  {
   "cell_type": "code",
   "execution_count": 23,
   "id": "14b171d9",
   "metadata": {},
   "outputs": [
    {
     "data": {
      "text/plain": [
       "array([-1.,  1., -1., -1., -1.,  1.,  1., -1., -1.,  1.])"
      ]
     },
     "execution_count": 23,
     "metadata": {},
     "output_type": "execute_result"
    }
   ],
   "source": [
    "np.sign(data)"
   ]
  },
  {
   "cell_type": "markdown",
   "id": "cbbaa65e",
   "metadata": {},
   "source": [
    "`np.sign(np.pi)` 用于判断 `np.pi`（即圆周率 π，约等于 3.14159）的符号。`np.sign` 函数会返回：\n",
    "\n",
    "- 1，如果输入为正数\n",
    "- 0，如果输入为零\n",
    "- -1，如果输入为负数\n",
    "\n",
    "由于 π 是正数，因此 `np.sign(np.pi)` 的结果为 1。"
   ]
  },
  {
   "cell_type": "code",
   "execution_count": 24,
   "id": "e3953d7a",
   "metadata": {},
   "outputs": [
    {
     "data": {
      "text/plain": [
       "array([-0.95131083,  0.94838813, -0.37795656, -0.98461313, -0.06589221,\n",
       "        0.0867445 ,  0.64310576, -0.76692197, -0.14287256,  0.3294244 ])"
      ]
     },
     "execution_count": 24,
     "metadata": {},
     "output_type": "execute_result"
    }
   ],
   "source": [
    "np.sin(data)"
   ]
  },
  {
   "cell_type": "code",
   "execution_count": 25,
   "id": "69ccf690",
   "metadata": {},
   "outputs": [
    {
     "data": {
      "text/plain": [
       "(0.8939966636005579, 1.0)"
      ]
     },
     "execution_count": 25,
     "metadata": {},
     "output_type": "execute_result"
    }
   ],
   "source": [
    "np.sin(90),np.sin(np.pi/2)#用弧度"
   ]
  },
  {
   "cell_type": "code",
   "execution_count": 26,
   "id": "c381a992",
   "metadata": {},
   "outputs": [],
   "source": [
    "data=np.random.random(size=10)"
   ]
  },
  {
   "cell_type": "code",
   "execution_count": 27,
   "id": "0f1721f5",
   "metadata": {},
   "outputs": [
    {
     "data": {
      "text/plain": [
       "array([0.42 , 0.43 , 0.398, 0.888, 0.396, 0.081, 0.954, 0.944, 0.328,\n",
       "       0.228])"
      ]
     },
     "execution_count": 27,
     "metadata": {},
     "output_type": "execute_result"
    }
   ],
   "source": [
    "np.around(data,3)#保留3位小数"
   ]
  },
  {
   "cell_type": "code",
   "execution_count": 28,
   "id": "bde77d6e",
   "metadata": {},
   "outputs": [],
   "source": [
    "a1=np.random.randint(0,10,size=(5,3))\n",
    "b1=np.random.randint(0,10,size=3)"
   ]
  },
  {
   "cell_type": "code",
   "execution_count": 29,
   "id": "bae630b2",
   "metadata": {},
   "outputs": [
    {
     "data": {
      "text/plain": [
       "array([[10, 10, 13],\n",
       "       [10, 11, 11],\n",
       "       [ 6, 11, 12],\n",
       "       [ 9, 15, 10],\n",
       "       [10, 12,  7]])"
      ]
     },
     "execution_count": 29,
     "metadata": {},
     "output_type": "execute_result"
    }
   ],
   "source": [
    "np.add(a1, b1)"
   ]
  },
  {
   "cell_type": "code",
   "execution_count": 30,
   "id": "f3449178",
   "metadata": {},
   "outputs": [
    {
     "data": {
      "text/plain": [
       "9"
      ]
     },
     "execution_count": 30,
     "metadata": {},
     "output_type": "execute_result"
    }
   ],
   "source": [
    "np.power(3,2)"
   ]
  },
  {
   "cell_type": "code",
   "execution_count": 31,
   "id": "f881cb03",
   "metadata": {},
   "outputs": [
    {
     "data": {
      "text/plain": [
       "array([4, 2, 2, 0, 9])"
      ]
     },
     "execution_count": 31,
     "metadata": {},
     "output_type": "execute_result"
    }
   ],
   "source": [
    "data=np.random.randint(0,10,size=5)\n",
    "data"
   ]
  },
  {
   "cell_type": "code",
   "execution_count": 32,
   "id": "0f399db3",
   "metadata": {},
   "outputs": [],
   "source": [
    "data_s=np.power(data,2)\n"
   ]
  },
  {
   "cell_type": "code",
   "execution_count": 33,
   "id": "de8b2a1f",
   "metadata": {},
   "outputs": [
    {
     "data": {
      "text/plain": [
       "array([4., 2., 2., 0., 9.])"
      ]
     },
     "execution_count": 33,
     "metadata": {},
     "output_type": "execute_result"
    }
   ],
   "source": [
    "np.power(data_s,1/2)"
   ]
  },
  {
   "cell_type": "code",
   "execution_count": 34,
   "id": "bca8c1cf",
   "metadata": {},
   "outputs": [
    {
     "data": {
      "text/plain": [
       "1"
      ]
     },
     "execution_count": 34,
     "metadata": {},
     "output_type": "execute_result"
    }
   ],
   "source": [
    "np.mod(5,2)#余数"
   ]
  },
  {
   "cell_type": "code",
   "execution_count": 35,
   "id": "72140709",
   "metadata": {},
   "outputs": [
    {
     "data": {
      "text/plain": [
       "array([0, 0, 0, 0, 1])"
      ]
     },
     "execution_count": 35,
     "metadata": {},
     "output_type": "execute_result"
    }
   ],
   "source": [
    "np.mod(data,2)"
   ]
  },
  {
   "cell_type": "code",
   "execution_count": 36,
   "id": "5e8854a9",
   "metadata": {},
   "outputs": [
    {
     "data": {
      "text/plain": [
       "2.718281828459045"
      ]
     },
     "execution_count": 36,
     "metadata": {},
     "output_type": "execute_result"
    }
   ],
   "source": [
    "np.e"
   ]
  },
  {
   "cell_type": "code",
   "execution_count": 37,
   "id": "e95bec42",
   "metadata": {},
   "outputs": [
    {
     "data": {
      "text/plain": [
       "2.0"
      ]
     },
     "execution_count": 37,
     "metadata": {},
     "output_type": "execute_result"
    }
   ],
   "source": [
    "np.log10(100)"
   ]
  }
 ],
 "metadata": {
  "kernelspec": {
   "display_name": ".venv",
   "language": "python",
   "name": "python3"
  },
  "language_info": {
   "codemirror_mode": {
    "name": "ipython",
    "version": 3
   },
   "file_extension": ".py",
   "mimetype": "text/x-python",
   "name": "python",
   "nbconvert_exporter": "python",
   "pygments_lexer": "ipython3",
   "version": "3.11.2"
  }
 },
 "nbformat": 4,
 "nbformat_minor": 5
}
