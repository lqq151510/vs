{
 "cells": [
  {
   "cell_type": "code",
   "execution_count": 144,
   "id": "74fa1778",
   "metadata": {},
   "outputs": [],
   "source": [
    "import numpy as np\n",
    "import matplotlib.pyplot as plt"
   ]
  },
  {
   "cell_type": "markdown",
   "id": "43db9262",
   "metadata": {},
   "source": [
    "ndarray"
   ]
  },
  {
   "cell_type": "code",
   "execution_count": 145,
   "id": "cee43bdf",
   "metadata": {},
   "outputs": [
    {
     "data": {
      "text/plain": [
       "array([[1, 2],\n",
       "       [3, 4]])"
      ]
     },
     "execution_count": 145,
     "metadata": {},
     "output_type": "execute_result"
    }
   ],
   "source": [
    "score=np.array([[1,2],[3,4]])\n",
    "score"
   ]
  },
  {
   "cell_type": "markdown",
   "id": "8f829e94",
   "metadata": {},
   "source": [
    "属性"
   ]
  },
  {
   "cell_type": "code",
   "execution_count": 146,
   "id": "1cb0eddc",
   "metadata": {},
   "outputs": [],
   "source": [
    "a = np.array([[1, 2, 3], [4, 5, 6]])\n",
    "b = np.array([1, 2, 3, 4])\n",
    "c = np.array([[[1, 2, 3], [4, 5, 6]], [[7, 8, 9], [10, 11, 12]]])"
   ]
  },
  {
   "cell_type": "markdown",
   "id": "c91c0137",
   "metadata": {},
   "source": [
    "形状"
   ]
  },
  {
   "cell_type": "code",
   "execution_count": 147,
   "id": "c5a563f4",
   "metadata": {},
   "outputs": [
    {
     "data": {
      "text/plain": [
       "(2, 3)"
      ]
     },
     "execution_count": 147,
     "metadata": {},
     "output_type": "execute_result"
    }
   ],
   "source": [
    "a.shape\n"
   ]
  },
  {
   "cell_type": "code",
   "execution_count": 148,
   "id": "291b23de",
   "metadata": {},
   "outputs": [
    {
     "data": {
      "text/plain": [
       "(4,)"
      ]
     },
     "execution_count": 148,
     "metadata": {},
     "output_type": "execute_result"
    }
   ],
   "source": [
    "b.shape\n"
   ]
  },
  {
   "cell_type": "code",
   "execution_count": 149,
   "id": "e08a81a0",
   "metadata": {},
   "outputs": [
    {
     "data": {
      "text/plain": [
       "(2, 2, 3)"
      ]
     },
     "execution_count": 149,
     "metadata": {},
     "output_type": "execute_result"
    }
   ],
   "source": [
    "c.shape"
   ]
  },
  {
   "cell_type": "markdown",
   "id": "bf682b10",
   "metadata": {},
   "source": [
    "维度"
   ]
  },
  {
   "cell_type": "code",
   "execution_count": 150,
   "id": "a70d1287",
   "metadata": {},
   "outputs": [
    {
     "data": {
      "text/plain": [
       "2"
      ]
     },
     "execution_count": 150,
     "metadata": {},
     "output_type": "execute_result"
    }
   ],
   "source": [
    "a.ndim"
   ]
  },
  {
   "cell_type": "markdown",
   "id": "a33da9b7",
   "metadata": {},
   "source": [
    "元素数量"
   ]
  },
  {
   "cell_type": "code",
   "execution_count": 151,
   "id": "33ecbdbd",
   "metadata": {},
   "outputs": [
    {
     "data": {
      "text/plain": [
       "6"
      ]
     },
     "execution_count": 151,
     "metadata": {},
     "output_type": "execute_result"
    }
   ],
   "source": [
    "a.size"
   ]
  },
  {
   "cell_type": "markdown",
   "id": "c89fe6eb",
   "metadata": {},
   "source": [
    "一个数组元素的长度"
   ]
  },
  {
   "cell_type": "code",
   "execution_count": 152,
   "id": "bc57dd71",
   "metadata": {},
   "outputs": [
    {
     "data": {
      "text/plain": [
       "8"
      ]
     },
     "execution_count": 152,
     "metadata": {},
     "output_type": "execute_result"
    }
   ],
   "source": [
    "a.itemsize"
   ]
  },
  {
   "cell_type": "markdown",
   "id": "f3306f34",
   "metadata": {},
   "source": [
    "数组元素类型"
   ]
  },
  {
   "cell_type": "code",
   "execution_count": 153,
   "id": "4c7761be",
   "metadata": {},
   "outputs": [
    {
     "data": {
      "text/plain": [
       "dtype('int64')"
      ]
     },
     "execution_count": 153,
     "metadata": {},
     "output_type": "execute_result"
    }
   ],
   "source": [
    "a.dtype"
   ]
  },
  {
   "cell_type": "code",
   "execution_count": 154,
   "id": "89cc49de",
   "metadata": {},
   "outputs": [
    {
     "data": {
      "text/plain": [
       "dtype('int64')"
      ]
     },
     "execution_count": 154,
     "metadata": {},
     "output_type": "execute_result"
    }
   ],
   "source": [
    "b.dtype"
   ]
  },
  {
   "cell_type": "code",
   "execution_count": 155,
   "id": "b02bf958",
   "metadata": {},
   "outputs": [
    {
     "data": {
      "text/plain": [
       "array([1., 2., 3., 4.], dtype=float32)"
      ]
     },
     "execution_count": 155,
     "metadata": {},
     "output_type": "execute_result"
    }
   ],
   "source": [
    "b = np.array([1, 2, 3, 4],dtype=np.float32)\n",
    "b"
   ]
  },
  {
   "cell_type": "code",
   "execution_count": 156,
   "id": "2c3a24d4",
   "metadata": {},
   "outputs": [
    {
     "data": {
      "text/plain": [
       "array([b'python', b'i', b'love'], dtype='|S6')"
      ]
     },
     "execution_count": 156,
     "metadata": {},
     "output_type": "execute_result"
    }
   ],
   "source": [
    "arr=np.array(['python','i','love'],dtype=np.string_)#输出最长字符个数\n",
    "arr"
   ]
  },
  {
   "cell_type": "markdown",
   "id": "a0f86c51",
   "metadata": {},
   "source": [
    "生成0,1数组"
   ]
  },
  {
   "cell_type": "code",
   "execution_count": 157,
   "id": "37db3fec",
   "metadata": {},
   "outputs": [
    {
     "data": {
      "text/plain": [
       "array([[1., 1., 1., 1., 1., 1., 1., 1.],\n",
       "       [1., 1., 1., 1., 1., 1., 1., 1.],\n",
       "       [1., 1., 1., 1., 1., 1., 1., 1.],\n",
       "       [1., 1., 1., 1., 1., 1., 1., 1.]])"
      ]
     },
     "execution_count": 157,
     "metadata": {},
     "output_type": "execute_result"
    }
   ],
   "source": [
    "one=np.ones([4,8])\n",
    "one"
   ]
  },
  {
   "cell_type": "code",
   "execution_count": 158,
   "id": "fa8ba473",
   "metadata": {},
   "outputs": [
    {
     "data": {
      "text/plain": [
       "array([[0., 0., 0., 0., 0., 0., 0., 0.],\n",
       "       [0., 0., 0., 0., 0., 0., 0., 0.],\n",
       "       [0., 0., 0., 0., 0., 0., 0., 0.],\n",
       "       [0., 0., 0., 0., 0., 0., 0., 0.]])"
      ]
     },
     "execution_count": 158,
     "metadata": {},
     "output_type": "execute_result"
    }
   ],
   "source": [
    "np.zeros_like(one)"
   ]
  },
  {
   "cell_type": "markdown",
   "id": "87f9989d",
   "metadata": {},
   "source": [
    "`np.zeros_like(one)` 函数会创建一个与 `one` 数组具有相同形状和数据类型的新数组，但所有元素都初始化为零。这在需要一个与现有数组结构相同但所有元素都为零的数组时非常有用。例如，如果 `one` 是一个 4x8 的浮点数数组，那么结果数组也将是一个 4x8 的浮点数数组，但所有值都设置为 0。"
   ]
  },
  {
   "cell_type": "code",
   "execution_count": 159,
   "id": "c618b804",
   "metadata": {},
   "outputs": [
    {
     "data": {
      "text/plain": [
       "array([[0., 0., 0., 0., 0., 0., 0., 0.],\n",
       "       [0., 0., 0., 0., 0., 0., 0., 0.],\n",
       "       [0., 0., 0., 0., 0., 0., 0., 0.],\n",
       "       [0., 0., 0., 0., 0., 0., 0., 0.]])"
      ]
     },
     "execution_count": 159,
     "metadata": {},
     "output_type": "execute_result"
    }
   ],
   "source": [
    "np.zeros([4,8])"
   ]
  },
  {
   "cell_type": "markdown",
   "id": "d57e2269",
   "metadata": {},
   "source": [
    "从现在数组生成"
   ]
  },
  {
   "cell_type": "code",
   "execution_count": 160,
   "id": "e6833118",
   "metadata": {},
   "outputs": [
    {
     "data": {
      "text/plain": [
       "array([[1, 2, 3],\n",
       "       [4, 5, 6]])"
      ]
     },
     "execution_count": 160,
     "metadata": {},
     "output_type": "execute_result"
    }
   ],
   "source": [
    "a=np.array([[1,2,3],[4,5,6]])\n",
    "a"
   ]
  },
  {
   "cell_type": "code",
   "execution_count": 161,
   "id": "6857d69f",
   "metadata": {},
   "outputs": [
    {
     "data": {
      "text/plain": [
       "array([[1, 2, 3],\n",
       "       [4, 5, 6]])"
      ]
     },
     "execution_count": 161,
     "metadata": {},
     "output_type": "execute_result"
    }
   ],
   "source": [
    "a1=np.array(a)#浅拷贝\n",
    "a1"
   ]
  },
  {
   "cell_type": "code",
   "execution_count": 162,
   "id": "10cfa7d3",
   "metadata": {},
   "outputs": [
    {
     "data": {
      "text/plain": [
       "array([[1, 2, 3],\n",
       "       [4, 5, 6]])"
      ]
     },
     "execution_count": 162,
     "metadata": {},
     "output_type": "execute_result"
    }
   ],
   "source": [
    "a2=np.asarray(a)#深拷贝\n",
    "a2"
   ]
  },
  {
   "cell_type": "code",
   "execution_count": 163,
   "id": "87ae5222",
   "metadata": {},
   "outputs": [
    {
     "data": {
      "text/plain": [
       "array([[1000,    2,    3],\n",
       "       [   4,    5,    6]])"
      ]
     },
     "execution_count": 163,
     "metadata": {},
     "output_type": "execute_result"
    }
   ],
   "source": [
    "a[0,0]=1000\n",
    "a"
   ]
  },
  {
   "cell_type": "code",
   "execution_count": 164,
   "id": "cd60685d",
   "metadata": {},
   "outputs": [
    {
     "data": {
      "text/plain": [
       "array([[1, 2, 3],\n",
       "       [4, 5, 6]])"
      ]
     },
     "execution_count": 164,
     "metadata": {},
     "output_type": "execute_result"
    }
   ],
   "source": [
    "a1"
   ]
  },
  {
   "cell_type": "code",
   "execution_count": 165,
   "id": "2e5363f9",
   "metadata": {},
   "outputs": [
    {
     "data": {
      "text/plain": [
       "array([[1000,    2,    3],\n",
       "       [   4,    5,    6]])"
      ]
     },
     "execution_count": 165,
     "metadata": {},
     "output_type": "execute_result"
    }
   ],
   "source": [
    "a2"
   ]
  },
  {
   "cell_type": "markdown",
   "id": "7898c12d",
   "metadata": {},
   "source": [
    "生成固定范围的数组"
   ]
  },
  {
   "cell_type": "code",
   "execution_count": 166,
   "id": "c74bb3f0",
   "metadata": {},
   "outputs": [
    {
     "data": {
      "text/plain": [
       "array([  0.,  10.,  20.,  30.,  40.,  50.,  60.,  70.,  80.,  90., 100.])"
      ]
     },
     "execution_count": 166,
     "metadata": {},
     "output_type": "execute_result"
    }
   ],
   "source": [
    "np.linspace(0,100,11)#起始点,终点，样本数"
   ]
  },
  {
   "cell_type": "code",
   "execution_count": 167,
   "id": "36884f64",
   "metadata": {},
   "outputs": [
    {
     "data": {
      "text/plain": [
       "array([10, 12, 14, 16, 18])"
      ]
     },
     "execution_count": 167,
     "metadata": {},
     "output_type": "execute_result"
    }
   ],
   "source": [
    "np.arange(10,20,2)#起始点,终点，步长"
   ]
  },
  {
   "cell_type": "code",
   "execution_count": 168,
   "id": "2a98cf97",
   "metadata": {},
   "outputs": [
    {
     "data": {
      "text/plain": [
       "array([  1.,  10., 100.])"
      ]
     },
     "execution_count": 168,
     "metadata": {},
     "output_type": "execute_result"
    }
   ],
   "source": [
    "np.logspace(0,2,3)#10的x次幂等比数列"
   ]
  },
  {
   "cell_type": "markdown",
   "id": "08ba145a",
   "metadata": {},
   "source": [
    "正态分布"
   ]
  },
  {
   "cell_type": "code",
   "execution_count": 169,
   "id": "2273c58d",
   "metadata": {},
   "outputs": [
    {
     "data": {
      "text/plain": [
       "array([[[ 0.39630232, -1.19097341,  0.58534137],\n",
       "        [-0.03720469, -0.47932811, -0.31580011]]])"
      ]
     },
     "execution_count": 169,
     "metadata": {},
     "output_type": "execute_result"
    }
   ],
   "source": [
    "np.random.randn(1,2,3)"
   ]
  },
  {
   "cell_type": "markdown",
   "id": "bf2d8bda",
   "metadata": {},
   "source": [
    "`np.random.randn(1,2,3)` 生成一个形状为 (1, 2, 3) 的 3 维 NumPy 数组，该数组填充了来自标准正态分布（均值为 0，方差为 1）的随机样本。此函数对于创建具有服从正态分布的随机值的数组非常有用，这通常用于统计建模和模拟。"
   ]
  },
  {
   "cell_type": "code",
   "execution_count": 170,
   "id": "8434bc19",
   "metadata": {},
   "outputs": [],
   "source": [
    "x=np.random.normal(1.75,1,100000000)"
   ]
  },
  {
   "cell_type": "markdown",
   "id": "56cc5dce",
   "metadata": {},
   "source": [
    "`np.random.normal(1.75,1,1000000)` 生成一个包含 1,000,000 个样本的一维 NumPy 数组，这些样本来自均值为 1.75、标准差为 1 的正态（高斯）分布。此函数对于模拟服从正态分布的数据集非常有用，这在许多自然现象和统计分析中很常见。第一个参数指定均值，第二个参数指定标准差，第三个参数指定生成的样本数量。"
   ]
  },
  {
   "cell_type": "code",
   "execution_count": 171,
   "id": "475aa575",
   "metadata": {},
   "outputs": [
    {
     "data": {
      "image/png": "[encoded data removed]",
      "text/plain": [
       "<Figure size 2000x1000 with 1 Axes>"
      ]
     },
     "metadata": {},
     "output_type": "display_data"
    }
   ],
   "source": [
    "plt.figure(figsize=(20,10),dpi=100)\n",
    "plt.hist(x,1000)\n",
    "plt.show()"
   ]
  },
  {
   "cell_type": "markdown",
   "id": "4a3d037f",
   "metadata": {},
   "source": [
    "`plt.hist(x,1000)` 绘制了一个直方图，其中 `x` 是数据数组，`1000` 表示将数据分为 1000 个区间（bins）。直方图用于显示数据的分布情况，每个区间的高度表示该区间内数据点的数量。这在分析数据分布、观察数据集中趋势和离散程度时非常有用。"
   ]
  },
  {
   "cell_type": "code",
   "execution_count": 172,
   "id": "4b0f5033",
   "metadata": {},
   "outputs": [
    {
     "data": {
      "text/plain": [
       "array([[-0.77994033,  0.11804262,  0.17106818, -0.67273379, -0.56621883],\n",
       "       [-0.60683972,  0.15002276,  0.08848087, -1.44667523,  0.65890674],\n",
       "       [-0.47184205,  1.00597946,  0.28770092,  0.59937269,  0.5663585 ],\n",
       "       [-0.45918178, -0.84281965, -1.271558  , -0.17320462, -0.47592614]])"
      ]
     },
     "execution_count": 172,
     "metadata": {},
     "output_type": "execute_result"
    }
   ],
   "source": [
    "x=np.random.normal(0,1,(4,5))\n",
    "x"
   ]
  },
  {
   "cell_type": "markdown",
   "id": "5b94f3a1",
   "metadata": {},
   "source": []
  },
  {
   "cell_type": "markdown",
   "id": "02efbb5a",
   "metadata": {},
   "source": [
    "均匀分布"
   ]
  },
  {
   "cell_type": "code",
   "execution_count": 173,
   "id": "0ef61e32",
   "metadata": {},
   "outputs": [
    {
     "data": {
      "text/plain": [
       "array([[0.22316115, 0.12076591]])"
      ]
     },
     "execution_count": 173,
     "metadata": {},
     "output_type": "execute_result"
    }
   ],
   "source": [
    "np.random.rand(1,2)"
   ]
  },
  {
   "cell_type": "code",
   "execution_count": 174,
   "id": "a6893668",
   "metadata": {},
   "outputs": [
    {
     "data": {
      "text/plain": [
       "array([[-1,  0,  0, -1, -1,  0],\n",
       "       [ 0, -1,  0, -1, -1, -1],\n",
       "       [ 0,  0, -1, -1,  0,  0]])"
      ]
     },
     "execution_count": 174,
     "metadata": {},
     "output_type": "execute_result"
    }
   ],
   "source": [
    "np.random.randint(-1,1,size=(3,6))"
   ]
  },
  {
   "cell_type": "code",
   "execution_count": 175,
   "id": "7180c28a",
   "metadata": {},
   "outputs": [
    {
     "data": {
      "image/png": "[encoded data removed]",
      "text/plain": [
       "<Figure size 2000x800 with 1 Axes>"
      ]
     },
     "metadata": {},
     "output_type": "display_data"
    }
   ],
   "source": [
    "x2=np.random.uniform(-1,1,100000000)\n",
    "plt.figure(figsize=(20,8),dpi=100)\n",
    "plt.hist(x2,10000)\n",
    "plt.show()"
   ]
  },
  {
   "cell_type": "markdown",
   "id": "c197c11d",
   "metadata": {},
   "source": [
    "`plt.hist(x2,1000)` 绘制了一个直方图，其中 `x2` 是数据数组，`1000` 表示将数据分为 1000 个区间（bins）。\n",
    "直方图用于显示数据的分布情况，每个区间的高度表示该区间内数据点的数量。\n",
    "这在分析数据分布、观察数据集中趋势和离散程度时非常有用。"
   ]
  },
  {
   "cell_type": "markdown",
   "id": "c40af4b7",
   "metadata": {},
   "source": [
    "`np.random.uniform` 和 `np.random.randint` 的主要区别在于生成的随机数类型和范围：\n",
    "\n",
    "1. **`np.random.uniform`**: 生成均匀分布的浮点数。\n",
    "   - 参数：`low`（下界，默认 0），`high`（上界，默认 1），`size`（输出数组的形状）。\n",
    "   - 返回值：在 `[low, high)` 范围内均匀分布的浮点数。\n",
    "   - 示例：`np.random.uniform(-1, 1, size=(3, 6))` 生成一个 3x6 的数组，元素为 -1 到 1 之间的浮点数。\n",
    "\n",
    "2. **`np.random.randint`**: 生成均匀分布的整数。\n",
    "   - 参数：`low`（下界），`high`（上界，非包含），`size`（输出数组的形状）。\n",
    "   - 返回值：在 `[low, high)` 范围内均匀分布的整数。\n",
    "   - 示例：`np.random.randint(-1, 1, size=(3, 6))` 生成一个 3x6 的数组，元素为 -1 到 0 之间的整数（不包含 1）。\n",
    "\n",
    "总结：`uniform` 用于生成浮点数，`randint` 用于生成整数。"
   ]
  },
  {
   "cell_type": "markdown",
   "id": "9064eb0f",
   "metadata": {},
   "source": [
    "索引"
   ]
  },
  {
   "cell_type": "code",
   "execution_count": 176,
   "id": "829d8b79",
   "metadata": {},
   "outputs": [
    {
     "data": {
      "text/plain": [
       "array([[-0.77994033,  0.11804262,  0.17106818, -0.67273379, -0.56621883],\n",
       "       [-0.60683972,  0.15002276,  0.08848087, -1.44667523,  0.65890674],\n",
       "       [-0.47184205,  1.00597946,  0.28770092,  0.59937269,  0.5663585 ],\n",
       "       [-0.45918178, -0.84281965, -1.271558  , -0.17320462, -0.47592614]])"
      ]
     },
     "execution_count": 176,
     "metadata": {},
     "output_type": "execute_result"
    }
   ],
   "source": [
    "x"
   ]
  },
  {
   "cell_type": "code",
   "execution_count": 177,
   "id": "5cb8c4eb",
   "metadata": {},
   "outputs": [
    {
     "data": {
      "text/plain": [
       "array([-0.77994033,  0.11804262,  0.17106818])"
      ]
     },
     "execution_count": 177,
     "metadata": {},
     "output_type": "execute_result"
    }
   ],
   "source": [
    "x[0,0:3]"
   ]
  },
  {
   "cell_type": "code",
   "execution_count": 178,
   "id": "a79ec899",
   "metadata": {},
   "outputs": [
    {
     "data": {
      "text/plain": [
       "array([[[ 1,  2,  3],\n",
       "        [ 4,  5,  6]],\n",
       "\n",
       "       [[12, 13, 14],\n",
       "        [ 5,  6,  7]]])"
      ]
     },
     "execution_count": 178,
     "metadata": {},
     "output_type": "execute_result"
    }
   ],
   "source": [
    "a1=np.array([[[1,2,3],[4,5,6]],[[12,13,14],[5,6,7]]])\n",
    "a1"
   ]
  },
  {
   "cell_type": "code",
   "execution_count": 179,
   "id": "a18605aa",
   "metadata": {},
   "outputs": [
    {
     "data": {
      "text/plain": [
       "6"
      ]
     },
     "execution_count": 179,
     "metadata": {},
     "output_type": "execute_result"
    }
   ],
   "source": [
    "a1[1,1,1]"
   ]
  },
  {
   "cell_type": "markdown",
   "id": "634e97d4",
   "metadata": {},
   "source": [
    "形状修改"
   ]
  },
  {
   "cell_type": "code",
   "execution_count": 180,
   "id": "95adb4f2",
   "metadata": {},
   "outputs": [
    {
     "data": {
      "text/plain": [
       "array([[-0.77994033,  0.11804262,  0.17106818, -0.67273379],\n",
       "       [-0.56621883, -0.60683972,  0.15002276,  0.08848087],\n",
       "       [-1.44667523,  0.65890674, -0.47184205,  1.00597946],\n",
       "       [ 0.28770092,  0.59937269,  0.5663585 , -0.45918178],\n",
       "       [-0.84281965, -1.271558  , -0.17320462, -0.47592614]])"
      ]
     },
     "execution_count": 180,
     "metadata": {},
     "output_type": "execute_result"
    }
   ],
   "source": [
    "x.reshape([5,4])#返回相同数据域"
   ]
  },
  {
   "cell_type": "code",
   "execution_count": 181,
   "id": "612daf5e",
   "metadata": {},
   "outputs": [],
   "source": [
    "x.resize([5,4])#修改本身"
   ]
  },
  {
   "cell_type": "code",
   "execution_count": 182,
   "id": "cab612cd",
   "metadata": {},
   "outputs": [
    {
     "data": {
      "text/plain": [
       "array([[-0.77994033, -0.56621883, -1.44667523,  0.28770092, -0.84281965],\n",
       "       [ 0.11804262, -0.60683972,  0.65890674,  0.59937269, -1.271558  ],\n",
       "       [ 0.17106818,  0.15002276, -0.47184205,  0.5663585 , -0.17320462],\n",
       "       [-0.67273379,  0.08848087,  1.00597946, -0.45918178, -0.47592614]])"
      ]
     },
     "execution_count": 182,
     "metadata": {},
     "output_type": "execute_result"
    }
   ],
   "source": [
    "x.T#转置"
   ]
  },
  {
   "cell_type": "markdown",
   "id": "bd531ce2",
   "metadata": {},
   "source": [
    "类型转化"
   ]
  },
  {
   "cell_type": "code",
   "execution_count": 183,
   "id": "3b904f20",
   "metadata": {},
   "outputs": [
    {
     "data": {
      "text/plain": [
       "array([[ 0,  0,  0,  0],\n",
       "       [ 0,  0,  0,  0],\n",
       "       [-1,  0,  0,  1],\n",
       "       [ 0,  0,  0,  0],\n",
       "       [ 0, -1,  0,  0]], dtype=int32)"
      ]
     },
     "execution_count": 183,
     "metadata": {},
     "output_type": "execute_result"
    }
   ],
   "source": [
    "x.astype(np.int32)"
   ]
  },
  {
   "cell_type": "markdown",
   "id": "636362a3",
   "metadata": {},
   "source": [
    "去重"
   ]
  },
  {
   "cell_type": "code",
   "execution_count": 184,
   "id": "6bf200b1",
   "metadata": {},
   "outputs": [
    {
     "data": {
      "text/plain": [
       "array([1, 2, 3, 4, 5])"
      ]
     },
     "execution_count": 184,
     "metadata": {},
     "output_type": "execute_result"
    }
   ],
   "source": [
    "a=np.array([[1,2,3,4],[1,2,3,5]])\n",
    "np.unique(a)"
   ]
  }
 ],
 "metadata": {
  "kernelspec": {
   "display_name": ".venv",
   "language": "python",
   "name": "python3"
  },
  "language_info": {
   "codemirror_mode": {
    "name": "ipython",
    "version": 3
   },
   "file_extension": ".py",
   "mimetype": "text/x-python",
   "name": "python",
   "nbconvert_exporter": "python",
   "pygments_lexer": "ipython3",
   "version": "3.11.2"
  }
 },
 "nbformat": 4,
 "nbformat_minor": 5
}
