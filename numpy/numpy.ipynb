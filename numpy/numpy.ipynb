{
 "cells": [
  {
   "cell_type": "code",
   "execution_count": 1,
   "id": "74fa1778",
   "metadata": {},
   "outputs": [],
   "source": [
    "import numpy as np\n",
    "import matplotlib.pyplot as plt"
   ]
  },
  {
   "cell_type": "markdown",
   "id": "43db9262",
   "metadata": {},
   "source": [
    "ndarray"
   ]
  },
  {
   "cell_type": "code",
   "execution_count": 2,
   "id": "cee43bdf",
   "metadata": {},
   "outputs": [
    {
     "data": {
      "text/plain": [
       "array([[1, 2],\n",
       "       [3, 4]])"
      ]
     },
     "execution_count": 2,
     "metadata": {},
     "output_type": "execute_result"
    }
   ],
   "source": [
    "score=np.array([[1,2],[3,4]])\n",
    "score"
   ]
  },
  {
   "cell_type": "markdown",
   "id": "8f829e94",
   "metadata": {},
   "source": [
    "属性"
   ]
  },
  {
   "cell_type": "code",
   "execution_count": 3,
   "id": "1cb0eddc",
   "metadata": {},
   "outputs": [],
   "source": [
    "a = np.array([[1, 2, 3], [4, 5, 6]])\n",
    "b = np.array([1, 2, 3, 4])\n",
    "c = np.array([[[1, 2, 3], [4, 5, 6]], [[7, 8, 9], [10, 11, 12]]])"
   ]
  },
  {
   "cell_type": "markdown",
   "id": "c91c0137",
   "metadata": {},
   "source": [
    "形状"
   ]
  },
  {
   "cell_type": "code",
   "execution_count": 4,
   "id": "c5a563f4",
   "metadata": {},
   "outputs": [
    {
     "data": {
      "text/plain": [
       "(2, 3)"
      ]
     },
     "execution_count": 4,
     "metadata": {},
     "output_type": "execute_result"
    }
   ],
   "source": [
    "a.shape\n"
   ]
  },
  {
   "cell_type": "code",
   "execution_count": 5,
   "id": "291b23de",
   "metadata": {},
   "outputs": [
    {
     "data": {
      "text/plain": [
       "(4,)"
      ]
     },
     "execution_count": 5,
     "metadata": {},
     "output_type": "execute_result"
    }
   ],
   "source": [
    "b.shape\n"
   ]
  },
  {
   "cell_type": "code",
   "execution_count": 6,
   "id": "e08a81a0",
   "metadata": {},
   "outputs": [
    {
     "data": {
      "text/plain": [
       "(2, 2, 3)"
      ]
     },
     "execution_count": 6,
     "metadata": {},
     "output_type": "execute_result"
    }
   ],
   "source": [
    "c.shape"
   ]
  },
  {
   "cell_type": "markdown",
   "id": "bf682b10",
   "metadata": {},
   "source": [
    "维度"
   ]
  },
  {
   "cell_type": "code",
   "execution_count": 7,
   "id": "a70d1287",
   "metadata": {},
   "outputs": [
    {
     "data": {
      "text/plain": [
       "2"
      ]
     },
     "execution_count": 7,
     "metadata": {},
     "output_type": "execute_result"
    }
   ],
   "source": [
    "a.ndim"
   ]
  },
  {
   "cell_type": "markdown",
   "id": "a33da9b7",
   "metadata": {},
   "source": [
    "元素数量"
   ]
  },
  {
   "cell_type": "code",
   "execution_count": 8,
   "id": "33ecbdbd",
   "metadata": {},
   "outputs": [
    {
     "data": {
      "text/plain": [
       "6"
      ]
     },
     "execution_count": 8,
     "metadata": {},
     "output_type": "execute_result"
    }
   ],
   "source": [
    "a.size"
   ]
  },
  {
   "cell_type": "markdown",
   "id": "c89fe6eb",
   "metadata": {},
   "source": [
    "一个数组元素的长度"
   ]
  },
  {
   "cell_type": "code",
   "execution_count": 9,
   "id": "bc57dd71",
   "metadata": {},
   "outputs": [
    {
     "data": {
      "text/plain": [
       "8"
      ]
     },
     "execution_count": 9,
     "metadata": {},
     "output_type": "execute_result"
    }
   ],
   "source": [
    "a.itemsize"
   ]
  },
  {
   "cell_type": "markdown",
   "id": "f3306f34",
   "metadata": {},
   "source": [
    "数组元素类型"
   ]
  },
  {
   "cell_type": "code",
   "execution_count": 10,
   "id": "4c7761be",
   "metadata": {},
   "outputs": [
    {
     "data": {
      "text/plain": [
       "dtype('int64')"
      ]
     },
     "execution_count": 10,
     "metadata": {},
     "output_type": "execute_result"
    }
   ],
   "source": [
    "a.dtype"
   ]
  },
  {
   "cell_type": "code",
   "execution_count": 11,
   "id": "89cc49de",
   "metadata": {},
   "outputs": [
    {
     "data": {
      "text/plain": [
       "dtype('int64')"
      ]
     },
     "execution_count": 11,
     "metadata": {},
     "output_type": "execute_result"
    }
   ],
   "source": [
    "b.dtype"
   ]
  },
  {
   "cell_type": "code",
   "execution_count": 12,
   "id": "b02bf958",
   "metadata": {},
   "outputs": [
    {
     "data": {
      "text/plain": [
       "array([1., 2., 3., 4.], dtype=float32)"
      ]
     },
     "execution_count": 12,
     "metadata": {},
     "output_type": "execute_result"
    }
   ],
   "source": [
    "b = np.array([1, 2, 3, 4],dtype=np.float32)\n",
    "b"
   ]
  },
  {
   "cell_type": "code",
   "execution_count": 13,
   "id": "2c3a24d4",
   "metadata": {},
   "outputs": [
    {
     "data": {
      "text/plain": [
       "array([b'python', b'i', b'love'], dtype='|S6')"
      ]
     },
     "execution_count": 13,
     "metadata": {},
     "output_type": "execute_result"
    }
   ],
   "source": [
    "arr=np.array(['python','i','love'],dtype=np.string_)#输出最长字符个数\n",
    "arr"
   ]
  },
  {
   "cell_type": "markdown",
   "id": "a0f86c51",
   "metadata": {},
   "source": [
    "生成0,1数组"
   ]
  },
  {
   "cell_type": "code",
   "execution_count": 14,
   "id": "37db3fec",
   "metadata": {},
   "outputs": [
    {
     "data": {
      "text/plain": [
       "array([[1., 1., 1., 1., 1., 1., 1., 1.],\n",
       "       [1., 1., 1., 1., 1., 1., 1., 1.],\n",
       "       [1., 1., 1., 1., 1., 1., 1., 1.],\n",
       "       [1., 1., 1., 1., 1., 1., 1., 1.]])"
      ]
     },
     "execution_count": 14,
     "metadata": {},
     "output_type": "execute_result"
    }
   ],
   "source": [
    "one=np.ones([4,8])\n",
    "one"
   ]
  },
  {
   "cell_type": "code",
   "execution_count": 15,
   "id": "fa8ba473",
   "metadata": {},
   "outputs": [
    {
     "data": {
      "text/plain": [
       "array([[0., 0., 0., 0., 0., 0., 0., 0.],\n",
       "       [0., 0., 0., 0., 0., 0., 0., 0.],\n",
       "       [0., 0., 0., 0., 0., 0., 0., 0.],\n",
       "       [0., 0., 0., 0., 0., 0., 0., 0.]])"
      ]
     },
     "execution_count": 15,
     "metadata": {},
     "output_type": "execute_result"
    }
   ],
   "source": [
    "np.zeros_like(one)"
   ]
  },
  {
   "cell_type": "markdown",
   "id": "87f9989d",
   "metadata": {},
   "source": [
    "`np.zeros_like(one)` 函数会创建一个与 `one` 数组具有相同形状和数据类型的新数组，但所有元素都初始化为零。这在需要一个与现有数组结构相同但所有元素都为零的数组时非常有用。例如，如果 `one` 是一个 4x8 的浮点数数组，那么结果数组也将是一个 4x8 的浮点数数组，但所有值都设置为 0。"
   ]
  },
  {
   "cell_type": "code",
   "execution_count": 16,
   "id": "c618b804",
   "metadata": {},
   "outputs": [
    {
     "data": {
      "text/plain": [
       "array([[0., 0., 0., 0., 0., 0., 0., 0.],\n",
       "       [0., 0., 0., 0., 0., 0., 0., 0.],\n",
       "       [0., 0., 0., 0., 0., 0., 0., 0.],\n",
       "       [0., 0., 0., 0., 0., 0., 0., 0.]])"
      ]
     },
     "execution_count": 16,
     "metadata": {},
     "output_type": "execute_result"
    }
   ],
   "source": [
    "np.zeros([4,8])"
   ]
  },
  {
   "cell_type": "markdown",
   "id": "d57e2269",
   "metadata": {},
   "source": [
    "从现在数组生成"
   ]
  },
  {
   "cell_type": "code",
   "execution_count": 17,
   "id": "e6833118",
   "metadata": {},
   "outputs": [
    {
     "data": {
      "text/plain": [
       "array([[1, 2, 3],\n",
       "       [4, 5, 6]])"
      ]
     },
     "execution_count": 17,
     "metadata": {},
     "output_type": "execute_result"
    }
   ],
   "source": [
    "a=np.array([[1,2,3],[4,5,6]])\n",
    "a"
   ]
  },
  {
   "cell_type": "code",
   "execution_count": 18,
   "id": "6857d69f",
   "metadata": {},
   "outputs": [
    {
     "data": {
      "text/plain": [
       "array([[1, 2, 3],\n",
       "       [4, 5, 6]])"
      ]
     },
     "execution_count": 18,
     "metadata": {},
     "output_type": "execute_result"
    }
   ],
   "source": [
    "a1=np.array(a)#浅拷贝\n",
    "a1"
   ]
  },
  {
   "cell_type": "code",
   "execution_count": 19,
   "id": "10cfa7d3",
   "metadata": {},
   "outputs": [
    {
     "data": {
      "text/plain": [
       "array([[1, 2, 3],\n",
       "       [4, 5, 6]])"
      ]
     },
     "execution_count": 19,
     "metadata": {},
     "output_type": "execute_result"
    }
   ],
   "source": [
    "a2=np.asarray(a)#深拷贝\n",
    "a2"
   ]
  },
  {
   "cell_type": "code",
   "execution_count": 20,
   "id": "87ae5222",
   "metadata": {},
   "outputs": [
    {
     "data": {
      "text/plain": [
       "array([[1000,    2,    3],\n",
       "       [   4,    5,    6]])"
      ]
     },
     "execution_count": 20,
     "metadata": {},
     "output_type": "execute_result"
    }
   ],
   "source": [
    "a[0,0]=1000\n",
    "a"
   ]
  },
  {
   "cell_type": "code",
   "execution_count": 21,
   "id": "cd60685d",
   "metadata": {},
   "outputs": [
    {
     "data": {
      "text/plain": [
       "array([[1, 2, 3],\n",
       "       [4, 5, 6]])"
      ]
     },
     "execution_count": 21,
     "metadata": {},
     "output_type": "execute_result"
    }
   ],
   "source": [
    "a1"
   ]
  },
  {
   "cell_type": "code",
   "execution_count": 22,
   "id": "2e5363f9",
   "metadata": {},
   "outputs": [
    {
     "data": {
      "text/plain": [
       "array([[1000,    2,    3],\n",
       "       [   4,    5,    6]])"
      ]
     },
     "execution_count": 22,
     "metadata": {},
     "output_type": "execute_result"
    }
   ],
   "source": [
    "a2"
   ]
  },
  {
   "cell_type": "markdown",
   "id": "7898c12d",
   "metadata": {},
   "source": [
    "生成固定范围的数组"
   ]
  },
  {
   "cell_type": "code",
   "execution_count": 23,
   "id": "c74bb3f0",
   "metadata": {},
   "outputs": [
    {
     "data": {
      "text/plain": [
       "array([  0.,  10.,  20.,  30.,  40.,  50.,  60.,  70.,  80.,  90., 100.])"
      ]
     },
     "execution_count": 23,
     "metadata": {},
     "output_type": "execute_result"
    }
   ],
   "source": [
    "np.linspace(0,100,11)#起始点,终点，样本数"
   ]
  },
  {
   "cell_type": "code",
   "execution_count": 24,
   "id": "36884f64",
   "metadata": {},
   "outputs": [
    {
     "data": {
      "text/plain": [
       "array([10, 12, 14, 16, 18])"
      ]
     },
     "execution_count": 24,
     "metadata": {},
     "output_type": "execute_result"
    }
   ],
   "source": [
    "np.arange(10,20,2)#起始点,终点，步长"
   ]
  },
  {
   "cell_type": "code",
   "execution_count": 25,
   "id": "2a98cf97",
   "metadata": {},
   "outputs": [
    {
     "data": {
      "text/plain": [
       "array([  1.,  10., 100.])"
      ]
     },
     "execution_count": 25,
     "metadata": {},
     "output_type": "execute_result"
    }
   ],
   "source": [
    "np.logspace(0,2,3)#10的x次幂等比数列"
   ]
  },
  {
   "cell_type": "markdown",
   "id": "08ba145a",
   "metadata": {},
   "source": [
    "正态分布"
   ]
  },
  {
   "cell_type": "code",
   "execution_count": 26,
   "id": "2273c58d",
   "metadata": {},
   "outputs": [
    {
     "data": {
      "text/plain": [
       "array([[[ 0.22288477, -0.92272757, -0.64156632],\n",
       "        [ 1.81841451,  1.17343093,  1.13616742]]])"
      ]
     },
     "execution_count": 26,
     "metadata": {},
     "output_type": "execute_result"
    }
   ],
   "source": [
    "np.random.randn(1,2,3)"
   ]
  },
  {
   "cell_type": "markdown",
   "id": "bf2d8bda",
   "metadata": {},
   "source": [
    "`np.random.randn(1,2,3)` 生成一个形状为 (1, 2, 3) 的 3 维 NumPy 数组，该数组填充了来自标准正态分布（均值为 0，方差为 1）的随机样本。此函数对于创建具有服从正态分布的随机值的数组非常有用，这通常用于统计建模和模拟。"
   ]
  },
  {
   "cell_type": "code",
   "execution_count": 27,
   "id": "8434bc19",
   "metadata": {},
   "outputs": [],
   "source": [
    "x=np.random.normal(1.75,1,100000000)"
   ]
  },
  {
   "cell_type": "markdown",
   "id": "56cc5dce",
   "metadata": {},
   "source": [
    "`np.random.normal(1.75,1,1000000)` 生成一个包含 1,000,000 个样本的一维 NumPy 数组，这些样本来自均值为 1.75、标准差为 1 的正态（高斯）分布。此函数对于模拟服从正态分布的数据集非常有用，这在许多自然现象和统计分析中很常见。第一个参数指定均值，第二个参数指定标准差，第三个参数指定生成的样本数量。"
   ]
  },
  {
   "cell_type": "code",
   "execution_count": 28,
   "id": "475aa575",
   "metadata": {},
   "outputs": [
    {
     "data": {
      "image/png": "[encoded data removed]",
      "text/plain": [
       "<Figure size 2000x1000 with 1 Axes>"
      ]
     },
     "metadata": {},
     "output_type": "display_data"
    }
   ],
   "source": [
    "plt.figure(figsize=(20,10),dpi=100)\n",
    "plt.hist(x,1000)\n",
    "plt.show()"
   ]
  },
  {
   "cell_type": "markdown",
   "id": "4a3d037f",
   "metadata": {},
   "source": [
    "`plt.hist(x,1000)` 绘制了一个直方图，其中 `x` 是数据数组，`1000` 表示将数据分为 1000 个区间（bins）。直方图用于显示数据的分布情况，每个区间的高度表示该区间内数据点的数量。这在分析数据分布、观察数据集中趋势和离散程度时非常有用。"
   ]
  },
  {
   "cell_type": "code",
   "execution_count": 29,
   "id": "4b0f5033",
   "metadata": {},
   "outputs": [
    {
     "data": {
      "text/plain": [
       "array([[-1.05622719, -0.44686924,  0.74875043,  0.34839525,  1.3028187 ],\n",
       "       [ 0.23282501,  0.54982488, -0.18034795, -1.31992117,  1.60530808],\n",
       "       [ 0.06246713, -0.8154224 ,  0.91745141,  0.39329527,  2.88667628],\n",
       "       [-0.56942359, -0.3033379 ,  1.32785275, -1.34899081, -0.7776573 ]])"
      ]
     },
     "execution_count": 29,
     "metadata": {},
     "output_type": "execute_result"
    }
   ],
   "source": [
    "x=np.random.normal(0,1,(4,5))\n",
    "x"
   ]
  },
  {
   "cell_type": "markdown",
   "id": "5b94f3a1",
   "metadata": {},
   "source": []
  },
  {
   "cell_type": "markdown",
   "id": "02efbb5a",
   "metadata": {},
   "source": [
    "均匀分布"
   ]
  },
  {
   "cell_type": "code",
   "execution_count": 30,
   "id": "0ef61e32",
   "metadata": {},
   "outputs": [
    {
     "data": {
      "text/plain": [
       "array([[0.0144508 , 0.17549119]])"
      ]
     },
     "execution_count": 30,
     "metadata": {},
     "output_type": "execute_result"
    }
   ],
   "source": [
    "np.random.rand(1,2)"
   ]
  },
  {
   "cell_type": "code",
   "execution_count": 31,
   "id": "a6893668",
   "metadata": {},
   "outputs": [
    {
     "data": {
      "text/plain": [
       "array([[-1,  0, -1,  0,  0, -1],\n",
       "       [ 0,  0, -1, -1,  0,  0],\n",
       "       [-1,  0, -1, -1, -1,  0]])"
      ]
     },
     "execution_count": 31,
     "metadata": {},
     "output_type": "execute_result"
    }
   ],
   "source": [
    "np.random.randint(-1,1,size=(3,6))"
   ]
  },
  {
   "cell_type": "code",
   "execution_count": 32,
   "id": "7180c28a",
   "metadata": {},
   "outputs": [
    {
     "data": {
      "text/plain": [
       "array([ 0.75940865, -0.30983841, -0.79509722, ..., -0.5895251 ,\n",
       "        0.57581614,  0.95406939])"
      ]
     },
     "execution_count": 32,
     "metadata": {},
     "output_type": "execute_result"
    }
   ],
   "source": [
    "x2=np.random.uniform(-1,1,100000000)\n",
    "x2"
   ]
  },
  {
   "cell_type": "markdown",
   "id": "c40af4b7",
   "metadata": {},
   "source": [
    "`np.random.uniform` 和 `np.random.randint` 的主要区别在于生成的随机数类型和范围：\n",
    "\n",
    "1. **`np.random.uniform`**: 生成均匀分布的浮点数。\n",
    "   - 参数：`low`（下界，默认 0），`high`（上界，默认 1），`size`（输出数组的形状）。\n",
    "   - 返回值：在 `[low, high)` 范围内均匀分布的浮点数。\n",
    "   - 示例：`np.random.uniform(-1, 1, size=(3, 6))` 生成一个 3x6 的数组，元素为 -1 到 1 之间的浮点数。\n",
    "\n",
    "2. **`np.random.randint`**: 生成均匀分布的整数。\n",
    "   - 参数：`low`（下界），`high`（上界，非包含），`size`（输出数组的形状）。\n",
    "   - 返回值：在 `[low, high)` 范围内均匀分布的整数。\n",
    "   - 示例：`np.random.randint(-1, 1, size=(3, 6))` 生成一个 3x6 的数组，元素为 -1 到 0 之间的整数（不包含 1）。\n",
    "\n",
    "总结：`uniform` 用于生成浮点数，`randint` 用于生成整数。"
   ]
  }
 ],
 "metadata": {
  "kernelspec": {
   "display_name": ".venv",
   "language": "python",
   "name": "python3"
  },
  "language_info": {
   "codemirror_mode": {
    "name": "ipython",
    "version": 3
   },
   "file_extension": ".py",
   "mimetype": "text/x-python",
   "name": "python",
   "nbconvert_exporter": "python",
   "pygments_lexer": "ipython3",
   "version": "3.11.2"
  }
 },
 "nbformat": 4,
 "nbformat_minor": 5
}
