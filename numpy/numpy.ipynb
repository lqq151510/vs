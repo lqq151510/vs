{
 "cells": [
  {
   "cell_type": "code",
   "execution_count": 234,
   "id": "74fa1778",
   "metadata": {},
   "outputs": [],
   "source": [
    "import numpy as np\n",
    "import matplotlib.pyplot as plt"
   ]
  },
  {
   "cell_type": "markdown",
   "id": "43db9262",
   "metadata": {},
   "source": [
    "ndarray"
   ]
  },
  {
   "cell_type": "code",
   "execution_count": 235,
   "id": "cee43bdf",
   "metadata": {},
   "outputs": [
    {
     "data": {
      "text/plain": [
       "array([[1, 2],\n",
       "       [3, 4]])"
      ]
     },
     "execution_count": 235,
     "metadata": {},
     "output_type": "execute_result"
    }
   ],
   "source": [
    "score=np.array([[1,2],[3,4]])\n",
    "score"
   ]
  },
  {
   "cell_type": "markdown",
   "id": "8f829e94",
   "metadata": {},
   "source": [
    "属性"
   ]
  },
  {
   "cell_type": "code",
   "execution_count": 236,
   "id": "1cb0eddc",
   "metadata": {},
   "outputs": [],
   "source": [
    "a = np.array([[1, 2, 3], [4, 5, 6]])\n",
    "b = np.array([1, 2, 3, 4])\n",
    "c = np.array([[[1, 2, 3], [4, 5, 6]], [[7, 8, 9], [10, 11, 12]]])"
   ]
  },
  {
   "cell_type": "markdown",
   "id": "c91c0137",
   "metadata": {},
   "source": [
    "形状"
   ]
  },
  {
   "cell_type": "code",
   "execution_count": 237,
   "id": "c5a563f4",
   "metadata": {},
   "outputs": [
    {
     "data": {
      "text/plain": [
       "(2, 3)"
      ]
     },
     "execution_count": 237,
     "metadata": {},
     "output_type": "execute_result"
    }
   ],
   "source": [
    "a.shape\n"
   ]
  },
  {
   "cell_type": "code",
   "execution_count": 238,
   "id": "291b23de",
   "metadata": {},
   "outputs": [
    {
     "data": {
      "text/plain": [
       "(4,)"
      ]
     },
     "execution_count": 238,
     "metadata": {},
     "output_type": "execute_result"
    }
   ],
   "source": [
    "b.shape\n"
   ]
  },
  {
   "cell_type": "code",
   "execution_count": 239,
   "id": "e08a81a0",
   "metadata": {},
   "outputs": [
    {
     "data": {
      "text/plain": [
       "(2, 2, 3)"
      ]
     },
     "execution_count": 239,
     "metadata": {},
     "output_type": "execute_result"
    }
   ],
   "source": [
    "c.shape"
   ]
  },
  {
   "cell_type": "markdown",
   "id": "bf682b10",
   "metadata": {},
   "source": [
    "维度"
   ]
  },
  {
   "cell_type": "code",
   "execution_count": 240,
   "id": "a70d1287",
   "metadata": {},
   "outputs": [
    {
     "data": {
      "text/plain": [
       "2"
      ]
     },
     "execution_count": 240,
     "metadata": {},
     "output_type": "execute_result"
    }
   ],
   "source": [
    "a.ndim"
   ]
  },
  {
   "cell_type": "markdown",
   "id": "a33da9b7",
   "metadata": {},
   "source": [
    "元素数量"
   ]
  },
  {
   "cell_type": "code",
   "execution_count": 241,
   "id": "33ecbdbd",
   "metadata": {},
   "outputs": [
    {
     "data": {
      "text/plain": [
       "6"
      ]
     },
     "execution_count": 241,
     "metadata": {},
     "output_type": "execute_result"
    }
   ],
   "source": [
    "a.size"
   ]
  },
  {
   "cell_type": "markdown",
   "id": "c89fe6eb",
   "metadata": {},
   "source": [
    "一个数组元素的长度"
   ]
  },
  {
   "cell_type": "code",
   "execution_count": 242,
   "id": "bc57dd71",
   "metadata": {},
   "outputs": [
    {
     "data": {
      "text/plain": [
       "8"
      ]
     },
     "execution_count": 242,
     "metadata": {},
     "output_type": "execute_result"
    }
   ],
   "source": [
    "a.itemsize"
   ]
  },
  {
   "cell_type": "markdown",
   "id": "f3306f34",
   "metadata": {},
   "source": [
    "数组元素类型"
   ]
  },
  {
   "cell_type": "code",
   "execution_count": 243,
   "id": "4c7761be",
   "metadata": {},
   "outputs": [
    {
     "data": {
      "text/plain": [
       "dtype('int64')"
      ]
     },
     "execution_count": 243,
     "metadata": {},
     "output_type": "execute_result"
    }
   ],
   "source": [
    "a.dtype"
   ]
  },
  {
   "cell_type": "code",
   "execution_count": 244,
   "id": "89cc49de",
   "metadata": {},
   "outputs": [
    {
     "data": {
      "text/plain": [
       "dtype('int64')"
      ]
     },
     "execution_count": 244,
     "metadata": {},
     "output_type": "execute_result"
    }
   ],
   "source": [
    "b.dtype"
   ]
  },
  {
   "cell_type": "code",
   "execution_count": 245,
   "id": "b02bf958",
   "metadata": {},
   "outputs": [
    {
     "data": {
      "text/plain": [
       "array([1., 2., 3., 4.], dtype=float32)"
      ]
     },
     "execution_count": 245,
     "metadata": {},
     "output_type": "execute_result"
    }
   ],
   "source": [
    "b = np.array([1, 2, 3, 4],dtype=np.float32)\n",
    "b"
   ]
  },
  {
   "cell_type": "code",
   "execution_count": 246,
   "id": "2c3a24d4",
   "metadata": {},
   "outputs": [
    {
     "data": {
      "text/plain": [
       "array([b'python', b'i', b'love'], dtype='|S6')"
      ]
     },
     "execution_count": 246,
     "metadata": {},
     "output_type": "execute_result"
    }
   ],
   "source": [
    "arr=np.array(['python','i','love'],dtype=np.string_)#输出最长字符个数\n",
    "arr"
   ]
  },
  {
   "cell_type": "markdown",
   "id": "a0f86c51",
   "metadata": {},
   "source": [
    "生成0,1数组"
   ]
  },
  {
   "cell_type": "code",
   "execution_count": 247,
   "id": "37db3fec",
   "metadata": {},
   "outputs": [
    {
     "data": {
      "text/plain": [
       "array([[1., 1., 1., 1., 1., 1., 1., 1.],\n",
       "       [1., 1., 1., 1., 1., 1., 1., 1.],\n",
       "       [1., 1., 1., 1., 1., 1., 1., 1.],\n",
       "       [1., 1., 1., 1., 1., 1., 1., 1.]])"
      ]
     },
     "execution_count": 247,
     "metadata": {},
     "output_type": "execute_result"
    }
   ],
   "source": [
    "one=np.ones([4,8])\n",
    "one"
   ]
  },
  {
   "cell_type": "code",
   "execution_count": 248,
   "id": "fa8ba473",
   "metadata": {},
   "outputs": [
    {
     "data": {
      "text/plain": [
       "array([[0., 0., 0., 0., 0., 0., 0., 0.],\n",
       "       [0., 0., 0., 0., 0., 0., 0., 0.],\n",
       "       [0., 0., 0., 0., 0., 0., 0., 0.],\n",
       "       [0., 0., 0., 0., 0., 0., 0., 0.]])"
      ]
     },
     "execution_count": 248,
     "metadata": {},
     "output_type": "execute_result"
    }
   ],
   "source": [
    "np.zeros_like(one)"
   ]
  },
  {
   "cell_type": "markdown",
   "id": "87f9989d",
   "metadata": {},
   "source": [
    "`np.zeros_like(one)` 函数会创建一个与 `one` 数组具有相同形状和数据类型的新数组，但所有元素都初始化为零。这在需要一个与现有数组结构相同但所有元素都为零的数组时非常有用。例如，如果 `one` 是一个 4x8 的浮点数数组，那么结果数组也将是一个 4x8 的浮点数数组，但所有值都设置为 0。"
   ]
  },
  {
   "cell_type": "code",
   "execution_count": 249,
   "id": "c618b804",
   "metadata": {},
   "outputs": [
    {
     "data": {
      "text/plain": [
       "array([[0., 0., 0., 0., 0., 0., 0., 0.],\n",
       "       [0., 0., 0., 0., 0., 0., 0., 0.],\n",
       "       [0., 0., 0., 0., 0., 0., 0., 0.],\n",
       "       [0., 0., 0., 0., 0., 0., 0., 0.]])"
      ]
     },
     "execution_count": 249,
     "metadata": {},
     "output_type": "execute_result"
    }
   ],
   "source": [
    "np.zeros([4,8])"
   ]
  },
  {
   "cell_type": "markdown",
   "id": "d57e2269",
   "metadata": {},
   "source": [
    "从现在数组生成"
   ]
  },
  {
   "cell_type": "code",
   "execution_count": 250,
   "id": "e6833118",
   "metadata": {},
   "outputs": [
    {
     "data": {
      "text/plain": [
       "array([[1, 2, 3],\n",
       "       [4, 5, 6]])"
      ]
     },
     "execution_count": 250,
     "metadata": {},
     "output_type": "execute_result"
    }
   ],
   "source": [
    "a=np.array([[1,2,3],[4,5,6]])\n",
    "a"
   ]
  },
  {
   "cell_type": "code",
   "execution_count": 251,
   "id": "6857d69f",
   "metadata": {},
   "outputs": [
    {
     "data": {
      "text/plain": [
       "array([[1, 2, 3],\n",
       "       [4, 5, 6]])"
      ]
     },
     "execution_count": 251,
     "metadata": {},
     "output_type": "execute_result"
    }
   ],
   "source": [
    "a1=np.array(a)#浅拷贝\n",
    "a1"
   ]
  },
  {
   "cell_type": "code",
   "execution_count": 252,
   "id": "10cfa7d3",
   "metadata": {},
   "outputs": [
    {
     "data": {
      "text/plain": [
       "array([[1, 2, 3],\n",
       "       [4, 5, 6]])"
      ]
     },
     "execution_count": 252,
     "metadata": {},
     "output_type": "execute_result"
    }
   ],
   "source": [
    "a2=np.asarray(a)#深拷贝\n",
    "a2"
   ]
  },
  {
   "cell_type": "code",
   "execution_count": 253,
   "id": "87ae5222",
   "metadata": {},
   "outputs": [
    {
     "data": {
      "text/plain": [
       "array([[1000,    2,    3],\n",
       "       [   4,    5,    6]])"
      ]
     },
     "execution_count": 253,
     "metadata": {},
     "output_type": "execute_result"
    }
   ],
   "source": [
    "a[0,0]=1000\n",
    "a"
   ]
  },
  {
   "cell_type": "code",
   "execution_count": 254,
   "id": "cd60685d",
   "metadata": {},
   "outputs": [
    {
     "data": {
      "text/plain": [
       "array([[1, 2, 3],\n",
       "       [4, 5, 6]])"
      ]
     },
     "execution_count": 254,
     "metadata": {},
     "output_type": "execute_result"
    }
   ],
   "source": [
    "a1"
   ]
  },
  {
   "cell_type": "code",
   "execution_count": 255,
   "id": "2e5363f9",
   "metadata": {},
   "outputs": [
    {
     "data": {
      "text/plain": [
       "array([[1000,    2,    3],\n",
       "       [   4,    5,    6]])"
      ]
     },
     "execution_count": 255,
     "metadata": {},
     "output_type": "execute_result"
    }
   ],
   "source": [
    "a2"
   ]
  },
  {
   "cell_type": "markdown",
   "id": "7898c12d",
   "metadata": {},
   "source": [
    "生成固定范围的数组"
   ]
  },
  {
   "cell_type": "code",
   "execution_count": 256,
   "id": "c74bb3f0",
   "metadata": {},
   "outputs": [
    {
     "data": {
      "text/plain": [
       "array([  0.,  10.,  20.,  30.,  40.,  50.,  60.,  70.,  80.,  90., 100.])"
      ]
     },
     "execution_count": 256,
     "metadata": {},
     "output_type": "execute_result"
    }
   ],
   "source": [
    "np.linspace(0,100,11)#起始点,终点，样本数"
   ]
  },
  {
   "cell_type": "code",
   "execution_count": 257,
   "id": "36884f64",
   "metadata": {},
   "outputs": [
    {
     "data": {
      "text/plain": [
       "array([10, 12, 14, 16, 18])"
      ]
     },
     "execution_count": 257,
     "metadata": {},
     "output_type": "execute_result"
    }
   ],
   "source": [
    "np.arange(10,20,2)#起始点,终点，步长"
   ]
  },
  {
   "cell_type": "code",
   "execution_count": 258,
   "id": "2a98cf97",
   "metadata": {},
   "outputs": [
    {
     "data": {
      "text/plain": [
       "array([  1.,  10., 100.])"
      ]
     },
     "execution_count": 258,
     "metadata": {},
     "output_type": "execute_result"
    }
   ],
   "source": [
    "np.logspace(0,2,3)#10的x次幂等比数列"
   ]
  },
  {
   "cell_type": "markdown",
   "id": "08ba145a",
   "metadata": {},
   "source": [
    "正态分布"
   ]
  },
  {
   "cell_type": "code",
   "execution_count": 259,
   "id": "2273c58d",
   "metadata": {},
   "outputs": [
    {
     "data": {
      "text/plain": [
       "array([[[-0.82163367,  0.44247997,  1.46646226],\n",
       "        [-2.00854473,  1.33649966,  1.72581898]]])"
      ]
     },
     "execution_count": 259,
     "metadata": {},
     "output_type": "execute_result"
    }
   ],
   "source": [
    "np.random.randn(1,2,3)"
   ]
  },
  {
   "cell_type": "markdown",
   "id": "bf2d8bda",
   "metadata": {},
   "source": [
    "`np.random.randn(1,2,3)` 生成一个形状为 (1, 2, 3) 的 3 维 NumPy 数组，该数组填充了来自标准正态分布（均值为 0，方差为 1）的随机样本。此函数对于创建具有服从正态分布的随机值的数组非常有用，这通常用于统计建模和模拟。"
   ]
  },
  {
   "cell_type": "code",
   "execution_count": 260,
   "id": "8434bc19",
   "metadata": {},
   "outputs": [],
   "source": [
    "x=np.random.normal(1.75,1,100000000)"
   ]
  },
  {
   "cell_type": "markdown",
   "id": "56cc5dce",
   "metadata": {},
   "source": [
    "`np.random.normal(1.75,1,1000000)` 生成一个包含 1,000,000 个样本的一维 NumPy 数组，这些样本来自均值为 1.75、标准差为 1 的正态（高斯）分布。此函数对于模拟服从正态分布的数据集非常有用，这在许多自然现象和统计分析中很常见。第一个参数指定均值，第二个参数指定标准差，第三个参数指定生成的样本数量。"
   ]
  },
  {
   "cell_type": "code",
   "execution_count": 261,
   "id": "475aa575",
   "metadata": {},
   "outputs": [
    {
     "data": {
      "image/png": "[encoded data removed]",
      "text/plain": [
       "<Figure size 2000x1000 with 1 Axes>"
      ]
     },
     "metadata": {},
     "output_type": "display_data"
    }
   ],
   "source": [
    "plt.figure(figsize=(20,10),dpi=100)\n",
    "plt.hist(x,1000)\n",
    "plt.show()"
   ]
  },
  {
   "cell_type": "markdown",
   "id": "4a3d037f",
   "metadata": {},
   "source": [
    "`plt.hist(x,1000)` 绘制了一个直方图，其中 `x` 是数据数组，`1000` 表示将数据分为 1000 个区间（bins）。直方图用于显示数据的分布情况，每个区间的高度表示该区间内数据点的数量。这在分析数据分布、观察数据集中趋势和离散程度时非常有用。"
   ]
  },
  {
   "cell_type": "code",
   "execution_count": 262,
   "id": "4b0f5033",
   "metadata": {},
   "outputs": [
    {
     "data": {
      "text/plain": [
       "array([[ 0.21701333, -0.52410642, -1.55213729,  0.51813185, -0.20530365],\n",
       "       [-0.19370911, -1.27328141,  0.05133451,  0.40769074, -0.45375156],\n",
       "       [ 0.83994619,  0.17697948, -1.33739842, -2.11479284, -2.16963796],\n",
       "       [ 1.67716186,  1.90025638,  0.32061756, -0.12553207, -1.27193249]])"
      ]
     },
     "execution_count": 262,
     "metadata": {},
     "output_type": "execute_result"
    }
   ],
   "source": [
    "x=np.random.normal(0,1,(4,5))\n",
    "x"
   ]
  },
  {
   "cell_type": "markdown",
   "id": "5b94f3a1",
   "metadata": {},
   "source": []
  },
  {
   "cell_type": "markdown",
   "id": "02efbb5a",
   "metadata": {},
   "source": [
    "均匀分布"
   ]
  },
  {
   "cell_type": "code",
   "execution_count": 263,
   "id": "0ef61e32",
   "metadata": {},
   "outputs": [
    {
     "data": {
      "text/plain": [
       "array([[0.57503414, 0.28552998]])"
      ]
     },
     "execution_count": 263,
     "metadata": {},
     "output_type": "execute_result"
    }
   ],
   "source": [
    "np.random.rand(1,2)"
   ]
  },
  {
   "cell_type": "code",
   "execution_count": 264,
   "id": "a6893668",
   "metadata": {},
   "outputs": [
    {
     "data": {
      "text/plain": [
       "array([[-1, -1,  0,  0, -1,  0],\n",
       "       [ 0, -1,  0, -1,  0,  0],\n",
       "       [-1, -1,  0,  0,  0,  0]])"
      ]
     },
     "execution_count": 264,
     "metadata": {},
     "output_type": "execute_result"
    }
   ],
   "source": [
    "np.random.randint(-1,1,size=(3,6))"
   ]
  },
  {
   "cell_type": "code",
   "execution_count": 265,
   "id": "7180c28a",
   "metadata": {},
   "outputs": [
    {
     "data": {
      "image/png": "[encoded data removed]",
      "text/plain": [
       "<Figure size 2000x800 with 1 Axes>"
      ]
     },
     "metadata": {},
     "output_type": "display_data"
    }
   ],
   "source": [
    "x2=np.random.uniform(-1,1,100000000)\n",
    "plt.figure(figsize=(20,8),dpi=100)\n",
    "plt.hist(x2,10000)\n",
    "plt.show()"
   ]
  },
  {
   "cell_type": "markdown",
   "id": "c197c11d",
   "metadata": {},
   "source": [
    "`plt.hist(x2,1000)` 绘制了一个直方图，其中 `x2` 是数据数组，`1000` 表示将数据分为 1000 个区间（bins）。\n",
    "直方图用于显示数据的分布情况，每个区间的高度表示该区间内数据点的数量。\n",
    "这在分析数据分布、观察数据集中趋势和离散程度时非常有用。"
   ]
  },
  {
   "cell_type": "markdown",
   "id": "c40af4b7",
   "metadata": {},
   "source": [
    "`np.random.uniform` 和 `np.random.randint` 的主要区别在于生成的随机数类型和范围：\n",
    "\n",
    "1. **`np.random.uniform`**: 生成均匀分布的浮点数。\n",
    "   - 参数：`low`（下界，默认 0），`high`（上界，默认 1），`size`（输出数组的形状）。\n",
    "   - 返回值：在 `[low, high)` 范围内均匀分布的浮点数。\n",
    "   - 示例：`np.random.uniform(-1, 1, size=(3, 6))` 生成一个 3x6 的数组，元素为 -1 到 1 之间的浮点数。\n",
    "\n",
    "2. **`np.random.randint`**: 生成均匀分布的整数。\n",
    "   - 参数：`low`（下界），`high`（上界，非包含），`size`（输出数组的形状）。\n",
    "   - 返回值：在 `[low, high)` 范围内均匀分布的整数。\n",
    "   - 示例：`np.random.randint(-1, 1, size=(3, 6))` 生成一个 3x6 的数组，元素为 -1 到 0 之间的整数（不包含 1）。\n",
    "\n",
    "总结：`uniform` 用于生成浮点数，`randint` 用于生成整数。"
   ]
  },
  {
   "cell_type": "markdown",
   "id": "9064eb0f",
   "metadata": {},
   "source": [
    "索引"
   ]
  },
  {
   "cell_type": "code",
   "execution_count": 266,
   "id": "829d8b79",
   "metadata": {},
   "outputs": [
    {
     "data": {
      "text/plain": [
       "array([[ 0.21701333, -0.52410642, -1.55213729,  0.51813185, -0.20530365],\n",
       "       [-0.19370911, -1.27328141,  0.05133451,  0.40769074, -0.45375156],\n",
       "       [ 0.83994619,  0.17697948, -1.33739842, -2.11479284, -2.16963796],\n",
       "       [ 1.67716186,  1.90025638,  0.32061756, -0.12553207, -1.27193249]])"
      ]
     },
     "execution_count": 266,
     "metadata": {},
     "output_type": "execute_result"
    }
   ],
   "source": [
    "x"
   ]
  },
  {
   "cell_type": "code",
   "execution_count": 267,
   "id": "5cb8c4eb",
   "metadata": {},
   "outputs": [
    {
     "data": {
      "text/plain": [
       "array([ 0.21701333, -0.52410642, -1.55213729])"
      ]
     },
     "execution_count": 267,
     "metadata": {},
     "output_type": "execute_result"
    }
   ],
   "source": [
    "x[0,0:3]"
   ]
  },
  {
   "cell_type": "code",
   "execution_count": 268,
   "id": "a79ec899",
   "metadata": {},
   "outputs": [
    {
     "data": {
      "text/plain": [
       "array([[[ 1,  2,  3],\n",
       "        [ 4,  5,  6]],\n",
       "\n",
       "       [[12, 13, 14],\n",
       "        [ 5,  6,  7]]])"
      ]
     },
     "execution_count": 268,
     "metadata": {},
     "output_type": "execute_result"
    }
   ],
   "source": [
    "a1=np.array([[[1,2,3],[4,5,6]],[[12,13,14],[5,6,7]]])\n",
    "a1"
   ]
  },
  {
   "cell_type": "code",
   "execution_count": 269,
   "id": "a18605aa",
   "metadata": {},
   "outputs": [
    {
     "data": {
      "text/plain": [
       "6"
      ]
     },
     "execution_count": 269,
     "metadata": {},
     "output_type": "execute_result"
    }
   ],
   "source": [
    "a1[1,1,1]"
   ]
  },
  {
   "cell_type": "markdown",
   "id": "634e97d4",
   "metadata": {},
   "source": [
    "形状修改"
   ]
  },
  {
   "cell_type": "code",
   "execution_count": 270,
   "id": "95adb4f2",
   "metadata": {},
   "outputs": [
    {
     "data": {
      "text/plain": [
       "array([[ 0.21701333, -0.52410642, -1.55213729,  0.51813185],\n",
       "       [-0.20530365, -0.19370911, -1.27328141,  0.05133451],\n",
       "       [ 0.40769074, -0.45375156,  0.83994619,  0.17697948],\n",
       "       [-1.33739842, -2.11479284, -2.16963796,  1.67716186],\n",
       "       [ 1.90025638,  0.32061756, -0.12553207, -1.27193249]])"
      ]
     },
     "execution_count": 270,
     "metadata": {},
     "output_type": "execute_result"
    }
   ],
   "source": [
    "x.reshape([5,4])#返回相同数据域"
   ]
  },
  {
   "cell_type": "code",
   "execution_count": 271,
   "id": "612daf5e",
   "metadata": {},
   "outputs": [],
   "source": [
    "x.resize([5,4])#修改本身"
   ]
  },
  {
   "cell_type": "code",
   "execution_count": 272,
   "id": "cab612cd",
   "metadata": {},
   "outputs": [
    {
     "data": {
      "text/plain": [
       "array([[ 0.21701333, -0.20530365,  0.40769074, -1.33739842,  1.90025638],\n",
       "       [-0.52410642, -0.19370911, -0.45375156, -2.11479284,  0.32061756],\n",
       "       [-1.55213729, -1.27328141,  0.83994619, -2.16963796, -0.12553207],\n",
       "       [ 0.51813185,  0.05133451,  0.17697948,  1.67716186, -1.27193249]])"
      ]
     },
     "execution_count": 272,
     "metadata": {},
     "output_type": "execute_result"
    }
   ],
   "source": [
    "x.T#转置"
   ]
  },
  {
   "cell_type": "markdown",
   "id": "bd531ce2",
   "metadata": {},
   "source": [
    "类型转化"
   ]
  },
  {
   "cell_type": "code",
   "execution_count": 273,
   "id": "3b904f20",
   "metadata": {},
   "outputs": [
    {
     "data": {
      "text/plain": [
       "array([[ 0,  0, -1,  0],\n",
       "       [ 0,  0, -1,  0],\n",
       "       [ 0,  0,  0,  0],\n",
       "       [-1, -2, -2,  1],\n",
       "       [ 1,  0,  0, -1]], dtype=int32)"
      ]
     },
     "execution_count": 273,
     "metadata": {},
     "output_type": "execute_result"
    }
   ],
   "source": [
    "x.astype(np.int32)"
   ]
  },
  {
   "cell_type": "markdown",
   "id": "636362a3",
   "metadata": {},
   "source": [
    "去重"
   ]
  },
  {
   "cell_type": "code",
   "execution_count": 274,
   "id": "6bf200b1",
   "metadata": {},
   "outputs": [
    {
     "data": {
      "text/plain": [
       "array([1, 2, 3, 4, 5])"
      ]
     },
     "execution_count": 274,
     "metadata": {},
     "output_type": "execute_result"
    }
   ],
   "source": [
    "a=np.array([[1,2,3,4],[1,2,3,5]])\n",
    "np.unique(a)"
   ]
  },
  {
   "cell_type": "markdown",
   "id": "68252df1",
   "metadata": {},
   "source": [
    "运算"
   ]
  },
  {
   "cell_type": "code",
   "execution_count": 275,
   "id": "696192fa",
   "metadata": {},
   "outputs": [
    {
     "data": {
      "text/plain": [
       "array([[False,  True,  True, False,  True],\n",
       "       [ True, False,  True, False,  True],\n",
       "       [ True,  True,  True,  True, False],\n",
       "       [ True,  True, False,  True,  True]])"
      ]
     },
     "execution_count": 275,
     "metadata": {},
     "output_type": "execute_result"
    }
   ],
   "source": [
    "s=np.random.randint(40,100,(10,5))\n",
    "test=s[6:,0:5]\n",
    "test>60"
   ]
  },
  {
   "cell_type": "code",
   "execution_count": 276,
   "id": "c87af701",
   "metadata": {},
   "outputs": [],
   "source": [
    "# test[test>60]=1\n",
    "# test"
   ]
  },
  {
   "cell_type": "code",
   "execution_count": 277,
   "id": "b6d4ca90",
   "metadata": {},
   "outputs": [
    {
     "data": {
      "text/plain": [
       "False"
      ]
     },
     "execution_count": 277,
     "metadata": {},
     "output_type": "execute_result"
    }
   ],
   "source": [
    "np.all(s[0:2,:]>60)#所有"
   ]
  },
  {
   "cell_type": "code",
   "execution_count": 278,
   "id": "cba953b7",
   "metadata": {},
   "outputs": [
    {
     "data": {
      "text/plain": [
       "array([[96, 82, 68, 67, 51],\n",
       "       [55, 87, 68, 72, 65],\n",
       "       [60, 42, 46, 82, 96],\n",
       "       [65, 79, 59, 71, 45],\n",
       "       [52, 75, 60, 71, 47],\n",
       "       [76, 40, 40, 52, 84],\n",
       "       [56, 65, 71, 48, 67],\n",
       "       [65, 59, 78, 42, 95],\n",
       "       [64, 63, 92, 91, 50],\n",
       "       [63, 67, 58, 73, 84]])"
      ]
     },
     "execution_count": 278,
     "metadata": {},
     "output_type": "execute_result"
    }
   ],
   "source": [
    "s"
   ]
  },
  {
   "cell_type": "code",
   "execution_count": 279,
   "id": "7c28c17e",
   "metadata": {},
   "outputs": [
    {
     "data": {
      "text/plain": [
       "True"
      ]
     },
     "execution_count": 279,
     "metadata": {},
     "output_type": "execute_result"
    }
   ],
   "source": [
    "np.any(s[0:2,:]>60)#某个"
   ]
  },
  {
   "cell_type": "markdown",
   "id": "bc4e57c2",
   "metadata": {},
   "source": [
    "三元运算符"
   ]
  },
  {
   "cell_type": "code",
   "execution_count": 280,
   "id": "f5af17a9",
   "metadata": {},
   "outputs": [
    {
     "data": {
      "text/plain": [
       "array([[96, 82, 68, 67],\n",
       "       [55, 87, 68, 72],\n",
       "       [60, 42, 46, 82],\n",
       "       [65, 79, 59, 71]])"
      ]
     },
     "execution_count": 280,
     "metadata": {},
     "output_type": "execute_result"
    }
   ],
   "source": [
    "temp=s[:4,:4]\n",
    "temp"
   ]
  },
  {
   "cell_type": "code",
   "execution_count": 281,
   "id": "6d4ceb0f",
   "metadata": {},
   "outputs": [
    {
     "data": {
      "text/plain": [
       "array([[1, 1, 1, 1],\n",
       "       [0, 1, 1, 1],\n",
       "       [0, 0, 0, 1],\n",
       "       [1, 1, 0, 1]])"
      ]
     },
     "execution_count": 281,
     "metadata": {},
     "output_type": "execute_result"
    }
   ],
   "source": [
    "np.where(temp>60,1,0)"
   ]
  },
  {
   "cell_type": "code",
   "execution_count": 282,
   "id": "15352679",
   "metadata": {},
   "outputs": [
    {
     "data": {
      "text/plain": [
       "array([[0, 1, 1, 1],\n",
       "       [0, 1, 1, 1],\n",
       "       [0, 0, 0, 1],\n",
       "       [1, 1, 0, 1]])"
      ]
     },
     "execution_count": 282,
     "metadata": {},
     "output_type": "execute_result"
    }
   ],
   "source": [
    "np.where(np.logical_and(temp>60,temp<90),1,0)#逻辑与"
   ]
  },
  {
   "cell_type": "code",
   "execution_count": null,
   "id": "ef82695f",
   "metadata": {},
   "outputs": [
    {
     "data": {
      "text/plain": [
       "array([[1, 0, 0, 0],\n",
       "       [1, 0, 0, 0],\n",
       "       [0, 1, 1, 0],\n",
       "       [0, 0, 1, 0]])"
      ]
     },
     "execution_count": 283,
     "metadata": {},
     "output_type": "execute_result"
    }
   ],
   "source": [
    "np.where(np.logical_or(temp>90,temp<60),1,0)#逻辑或"
   ]
  },
  {
   "cell_type": "code",
   "execution_count": 286,
   "id": "25e47e4a",
   "metadata": {},
   "outputs": [
    {
     "data": {
      "text/plain": [
       "array([[96, 82, 68, 67, 51],\n",
       "       [55, 87, 68, 72, 65],\n",
       "       [60, 42, 46, 82, 96],\n",
       "       [65, 79, 59, 71, 45]])"
      ]
     },
     "execution_count": 286,
     "metadata": {},
     "output_type": "execute_result"
    }
   ],
   "source": [
    "temp=s[:4,0:5]\n",
    "temp"
   ]
  },
  {
   "cell_type": "code",
   "execution_count": 284,
   "id": "7c8461bf",
   "metadata": {},
   "outputs": [
    {
     "name": "stdout",
     "output_type": "stream",
     "text": [
      "最大分:[96 87 68 82 96]\n",
      "最低分:[55 42 46 67 45]\n",
      "波动情况:[15.98436736 17.83956277  9.01041065  5.52268051 19.71515914]\n",
      "平均分:[69.   72.5  60.25 73.   64.25]\n",
      "中位数:[62.5 80.5 63.5 71.5 58. ]\n"
     ]
    }
   ],
   "source": [
    "temp=s[:4,0:5]\n",
    "print(\"最大分:{}\".format(np.max(temp,axis=0)))\n",
    "print(\"最低分:{}\".format(np.min(temp,axis=0)))\n",
    "print(\"波动情况:{}\".format(np.std(temp,axis=0)))\n",
    "print(\"平均分:{}\".format(np.mean(temp,axis=0)))\n",
    "print(\"中位数:{}\".format(np.median(temp,axis=0)))"
   ]
  },
  {
   "cell_type": "code",
   "execution_count": null,
   "id": "d93f23c1",
   "metadata": {},
   "outputs": [
    {
     "data": {
      "text/plain": [
       "array([0, 1, 0, 2, 2])"
      ]
     },
     "execution_count": 287,
     "metadata": {},
     "output_type": "execute_result"
    }
   ],
   "source": [
    "np.argmax(temp,axis=0)#最大值索引"
   ]
  },
  {
   "cell_type": "code",
   "execution_count": 288,
   "id": "430b09b9",
   "metadata": {},
   "outputs": [
    {
     "data": {
      "text/plain": [
       "array([1, 2, 2, 0, 3])"
      ]
     },
     "execution_count": 288,
     "metadata": {},
     "output_type": "execute_result"
    }
   ],
   "source": [
    "np.argmin(temp,axis=0)#最大值索引"
   ]
  },
  {
   "cell_type": "markdown",
   "id": "0beebcb6",
   "metadata": {},
   "source": [
    "数组间运算"
   ]
  },
  {
   "cell_type": "code",
   "execution_count": null,
   "id": "7cb958cf",
   "metadata": {},
   "outputs": [
    {
     "data": {
      "text/plain": [
       "array([[0.5, 1. , 1.5, 1. , 0.5, 2. ],\n",
       "       [2.5, 3. , 0.5, 1. , 1.5, 0.5]])"
      ]
     },
     "execution_count": 289,
     "metadata": {},
     "output_type": "execute_result"
    }
   ],
   "source": [
    "arr=np.array([[1,2,3,2,1,4],[5,6,1,2,3,1]])\n",
    "\n",
    "arr/2"
   ]
  },
  {
   "cell_type": "code",
   "execution_count": 290,
   "id": "d48deee0",
   "metadata": {},
   "outputs": [
    {
     "data": {
      "text/plain": [
       "array([[2, 3, 4, 3, 2, 5],\n",
       "       [6, 7, 2, 3, 4, 2]])"
      ]
     },
     "execution_count": 290,
     "metadata": {},
     "output_type": "execute_result"
    }
   ],
   "source": [
    "arr+1"
   ]
  },
  {
   "cell_type": "code",
   "execution_count": 291,
   "id": "93d08131",
   "metadata": {},
   "outputs": [
    {
     "data": {
      "text/plain": [
       "[1, 2, 3, 4, 5, 1, 2, 3, 4, 5, 1, 2, 3, 4, 5]"
      ]
     },
     "execution_count": 291,
     "metadata": {},
     "output_type": "execute_result"
    }
   ],
   "source": [
    "a=[1,2,3,4,5]\n",
    "a*3"
   ]
  },
  {
   "cell_type": "code",
   "execution_count": 294,
   "id": "231dc894",
   "metadata": {},
   "outputs": [
    {
     "data": {
      "text/plain": [
       "(4, 1)"
      ]
     },
     "execution_count": 294,
     "metadata": {},
     "output_type": "execute_result"
    }
   ],
   "source": [
    "arr1=np.array([[0],[1],[2],[4]])\n",
    "arr1.shape\n"
   ]
  },
  {
   "cell_type": "code",
   "execution_count": 293,
   "id": "6aed246f",
   "metadata": {},
   "outputs": [
    {
     "data": {
      "text/plain": [
       "(3,)"
      ]
     },
     "execution_count": 293,
     "metadata": {},
     "output_type": "execute_result"
    }
   ],
   "source": [
    "arr2=np.array([1,2,3])\n",
    "arr2.shape"
   ]
  },
  {
   "cell_type": "markdown",
   "id": "1c2a0225",
   "metadata": {},
   "source": [
    "满足广播机制：1.数组的某一维度等长2.其中一个数组的某一维度为1"
   ]
  },
  {
   "cell_type": "code",
   "execution_count": 295,
   "id": "ede7a241",
   "metadata": {},
   "outputs": [
    {
     "data": {
      "text/plain": [
       "array([[1, 2, 3],\n",
       "       [2, 3, 4],\n",
       "       [3, 4, 5],\n",
       "       [5, 6, 7]])"
      ]
     },
     "execution_count": 295,
     "metadata": {},
     "output_type": "execute_result"
    }
   ],
   "source": [
    "arr1+arr2"
   ]
  },
  {
   "cell_type": "markdown",
   "id": "e87ad857",
   "metadata": {},
   "source": [
    "矩阵乘法"
   ]
  },
  {
   "cell_type": "code",
   "execution_count": null,
   "id": "b4b2e695",
   "metadata": {},
   "outputs": [
    {
     "data": {
      "text/plain": [
       "array([[  0, 904],\n",
       "       [  0, 894],\n",
       "       [  0, 907],\n",
       "       [  0, 930]])"
      ]
     },
     "execution_count": 296,
     "metadata": {},
     "output_type": "execute_result"
    }
   ],
   "source": [
    "a=np.array([[80,86],\n",
    "            [82,80],\n",
    "            [85,78],\n",
    "            [86,82]])\n",
    "b=np.array([[0,7],[0,4]])\n",
    "np.matmul(a,b)"
   ]
  },
  {
   "cell_type": "code",
   "execution_count": 297,
   "id": "5e3fe77e",
   "metadata": {},
   "outputs": [
    {
     "data": {
      "text/plain": [
       "array([[  0, 904],\n",
       "       [  0, 894],\n",
       "       [  0, 907],\n",
       "       [  0, 930]])"
      ]
     },
     "execution_count": 297,
     "metadata": {},
     "output_type": "execute_result"
    }
   ],
   "source": [
    "np.dot(a,b)"
   ]
  }
 ],
 "metadata": {
  "kernelspec": {
   "display_name": ".venv",
   "language": "python",
   "name": "python3"
  },
  "language_info": {
   "codemirror_mode": {
    "name": "ipython",
    "version": 3
   },
   "file_extension": ".py",
   "mimetype": "text/x-python",
   "name": "python",
   "nbconvert_exporter": "python",
   "pygments_lexer": "ipython3",
   "version": "3.11.2"
  }
 },
 "nbformat": 4,
 "nbformat_minor": 5
}
