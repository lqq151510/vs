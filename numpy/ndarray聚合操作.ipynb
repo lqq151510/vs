{
 "cells": [
  {
   "cell_type": "code",
   "execution_count": 383,
   "id": "92ffbd55",
   "metadata": {},
   "outputs": [],
   "source": [
    "import numpy   as np"
   ]
  },
  {
   "cell_type": "code",
   "execution_count": 384,
   "id": "26693864",
   "metadata": {},
   "outputs": [
    {
     "data": {
      "text/plain": [
       "array([45, 81, 24, 94, 70])"
      ]
     },
     "execution_count": 384,
     "metadata": {},
     "output_type": "execute_result"
    }
   ],
   "source": [
    "data=np.random.randint(0,100,size=5)\n",
    "data"
   ]
  },
  {
   "cell_type": "code",
   "execution_count": 385,
   "id": "a11a86e6",
   "metadata": {},
   "outputs": [
    {
     "data": {
      "text/plain": [
       "314"
      ]
     },
     "execution_count": 385,
     "metadata": {},
     "output_type": "execute_result"
    }
   ],
   "source": [
    "data.sum()"
   ]
  },
  {
   "cell_type": "code",
   "execution_count": 386,
   "id": "16c24c50",
   "metadata": {},
   "outputs": [
    {
     "data": {
      "text/plain": [
       "array([[3, 2],\n",
       "       [9, 2],\n",
       "       [2, 0]])"
      ]
     },
     "execution_count": 386,
     "metadata": {},
     "output_type": "execute_result"
    }
   ],
   "source": [
    "data=np.random.randint(0,10,size=(3,2))\n",
    "data"
   ]
  },
  {
   "cell_type": "code",
   "execution_count": 387,
   "id": "febbd346",
   "metadata": {},
   "outputs": [
    {
     "data": {
      "text/plain": [
       "18"
      ]
     },
     "execution_count": 387,
     "metadata": {},
     "output_type": "execute_result"
    }
   ],
   "source": [
    "data.sum()"
   ]
  },
  {
   "cell_type": "code",
   "execution_count": 388,
   "id": "6d24aeb2",
   "metadata": {},
   "outputs": [
    {
     "data": {
      "text/plain": [
       "array([14,  4])"
      ]
     },
     "execution_count": 388,
     "metadata": {},
     "output_type": "execute_result"
    }
   ],
   "source": [
    "data.sum(axis=0)#列"
   ]
  },
  {
   "cell_type": "code",
   "execution_count": 389,
   "id": "35ce300c",
   "metadata": {},
   "outputs": [
    {
     "data": {
      "text/plain": [
       "array([ 5, 11,  2])"
      ]
     },
     "execution_count": 389,
     "metadata": {},
     "output_type": "execute_result"
    }
   ],
   "source": [
    "data.sum(axis=1)#行"
   ]
  },
  {
   "cell_type": "code",
   "execution_count": 390,
   "id": "f89b2ad5",
   "metadata": {},
   "outputs": [
    {
     "data": {
      "text/plain": [
       "NoneType"
      ]
     },
     "execution_count": 390,
     "metadata": {},
     "output_type": "execute_result"
    }
   ],
   "source": [
    "type(None)"
   ]
  },
  {
   "cell_type": "code",
   "execution_count": 391,
   "id": "104dcbe6",
   "metadata": {},
   "outputs": [
    {
     "data": {
      "text/plain": [
       "float"
      ]
     },
     "execution_count": 391,
     "metadata": {},
     "output_type": "execute_result"
    }
   ],
   "source": [
    "type(np.nan)"
   ]
  },
  {
   "cell_type": "code",
   "execution_count": 392,
   "id": "05e08fe7",
   "metadata": {},
   "outputs": [
    {
     "data": {
      "text/plain": [
       "nan"
      ]
     },
     "execution_count": 392,
     "metadata": {},
     "output_type": "execute_result"
    }
   ],
   "source": [
    "np.nan"
   ]
  },
  {
   "cell_type": "code",
   "execution_count": 393,
   "id": "929c386a",
   "metadata": {},
   "outputs": [
    {
     "data": {
      "text/plain": [
       "array([5, 8, 4, 8, 1, 8, 0, 8, 3, 4])"
      ]
     },
     "execution_count": 393,
     "metadata": {},
     "output_type": "execute_result"
    }
   ],
   "source": [
    "data=np.random.randint(0,10,size=10)\n",
    "data"
   ]
  },
  {
   "cell_type": "code",
   "execution_count": 394,
   "id": "239886d1",
   "metadata": {},
   "outputs": [
    {
     "data": {
      "text/plain": [
       "array([5., 8., 4., 8., 1., 8., 0., 8., 3., 4.], dtype=float32)"
      ]
     },
     "execution_count": 394,
     "metadata": {},
     "output_type": "execute_result"
    }
   ],
   "source": [
    "data.astype(np.float32)"
   ]
  },
  {
   "cell_type": "code",
   "execution_count": 395,
   "id": "7d8f4bc4",
   "metadata": {},
   "outputs": [
    {
     "data": {
      "text/plain": [
       "array([ 5., nan,  4.,  8.,  1.,  8.,  0.,  8.,  3.,  4.])"
      ]
     },
     "execution_count": 395,
     "metadata": {},
     "output_type": "execute_result"
    }
   ],
   "source": [
    "data = data.astype(np.float64)  # Convert the array to float type\n",
    "data[1] = np.nan  # Assign np.nan to the second element\n",
    "data\n"
   ]
  },
  {
   "cell_type": "code",
   "execution_count": 396,
   "id": "06182d33",
   "metadata": {},
   "outputs": [
    {
     "data": {
      "text/plain": [
       "nan"
      ]
     },
     "execution_count": 396,
     "metadata": {},
     "output_type": "execute_result"
    }
   ],
   "source": [
    "data.sum()"
   ]
  },
  {
   "cell_type": "code",
   "execution_count": 397,
   "id": "6161cab5",
   "metadata": {},
   "outputs": [
    {
     "data": {
      "text/plain": [
       "41.0"
      ]
     },
     "execution_count": 397,
     "metadata": {},
     "output_type": "execute_result"
    }
   ],
   "source": [
    "np.nansum(data)"
   ]
  },
  {
   "cell_type": "code",
   "execution_count": 398,
   "id": "33cab4c5",
   "metadata": {},
   "outputs": [
    {
     "data": {
      "text/plain": [
       "array([5, 8, 6, 0, 5, 5, 9, 6, 9, 4])"
      ]
     },
     "execution_count": 398,
     "metadata": {},
     "output_type": "execute_result"
    }
   ],
   "source": [
    "arr=np.random.randint(0,10,size=10)\n",
    "arr"
   ]
  },
  {
   "cell_type": "code",
   "execution_count": 399,
   "id": "735a9fdd",
   "metadata": {},
   "outputs": [
    {
     "data": {
      "text/plain": [
       "9"
      ]
     },
     "execution_count": 399,
     "metadata": {},
     "output_type": "execute_result"
    }
   ],
   "source": [
    "arr.max()\n"
   ]
  },
  {
   "cell_type": "code",
   "execution_count": 400,
   "id": "7f48d718",
   "metadata": {},
   "outputs": [
    {
     "data": {
      "text/plain": [
       "0"
      ]
     },
     "execution_count": 400,
     "metadata": {},
     "output_type": "execute_result"
    }
   ],
   "source": [
    "arr.min()"
   ]
  },
  {
   "cell_type": "code",
   "execution_count": 401,
   "id": "155fd39e",
   "metadata": {},
   "outputs": [],
   "source": [
    "data=np.random.randint(0,2,size=10).astype(bool)"
   ]
  },
  {
   "cell_type": "code",
   "execution_count": 402,
   "id": "4fa85ebc",
   "metadata": {},
   "outputs": [
    {
     "data": {
      "text/plain": [
       "True"
      ]
     },
     "execution_count": 402,
     "metadata": {},
     "output_type": "execute_result"
    }
   ],
   "source": [
    "data.any()#至少有一个True,返回True"
   ]
  },
  {
   "cell_type": "code",
   "execution_count": 403,
   "id": "ea999698",
   "metadata": {},
   "outputs": [
    {
     "data": {
      "text/plain": [
       "False"
      ]
     },
     "execution_count": 403,
     "metadata": {},
     "output_type": "execute_result"
    }
   ],
   "source": [
    "data.all()#全是True,返回True"
   ]
  },
  {
   "cell_type": "code",
   "execution_count": 404,
   "id": "a173495a",
   "metadata": {},
   "outputs": [
    {
     "data": {
      "text/plain": [
       "False"
      ]
     },
     "execution_count": 404,
     "metadata": {},
     "output_type": "execute_result"
    }
   ],
   "source": [
    "datal=np.array([True,False,True])\n",
    "datal.all()"
   ]
  },
  {
   "cell_type": "code",
   "execution_count": 405,
   "id": "3f4d971e",
   "metadata": {},
   "outputs": [
    {
     "data": {
      "text/plain": [
       "array([37, 74, 22, 51, 34, 52,  6, 39, 96, 80,  7, 33, 25, 92, 20, 59, 61,\n",
       "       59, 27, 80, 21, 20, 20, 63, 89, 40, 59, 90,  8, 94, 70, 62, 68, 58,\n",
       "       27, 46, 20, 66, 71, 44, 64, 55, 96, 91, 51, 72,  0, 15, 84, 55, 33,\n",
       "       10, 96, 12, 26, 45, 29, 29, 26, 24, 64, 35, 35, 80, 32, 16, 28,  9,\n",
       "       77, 86, 86, 17, 39, 39,  7, 47, 25, 33, 23, 60, 48, 69, 84, 51, 83,\n",
       "       74, 41,  5, 95, 35, 35, 83, 40, 86, 42, 63, 35, 63, 44, 26])"
      ]
     },
     "execution_count": 405,
     "metadata": {},
     "output_type": "execute_result"
    }
   ],
   "source": [
    "score=np.random.randint(0,100,size=100)\n",
    "score"
   ]
  },
  {
   "cell_type": "code",
   "execution_count": 406,
   "id": "9b4f45fe",
   "metadata": {},
   "outputs": [
    {
     "data": {
      "text/plain": [
       "True"
      ]
     },
     "execution_count": 406,
     "metadata": {},
     "output_type": "execute_result"
    }
   ],
   "source": [
    "(score<60).any()"
   ]
  },
  {
   "cell_type": "code",
   "execution_count": 407,
   "id": "06604729",
   "metadata": {},
   "outputs": [
    {
     "data": {
      "text/plain": [
       "False"
      ]
     },
     "execution_count": 407,
     "metadata": {},
     "output_type": "execute_result"
    }
   ],
   "source": [
    "(score>60).all()"
   ]
  }
 ],
 "metadata": {
  "kernelspec": {
   "display_name": ".venv",
   "language": "python",
   "name": "python3"
  },
  "language_info": {
   "codemirror_mode": {
    "name": "ipython",
    "version": 3
   },
   "file_extension": ".py",
   "mimetype": "text/x-python",
   "name": "python",
   "nbconvert_exporter": "python",
   "pygments_lexer": "ipython3",
   "version": "3.11.2"
  }
 },
 "nbformat": 4,
 "nbformat_minor": 5
}
