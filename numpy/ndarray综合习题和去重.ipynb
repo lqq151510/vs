{
 "cells": [
  {
   "cell_type": "code",
   "execution_count": 88,
   "id": "73b0804b",
   "metadata": {},
   "outputs": [],
   "source": [
    "import numpy as np"
   ]
  },
  {
   "cell_type": "code",
   "execution_count": 89,
   "id": "edad22f1",
   "metadata": {},
   "outputs": [],
   "source": [
    "python=np.random.randint(0,100,size=100)"
   ]
  },
  {
   "cell_type": "code",
   "execution_count": 90,
   "id": "f8945091",
   "metadata": {},
   "outputs": [
    {
     "data": {
      "text/plain": [
       "0.4"
      ]
     },
     "execution_count": 90,
     "metadata": {},
     "output_type": "execute_result"
    }
   ],
   "source": [
    "((python>60)*1).mean()"
   ]
  },
  {
   "cell_type": "markdown",
   "id": "8fd3761c",
   "metadata": {},
   "source": [
    "生成一个成绩列表，100人。求及格率"
   ]
  },
  {
   "cell_type": "markdown",
   "id": "cd3f8a7e",
   "metadata": {},
   "source": [
    "### 计算及格率\n",
    "代码 `((python>60)*1).mean()` 的作用是计算成绩列表中及格的比例。\n",
    "- `python>60` 会生成一个布尔数组，表示每个成绩是否大于 60（即是否及格）。\n",
    "- `*1` 将布尔值转换为整数值（`True` 转为 1，`False` 转为 0）。\n",
    "- `.mean()` 计算数组的平均值，即及格的比例（及格人数占总人数的百分比）。"
   ]
  },
  {
   "cell_type": "code",
   "execution_count": 91,
   "id": "8efbe557",
   "metadata": {},
   "outputs": [],
   "source": [
    "def standerd_transform(x):\n",
    "    return (x-x.mean())/x.std()\n",
    "    "
   ]
  },
  {
   "cell_type": "markdown",
   "id": "c7295307",
   "metadata": {},
   "source": [
    "数据标准化：减去期望值再除以方差"
   ]
  },
  {
   "cell_type": "markdown",
   "id": "63d90e7f",
   "metadata": {},
   "source": [
    "### 数据标准化函数\n",
    "函数 `standerd_transform(x)` 用于对输入数组 `x` 进行标准化处理。\n",
    "- 标准化的公式为 `(x - x.mean()) / x.std()`。\n",
    "- 该公式会将数据的均值调整为 0，标准差调整为 1，从而消除数据的量纲影响。\n",
    "- 标准化后的数据适用于需要归一化输入的机器学习算法或统计分析。"
   ]
  },
  {
   "cell_type": "code",
   "execution_count": 92,
   "id": "c4c7920b",
   "metadata": {},
   "outputs": [
    {
     "data": {
      "text/plain": [
       "array([-1.82142333e+00,  2.21153456e+00, -1.06996922e+00, -1.51546277e+00,\n",
       "        1.22707918e-01,  8.44603114e-01, -8.22629087e-01, -2.04151016e+00,\n",
       "       -2.03287080e+00, -1.45706005e-01, -2.27742763e+00,  4.86694328e-01,\n",
       "        5.61248929e-01,  5.45304347e-01, -2.14383803e+00,  3.23973581e-01,\n",
       "        1.54050249e+00,  1.03346688e+00, -1.66521221e+00,  3.80573887e-01,\n",
       "       -1.27261373e+00,  9.57004646e-01,  3.49269169e-01, -1.02058418e+00,\n",
       "       -2.06632323e+00,  2.03525343e-01, -2.36607716e-01, -1.36801429e+00,\n",
       "       -1.82198483e-01,  3.82084067e-04,  9.40946080e-01,  1.26334018e+00,\n",
       "       -8.38754136e-01,  3.62527134e-01,  5.05093526e-01,  1.94865312e-01,\n",
       "        5.25382099e-01,  1.87108173e-01,  8.39677931e-01,  8.96641211e-01,\n",
       "       -1.09499555e-01,  8.38651122e-01, -6.87444922e-01,  1.04538330e+00,\n",
       "       -4.46691334e-01, -1.05445969e+00,  2.81722855e-01,  6.14983861e-01,\n",
       "        2.13457152e-01, -3.38122012e-01,  2.79308834e-01,  1.28475972e+00,\n",
       "       -3.60089335e-01, -1.06507131e+00, -1.25667143e+00,  7.30426195e-01,\n",
       "       -7.47896445e-01,  5.79986307e-01, -2.21897797e-01, -1.11934216e+00,\n",
       "        3.10060386e-01, -8.11497666e-01,  9.99468393e-01, -7.02812413e-01,\n",
       "        1.61651528e+00,  4.45413506e-01,  3.41194185e-01,  5.46149224e-01,\n",
       "        5.02464414e-01,  6.19748736e-01, -6.54543183e-01, -4.13500648e-01,\n",
       "       -6.03345900e-01, -1.15912719e+00, -1.25706225e+00, -6.87615144e-01,\n",
       "        1.26022670e+00,  6.00665558e-01,  5.95952892e-01,  3.72104864e-01,\n",
       "       -3.11397697e-02, -1.00375931e+00,  5.20455279e-01, -2.44889092e+00,\n",
       "       -2.12253857e-01,  9.78046261e-01,  9.39156397e-01, -2.68122820e+00,\n",
       "        2.02742317e+00,  9.13765186e-01, -7.55573668e-01, -7.46794204e-01,\n",
       "       -4.90970015e-01, -4.51953767e-01,  9.14224074e-01, -8.12230061e-02,\n",
       "        1.18610422e+00,  4.54553019e-01, -4.78665381e-01, -5.26615150e-01])"
      ]
     },
     "execution_count": 92,
     "metadata": {},
     "output_type": "execute_result"
    }
   ],
   "source": [
    "data=np.random.randn(100)\n",
    "data"
   ]
  },
  {
   "cell_type": "markdown",
   "id": "5371fae8",
   "metadata": {},
   "source": [
    "随机一个一维数组，比较其中是否有至少一个数据大于3倍平均值"
   ]
  },
  {
   "cell_type": "code",
   "execution_count": 93,
   "id": "adbde207",
   "metadata": {},
   "outputs": [
    {
     "data": {
      "text/plain": [
       "array([[ 0.71163693, -0.98335778,  1.85278326],\n",
       "       [-0.90802833,  0.45837522,  1.29920697],\n",
       "       [ 1.27135906, -0.49771876,  0.21689141],\n",
       "       ...,\n",
       "       [ 0.83397483,  0.56834744, -0.33214933],\n",
       "       [ 0.22397298, -0.78911035,  1.34699061],\n",
       "       [ 1.0624995 , -1.53912234, -0.06205021]])"
      ]
     },
     "execution_count": 93,
     "metadata": {},
     "output_type": "execute_result"
    }
   ],
   "source": [
    "data=np.random.randn(1000,3)\n",
    "data"
   ]
  },
  {
   "cell_type": "code",
   "execution_count": 94,
   "id": "1d97e59f",
   "metadata": {},
   "outputs": [
    {
     "data": {
      "text/plain": [
       "array([ True,  True, False])"
      ]
     },
     "execution_count": 94,
     "metadata": {},
     "output_type": "execute_result"
    }
   ],
   "source": [
    "(data>data.std(axis=0)*3).any(axis=0)"
   ]
  },
  {
   "cell_type": "markdown",
   "id": "5fa427c9",
   "metadata": {},
   "source": [
    "生成1000行3列的一个标准正太分布方程组，查询每一列是否存在至少一个大数据大于该列的3倍标准差"
   ]
  },
  {
   "cell_type": "markdown",
   "id": "35f85821",
   "metadata": {},
   "source": [
    "### 检查是否存在异常值\n",
    "代码 `(data>data.std(axis=0)*3).any(axis=0)` 用于检查数组 `data` 中每一列是否存在至少一个值大于该列标准差的 3 倍。\n",
    "- `data.std(axis=0)` 计算每一列的标准差。\n",
    "- `data>data.std(axis=0)*3` 生成一个布尔数组，表示每个元素是否大于对应列标准差的 3 倍。\n",
    "- `.any(axis=0)` 检查布尔数组中每列是否至少有一个 `True` 值，返回一个布尔数组，表示每列是否存在异常值。\n",
    "- 该操作常用于检测数据中的异常值（outliers）。"
   ]
  },
  {
   "cell_type": "markdown",
   "id": "686dfb92",
   "metadata": {},
   "source": [
    "### 按列计算标准差\n",
    "代码 `data.std(axis=0)` 用于计算数组 `data` 中每一列的标准差。\n",
    "- 参数 `axis=0` 指定沿着第 0 轴（即行的方向）计算标准差，因此结果是一个包含每列标准差的一维数组。\n",
    "- 标准差是衡量数据分布离散程度的指标，表示数据点与均值的平均偏离程度。\n",
    "- 该操作常用于分析多维数据中各列的分布特性。"
   ]
  },
  {
   "cell_type": "code",
   "execution_count": 95,
   "id": "9533654d",
   "metadata": {},
   "outputs": [
    {
     "data": {
      "text/plain": [
       "True"
      ]
     },
     "execution_count": 95,
     "metadata": {},
     "output_type": "execute_result"
    }
   ],
   "source": [
    "a=np.ones(shape=(4,4))\n",
    "b=np.ones(shape=(4,4))\n",
    "(a==b).all()"
   ]
  },
  {
   "cell_type": "markdown",
   "id": "1d1e25f0",
   "metadata": {},
   "source": [
    "如何检查两个形状相同的数组完全一致"
   ]
  },
  {
   "cell_type": "code",
   "execution_count": null,
   "id": "ab12dded",
   "metadata": {},
   "outputs": [],
   "source": [
    "c=np.array([1,1,1,2,3,4,4,5])\n"
   ]
  },
  {
   "cell_type": "code",
   "execution_count": null,
   "id": "9321ffe7",
   "metadata": {},
   "outputs": [],
   "source": [
    "np.unique(c)"
   ]
  },
  {
   "cell_type": "markdown",
   "id": "b314f019",
   "metadata": {},
   "source": [
    "### 去除重复值\n",
    "使用 `np.unique(c)` 方法可以去除数组 `c` 中的重复值。\n",
    "- 该方法返回一个排序后的新数组，其中包含原数组中所有唯一值。\n",
    "- 常用于数据去重或统计唯一值的场景。"
   ]
  }
 ],
 "metadata": {
  "kernelspec": {
   "display_name": ".venv",
   "language": "python",
   "name": "python3"
  },
  "language_info": {
   "codemirror_mode": {
    "name": "ipython",
    "version": 3
   },
   "file_extension": ".py",
   "mimetype": "text/x-python",
   "name": "python",
   "nbconvert_exporter": "python",
   "pygments_lexer": "ipython3",
   "version": "3.11.2"
  }
 },
 "nbformat": 4,
 "nbformat_minor": 5
}
