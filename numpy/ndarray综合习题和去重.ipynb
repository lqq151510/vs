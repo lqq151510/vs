{
 "cells": [
  {
   "cell_type": "code",
   "execution_count": 1,
   "id": "73b0804b",
   "metadata": {},
   "outputs": [],
   "source": [
    "import numpy as np"
   ]
  },
  {
   "cell_type": "code",
   "execution_count": 2,
   "id": "edad22f1",
   "metadata": {},
   "outputs": [],
   "source": [
    "python=np.random.randint(0,100,size=100)"
   ]
  },
  {
   "cell_type": "code",
   "execution_count": 3,
   "id": "f8945091",
   "metadata": {},
   "outputs": [
    {
     "data": {
      "text/plain": [
       "0.52"
      ]
     },
     "execution_count": 3,
     "metadata": {},
     "output_type": "execute_result"
    }
   ],
   "source": [
    "((python>60)*1).mean()"
   ]
  },
  {
   "cell_type": "markdown",
   "id": "8fd3761c",
   "metadata": {},
   "source": [
    "生成一个成绩列表，100人。求及格率"
   ]
  },
  {
   "cell_type": "markdown",
   "id": "cd3f8a7e",
   "metadata": {},
   "source": [
    "### 计算及格率\n",
    "代码 `((python>60)*1).mean()` 的作用是计算成绩列表中及格的比例。\n",
    "- `python>60` 会生成一个布尔数组，表示每个成绩是否大于 60（即是否及格）。\n",
    "- `*1` 将布尔值转换为整数值（`True` 转为 1，`False` 转为 0）。\n",
    "- `.mean()` 计算数组的平均值，即及格的比例（及格人数占总人数的百分比）。"
   ]
  },
  {
   "cell_type": "code",
   "execution_count": 4,
   "id": "8efbe557",
   "metadata": {},
   "outputs": [],
   "source": [
    "def standerd_transform(x):\n",
    "    return (x-x.mean())/x.std()\n",
    "    "
   ]
  },
  {
   "cell_type": "markdown",
   "id": "c7295307",
   "metadata": {},
   "source": [
    "数据标准化：减去期望值再除以方差"
   ]
  },
  {
   "cell_type": "markdown",
   "id": "63d90e7f",
   "metadata": {},
   "source": [
    "### 数据标准化函数\n",
    "函数 `standerd_transform(x)` 用于对输入数组 `x` 进行标准化处理。\n",
    "- 标准化的公式为 `(x - x.mean()) / x.std()`。\n",
    "- 该公式会将数据的均值调整为 0，标准差调整为 1，从而消除数据的量纲影响。\n",
    "- 标准化后的数据适用于需要归一化输入的机器学习算法或统计分析。"
   ]
  },
  {
   "cell_type": "code",
   "execution_count": 5,
   "id": "c4c7920b",
   "metadata": {},
   "outputs": [
    {
     "data": {
      "text/plain": [
       "array([ 0.19112848,  1.16407153, -0.67536123, -1.61746217, -0.78291233,\n",
       "        0.70024977,  0.94848091,  0.61900324,  0.99124531,  0.34216539,\n",
       "        0.29078829,  1.86425581,  0.00655689,  0.26076728, -1.70703951,\n",
       "       -0.27347444,  0.49092408, -0.82836376,  0.11058009,  1.75223597,\n",
       "        0.15464491,  0.99206464,  0.00387052, -0.43704089,  0.54579907,\n",
       "       -0.61620382,  0.32223619,  0.65050476, -1.10459054, -0.24979704,\n",
       "       -0.21930002, -0.03149619,  1.43688221, -0.35168861,  0.71516655,\n",
       "       -0.46475428, -0.66554535,  0.67708952,  0.86388712, -0.98148862,\n",
       "        1.79196997,  0.45625658, -1.06249317,  0.02417476,  0.48058756,\n",
       "       -0.75195491,  2.96588123,  0.75923967,  1.19627482,  1.1616542 ,\n",
       "        1.99268508, -1.53921834, -0.00999454,  0.03588547, -1.96886201,\n",
       "        0.02392235, -1.0121263 ,  2.15601159,  1.8866116 , -0.6499955 ,\n",
       "       -0.37259491,  1.0122694 ,  1.57470627, -1.19234421, -1.02852602,\n",
       "       -0.15056069, -2.05024824,  1.54986597, -0.79095718,  2.08378805,\n",
       "        0.57480668, -0.37374075, -0.47299456,  0.99171305,  1.30922518,\n",
       "        0.1825469 , -0.9468805 , -0.91617427, -0.45021871, -2.0025282 ,\n",
       "        0.60721641,  0.46588464,  0.80353466, -0.47102711, -1.79147695,\n",
       "        0.09628208, -1.00094448, -0.78899547,  1.04783252, -1.12425889,\n",
       "        0.51208217, -1.10511727, -1.11600191,  0.05609061,  0.17674468,\n",
       "        0.90286319,  1.4167726 , -0.71737718,  0.02659304,  1.47697257])"
      ]
     },
     "execution_count": 5,
     "metadata": {},
     "output_type": "execute_result"
    }
   ],
   "source": [
    "data=np.random.randn(100)\n",
    "data"
   ]
  },
  {
   "cell_type": "markdown",
   "id": "5371fae8",
   "metadata": {},
   "source": [
    "随机一个一维数组，比较其中是否有至少一个数据大于3倍平均值"
   ]
  },
  {
   "cell_type": "code",
   "execution_count": 6,
   "id": "adbde207",
   "metadata": {},
   "outputs": [
    {
     "data": {
      "text/plain": [
       "array([[-0.81473879, -0.08744495, -0.13781687],\n",
       "       [-0.45362162,  0.06251745, -0.09549354],\n",
       "       [-0.02990215, -0.15833496, -0.15658932],\n",
       "       ...,\n",
       "       [ 0.30328299, -0.59672283, -0.93750492],\n",
       "       [ 0.62194472, -0.01579409,  1.42174951],\n",
       "       [-0.56650791, -0.17702221,  0.64126323]])"
      ]
     },
     "execution_count": 6,
     "metadata": {},
     "output_type": "execute_result"
    }
   ],
   "source": [
    "data=np.random.randn(1000,3)\n",
    "data"
   ]
  },
  {
   "cell_type": "code",
   "execution_count": 7,
   "id": "1d97e59f",
   "metadata": {},
   "outputs": [
    {
     "data": {
      "text/plain": [
       "array([ True,  True,  True])"
      ]
     },
     "execution_count": 7,
     "metadata": {},
     "output_type": "execute_result"
    }
   ],
   "source": [
    "(data>data.std(axis=0)*3).any(axis=0)"
   ]
  },
  {
   "cell_type": "markdown",
   "id": "5fa427c9",
   "metadata": {},
   "source": [
    "生成1000行3列的一个标准正太分布方程组，查询每一列是否存在至少一个大数据大于该列的3倍标准差"
   ]
  },
  {
   "cell_type": "markdown",
   "id": "35f85821",
   "metadata": {},
   "source": [
    "### 检查是否存在异常值\n",
    "代码 `(data>data.std(axis=0)*3).any(axis=0)` 用于检查数组 `data` 中每一列是否存在至少一个值大于该列标准差的 3 倍。\n",
    "- `data.std(axis=0)` 计算每一列的标准差。\n",
    "- `data>data.std(axis=0)*3` 生成一个布尔数组，表示每个元素是否大于对应列标准差的 3 倍。\n",
    "- `.any(axis=0)` 检查布尔数组中每列是否至少有一个 `True` 值，返回一个布尔数组，表示每列是否存在异常值。\n",
    "- 该操作常用于检测数据中的异常值（outliers）。"
   ]
  },
  {
   "cell_type": "markdown",
   "id": "686dfb92",
   "metadata": {},
   "source": [
    "### 按列计算标准差\n",
    "代码 `data.std(axis=0)` 用于计算数组 `data` 中每一列的标准差。\n",
    "- 参数 `axis=0` 指定沿着第 0 轴（即行的方向）计算标准差，因此结果是一个包含每列标准差的一维数组。\n",
    "- 标准差是衡量数据分布离散程度的指标，表示数据点与均值的平均偏离程度。\n",
    "- 该操作常用于分析多维数据中各列的分布特性。"
   ]
  },
  {
   "cell_type": "code",
   "execution_count": 8,
   "id": "9533654d",
   "metadata": {},
   "outputs": [
    {
     "data": {
      "text/plain": [
       "True"
      ]
     },
     "execution_count": 8,
     "metadata": {},
     "output_type": "execute_result"
    }
   ],
   "source": [
    "a=np.ones(shape=(4,4))\n",
    "b=np.ones(shape=(4,4))\n",
    "(a==b).all()"
   ]
  },
  {
   "cell_type": "markdown",
   "id": "1d1e25f0",
   "metadata": {},
   "source": [
    "如何检查两个形状相同的数组完全一致"
   ]
  },
  {
   "cell_type": "code",
   "execution_count": 9,
   "id": "ab12dded",
   "metadata": {},
   "outputs": [],
   "source": [
    "c=np.array([1,1,1,2,3,4,4,5])\n"
   ]
  },
  {
   "cell_type": "code",
   "execution_count": 10,
   "id": "9321ffe7",
   "metadata": {},
   "outputs": [
    {
     "data": {
      "text/plain": [
       "array([1, 2, 3, 4, 5])"
      ]
     },
     "execution_count": 10,
     "metadata": {},
     "output_type": "execute_result"
    }
   ],
   "source": [
    "c=np.unique(c)\n",
    "c"
   ]
  },
  {
   "cell_type": "markdown",
   "id": "b314f019",
   "metadata": {},
   "source": [
    "### 去除重复值\n",
    "使用 `np.unique(c)` 方法可以去除数组 `c` 中的重复值。\n",
    "- 该方法返回一个排序后的新数组，其中包含原数组中所有唯一值。\n",
    "- 常用于数据去重或统计唯一值的场景。"
   ]
  }
 ],
 "metadata": {
  "kernelspec": {
   "display_name": ".venv",
   "language": "python",
   "name": "python3"
  },
  "language_info": {
   "codemirror_mode": {
    "name": "ipython",
    "version": 3
   },
   "file_extension": ".py",
   "mimetype": "text/x-python",
   "name": "python",
   "nbconvert_exporter": "python",
   "pygments_lexer": "ipython3",
   "version": "3.11.2"
  }
 },
 "nbformat": 4,
 "nbformat_minor": 5
}
