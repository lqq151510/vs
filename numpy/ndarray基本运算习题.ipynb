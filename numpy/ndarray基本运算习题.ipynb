{
 "cells": [
  {
   "cell_type": "code",
   "execution_count": 21,
   "id": "d739d08c",
   "metadata": {},
   "outputs": [],
   "source": [
    "import numpy as np"
   ]
  },
  {
   "cell_type": "code",
   "execution_count": 22,
   "id": "a5cc137a",
   "metadata": {},
   "outputs": [
    {
     "data": {
      "text/plain": [
       "array([[1.],\n",
       "       [1.],\n",
       "       [1.],\n",
       "       [1.]])"
      ]
     },
     "metadata": {},
     "output_type": "display_data"
    },
    {
     "data": {
      "text/plain": [
       "array([0, 1, 2, 3])"
      ]
     },
     "metadata": {},
     "output_type": "display_data"
    }
   ],
   "source": [
    "a=np.ones((4,1))\n",
    "b=np.arange(4)\n",
    "display(a,b)"
   ]
  },
  {
   "cell_type": "code",
   "execution_count": 23,
   "id": "52a1fb78",
   "metadata": {},
   "outputs": [
    {
     "data": {
      "text/plain": [
       "array([[1., 2., 3., 4.],\n",
       "       [1., 2., 3., 4.],\n",
       "       [1., 2., 3., 4.],\n",
       "       [1., 2., 3., 4.]])"
      ]
     },
     "execution_count": 23,
     "metadata": {},
     "output_type": "execute_result"
    }
   ],
   "source": [
    "a+b"
   ]
  },
  {
   "cell_type": "markdown",
   "id": "b6e52537",
   "metadata": {},
   "source": [
    "a=np.ones((4,1)),b=np.arange(4),a+b"
   ]
  },
  {
   "cell_type": "markdown",
   "id": "2bda6111",
   "metadata": {},
   "source": [
    "### 广播机制示例\n",
    "在 `a+b` 中，`a` 是一个形状为 `(4,1)` 的二维数组，`b` 是一个形状为 `(4,)` 的一维数组。\n",
    "通过 NumPy 的广播机制，`b` 的形状会被扩展为 `(4,1)`，然后与 `a` 逐元素相加。\n",
    "广播机制允许形状不同的数组进行运算，只要它们在维度上是兼容的。"
   ]
  },
  {
   "cell_type": "code",
   "execution_count": 24,
   "id": "19c2440c",
   "metadata": {},
   "outputs": [
    {
     "data": {
      "text/plain": [
       "array([21, 21, 21, 20, 22, 21, 22, 21, 22, 21, 20, 22, 21, 21, 22, 20, 21,\n",
       "       21, 22, 21, 20, 22, 22, 21, 21, 22, 20, 20, 22, 21, 20, 21, 22, 21,\n",
       "       21, 22, 22, 20, 21, 21, 20, 21, 21, 21, 20, 21, 22, 21, 20, 22, 21,\n",
       "       22, 22, 20, 20, 21, 22, 21, 20, 22, 21, 22, 20, 21, 22, 22, 20, 20,\n",
       "       21, 22, 21, 20, 22, 21, 21, 21, 20, 20, 20, 21, 22, 21, 22, 20, 20,\n",
       "       20, 21, 22, 20, 21, 20, 22, 21, 22, 21, 22, 21, 21, 21, 20])"
      ]
     },
     "execution_count": 24,
     "metadata": {},
     "output_type": "execute_result"
    }
   ],
   "source": [
    "data=np.random.randint(20,23,size=100)\n",
    "data"
   ]
  },
  {
   "cell_type": "code",
   "execution_count": 25,
   "id": "1400b13a",
   "metadata": {},
   "outputs": [
    {
     "data": {
      "text/plain": [
       "array([20, 20, 20, 19, 21, 20, 21, 20, 21, 20, 19, 21, 20, 20, 21, 19, 20,\n",
       "       20, 21, 20, 19, 21, 21, 20, 20, 21, 19, 19, 21, 20, 19, 20, 21, 20,\n",
       "       20, 21, 21, 19, 20, 20, 19, 20, 20, 20, 19, 20, 21, 20, 19, 21, 20,\n",
       "       21, 21, 19, 19, 20, 21, 20, 19, 21, 20, 21, 19, 20, 21, 21, 19, 19,\n",
       "       20, 21, 20, 19, 21, 20, 20, 20, 19, 19, 19, 20, 21, 20, 21, 19, 19,\n",
       "       19, 20, 21, 19, 20, 19, 21, 20, 21, 20, 21, 20, 20, 20, 19])"
      ]
     },
     "execution_count": 25,
     "metadata": {},
     "output_type": "execute_result"
    }
   ],
   "source": [
    "data-1"
   ]
  },
  {
   "cell_type": "markdown",
   "id": "779e581d",
   "metadata": {},
   "source": [
    "假设有100个员工，每个人考勤天数-1，如何操作\n"
   ]
  },
  {
   "cell_type": "code",
   "execution_count": 26,
   "id": "f49ac949",
   "metadata": {},
   "outputs": [
    {
     "data": {
      "text/plain": [
       "array([8, 8, 7, 8, 8, 7, 7, 7, 9, 8, 9, 8, 8, 9, 9, 9, 8, 9, 9, 7, 8, 8,\n",
       "       9, 9, 7, 8, 8, 9, 8, 7, 8, 7, 8, 8, 7, 9, 8, 8, 7, 9, 8, 9, 8, 9,\n",
       "       7, 8, 7, 8, 8, 8, 7, 8, 8, 9, 9, 8, 8, 9, 8, 8, 7, 9, 9, 9, 8, 7,\n",
       "       8, 9, 7, 7, 9, 7, 9, 7, 8, 9, 8, 8, 9, 9, 9, 8, 8, 7, 9, 9, 8, 8,\n",
       "       8, 8, 9, 9, 7, 7, 7, 8, 7, 8, 7, 7])"
      ]
     },
     "execution_count": 26,
     "metadata": {},
     "output_type": "execute_result"
    }
   ],
   "source": [
    "data=np.random.randint(7,10,size=100)\n",
    "data"
   ]
  },
  {
   "cell_type": "code",
   "execution_count": null,
   "id": "256d4b3e",
   "metadata": {},
   "outputs": [
    {
     "data": {
      "text/plain": [
       "array([False, False,  True, False, False,  True,  True,  True, False,\n",
       "       False, False, False, False, False, False, False, False, False,\n",
       "       False,  True, False, False, False, False,  True, False, False,\n",
       "       False, False,  True, False,  True, False, False,  True, False,\n",
       "       False, False,  True, False, False, False, False, False,  True,\n",
       "       False,  True, False, False, False,  True, False, False, False,\n",
       "       False, False, False, False, False, False,  True, False, False,\n",
       "       False, False,  True, False, False,  True,  True, False,  True,\n",
       "       False,  True, False, False, False, False, False, False, False,\n",
       "       False, False,  True, False, False, False, False, False, False,\n",
       "       False, False,  True,  True,  True, False,  True, False,  True,\n",
       "        True])"
      ]
     },
     "execution_count": 27,
     "metadata": {},
     "output_type": "execute_result"
    }
   ],
   "source": [
    "data<8 "
   ]
  },
  {
   "cell_type": "markdown",
   "id": "cdaff6cc",
   "metadata": {},
   "source": [
    "假设员工上班通过np.random.randint(7,10,100)获取，如何快速找到上班时间不足8小时的员工"
   ]
  }
 ],
 "metadata": {
  "kernelspec": {
   "display_name": ".venv",
   "language": "python",
   "name": "python3"
  },
  "language_info": {
   "codemirror_mode": {
    "name": "ipython",
    "version": 3
   },
   "file_extension": ".py",
   "mimetype": "text/x-python",
   "name": "python",
   "nbconvert_exporter": "python",
   "pygments_lexer": "ipython3",
   "version": "3.11.2"
  }
 },
 "nbformat": 4,
 "nbformat_minor": 5
}
