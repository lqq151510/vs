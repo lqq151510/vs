{
 "cells": [
  {
   "cell_type": "code",
   "execution_count": 3,
   "id": "d739d08c",
   "metadata": {},
   "outputs": [],
   "source": [
    "import numpy as np"
   ]
  },
  {
   "cell_type": "code",
   "execution_count": 4,
   "id": "a5cc137a",
   "metadata": {},
   "outputs": [
    {
     "data": {
      "text/plain": [
       "array([[1.],\n",
       "       [1.],\n",
       "       [1.],\n",
       "       [1.]])"
      ]
     },
     "metadata": {},
     "output_type": "display_data"
    },
    {
     "data": {
      "text/plain": [
       "array([0, 1, 2, 3])"
      ]
     },
     "metadata": {},
     "output_type": "display_data"
    }
   ],
   "source": [
    "a=np.ones((4,1))\n",
    "b=np.arange(4)\n",
    "display(a,b)"
   ]
  },
  {
   "cell_type": "code",
   "execution_count": 5,
   "id": "52a1fb78",
   "metadata": {},
   "outputs": [
    {
     "data": {
      "text/plain": [
       "array([[1., 2., 3., 4.],\n",
       "       [1., 2., 3., 4.],\n",
       "       [1., 2., 3., 4.],\n",
       "       [1., 2., 3., 4.]])"
      ]
     },
     "execution_count": 5,
     "metadata": {},
     "output_type": "execute_result"
    }
   ],
   "source": [
    "a+b"
   ]
  },
  {
   "cell_type": "markdown",
   "id": "b6e52537",
   "metadata": {},
   "source": [
    "a=np.ones((4,1)),b=np.arange(4),a+b"
   ]
  },
  {
   "cell_type": "markdown",
   "id": "2bda6111",
   "metadata": {},
   "source": [
    "### 广播机制示例\n",
    "在 `a+b` 中，`a` 是一个形状为 `(4,1)` 的二维数组，`b` 是一个形状为 `(4,)` 的一维数组。\n",
    "通过 NumPy 的广播机制，`b` 的形状会被扩展为 `(4,1)`，然后与 `a` 逐元素相加。\n",
    "广播机制允许形状不同的数组进行运算，只要它们在维度上是兼容的。"
   ]
  },
  {
   "cell_type": "code",
   "execution_count": null,
   "id": "19c2440c",
   "metadata": {},
   "outputs": [],
   "source": []
  },
  {
   "cell_type": "markdown",
   "id": "779e581d",
   "metadata": {},
   "source": [
    "假设有100个员工，每个人考勤天数-1，如何操作\n"
   ]
  }
 ],
 "metadata": {
  "kernelspec": {
   "display_name": ".venv",
   "language": "python",
   "name": "python3"
  },
  "language_info": {
   "codemirror_mode": {
    "name": "ipython",
    "version": 3
   },
   "file_extension": ".py",
   "mimetype": "text/x-python",
   "name": "python",
   "nbconvert_exporter": "python",
   "pygments_lexer": "ipython3",
   "version": "3.11.2"
  }
 },
 "nbformat": 4,
 "nbformat_minor": 5
}
