{
 "cells": [
  {
   "cell_type": "code",
   "execution_count": 160,
   "id": "6b7a8990",
   "metadata": {},
   "outputs": [],
   "source": [
    "import numpy as np\n"
   ]
  },
  {
   "cell_type": "code",
   "execution_count": 161,
   "id": "23bf4b10",
   "metadata": {},
   "outputs": [],
   "source": [
    "data=np.random.randint(0,100,size=10)"
   ]
  },
  {
   "cell_type": "code",
   "execution_count": 162,
   "id": "16b299e1",
   "metadata": {},
   "outputs": [
    {
     "data": {
      "text/plain": [
       "array([31, 32, 28, 12, 72,  9, 61, 52, 21, 96])"
      ]
     },
     "execution_count": 162,
     "metadata": {},
     "output_type": "execute_result"
    }
   ],
   "source": [
    "data"
   ]
  },
  {
   "cell_type": "code",
   "execution_count": 163,
   "id": "aa84e09f",
   "metadata": {},
   "outputs": [
    {
     "data": {
      "text/plain": [
       "9"
      ]
     },
     "execution_count": 163,
     "metadata": {},
     "output_type": "execute_result"
    }
   ],
   "source": [
    "data.argmax()#最大值索引"
   ]
  },
  {
   "cell_type": "code",
   "execution_count": 164,
   "id": "9ff86aec",
   "metadata": {},
   "outputs": [
    {
     "data": {
      "text/plain": [
       "<function ndarray.argmin>"
      ]
     },
     "execution_count": 164,
     "metadata": {},
     "output_type": "execute_result"
    }
   ],
   "source": [
    "data.argmin#最小值索引"
   ]
  },
  {
   "cell_type": "code",
   "execution_count": 165,
   "id": "38f467a1",
   "metadata": {},
   "outputs": [
    {
     "data": {
      "text/plain": [
       "array([False, False, False, False,  True, False,  True, False, False,\n",
       "        True])"
      ]
     },
     "execution_count": 165,
     "metadata": {},
     "output_type": "execute_result"
    }
   ],
   "source": [
    "data>60"
   ]
  },
  {
   "cell_type": "code",
   "execution_count": 166,
   "id": "6c8e5fc5",
   "metadata": {},
   "outputs": [
    {
     "data": {
      "text/plain": [
       "(array([4, 6, 9]),)"
      ]
     },
     "execution_count": 166,
     "metadata": {},
     "output_type": "execute_result"
    }
   ],
   "source": [
    "np.where(data>60)"
   ]
  },
  {
   "cell_type": "code",
   "execution_count": 167,
   "id": "15704e1d",
   "metadata": {},
   "outputs": [
    {
     "data": {
      "text/plain": [
       "array([5, 3, 1, 1, 7, 4, 2, 7])"
      ]
     },
     "execution_count": 167,
     "metadata": {},
     "output_type": "execute_result"
    }
   ],
   "source": [
    "arr=np.random.randint(0,10,size=8)\n",
    "arr"
   ]
  },
  {
   "cell_type": "code",
   "execution_count": 168,
   "id": "6363db58",
   "metadata": {},
   "outputs": [
    {
     "data": {
      "text/plain": [
       "array([1, 1, 2, 3, 4, 5, 7, 7])"
      ]
     },
     "execution_count": 168,
     "metadata": {},
     "output_type": "execute_result"
    }
   ],
   "source": [
    "np.sort(arr)"
   ]
  },
  {
   "cell_type": "code",
   "execution_count": 169,
   "id": "648d6603",
   "metadata": {},
   "outputs": [
    {
     "data": {
      "text/plain": [
       "array([7, 4, 1, 4, 3])"
      ]
     },
     "execution_count": 169,
     "metadata": {},
     "output_type": "execute_result"
    }
   ],
   "source": [
    "data=np.random.randint(0,10,size=5)\n",
    "data"
   ]
  },
  {
   "cell_type": "code",
   "execution_count": 170,
   "id": "a354c3cd",
   "metadata": {},
   "outputs": [
    {
     "data": {
      "text/plain": [
       "array([2, 4, 1, 3, 0])"
      ]
     },
     "execution_count": 170,
     "metadata": {},
     "output_type": "execute_result"
    }
   ],
   "source": [
    "np.argsort(data)"
   ]
  },
  {
   "cell_type": "markdown",
   "id": "7263a77c",
   "metadata": {},
   "source": [
    "`np.argsort(data)` 返回对数组 `data` 排序后各元素的索引数组。也就是说，结果中的每个值表示原数组中对应位置的元素在排序后应处于的位置。通过该索引数组，可以重建排序后的数组，或用于间接排序操作。"
   ]
  },
  {
   "cell_type": "code",
   "execution_count": 171,
   "id": "a0023876",
   "metadata": {},
   "outputs": [],
   "source": [
    "import random"
   ]
  },
  {
   "cell_type": "code",
   "execution_count": 172,
   "id": "73cebbc5",
   "metadata": {},
   "outputs": [],
   "source": [
    "data=np.random.permutation(10000)"
   ]
  },
  {
   "cell_type": "markdown",
   "id": "1ec3da43",
   "metadata": {},
   "source": [
    "`np.random.permutation(10000)` 会生成一个长度为 10000 的整数数组，包含从 0 到 9999 的所有整数，并将其随机打乱顺序。这样可以得到一个无重复元素且顺序随机的数组，常用于洗牌、随机抽样等场景。"
   ]
  },
  {
   "cell_type": "code",
   "execution_count": 173,
   "id": "a2f7b822",
   "metadata": {},
   "outputs": [
    {
     "data": {
      "text/plain": [
       "array([3264, 9506, 1757, ..., 8154, 2392,  588])"
      ]
     },
     "execution_count": 173,
     "metadata": {},
     "output_type": "execute_result"
    }
   ],
   "source": [
    "data"
   ]
  },
  {
   "cell_type": "code",
   "execution_count": 174,
   "id": "4491279e",
   "metadata": {},
   "outputs": [
    {
     "data": {
      "text/plain": [
       "array([9998, 9999])"
      ]
     },
     "execution_count": 174,
     "metadata": {},
     "output_type": "execute_result"
    }
   ],
   "source": [
    "np.partition(data,-2)[-2:]"
   ]
  },
  {
   "cell_type": "markdown",
   "id": "6188b97e",
   "metadata": {},
   "source": [
    "`np.partition(data, -2)[-2:]` 用于快速找到数组 `data` 中最大的两个元素。`np.partition` 会将数组重新排列，使得第 -2（倒数第二）大的元素及其之后的元素（即最大的两个元素）排在数组的最后两位，但这两者之间不保证有序。通过 `[-2:]` 取出这两个最大值。"
   ]
  },
  {
   "cell_type": "code",
   "execution_count": 175,
   "id": "dd03cbcd",
   "metadata": {},
   "outputs": [
    {
     "data": {
      "text/plain": [
       "array([0, 1])"
      ]
     },
     "execution_count": 175,
     "metadata": {},
     "output_type": "execute_result"
    }
   ],
   "source": [
    "np.partition(data,2)[:2]\n"
   ]
  },
  {
   "cell_type": "markdown",
   "id": "d58536fd",
   "metadata": {},
   "source": [
    "`np.partition(data, 2)` 会将数组 `data` 重新排列，使得最小的三个元素（即索引为 0、1、2 的元素）被移动到数组的前三个位置（但这三者之间不保证有序），其余元素顺序不确定。这样可以高效地找到数组中最小的几个元素。"
   ]
  }
 ],
 "metadata": {
  "kernelspec": {
   "display_name": ".venv",
   "language": "python",
   "name": "python3"
  },
  "language_info": {
   "codemirror_mode": {
    "name": "ipython",
    "version": 3
   },
   "file_extension": ".py",
   "mimetype": "text/x-python",
   "name": "python",
   "nbconvert_exporter": "python",
   "pygments_lexer": "ipython3",
   "version": "3.11.2"
  }
 },
 "nbformat": 4,
 "nbformat_minor": 5
}
