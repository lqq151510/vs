{
 "cells": [
  {
   "cell_type": "code",
   "execution_count": null,
   "id": "1ff20405",
   "metadata": {},
   "outputs": [],
   "source": [
    "%pip install pandas matplotlib numpy\n",
    "\n",
    "import matplotlib.pyplot as plt\n",
    "import numpy as np\n",
    "import pandas as pd"
   ]
  },
  {
   "cell_type": "code",
   "execution_count": null,
   "id": "fda8ae9c",
   "metadata": {},
   "outputs": [],
   "source": [
    "#title 标题\n",
    "#figure 画板\n",
    "#axes 画布\n",
    "#legend 图例\n",
    "#axis 轴\n",
    "#tickes 刻度\n",
    "#ticklabels 刻度标签\n",
    "#x_label y_label轴标签\n",
    "#amot e注释信息"
   ]
  }
 ],
 "metadata": {
  "kernelspec": {
   "display_name": ".venv",
   "language": "python",
   "name": "python3"
  },
  "language_info": {
   "codemirror_mode": {
    "name": "ipython",
    "version": 3
   },
   "file_extension": ".py",
   "mimetype": "text/x-python",
   "name": "python",
   "nbconvert_exporter": "python",
   "pygments_lexer": "ipython3",
   "version": "3.11.2"
  }
 },
 "nbformat": 4,
 "nbformat_minor": 5
}
